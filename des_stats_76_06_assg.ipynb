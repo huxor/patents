{
 "cells": [
  {
   "cell_type": "markdown",
   "metadata": {},
   "source": [
    "### descriptive stats of pat_76_06_assg\n"
   ]
  },
  {
   "cell_type": "code",
   "execution_count": 4,
   "metadata": {
    "collapsed": true
   },
   "outputs": [],
   "source": [
    "import pandas as pd\n",
    "import matplotlib.pyplot as plt\n",
    "import numpy as np\n",
    "from scipy.spatial.distance import cosine\n",
    "from matplotlib.colors import LogNorm\n",
    "\n",
    "%matplotlib inline"
   ]
  },
  {
   "cell_type": "code",
   "execution_count": 5,
   "metadata": {
    "collapsed": false
   },
   "outputs": [
    {
     "name": "stdout",
     "output_type": "stream",
     "text": [
      "CPU times: user 1min 11s, sys: 7.71 s, total: 1min 18s\n",
      "Wall time: 1min 21s\n"
     ]
    }
   ],
   "source": [
    "%%time\n",
    "# read in main data file in the Strata9 .dta format\n",
    "pat76_06_assg_df = pd.read_stata('pat76_06_assg.dta')\n"
   ]
  },
  {
   "cell_type": "code",
   "execution_count": 6,
   "metadata": {
    "collapsed": false
   },
   "outputs": [
    {
     "data": {
      "text/html": [
       "<div>\n",
       "<table border=\"1\" class=\"dataframe\">\n",
       "  <thead>\n",
       "    <tr style=\"text-align: right;\">\n",
       "      <th></th>\n",
       "      <th>20</th>\n",
       "    </tr>\n",
       "  </thead>\n",
       "  <tbody>\n",
       "    <tr>\n",
       "      <th>allcites</th>\n",
       "      <td>5</td>\n",
       "    </tr>\n",
       "    <tr>\n",
       "      <th>appyear</th>\n",
       "      <td>1974</td>\n",
       "    </tr>\n",
       "    <tr>\n",
       "      <th>asscode</th>\n",
       "      <td>1</td>\n",
       "    </tr>\n",
       "    <tr>\n",
       "      <th>assgnum</th>\n",
       "      <td>NaN</td>\n",
       "    </tr>\n",
       "    <tr>\n",
       "      <th>cat</th>\n",
       "      <td>5</td>\n",
       "    </tr>\n",
       "    <tr>\n",
       "      <th>cat_ocl</th>\n",
       "      <td>6</td>\n",
       "    </tr>\n",
       "    <tr>\n",
       "      <th>cclass</th>\n",
       "      <td>114/108</td>\n",
       "    </tr>\n",
       "    <tr>\n",
       "      <th>country</th>\n",
       "      <td></td>\n",
       "    </tr>\n",
       "    <tr>\n",
       "      <th>ddate</th>\n",
       "      <td>NaT</td>\n",
       "    </tr>\n",
       "    <tr>\n",
       "      <th>gday</th>\n",
       "      <td>6</td>\n",
       "    </tr>\n",
       "    <tr>\n",
       "      <th>gmonth</th>\n",
       "      <td>1</td>\n",
       "    </tr>\n",
       "    <tr>\n",
       "      <th>gyear</th>\n",
       "      <td>1976</td>\n",
       "    </tr>\n",
       "    <tr>\n",
       "      <th>hjtwt</th>\n",
       "      <td>1</td>\n",
       "    </tr>\n",
       "    <tr>\n",
       "      <th>icl</th>\n",
       "      <td>F16G 1508</td>\n",
       "    </tr>\n",
       "    <tr>\n",
       "      <th>icl_class</th>\n",
       "      <td>F16G</td>\n",
       "    </tr>\n",
       "    <tr>\n",
       "      <th>icl_maingroup</th>\n",
       "      <td>15</td>\n",
       "    </tr>\n",
       "    <tr>\n",
       "      <th>iclnum</th>\n",
       "      <td>1</td>\n",
       "    </tr>\n",
       "    <tr>\n",
       "      <th>nclaims</th>\n",
       "      <td>5</td>\n",
       "    </tr>\n",
       "    <tr>\n",
       "      <th>nclass</th>\n",
       "      <td>114</td>\n",
       "    </tr>\n",
       "    <tr>\n",
       "      <th>nclass_ocl</th>\n",
       "      <td>24</td>\n",
       "    </tr>\n",
       "    <tr>\n",
       "      <th>patent</th>\n",
       "      <td>3930290</td>\n",
       "    </tr>\n",
       "    <tr>\n",
       "      <th>pdpass</th>\n",
       "      <td>NaN</td>\n",
       "    </tr>\n",
       "    <tr>\n",
       "      <th>state</th>\n",
       "      <td>CA</td>\n",
       "    </tr>\n",
       "    <tr>\n",
       "      <th>status</th>\n",
       "      <td></td>\n",
       "    </tr>\n",
       "    <tr>\n",
       "      <th>subcat</th>\n",
       "      <td>55</td>\n",
       "    </tr>\n",
       "    <tr>\n",
       "      <th>subcat_ocl</th>\n",
       "      <td>63</td>\n",
       "    </tr>\n",
       "    <tr>\n",
       "      <th>subclass</th>\n",
       "      <td>108</td>\n",
       "    </tr>\n",
       "    <tr>\n",
       "      <th>subclass1</th>\n",
       "      <td>108</td>\n",
       "    </tr>\n",
       "    <tr>\n",
       "      <th>subclass1_ocl</th>\n",
       "      <td>241</td>\n",
       "    </tr>\n",
       "    <tr>\n",
       "      <th>subclass_ocl</th>\n",
       "      <td>241</td>\n",
       "    </tr>\n",
       "    <tr>\n",
       "      <th>term_extension</th>\n",
       "      <td>0</td>\n",
       "    </tr>\n",
       "    <tr>\n",
       "      <th>uspto_assignee</th>\n",
       "      <td>0</td>\n",
       "    </tr>\n",
       "  </tbody>\n",
       "</table>\n",
       "</div>"
      ],
      "text/plain": [
       "                       20\n",
       "allcites                5\n",
       "appyear              1974\n",
       "asscode                 1\n",
       "assgnum               NaN\n",
       "cat                     5\n",
       "cat_ocl                 6\n",
       "cclass            114/108\n",
       "country                  \n",
       "ddate                 NaT\n",
       "gday                    6\n",
       "gmonth                  1\n",
       "gyear                1976\n",
       "hjtwt                   1\n",
       "icl             F16G 1508\n",
       "icl_class            F16G\n",
       "icl_maingroup          15\n",
       "iclnum                  1\n",
       "nclaims                 5\n",
       "nclass                114\n",
       "nclass_ocl             24\n",
       "patent            3930290\n",
       "pdpass                NaN\n",
       "state                  CA\n",
       "status                   \n",
       "subcat                 55\n",
       "subcat_ocl             63\n",
       "subclass              108\n",
       "subclass1             108\n",
       "subclass1_ocl         241\n",
       "subclass_ocl          241\n",
       "term_extension          0\n",
       "uspto_assignee          0"
      ]
     },
     "execution_count": 6,
     "metadata": {},
     "output_type": "execute_result"
    }
   ],
   "source": [
    "# get details of a particular patent\n",
    "pat76_06_assg_df[pat76_06_assg_df.patent == 3930290].T"
   ]
  },
  {
   "cell_type": "code",
   "execution_count": 7,
   "metadata": {
    "collapsed": false
   },
   "outputs": [],
   "source": [
    "icl_uc = pat76_06_assg_df.icl.apply(lambda x: x.upper())\n",
    "icl_class_uc = pat76_06_assg_df.icl_class.apply(lambda x: x.upper())\n",
    "\n",
    "pat76_06_assg_df['icl_uc'] = icl_uc\n",
    "pat76_06_assg_df['icl_class_uc'] = icl_class_uc"
   ]
  },
  {
   "cell_type": "code",
   "execution_count": 8,
   "metadata": {
    "collapsed": false
   },
   "outputs": [
    {
     "data": {
      "text/html": [
       "<div>\n",
       "<table border=\"1\" class=\"dataframe\">\n",
       "  <thead>\n",
       "    <tr style=\"text-align: right;\">\n",
       "      <th></th>\n",
       "      <th>0</th>\n",
       "      <th>1</th>\n",
       "      <th>2</th>\n",
       "      <th>3</th>\n",
       "      <th>4</th>\n",
       "    </tr>\n",
       "  </thead>\n",
       "  <tbody>\n",
       "    <tr>\n",
       "      <th>allcites</th>\n",
       "      <td>6</td>\n",
       "      <td>0</td>\n",
       "      <td>20</td>\n",
       "      <td>4</td>\n",
       "      <td>1</td>\n",
       "    </tr>\n",
       "    <tr>\n",
       "      <th>appyear</th>\n",
       "      <td>1974</td>\n",
       "      <td>1974</td>\n",
       "      <td>1975</td>\n",
       "      <td>1974</td>\n",
       "      <td>1975</td>\n",
       "    </tr>\n",
       "    <tr>\n",
       "      <th>asscode</th>\n",
       "      <td>2</td>\n",
       "      <td>2</td>\n",
       "      <td>2</td>\n",
       "      <td>1</td>\n",
       "      <td>1</td>\n",
       "    </tr>\n",
       "    <tr>\n",
       "      <th>assgnum</th>\n",
       "      <td>1</td>\n",
       "      <td>1</td>\n",
       "      <td>1</td>\n",
       "      <td>NaN</td>\n",
       "      <td>NaN</td>\n",
       "    </tr>\n",
       "    <tr>\n",
       "      <th>cat</th>\n",
       "      <td>6</td>\n",
       "      <td>6</td>\n",
       "      <td>6</td>\n",
       "      <td>5</td>\n",
       "      <td>6</td>\n",
       "    </tr>\n",
       "    <tr>\n",
       "      <th>cat_ocl</th>\n",
       "      <td>6</td>\n",
       "      <td>6</td>\n",
       "      <td>6</td>\n",
       "      <td>NaN</td>\n",
       "      <td>6</td>\n",
       "    </tr>\n",
       "    <tr>\n",
       "      <th>cclass</th>\n",
       "      <td>2/161.4</td>\n",
       "      <td>5/11</td>\n",
       "      <td>5/430</td>\n",
       "      <td>114/354</td>\n",
       "      <td>12/142S</td>\n",
       "    </tr>\n",
       "    <tr>\n",
       "      <th>country</th>\n",
       "      <td>US</td>\n",
       "      <td>US</td>\n",
       "      <td>US</td>\n",
       "      <td></td>\n",
       "      <td></td>\n",
       "    </tr>\n",
       "    <tr>\n",
       "      <th>ddate</th>\n",
       "      <td>NaT</td>\n",
       "      <td>NaT</td>\n",
       "      <td>NaT</td>\n",
       "      <td>NaT</td>\n",
       "      <td>NaT</td>\n",
       "    </tr>\n",
       "    <tr>\n",
       "      <th>gday</th>\n",
       "      <td>6</td>\n",
       "      <td>6</td>\n",
       "      <td>6</td>\n",
       "      <td>6</td>\n",
       "      <td>6</td>\n",
       "    </tr>\n",
       "    <tr>\n",
       "      <th>gmonth</th>\n",
       "      <td>1</td>\n",
       "      <td>1</td>\n",
       "      <td>1</td>\n",
       "      <td>1</td>\n",
       "      <td>1</td>\n",
       "    </tr>\n",
       "    <tr>\n",
       "      <th>gyear</th>\n",
       "      <td>1976</td>\n",
       "      <td>1976</td>\n",
       "      <td>1976</td>\n",
       "      <td>1976</td>\n",
       "      <td>1976</td>\n",
       "    </tr>\n",
       "    <tr>\n",
       "      <th>hjtwt</th>\n",
       "      <td>1</td>\n",
       "      <td>1</td>\n",
       "      <td>1</td>\n",
       "      <td>1</td>\n",
       "      <td>1</td>\n",
       "    </tr>\n",
       "    <tr>\n",
       "      <th>icl</th>\n",
       "      <td>A41D 1900</td>\n",
       "      <td>A47D  701</td>\n",
       "      <td>A47D  702</td>\n",
       "      <td>B63B  708</td>\n",
       "      <td>A43D  900</td>\n",
       "    </tr>\n",
       "    <tr>\n",
       "      <th>icl_class</th>\n",
       "      <td>A41D</td>\n",
       "      <td>A47D</td>\n",
       "      <td>A47D</td>\n",
       "      <td>B63B</td>\n",
       "      <td>A43D</td>\n",
       "    </tr>\n",
       "    <tr>\n",
       "      <th>icl_maingroup</th>\n",
       "      <td>19</td>\n",
       "      <td>7</td>\n",
       "      <td>7</td>\n",
       "      <td>7</td>\n",
       "      <td>9</td>\n",
       "    </tr>\n",
       "    <tr>\n",
       "      <th>iclnum</th>\n",
       "      <td>1</td>\n",
       "      <td>1</td>\n",
       "      <td>1</td>\n",
       "      <td>1</td>\n",
       "      <td>1</td>\n",
       "    </tr>\n",
       "    <tr>\n",
       "      <th>nclaims</th>\n",
       "      <td>4</td>\n",
       "      <td>3</td>\n",
       "      <td>24</td>\n",
       "      <td>7</td>\n",
       "      <td>9</td>\n",
       "    </tr>\n",
       "    <tr>\n",
       "      <th>nclass</th>\n",
       "      <td>2</td>\n",
       "      <td>5</td>\n",
       "      <td>5</td>\n",
       "      <td>114</td>\n",
       "      <td>12</td>\n",
       "    </tr>\n",
       "    <tr>\n",
       "      <th>nclass_ocl</th>\n",
       "      <td>2</td>\n",
       "      <td>5</td>\n",
       "      <td>5</td>\n",
       "      <td>9</td>\n",
       "      <td>12</td>\n",
       "    </tr>\n",
       "    <tr>\n",
       "      <th>patent</th>\n",
       "      <td>3930271</td>\n",
       "      <td>3930272</td>\n",
       "      <td>3930273</td>\n",
       "      <td>3930274</td>\n",
       "      <td>3930275</td>\n",
       "    </tr>\n",
       "    <tr>\n",
       "      <th>pdpass</th>\n",
       "      <td>1.00303e+07</td>\n",
       "      <td>1.01569e+07</td>\n",
       "      <td>1.0112e+07</td>\n",
       "      <td>NaN</td>\n",
       "      <td>NaN</td>\n",
       "    </tr>\n",
       "    <tr>\n",
       "      <th>state</th>\n",
       "      <td>IL</td>\n",
       "      <td>PA</td>\n",
       "      <td>MO</td>\n",
       "      <td>CA</td>\n",
       "      <td>NJ</td>\n",
       "    </tr>\n",
       "    <tr>\n",
       "      <th>status</th>\n",
       "      <td></td>\n",
       "      <td></td>\n",
       "      <td></td>\n",
       "      <td></td>\n",
       "      <td></td>\n",
       "    </tr>\n",
       "    <tr>\n",
       "      <th>subcat</th>\n",
       "      <td>63</td>\n",
       "      <td>65</td>\n",
       "      <td>65</td>\n",
       "      <td>55</td>\n",
       "      <td>63</td>\n",
       "    </tr>\n",
       "    <tr>\n",
       "      <th>subcat_ocl</th>\n",
       "      <td>63</td>\n",
       "      <td>65</td>\n",
       "      <td>65</td>\n",
       "      <td>NaN</td>\n",
       "      <td>63</td>\n",
       "    </tr>\n",
       "    <tr>\n",
       "      <th>subclass</th>\n",
       "      <td>161.4</td>\n",
       "      <td>11</td>\n",
       "      <td>430</td>\n",
       "      <td>354</td>\n",
       "      <td>NaN</td>\n",
       "    </tr>\n",
       "    <tr>\n",
       "      <th>subclass1</th>\n",
       "      <td>161.4</td>\n",
       "      <td>11</td>\n",
       "      <td>430</td>\n",
       "      <td>354</td>\n",
       "      <td>142S</td>\n",
       "    </tr>\n",
       "    <tr>\n",
       "      <th>subclass1_ocl</th>\n",
       "      <td>161</td>\n",
       "      <td>11</td>\n",
       "      <td>331</td>\n",
       "      <td>2</td>\n",
       "      <td>142</td>\n",
       "    </tr>\n",
       "    <tr>\n",
       "      <th>subclass_ocl</th>\n",
       "      <td>161</td>\n",
       "      <td>11</td>\n",
       "      <td>331</td>\n",
       "      <td>2</td>\n",
       "      <td>142</td>\n",
       "    </tr>\n",
       "    <tr>\n",
       "      <th>term_extension</th>\n",
       "      <td>0</td>\n",
       "      <td>0</td>\n",
       "      <td>0</td>\n",
       "      <td>0</td>\n",
       "      <td>0</td>\n",
       "    </tr>\n",
       "    <tr>\n",
       "      <th>uspto_assignee</th>\n",
       "      <td>251415</td>\n",
       "      <td>246000</td>\n",
       "      <td>10490</td>\n",
       "      <td>0</td>\n",
       "      <td>0</td>\n",
       "    </tr>\n",
       "    <tr>\n",
       "      <th>icl_uc</th>\n",
       "      <td>A41D 1900</td>\n",
       "      <td>A47D  701</td>\n",
       "      <td>A47D  702</td>\n",
       "      <td>B63B  708</td>\n",
       "      <td>A43D  900</td>\n",
       "    </tr>\n",
       "    <tr>\n",
       "      <th>icl_class_uc</th>\n",
       "      <td>A41D</td>\n",
       "      <td>A47D</td>\n",
       "      <td>A47D</td>\n",
       "      <td>B63B</td>\n",
       "      <td>A43D</td>\n",
       "    </tr>\n",
       "  </tbody>\n",
       "</table>\n",
       "</div>"
      ],
      "text/plain": [
       "                          0            1           2          3          4\n",
       "allcites                  6            0          20          4          1\n",
       "appyear                1974         1974        1975       1974       1975\n",
       "asscode                   2            2           2          1          1\n",
       "assgnum                   1            1           1        NaN        NaN\n",
       "cat                       6            6           6          5          6\n",
       "cat_ocl                   6            6           6        NaN          6\n",
       "cclass              2/161.4         5/11       5/430    114/354    12/142S\n",
       "country                  US           US          US                      \n",
       "ddate                   NaT          NaT         NaT        NaT        NaT\n",
       "gday                      6            6           6          6          6\n",
       "gmonth                    1            1           1          1          1\n",
       "gyear                  1976         1976        1976       1976       1976\n",
       "hjtwt                     1            1           1          1          1\n",
       "icl               A41D 1900    A47D  701   A47D  702  B63B  708  A43D  900\n",
       "icl_class              A41D         A47D        A47D       B63B       A43D\n",
       "icl_maingroup            19            7           7          7          9\n",
       "iclnum                    1            1           1          1          1\n",
       "nclaims                   4            3          24          7          9\n",
       "nclass                    2            5           5        114         12\n",
       "nclass_ocl                2            5           5          9         12\n",
       "patent              3930271      3930272     3930273    3930274    3930275\n",
       "pdpass          1.00303e+07  1.01569e+07  1.0112e+07        NaN        NaN\n",
       "state                    IL           PA          MO         CA         NJ\n",
       "status                                                                    \n",
       "subcat                   63           65          65         55         63\n",
       "subcat_ocl               63           65          65        NaN         63\n",
       "subclass              161.4           11         430        354        NaN\n",
       "subclass1             161.4           11         430        354       142S\n",
       "subclass1_ocl           161           11         331          2        142\n",
       "subclass_ocl            161           11         331          2        142\n",
       "term_extension            0            0           0          0          0\n",
       "uspto_assignee       251415       246000       10490          0          0\n",
       "icl_uc            A41D 1900    A47D  701   A47D  702  B63B  708  A43D  900\n",
       "icl_class_uc           A41D         A47D        A47D       B63B       A43D"
      ]
     },
     "execution_count": 8,
     "metadata": {},
     "output_type": "execute_result"
    }
   ],
   "source": [
    "pat76_06_assg_df.head().T"
   ]
  },
  {
   "cell_type": "code",
   "execution_count": 9,
   "metadata": {
    "collapsed": false
   },
   "outputs": [
    {
     "data": {
      "text/html": [
       "<div>\n",
       "<table border=\"1\" class=\"dataframe\">\n",
       "  <thead>\n",
       "    <tr style=\"text-align: right;\">\n",
       "      <th></th>\n",
       "      <th>150459</th>\n",
       "    </tr>\n",
       "  </thead>\n",
       "  <tbody>\n",
       "    <tr>\n",
       "      <th>allcites</th>\n",
       "      <td>4</td>\n",
       "    </tr>\n",
       "    <tr>\n",
       "      <th>appyear</th>\n",
       "      <td>1976</td>\n",
       "    </tr>\n",
       "    <tr>\n",
       "      <th>asscode</th>\n",
       "      <td>1</td>\n",
       "    </tr>\n",
       "    <tr>\n",
       "      <th>assgnum</th>\n",
       "      <td>NaN</td>\n",
       "    </tr>\n",
       "    <tr>\n",
       "      <th>cat</th>\n",
       "      <td>2</td>\n",
       "    </tr>\n",
       "    <tr>\n",
       "      <th>cat_ocl</th>\n",
       "      <td>2</td>\n",
       "    </tr>\n",
       "    <tr>\n",
       "      <th>cclass</th>\n",
       "      <td>342/28</td>\n",
       "    </tr>\n",
       "    <tr>\n",
       "      <th>country</th>\n",
       "      <td></td>\n",
       "    </tr>\n",
       "    <tr>\n",
       "      <th>ddate</th>\n",
       "      <td>NaT</td>\n",
       "    </tr>\n",
       "    <tr>\n",
       "      <th>gday</th>\n",
       "      <td>14</td>\n",
       "    </tr>\n",
       "    <tr>\n",
       "      <th>gmonth</th>\n",
       "      <td>3</td>\n",
       "    </tr>\n",
       "    <tr>\n",
       "      <th>gyear</th>\n",
       "      <td>1978</td>\n",
       "    </tr>\n",
       "    <tr>\n",
       "      <th>hjtwt</th>\n",
       "      <td>1.0079</td>\n",
       "    </tr>\n",
       "    <tr>\n",
       "      <th>icl</th>\n",
       "      <td>G01D 2104</td>\n",
       "    </tr>\n",
       "    <tr>\n",
       "      <th>icl_class</th>\n",
       "      <td>G01D</td>\n",
       "    </tr>\n",
       "    <tr>\n",
       "      <th>icl_maingroup</th>\n",
       "      <td>21</td>\n",
       "    </tr>\n",
       "    <tr>\n",
       "      <th>iclnum</th>\n",
       "      <td>1</td>\n",
       "    </tr>\n",
       "    <tr>\n",
       "      <th>nclaims</th>\n",
       "      <td>10</td>\n",
       "    </tr>\n",
       "    <tr>\n",
       "      <th>nclass</th>\n",
       "      <td>342</td>\n",
       "    </tr>\n",
       "    <tr>\n",
       "      <th>nclass_ocl</th>\n",
       "      <td>343</td>\n",
       "    </tr>\n",
       "    <tr>\n",
       "      <th>patent</th>\n",
       "      <td>4079375</td>\n",
       "    </tr>\n",
       "    <tr>\n",
       "      <th>pdpass</th>\n",
       "      <td>NaN</td>\n",
       "    </tr>\n",
       "    <tr>\n",
       "      <th>state</th>\n",
       "      <td>FR</td>\n",
       "    </tr>\n",
       "    <tr>\n",
       "      <th>status</th>\n",
       "      <td></td>\n",
       "    </tr>\n",
       "    <tr>\n",
       "      <th>subcat</th>\n",
       "      <td>21</td>\n",
       "    </tr>\n",
       "    <tr>\n",
       "      <th>subcat_ocl</th>\n",
       "      <td>21</td>\n",
       "    </tr>\n",
       "    <tr>\n",
       "      <th>subclass</th>\n",
       "      <td>28</td>\n",
       "    </tr>\n",
       "    <tr>\n",
       "      <th>subclass1</th>\n",
       "      <td>28</td>\n",
       "    </tr>\n",
       "    <tr>\n",
       "      <th>subclass1_ocl</th>\n",
       "      <td>5</td>\n",
       "    </tr>\n",
       "    <tr>\n",
       "      <th>subclass_ocl</th>\n",
       "      <td>5</td>\n",
       "    </tr>\n",
       "    <tr>\n",
       "      <th>term_extension</th>\n",
       "      <td>0</td>\n",
       "    </tr>\n",
       "    <tr>\n",
       "      <th>uspto_assignee</th>\n",
       "      <td>0</td>\n",
       "    </tr>\n",
       "    <tr>\n",
       "      <th>icl_uc</th>\n",
       "      <td>G01D 2104</td>\n",
       "    </tr>\n",
       "    <tr>\n",
       "      <th>icl_class_uc</th>\n",
       "      <td>G01D</td>\n",
       "    </tr>\n",
       "  </tbody>\n",
       "</table>\n",
       "</div>"
      ],
      "text/plain": [
       "                   150459\n",
       "allcites                4\n",
       "appyear              1976\n",
       "asscode                 1\n",
       "assgnum               NaN\n",
       "cat                     2\n",
       "cat_ocl                 2\n",
       "cclass             342/28\n",
       "country                  \n",
       "ddate                 NaT\n",
       "gday                   14\n",
       "gmonth                  3\n",
       "gyear                1978\n",
       "hjtwt              1.0079\n",
       "icl             G01D 2104\n",
       "icl_class            G01D\n",
       "icl_maingroup          21\n",
       "iclnum                  1\n",
       "nclaims                10\n",
       "nclass                342\n",
       "nclass_ocl            343\n",
       "patent            4079375\n",
       "pdpass                NaN\n",
       "state                  FR\n",
       "status                   \n",
       "subcat                 21\n",
       "subcat_ocl             21\n",
       "subclass               28\n",
       "subclass1              28\n",
       "subclass1_ocl           5\n",
       "subclass_ocl            5\n",
       "term_extension          0\n",
       "uspto_assignee          0\n",
       "icl_uc          G01D 2104\n",
       "icl_class_uc         G01D"
      ]
     },
     "execution_count": 9,
     "metadata": {},
     "output_type": "execute_result"
    }
   ],
   "source": [
    "pat76_06_assg_df[pat76_06_assg_df.patent==4079375].T"
   ]
  },
  {
   "cell_type": "code",
   "execution_count": 10,
   "metadata": {
    "collapsed": false
   },
   "outputs": [
    {
     "data": {
      "text/plain": [
       "3210361"
      ]
     },
     "execution_count": 10,
     "metadata": {},
     "output_type": "execute_result"
    }
   ],
   "source": [
    "# get number of unique patents\n",
    "groupedby_patent = pat76_06_assg_df.groupby(by='patent')\n",
    "groupedby_patent = pd.DataFrame(groupedby_patent.size().reset_index(name = \"Group_Count\"))\n",
    "groupedby_patent_sorted = groupedby_patent.sort_values(by='Group_Count', ascending=False)\n",
    "groupedby_patent_sorted.head()\n",
    "len(groupedby_patent_sorted)"
   ]
  },
  {
   "cell_type": "code",
   "execution_count": 11,
   "metadata": {
    "collapsed": false
   },
   "outputs": [
    {
     "data": {
      "text/plain": [
       "3210361"
      ]
     },
     "execution_count": 11,
     "metadata": {},
     "output_type": "execute_result"
    }
   ],
   "source": [
    "# check for above cell\n",
    "len(pat76_06_assg_df.patent.unique())"
   ]
  },
  {
   "cell_type": "code",
   "execution_count": 12,
   "metadata": {
    "collapsed": false
   },
   "outputs": [
    {
     "name": "stdout",
     "output_type": "stream",
     "text": [
      "number unique assignees  =  223958\n"
     ]
    }
   ],
   "source": [
    "# get number of unique assignees\n",
    "\n",
    "# note that is some of the above, there are pdpass values which are NaN. These\n",
    "# appear to be for lone inventor/assignee people. Remove these:\n",
    "pat76_06_assg_df_valid_pdpass = pat76_06_assg_df[pat76_06_assg_df.pdpass.notnull()].copy()\n",
    "#and convert the float set pdpass (from read_stata) to integer\n",
    "pat76_06_assg_df_valid_pdpass.pdpass = pat76_06_assg_df_valid_pdpass.pdpass.astype(int)\n",
    "groupedby_assignees = pat76_06_assg_df_valid_pdpass.groupby(by='pdpass')\n",
    "\n",
    "groupedby_assignees = pd.DataFrame(groupedby_assignees.size().reset_index(name = \"Group_Count\"))\n",
    "groupedby_assignees_sorted = groupedby_assignees.sort_values(by='Group_Count', ascending=False)\n",
    "groupedby_assignees_sorted.head()\n",
    "print('number unique assignees  = ',len(groupedby_assignees_sorted))\n"
   ]
  },
  {
   "cell_type": "code",
   "execution_count": 13,
   "metadata": {
    "collapsed": false
   },
   "outputs": [
    {
     "name": "stdout",
     "output_type": "stream",
     "text": [
      "number unique assignees  =  223958\n"
     ]
    }
   ],
   "source": [
    "# check number for above cell\n",
    "\n",
    "print('number unique assignees  = ',len(pat76_06_assg_df_valid_pdpass.pdpass.unique()))\n"
   ]
  },
  {
   "cell_type": "code",
   "execution_count": 14,
   "metadata": {
    "collapsed": true
   },
   "outputs": [],
   "source": [
    "pat76_06_assg_df_no_pdpass = pat76_06_assg_df[pat76_06_assg_df.pdpass.isnull()].copy()\n",
    "\n"
   ]
  },
  {
   "cell_type": "code",
   "execution_count": 15,
   "metadata": {
    "collapsed": false
   },
   "outputs": [
    {
     "name": "stdout",
     "output_type": "stream",
     "text": [
      "number rows with \"nan\" assignee =  505557\n",
      "number unique patents with lone inventor =  505557\n"
     ]
    },
    {
     "data": {
      "text/html": [
       "<div>\n",
       "<table border=\"1\" class=\"dataframe\">\n",
       "  <thead>\n",
       "    <tr style=\"text-align: right;\">\n",
       "      <th></th>\n",
       "      <th>1664704</th>\n",
       "      <th>579214</th>\n",
       "      <th>488210</th>\n",
       "      <th>588101</th>\n",
       "      <th>32554</th>\n",
       "    </tr>\n",
       "  </thead>\n",
       "  <tbody>\n",
       "    <tr>\n",
       "      <th>allcites</th>\n",
       "      <td>756</td>\n",
       "      <td>583</td>\n",
       "      <td>565</td>\n",
       "      <td>497</td>\n",
       "      <td>497</td>\n",
       "    </tr>\n",
       "    <tr>\n",
       "      <th>appyear</th>\n",
       "      <td>1995</td>\n",
       "      <td>1983</td>\n",
       "      <td>1982</td>\n",
       "      <td>1983</td>\n",
       "      <td>1973</td>\n",
       "    </tr>\n",
       "    <tr>\n",
       "      <th>asscode</th>\n",
       "      <td>1</td>\n",
       "      <td>1</td>\n",
       "      <td>1</td>\n",
       "      <td>1</td>\n",
       "      <td>1</td>\n",
       "    </tr>\n",
       "    <tr>\n",
       "      <th>assgnum</th>\n",
       "      <td>NaN</td>\n",
       "      <td>NaN</td>\n",
       "      <td>NaN</td>\n",
       "      <td>NaN</td>\n",
       "      <td>NaN</td>\n",
       "    </tr>\n",
       "    <tr>\n",
       "      <th>cat</th>\n",
       "      <td>2</td>\n",
       "      <td>3</td>\n",
       "      <td>6</td>\n",
       "      <td>3</td>\n",
       "      <td>6</td>\n",
       "    </tr>\n",
       "    <tr>\n",
       "      <th>cat_ocl</th>\n",
       "      <td>2</td>\n",
       "      <td>NaN</td>\n",
       "      <td>6</td>\n",
       "      <td>3</td>\n",
       "      <td>6</td>\n",
       "    </tr>\n",
       "    <tr>\n",
       "      <th>cclass</th>\n",
       "      <td>709/218</td>\n",
       "      <td>623/1.19</td>\n",
       "      <td>206/770</td>\n",
       "      <td>606/108</td>\n",
       "      <td>428/40.1</td>\n",
       "    </tr>\n",
       "    <tr>\n",
       "      <th>country</th>\n",
       "      <td></td>\n",
       "      <td></td>\n",
       "      <td></td>\n",
       "      <td></td>\n",
       "      <td></td>\n",
       "    </tr>\n",
       "    <tr>\n",
       "      <th>ddate</th>\n",
       "      <td>NaT</td>\n",
       "      <td>NaT</td>\n",
       "      <td>NaT</td>\n",
       "      <td>NaT</td>\n",
       "      <td>NaT</td>\n",
       "    </tr>\n",
       "    <tr>\n",
       "      <th>gday</th>\n",
       "      <td>5</td>\n",
       "      <td>12</td>\n",
       "      <td>8</td>\n",
       "      <td>23</td>\n",
       "      <td>8</td>\n",
       "    </tr>\n",
       "    <tr>\n",
       "      <th>gmonth</th>\n",
       "      <td>11</td>\n",
       "      <td>3</td>\n",
       "      <td>11</td>\n",
       "      <td>4</td>\n",
       "      <td>6</td>\n",
       "    </tr>\n",
       "    <tr>\n",
       "      <th>gyear</th>\n",
       "      <td>1996</td>\n",
       "      <td>1985</td>\n",
       "      <td>1983</td>\n",
       "      <td>1985</td>\n",
       "      <td>1976</td>\n",
       "    </tr>\n",
       "    <tr>\n",
       "      <th>hjtwt</th>\n",
       "      <td>1.5678</td>\n",
       "      <td>1.0683</td>\n",
       "      <td>1.0465</td>\n",
       "      <td>1.0683</td>\n",
       "      <td>1</td>\n",
       "    </tr>\n",
       "    <tr>\n",
       "      <th>icl</th>\n",
       "      <td>G06F 1900</td>\n",
       "      <td>A61F  100</td>\n",
       "      <td>B65D 8550</td>\n",
       "      <td>A61M 2900</td>\n",
       "      <td>B32B  304</td>\n",
       "    </tr>\n",
       "    <tr>\n",
       "      <th>icl_class</th>\n",
       "      <td>G06F</td>\n",
       "      <td>A61F</td>\n",
       "      <td>B65D</td>\n",
       "      <td>A61M</td>\n",
       "      <td>B32B</td>\n",
       "    </tr>\n",
       "    <tr>\n",
       "      <th>icl_maingroup</th>\n",
       "      <td>19</td>\n",
       "      <td>1</td>\n",
       "      <td>85</td>\n",
       "      <td>29</td>\n",
       "      <td>3</td>\n",
       "    </tr>\n",
       "    <tr>\n",
       "      <th>iclnum</th>\n",
       "      <td>1</td>\n",
       "      <td>1</td>\n",
       "      <td>1</td>\n",
       "      <td>1</td>\n",
       "      <td>1</td>\n",
       "    </tr>\n",
       "    <tr>\n",
       "      <th>nclaims</th>\n",
       "      <td>19</td>\n",
       "      <td>14</td>\n",
       "      <td>2</td>\n",
       "      <td>15</td>\n",
       "      <td>2</td>\n",
       "    </tr>\n",
       "    <tr>\n",
       "      <th>nclass</th>\n",
       "      <td>709</td>\n",
       "      <td>623</td>\n",
       "      <td>206</td>\n",
       "      <td>606</td>\n",
       "      <td>428</td>\n",
       "    </tr>\n",
       "    <tr>\n",
       "      <th>nclass_ocl</th>\n",
       "      <td>395</td>\n",
       "      <td>3</td>\n",
       "      <td>206</td>\n",
       "      <td>128</td>\n",
       "      <td>428</td>\n",
       "    </tr>\n",
       "    <tr>\n",
       "      <th>patent</th>\n",
       "      <td>5572643</td>\n",
       "      <td>4503569</td>\n",
       "      <td>4413725</td>\n",
       "      <td>4512338</td>\n",
       "      <td>3962503</td>\n",
       "    </tr>\n",
       "    <tr>\n",
       "      <th>pdpass</th>\n",
       "      <td>NaN</td>\n",
       "      <td>NaN</td>\n",
       "      <td>NaN</td>\n",
       "      <td>NaN</td>\n",
       "      <td>NaN</td>\n",
       "    </tr>\n",
       "    <tr>\n",
       "      <th>state</th>\n",
       "      <td>TX</td>\n",
       "      <td>OR</td>\n",
       "      <td>CO</td>\n",
       "      <td>RI</td>\n",
       "      <td>TX</td>\n",
       "    </tr>\n",
       "    <tr>\n",
       "      <th>status</th>\n",
       "      <td></td>\n",
       "      <td></td>\n",
       "      <td></td>\n",
       "      <td></td>\n",
       "      <td></td>\n",
       "    </tr>\n",
       "    <tr>\n",
       "      <th>subcat</th>\n",
       "      <td>22</td>\n",
       "      <td>39</td>\n",
       "      <td>68</td>\n",
       "      <td>32</td>\n",
       "      <td>69</td>\n",
       "    </tr>\n",
       "    <tr>\n",
       "      <th>subcat_ocl</th>\n",
       "      <td>25</td>\n",
       "      <td>NaN</td>\n",
       "      <td>68</td>\n",
       "      <td>32</td>\n",
       "      <td>69</td>\n",
       "    </tr>\n",
       "    <tr>\n",
       "      <th>subclass</th>\n",
       "      <td>218</td>\n",
       "      <td>1.19</td>\n",
       "      <td>770</td>\n",
       "      <td>108</td>\n",
       "      <td>40.1</td>\n",
       "    </tr>\n",
       "    <tr>\n",
       "      <th>subclass1</th>\n",
       "      <td>218</td>\n",
       "      <td>1.19</td>\n",
       "      <td>770</td>\n",
       "      <td>108</td>\n",
       "      <td>40.1</td>\n",
       "    </tr>\n",
       "    <tr>\n",
       "      <th>subclass1_ocl</th>\n",
       "      <td>793</td>\n",
       "      <td>1</td>\n",
       "      <td>45</td>\n",
       "      <td>1</td>\n",
       "      <td>40</td>\n",
       "    </tr>\n",
       "    <tr>\n",
       "      <th>subclass_ocl</th>\n",
       "      <td>793</td>\n",
       "      <td>1</td>\n",
       "      <td>45</td>\n",
       "      <td>1</td>\n",
       "      <td>40</td>\n",
       "    </tr>\n",
       "    <tr>\n",
       "      <th>term_extension</th>\n",
       "      <td>0</td>\n",
       "      <td>0</td>\n",
       "      <td>0</td>\n",
       "      <td>0</td>\n",
       "      <td>0</td>\n",
       "    </tr>\n",
       "    <tr>\n",
       "      <th>uspto_assignee</th>\n",
       "      <td>0</td>\n",
       "      <td>0</td>\n",
       "      <td>0</td>\n",
       "      <td>0</td>\n",
       "      <td>0</td>\n",
       "    </tr>\n",
       "    <tr>\n",
       "      <th>icl_uc</th>\n",
       "      <td>G06F 1900</td>\n",
       "      <td>A61F  100</td>\n",
       "      <td>B65D 8550</td>\n",
       "      <td>A61M 2900</td>\n",
       "      <td>B32B  304</td>\n",
       "    </tr>\n",
       "    <tr>\n",
       "      <th>icl_class_uc</th>\n",
       "      <td>G06F</td>\n",
       "      <td>A61F</td>\n",
       "      <td>B65D</td>\n",
       "      <td>A61M</td>\n",
       "      <td>B32B</td>\n",
       "    </tr>\n",
       "  </tbody>\n",
       "</table>\n",
       "</div>"
      ],
      "text/plain": [
       "                  1664704    579214     488210     588101     32554  \n",
       "allcites              756        583        565        497        497\n",
       "appyear              1995       1983       1982       1983       1973\n",
       "asscode                 1          1          1          1          1\n",
       "assgnum               NaN        NaN        NaN        NaN        NaN\n",
       "cat                     2          3          6          3          6\n",
       "cat_ocl                 2        NaN          6          3          6\n",
       "cclass            709/218   623/1.19    206/770    606/108   428/40.1\n",
       "country                                                              \n",
       "ddate                 NaT        NaT        NaT        NaT        NaT\n",
       "gday                    5         12          8         23          8\n",
       "gmonth                 11          3         11          4          6\n",
       "gyear                1996       1985       1983       1985       1976\n",
       "hjtwt              1.5678     1.0683     1.0465     1.0683          1\n",
       "icl             G06F 1900  A61F  100  B65D 8550  A61M 2900  B32B  304\n",
       "icl_class            G06F       A61F       B65D       A61M       B32B\n",
       "icl_maingroup          19          1         85         29          3\n",
       "iclnum                  1          1          1          1          1\n",
       "nclaims                19         14          2         15          2\n",
       "nclass                709        623        206        606        428\n",
       "nclass_ocl            395          3        206        128        428\n",
       "patent            5572643    4503569    4413725    4512338    3962503\n",
       "pdpass                NaN        NaN        NaN        NaN        NaN\n",
       "state                  TX         OR         CO         RI         TX\n",
       "status                                                               \n",
       "subcat                 22         39         68         32         69\n",
       "subcat_ocl             25        NaN         68         32         69\n",
       "subclass              218       1.19        770        108       40.1\n",
       "subclass1             218       1.19        770        108       40.1\n",
       "subclass1_ocl         793          1         45          1         40\n",
       "subclass_ocl          793          1         45          1         40\n",
       "term_extension          0          0          0          0          0\n",
       "uspto_assignee          0          0          0          0          0\n",
       "icl_uc          G06F 1900  A61F  100  B65D 8550  A61M 2900  B32B  304\n",
       "icl_class_uc         G06F       A61F       B65D       A61M       B32B"
      ]
     },
     "execution_count": 15,
     "metadata": {},
     "output_type": "execute_result"
    }
   ],
   "source": [
    "# look at those patents with no assignee number, i.e. lone inventor.\n",
    "print('number rows with \"nan\" assignee = ',len(pat76_06_assg_df_no_pdpass))\n",
    "print('number unique patents with lone inventor = ',len(pat76_06_assg_df_no_pdpass.patent.unique()))\n",
    "pat76_06_assg_df_no_pdpass.sort_values(by='allcites', ascending=False).head().T"
   ]
  },
  {
   "cell_type": "code",
   "execution_count": 16,
   "metadata": {
    "collapsed": false
   },
   "outputs": [
    {
     "data": {
      "text/html": [
       "<div>\n",
       "<table border=\"1\" class=\"dataframe\">\n",
       "  <thead>\n",
       "    <tr style=\"text-align: right;\">\n",
       "      <th></th>\n",
       "      <th>pdpass</th>\n",
       "      <th>Group_Count</th>\n",
       "    </tr>\n",
       "  </thead>\n",
       "  <tbody>\n",
       "    <tr>\n",
       "      <th>5375</th>\n",
       "      <td>10083419</td>\n",
       "      <td>45146</td>\n",
       "    </tr>\n",
       "    <tr>\n",
       "      <th>395</th>\n",
       "      <td>10033664</td>\n",
       "      <td>31975</td>\n",
       "    </tr>\n",
       "    <tr>\n",
       "      <th>13479</th>\n",
       "      <td>10180289</td>\n",
       "      <td>28356</td>\n",
       "    </tr>\n",
       "    <tr>\n",
       "      <th>31691</th>\n",
       "      <td>10446448</td>\n",
       "      <td>26188</td>\n",
       "    </tr>\n",
       "    <tr>\n",
       "      <th>1789</th>\n",
       "      <td>10045727</td>\n",
       "      <td>23727</td>\n",
       "    </tr>\n",
       "  </tbody>\n",
       "</table>\n",
       "</div>"
      ],
      "text/plain": [
       "         pdpass  Group_Count\n",
       "5375   10083419        45146\n",
       "395    10033664        31975\n",
       "13479  10180289        28356\n",
       "31691  10446448        26188\n",
       "1789   10045727        23727"
      ]
     },
     "execution_count": 16,
     "metadata": {},
     "output_type": "execute_result"
    }
   ],
   "source": [
    "# get list of firms with most patents\n",
    "groupedby_assignees_sorted.head()"
   ]
  },
  {
   "cell_type": "code",
   "execution_count": 17,
   "metadata": {
    "collapsed": false
   },
   "outputs": [
    {
     "data": {
      "text/plain": [
       "122771"
      ]
     },
     "execution_count": 17,
     "metadata": {},
     "output_type": "execute_result"
    }
   ],
   "source": [
    "# reset index and get number of assignees with only one patent\n",
    "groupedby_assignees_sorted.reset_index(drop=True)\n",
    "len(groupedby_assignees_sorted[groupedby_assignees_sorted.Group_Count==1])"
   ]
  },
  {
   "cell_type": "code",
   "execution_count": 18,
   "metadata": {
    "collapsed": false
   },
   "outputs": [
    {
     "data": {
      "text/plain": [
       "<matplotlib.axes._subplots.AxesSubplot at 0x11a4b8240>"
      ]
     },
     "execution_count": 18,
     "metadata": {},
     "output_type": "execute_result"
    },
    {
     "data": {
      "image/png": "[encoded data removed]",
      "text/plain": [
       "<matplotlib.figure.Figure at 0x11a4c2f28>"
      ]
     },
     "metadata": {},
     "output_type": "display_data"
    }
   ],
   "source": [
    "# plot number of patents for each assignee\n",
    "#aa.plot(y='Group_Count',c='r',xlim=(-500,2516968),linewidth=5)\n",
    "groupedby_assignees_sorted_reindexed = groupedby_assignees_sorted.reset_index()\n",
    "groupedby_assignees_sorted_reindexed.plot(y='Group_Count',c='r',linewidth=5)"
   ]
  },
  {
   "cell_type": "code",
   "execution_count": 19,
   "metadata": {
    "collapsed": false
   },
   "outputs": [
    {
     "data": {
      "text/html": [
       "<div>\n",
       "<table border=\"1\" class=\"dataframe\">\n",
       "  <thead>\n",
       "    <tr style=\"text-align: right;\">\n",
       "      <th></th>\n",
       "      <th>index</th>\n",
       "      <th>pdpass</th>\n",
       "      <th>Group_Count</th>\n",
       "    </tr>\n",
       "  </thead>\n",
       "  <tbody>\n",
       "    <tr>\n",
       "      <th>223953</th>\n",
       "      <td>35423</td>\n",
       "      <td>10503528</td>\n",
       "      <td>1</td>\n",
       "    </tr>\n",
       "    <tr>\n",
       "      <th>223954</th>\n",
       "      <td>124063</td>\n",
       "      <td>11838232</td>\n",
       "      <td>1</td>\n",
       "    </tr>\n",
       "    <tr>\n",
       "      <th>223955</th>\n",
       "      <td>124062</td>\n",
       "      <td>11838221</td>\n",
       "      <td>1</td>\n",
       "    </tr>\n",
       "    <tr>\n",
       "      <th>223956</th>\n",
       "      <td>35425</td>\n",
       "      <td>10503540</td>\n",
       "      <td>1</td>\n",
       "    </tr>\n",
       "    <tr>\n",
       "      <th>223957</th>\n",
       "      <td>223957</td>\n",
       "      <td>162132622</td>\n",
       "      <td>1</td>\n",
       "    </tr>\n",
       "  </tbody>\n",
       "</table>\n",
       "</div>"
      ],
      "text/plain": [
       "         index     pdpass  Group_Count\n",
       "223953   35423   10503528            1\n",
       "223954  124063   11838232            1\n",
       "223955  124062   11838221            1\n",
       "223956   35425   10503540            1\n",
       "223957  223957  162132622            1"
      ]
     },
     "execution_count": 19,
     "metadata": {},
     "output_type": "execute_result"
    }
   ],
   "source": [
    "groupedby_assignees_sorted_reindexed.tail()"
   ]
  },
  {
   "cell_type": "code",
   "execution_count": 20,
   "metadata": {
    "collapsed": false
   },
   "outputs": [
    {
     "name": "stdout",
     "output_type": "stream",
     "text": [
      "223957\n",
      "223957\n"
     ]
    }
   ],
   "source": [
    "logx = np.log10(groupedby_assignees_sorted_reindexed.index[1:]) \n",
    "logy = np.log10(groupedby_assignees_sorted_reindexed.Group_Count[1:]) \n",
    "\n",
    "print(len(logx))\n",
    "print(len(logy))"
   ]
  },
  {
   "cell_type": "code",
   "execution_count": 21,
   "metadata": {
    "collapsed": false
   },
   "outputs": [
    {
     "data": {
      "image/png": "[encoded data removed]",
      "text/plain": [
       "<matplotlib.figure.Figure at 0x17cbefc88>"
      ]
     },
     "metadata": {},
     "output_type": "display_data"
    }
   ],
   "source": [
    "# plot data\n",
    "fig = plt.figure(figsize=(4,4))\n",
    "ax = fig.add_subplot(111)\n",
    "ax.plot(logx,logy,'r',linewidth=3)\n",
    "ax.set_xlim(0, 6)\n",
    "ax.set_ylim(0, 6)\n",
    "ax.set(title=\"\", xlabel=\"log(rank of assignee)\", ylabel=\"log(number of patents)\")\n",
    "plt.show()"
   ]
  },
  {
   "cell_type": "code",
   "execution_count": 22,
   "metadata": {
    "collapsed": false
   },
   "outputs": [],
   "source": [
    "# create dataframe from log values\n",
    "# as this may help get them into a regression\n",
    "logged_df = pd.DataFrame({'logx':logx, 'logy':logy})\n"
   ]
  },
  {
   "cell_type": "code",
   "execution_count": 23,
   "metadata": {
    "collapsed": false
   },
   "outputs": [
    {
     "name": "stdout",
     "output_type": "stream",
     "text": [
      "Coefficient: \n",
      " [[-1.09056433]]\n",
      "Intercept: \n",
      " [ 5.67909785]\n",
      "R² Value: \n",
      " 0.968160740552\n"
     ]
    },
    {
     "name": "stderr",
     "output_type": "stream",
     "text": [
      "/Users/ahuxor/.local/lib/python3.4/site-packages/scipy/linalg/basic.py:1018: RuntimeWarning: internal gelsd driver lwork query error, required iwork dimension not returned. This is likely the result of LAPACK bug 0038, fixed in LAPACK 3.2.2 (released July 21, 2010). Falling back to 'gelss' driver.\n",
      "  warnings.warn(mesg, RuntimeWarning)\n"
     ]
    },
    {
     "data": {
      "text/plain": [
       "LinearRegression(copy_X=True, fit_intercept=True, n_jobs=1, normalize=False)"
      ]
     },
     "execution_count": 23,
     "metadata": {},
     "output_type": "execute_result"
    }
   ],
   "source": [
    "from sklearn import linear_model\n",
    "linear = linear_model.LinearRegression()\n",
    "trainX = np.asarray(logged_df.logx[100:]).reshape(-1, 1)\n",
    "trainY = np.asarray(logged_df.logy[100:]).reshape(-1, 1)\n",
    "testX = np.asarray(logged_df.logx).reshape(-1, 1)\n",
    "testY = np.asarray(logged_df.logy).reshape(-1, 1)\n",
    "linear.fit(trainX, trainY)\n",
    "linear.score(trainX, trainY)\n",
    "print('Coefficient: \\n', linear.coef_)\n",
    "print('Intercept: \\n', linear.intercept_)\n",
    "print('R² Value: \\n', linear.score(trainX, trainY))\n",
    "predicted = linear.predict(trainX)\n",
    "linear.fit(trainX, trainY)"
   ]
  },
  {
   "cell_type": "code",
   "execution_count": 24,
   "metadata": {
    "collapsed": false
   },
   "outputs": [
    {
     "data": {
      "text/plain": [
       "[<matplotlib.lines.Line2D at 0x17cbefa90>]"
      ]
     },
     "execution_count": 24,
     "metadata": {},
     "output_type": "execute_result"
    },
    {
     "data": {
      "image/png": "[encoded data removed]",
      "text/plain": [
       "<matplotlib.figure.Figure at 0x17cbef940>"
      ]
     },
     "metadata": {},
     "output_type": "display_data"
    }
   ],
   "source": [
    "\n",
    "\n",
    "logged_df.plot('logx', 'logy', kind='scatter')\n",
    "\n",
    "plt.plot(testX, linear.predict(testX), color='red', linewidth=2)\n",
    "# plt.savefig(\"/Users/ahuxor/MSc/Thesis_Project/msc_thesis/Figs/allcites_year_plot.pdf\", bbox_inches = 'tight')"
   ]
  },
  {
   "cell_type": "code",
   "execution_count": 25,
   "metadata": {
    "collapsed": false
   },
   "outputs": [
    {
     "data": {
      "image/png": "[encoded data removed]",
      "text/plain": [
       "<matplotlib.figure.Figure at 0x10382c748>"
      ]
     },
     "metadata": {},
     "output_type": "display_data"
    }
   ],
   "source": [
    "# genrate plot for thesis figure\n",
    "fig = plt.figure(figsize=(4,4))\n",
    "ax = fig.add_subplot(111)\n",
    "ax.plot(logx,logy,color ='b',linewidth=3)\n",
    "ax.set_xlim(0, 6)\n",
    "ax.set_ylim(0, 6)\n",
    "plt.plot(testX, linear.predict(testX), color='red', linewidth=2)\n",
    "ax.set(title=\"Linear fit (red) to data (blue) for rank>100\", xlabel=\"log(rank of assignee)\", ylabel=\"log(number of patents)\")\n",
    "plt.savefig(\"/Users/ahuxor/MSc/Thesis_Project/msc_thesis/Figs/log_rank_log_patents_plus_fit.pdf\", bbox_inches = 'tight')\n",
    "plt.show()"
   ]
  },
  {
   "cell_type": "code",
   "execution_count": 26,
   "metadata": {
    "collapsed": false
   },
   "outputs": [
    {
     "data": {
      "text/plain": [
       "3940"
      ]
     },
     "execution_count": 26,
     "metadata": {},
     "output_type": "execute_result"
    }
   ],
   "source": [
    "# get unique icl_class (IPC4), using upper case version to avoid lc/uc duplicates\n",
    "groupedby_icl_class = pat76_06_assg_df.groupby(by='icl_class_uc')\n",
    "groupedby_icl_class = pd.DataFrame(groupedby_icl_class.size().reset_index(name = \"Group_Count\"))\n",
    "groupedby_icl_class_sorted = groupedby_icl_class.sort_values(by='Group_Count', ascending=False)\n",
    "groupedby_icl_class_sorted.head()\n",
    "len(groupedby_icl_class_sorted)"
   ]
  },
  {
   "cell_type": "code",
   "execution_count": 27,
   "metadata": {
    "collapsed": false
   },
   "outputs": [
    {
     "data": {
      "image/png": "[encoded data removed]",
      "text/plain": [
       "<matplotlib.figure.Figure at 0x11a4b8b38>"
      ]
     },
     "metadata": {},
     "output_type": "display_data"
    }
   ],
   "source": [
    "# plot data\n",
    "fig = plt.figure(figsize=(4,4))\n",
    "ax = fig.add_subplot(111)\n",
    "ax.plot(logx,logy,'r',linewidth=3)\n",
    "ax.set_xlim(0, 6)\n",
    "ax.set_ylim(0, 6)\n",
    "ax.set(title=\"\", xlabel=\"log(rank of assignee)\", ylabel=\"log(number of patents)\")\n",
    "plt.show()"
   ]
  },
  {
   "cell_type": "code",
   "execution_count": 28,
   "metadata": {
    "collapsed": false
   },
   "outputs": [
    {
     "data": {
      "text/html": [
       "<div>\n",
       "<table border=\"1\" class=\"dataframe\">\n",
       "  <thead>\n",
       "    <tr style=\"text-align: right;\">\n",
       "      <th></th>\n",
       "      <th>icl_class_uc</th>\n",
       "      <th>Group_Count</th>\n",
       "    </tr>\n",
       "  </thead>\n",
       "  <tbody>\n",
       "    <tr>\n",
       "      <th>2822</th>\n",
       "      <td>G06F</td>\n",
       "      <td>150070</td>\n",
       "    </tr>\n",
       "    <tr>\n",
       "      <th>3178</th>\n",
       "      <td>H01L</td>\n",
       "      <td>119122</td>\n",
       "    </tr>\n",
       "    <tr>\n",
       "      <th>494</th>\n",
       "      <td>A61K</td>\n",
       "      <td>98538</td>\n",
       "    </tr>\n",
       "    <tr>\n",
       "      <th>2728</th>\n",
       "      <td>G01N</td>\n",
       "      <td>54801</td>\n",
       "    </tr>\n",
       "    <tr>\n",
       "      <th>485</th>\n",
       "      <td>A61B</td>\n",
       "      <td>50489</td>\n",
       "    </tr>\n",
       "    <tr>\n",
       "      <th>990</th>\n",
       "      <td>B32B</td>\n",
       "      <td>48739</td>\n",
       "    </tr>\n",
       "    <tr>\n",
       "      <th>2742</th>\n",
       "      <td>G02B</td>\n",
       "      <td>48034</td>\n",
       "    </tr>\n",
       "  </tbody>\n",
       "</table>\n",
       "</div>"
      ],
      "text/plain": [
       "     icl_class_uc  Group_Count\n",
       "2822         G06F       150070\n",
       "3178         H01L       119122\n",
       "494          A61K        98538\n",
       "2728         G01N        54801\n",
       "485          A61B        50489\n",
       "990          B32B        48739\n",
       "2742         G02B        48034"
      ]
     },
     "execution_count": 28,
     "metadata": {},
     "output_type": "execute_result"
    }
   ],
   "source": [
    "groupedby_icl_class_sorted.head(7)"
   ]
  },
  {
   "cell_type": "code",
   "execution_count": 29,
   "metadata": {
    "collapsed": false
   },
   "outputs": [
    {
     "data": {
      "text/plain": [
       "<matplotlib.axes._subplots.AxesSubplot at 0x121881160>"
      ]
     },
     "execution_count": 29,
     "metadata": {},
     "output_type": "execute_result"
    },
    {
     "data": {
      "image/png": "[encoded data removed]",
      "text/plain": [
       "<matplotlib.figure.Figure at 0x186e0eb38>"
      ]
     },
     "metadata": {},
     "output_type": "display_data"
    }
   ],
   "source": [
    "# plot number of icl_class \n",
    "#aa.plot(y='Group_Count',c='r',xlim=(-500,2516968),linewidth=5)\n",
    "groupedby_icl_class_sorted_reindexed = groupedby_icl_class_sorted.reset_index()\n",
    "groupedby_icl_class_sorted_reindexed.plot(y='Group_Count',c='g',linewidth=5)"
   ]
  },
  {
   "cell_type": "code",
   "execution_count": 30,
   "metadata": {
    "collapsed": false
   },
   "outputs": [
    {
     "name": "stdout",
     "output_type": "stream",
     "text": [
      "3939\n",
      "3939\n"
     ]
    }
   ],
   "source": [
    "logx = np.log10(groupedby_icl_class_sorted_reindexed.index[1:]) \n",
    "logy = np.log10(groupedby_icl_class_sorted_reindexed.Group_Count[1:]) \n",
    "\n",
    "print(len(logx))\n",
    "print(len(logy))"
   ]
  },
  {
   "cell_type": "code",
   "execution_count": 31,
   "metadata": {
    "collapsed": false
   },
   "outputs": [
    {
     "data": {
      "image/png": "[encoded data removed]",
      "text/plain": [
       "<matplotlib.figure.Figure at 0x1217f2a58>"
      ]
     },
     "metadata": {},
     "output_type": "display_data"
    }
   ],
   "source": [
    "# plot data\n",
    "# very unlike a power-law\n",
    "fig = plt.figure(figsize=(4,4))\n",
    "ax = fig.add_subplot(111)\n",
    "ax.plot(logx,logy,'g',linewidth=3)\n",
    "ax.set_xlim(0, 4)\n",
    "ax.set_ylim(0, 6)\n",
    "ax.set(title=\"\", xlabel=\"log(rank of icl_class)\", ylabel=\"log(number of patents)\")\n",
    "plt.savefig(\"/Users/ahuxor/MSc/Thesis_Project/msc_thesis/Figs/log_rank_iclclass_log_patents.pdf\", bbox_inches = 'tight')\n",
    "\n",
    "plt.show()"
   ]
  },
  {
   "cell_type": "code",
   "execution_count": 32,
   "metadata": {
    "collapsed": false
   },
   "outputs": [
    {
     "data": {
      "text/plain": [
       "140455"
      ]
     },
     "execution_count": 32,
     "metadata": {},
     "output_type": "execute_result"
    }
   ],
   "source": [
    "# get unique icl (full) (IPC4), using upper case version to avoid lc/uc duplicates\n",
    "groupedby_icl = pat76_06_assg_df.groupby(by='icl_uc')\n",
    "groupedby_icl = pd.DataFrame(groupedby_icl.size().reset_index(name = \"Group_Count\"))\n",
    "groupedby_icl_sorted = groupedby_icl.sort_values(by='Group_Count', ascending=False)\n",
    "groupedby_icl_sorted.head()\n",
    "len(groupedby_icl_sorted)"
   ]
  },
  {
   "cell_type": "code",
   "execution_count": 33,
   "metadata": {
    "collapsed": false
   },
   "outputs": [
    {
     "data": {
      "text/plain": [
       "<matplotlib.axes._subplots.AxesSubplot at 0x186dbd048>"
      ]
     },
     "execution_count": 33,
     "metadata": {},
     "output_type": "execute_result"
    },
    {
     "data": {
      "image/png": "[encoded data removed]",
      "text/plain": [
       "<matplotlib.figure.Figure at 0x1217f7898>"
      ]
     },
     "metadata": {},
     "output_type": "display_data"
    }
   ],
   "source": [
    "# plot number of icl_class \n",
    "#aa.plot(y='Group_Count',c='r',xlim=(-500,2516968),linewidth=5)\n",
    "groupedby_icl_sorted_reindexed = groupedby_icl_sorted.reset_index()\n",
    "groupedby_icl_sorted_reindexed.plot(y='Group_Count',c='purple',linewidth=5)"
   ]
  },
  {
   "cell_type": "code",
   "execution_count": 34,
   "metadata": {
    "collapsed": false
   },
   "outputs": [
    {
     "data": {
      "text/html": [
       "<div>\n",
       "<table border=\"1\" class=\"dataframe\">\n",
       "  <thead>\n",
       "    <tr style=\"text-align: right;\">\n",
       "      <th></th>\n",
       "      <th>index</th>\n",
       "      <th>icl_uc</th>\n",
       "      <th>Group_Count</th>\n",
       "    </tr>\n",
       "  </thead>\n",
       "  <tbody>\n",
       "    <tr>\n",
       "      <th>0</th>\n",
       "      <td>113403</td>\n",
       "      <td>G06F 1300</td>\n",
       "      <td>9552</td>\n",
       "    </tr>\n",
       "    <tr>\n",
       "      <th>1</th>\n",
       "      <td>113675</td>\n",
       "      <td>G06F 1730</td>\n",
       "      <td>8070</td>\n",
       "    </tr>\n",
       "    <tr>\n",
       "      <th>2</th>\n",
       "      <td>119012</td>\n",
       "      <td>G11C  700</td>\n",
       "      <td>7469</td>\n",
       "    </tr>\n",
       "    <tr>\n",
       "      <th>3</th>\n",
       "      <td>72621</td>\n",
       "      <td>C12Q  168</td>\n",
       "      <td>6779</td>\n",
       "    </tr>\n",
       "    <tr>\n",
       "      <th>4</th>\n",
       "      <td>114549</td>\n",
       "      <td>G06K  900</td>\n",
       "      <td>6263</td>\n",
       "    </tr>\n",
       "  </tbody>\n",
       "</table>\n",
       "</div>"
      ],
      "text/plain": [
       "    index     icl_uc  Group_Count\n",
       "0  113403  G06F 1300         9552\n",
       "1  113675  G06F 1730         8070\n",
       "2  119012  G11C  700         7469\n",
       "3   72621  C12Q  168         6779\n",
       "4  114549  G06K  900         6263"
      ]
     },
     "execution_count": 34,
     "metadata": {},
     "output_type": "execute_result"
    }
   ],
   "source": [
    "groupedby_icl_sorted_reindexed.head()\n"
   ]
  },
  {
   "cell_type": "code",
   "execution_count": 35,
   "metadata": {
    "collapsed": false
   },
   "outputs": [
    {
     "data": {
      "text/html": [
       "<div>\n",
       "<table border=\"1\" class=\"dataframe\">\n",
       "  <thead>\n",
       "    <tr style=\"text-align: right;\">\n",
       "      <th></th>\n",
       "      <th>index</th>\n",
       "      <th>icl_uc</th>\n",
       "      <th>Group_Count</th>\n",
       "    </tr>\n",
       "  </thead>\n",
       "  <tbody>\n",
       "    <tr>\n",
       "      <th>140450</th>\n",
       "      <td>86729</td>\n",
       "      <td>F01K 25/02</td>\n",
       "      <td>1</td>\n",
       "    </tr>\n",
       "    <tr>\n",
       "      <th>140451</th>\n",
       "      <td>26665</td>\n",
       "      <td>B23F  508</td>\n",
       "      <td>1</td>\n",
       "    </tr>\n",
       "    <tr>\n",
       "      <th>140452</th>\n",
       "      <td>26661</td>\n",
       "      <td>B23F  314</td>\n",
       "      <td>1</td>\n",
       "    </tr>\n",
       "    <tr>\n",
       "      <th>140453</th>\n",
       "      <td>26660</td>\n",
       "      <td>B23F  312</td>\n",
       "      <td>1</td>\n",
       "    </tr>\n",
       "    <tr>\n",
       "      <th>140454</th>\n",
       "      <td>140454</td>\n",
       "      <td>Z10G 4508</td>\n",
       "      <td>1</td>\n",
       "    </tr>\n",
       "  </tbody>\n",
       "</table>\n",
       "</div>"
      ],
      "text/plain": [
       "         index      icl_uc  Group_Count\n",
       "140450   86729  F01K 25/02            1\n",
       "140451   26665   B23F  508            1\n",
       "140452   26661   B23F  314            1\n",
       "140453   26660   B23F  312            1\n",
       "140454  140454   Z10G 4508            1"
      ]
     },
     "execution_count": 35,
     "metadata": {},
     "output_type": "execute_result"
    }
   ],
   "source": [
    "groupedby_icl_sorted_reindexed.tail()\n"
   ]
  },
  {
   "cell_type": "code",
   "execution_count": 36,
   "metadata": {
    "collapsed": false
   },
   "outputs": [
    {
     "name": "stdout",
     "output_type": "stream",
     "text": [
      "\\begin{tabular}{llr}\n",
      "\\toprule\n",
      "{} &     icl\\_uc &  Group\\_Count \\\\\n",
      "\\midrule\n",
      "0 &  G06F 1300 &         9552 \\\\\n",
      "1 &  G06F 1730 &         8070 \\\\\n",
      "2 &  G11C  700 &         7469 \\\\\n",
      "3 &  C12Q  168 &         6779 \\\\\n",
      "4 &  G06K  900 &         6263 \\\\\n",
      "\\bottomrule\n",
      "\\end{tabular}\n",
      "\n"
     ]
    }
   ],
   "source": [
    "temp = groupedby_icl_sorted_reindexed[['icl_uc','Group_Count']].head()\n",
    "print(temp.to_latex())"
   ]
  },
  {
   "cell_type": "code",
   "execution_count": 37,
   "metadata": {
    "collapsed": false
   },
   "outputs": [
    {
     "name": "stdout",
     "output_type": "stream",
     "text": [
      "140454\n",
      "140454\n"
     ]
    }
   ],
   "source": [
    "logx = np.log10(groupedby_icl_sorted_reindexed.index[1:]) \n",
    "logy = np.log10(groupedby_icl_sorted_reindexed.Group_Count[1:]) \n",
    "\n",
    "print(len(logx))\n",
    "print(len(logy))"
   ]
  },
  {
   "cell_type": "code",
   "execution_count": 38,
   "metadata": {
    "collapsed": false
   },
   "outputs": [
    {
     "name": "stdout",
     "output_type": "stream",
     "text": [
      "140455\n",
      "140455\n"
     ]
    }
   ],
   "source": [
    "x = groupedby_icl_sorted_reindexed.index\n",
    "y = groupedby_icl_sorted_reindexed.Group_Count\n",
    "\n",
    "print(len(x))\n",
    "print(len(y))"
   ]
  },
  {
   "cell_type": "code",
   "execution_count": 39,
   "metadata": {
    "collapsed": false
   },
   "outputs": [
    {
     "data": {
      "image/png": "[encoded data removed]",
      "text/plain": [
       "<matplotlib.figure.Figure at 0x1218cf438>"
      ]
     },
     "metadata": {},
     "output_type": "display_data"
    }
   ],
   "source": [
    "# plot data\n",
    "fig = plt.figure(figsize=(4,4))\n",
    "ax = fig.add_subplot(111)\n",
    "ax.plot(x,y,'purple',linewidth=3)\n",
    "#ax.set_xlim(0, 6)\n",
    "#ax.set_ylim(0, 6)\n",
    "ax.set(title=\"\", xlabel=\"rank of IPC (full)\", ylabel=\"number of patents\")\n",
    "plt.savefig(\"/Users/ahuxor/MSc/Thesis_Project/msc_thesis/Figs/rank_iclFull_log_patents.pdf\", bbox_inches = 'tight')\n",
    "\n",
    "plt.show()"
   ]
  },
  {
   "cell_type": "code",
   "execution_count": 40,
   "metadata": {
    "collapsed": false
   },
   "outputs": [
    {
     "data": {
      "image/png": "[encoded data removed]",
      "text/plain": [
       "<matplotlib.figure.Figure at 0x18ccb2a58>"
      ]
     },
     "metadata": {},
     "output_type": "display_data"
    }
   ],
   "source": [
    "# plot data\n",
    "fig = plt.figure(figsize=(4,4))\n",
    "ax = fig.add_subplot(111)\n",
    "ax.plot(logx,logy,'purple',linewidth=3)\n",
    "ax.set_xlim(0, 6)\n",
    "ax.set_ylim(0, 6)\n",
    "ax.set(title=\"\", xlabel=\"log(rank of IPC (full))\", ylabel=\"log(number of patents)\")\n",
    "plt.savefig(\"/Users/ahuxor/MSc/Thesis_Project/msc_thesis/Figs/log_rank_iclFull_log_patents.pdf\", bbox_inches = 'tight')\n",
    "\n",
    "plt.show()"
   ]
  },
  {
   "cell_type": "code",
   "execution_count": 41,
   "metadata": {
    "collapsed": false
   },
   "outputs": [
    {
     "data": {
      "text/html": [
       "<div>\n",
       "<table border=\"1\" class=\"dataframe\">\n",
       "  <thead>\n",
       "    <tr style=\"text-align: right;\">\n",
       "      <th></th>\n",
       "      <th>0</th>\n",
       "      <th>1</th>\n",
       "      <th>2</th>\n",
       "      <th>3</th>\n",
       "      <th>4</th>\n",
       "    </tr>\n",
       "  </thead>\n",
       "  <tbody>\n",
       "    <tr>\n",
       "      <th>allcites</th>\n",
       "      <td>6</td>\n",
       "      <td>0</td>\n",
       "      <td>20</td>\n",
       "      <td>4</td>\n",
       "      <td>1</td>\n",
       "    </tr>\n",
       "    <tr>\n",
       "      <th>appyear</th>\n",
       "      <td>1974</td>\n",
       "      <td>1974</td>\n",
       "      <td>1975</td>\n",
       "      <td>1974</td>\n",
       "      <td>1975</td>\n",
       "    </tr>\n",
       "    <tr>\n",
       "      <th>asscode</th>\n",
       "      <td>2</td>\n",
       "      <td>2</td>\n",
       "      <td>2</td>\n",
       "      <td>1</td>\n",
       "      <td>1</td>\n",
       "    </tr>\n",
       "    <tr>\n",
       "      <th>assgnum</th>\n",
       "      <td>1</td>\n",
       "      <td>1</td>\n",
       "      <td>1</td>\n",
       "      <td>NaN</td>\n",
       "      <td>NaN</td>\n",
       "    </tr>\n",
       "    <tr>\n",
       "      <th>cat</th>\n",
       "      <td>6</td>\n",
       "      <td>6</td>\n",
       "      <td>6</td>\n",
       "      <td>5</td>\n",
       "      <td>6</td>\n",
       "    </tr>\n",
       "    <tr>\n",
       "      <th>cat_ocl</th>\n",
       "      <td>6</td>\n",
       "      <td>6</td>\n",
       "      <td>6</td>\n",
       "      <td>NaN</td>\n",
       "      <td>6</td>\n",
       "    </tr>\n",
       "    <tr>\n",
       "      <th>cclass</th>\n",
       "      <td>2/161.4</td>\n",
       "      <td>5/11</td>\n",
       "      <td>5/430</td>\n",
       "      <td>114/354</td>\n",
       "      <td>12/142S</td>\n",
       "    </tr>\n",
       "    <tr>\n",
       "      <th>country</th>\n",
       "      <td>US</td>\n",
       "      <td>US</td>\n",
       "      <td>US</td>\n",
       "      <td></td>\n",
       "      <td></td>\n",
       "    </tr>\n",
       "    <tr>\n",
       "      <th>ddate</th>\n",
       "      <td>NaT</td>\n",
       "      <td>NaT</td>\n",
       "      <td>NaT</td>\n",
       "      <td>NaT</td>\n",
       "      <td>NaT</td>\n",
       "    </tr>\n",
       "    <tr>\n",
       "      <th>gday</th>\n",
       "      <td>6</td>\n",
       "      <td>6</td>\n",
       "      <td>6</td>\n",
       "      <td>6</td>\n",
       "      <td>6</td>\n",
       "    </tr>\n",
       "    <tr>\n",
       "      <th>gmonth</th>\n",
       "      <td>1</td>\n",
       "      <td>1</td>\n",
       "      <td>1</td>\n",
       "      <td>1</td>\n",
       "      <td>1</td>\n",
       "    </tr>\n",
       "    <tr>\n",
       "      <th>gyear</th>\n",
       "      <td>1976</td>\n",
       "      <td>1976</td>\n",
       "      <td>1976</td>\n",
       "      <td>1976</td>\n",
       "      <td>1976</td>\n",
       "    </tr>\n",
       "    <tr>\n",
       "      <th>hjtwt</th>\n",
       "      <td>1</td>\n",
       "      <td>1</td>\n",
       "      <td>1</td>\n",
       "      <td>1</td>\n",
       "      <td>1</td>\n",
       "    </tr>\n",
       "    <tr>\n",
       "      <th>icl</th>\n",
       "      <td>A41D 1900</td>\n",
       "      <td>A47D  701</td>\n",
       "      <td>A47D  702</td>\n",
       "      <td>B63B  708</td>\n",
       "      <td>A43D  900</td>\n",
       "    </tr>\n",
       "    <tr>\n",
       "      <th>icl_class</th>\n",
       "      <td>A41D</td>\n",
       "      <td>A47D</td>\n",
       "      <td>A47D</td>\n",
       "      <td>B63B</td>\n",
       "      <td>A43D</td>\n",
       "    </tr>\n",
       "    <tr>\n",
       "      <th>icl_maingroup</th>\n",
       "      <td>19</td>\n",
       "      <td>7</td>\n",
       "      <td>7</td>\n",
       "      <td>7</td>\n",
       "      <td>9</td>\n",
       "    </tr>\n",
       "    <tr>\n",
       "      <th>iclnum</th>\n",
       "      <td>1</td>\n",
       "      <td>1</td>\n",
       "      <td>1</td>\n",
       "      <td>1</td>\n",
       "      <td>1</td>\n",
       "    </tr>\n",
       "    <tr>\n",
       "      <th>nclaims</th>\n",
       "      <td>4</td>\n",
       "      <td>3</td>\n",
       "      <td>24</td>\n",
       "      <td>7</td>\n",
       "      <td>9</td>\n",
       "    </tr>\n",
       "    <tr>\n",
       "      <th>nclass</th>\n",
       "      <td>2</td>\n",
       "      <td>5</td>\n",
       "      <td>5</td>\n",
       "      <td>114</td>\n",
       "      <td>12</td>\n",
       "    </tr>\n",
       "    <tr>\n",
       "      <th>nclass_ocl</th>\n",
       "      <td>2</td>\n",
       "      <td>5</td>\n",
       "      <td>5</td>\n",
       "      <td>9</td>\n",
       "      <td>12</td>\n",
       "    </tr>\n",
       "    <tr>\n",
       "      <th>patent</th>\n",
       "      <td>3930271</td>\n",
       "      <td>3930272</td>\n",
       "      <td>3930273</td>\n",
       "      <td>3930274</td>\n",
       "      <td>3930275</td>\n",
       "    </tr>\n",
       "    <tr>\n",
       "      <th>pdpass</th>\n",
       "      <td>1.00303e+07</td>\n",
       "      <td>1.01569e+07</td>\n",
       "      <td>1.0112e+07</td>\n",
       "      <td>NaN</td>\n",
       "      <td>NaN</td>\n",
       "    </tr>\n",
       "    <tr>\n",
       "      <th>state</th>\n",
       "      <td>IL</td>\n",
       "      <td>PA</td>\n",
       "      <td>MO</td>\n",
       "      <td>CA</td>\n",
       "      <td>NJ</td>\n",
       "    </tr>\n",
       "    <tr>\n",
       "      <th>status</th>\n",
       "      <td></td>\n",
       "      <td></td>\n",
       "      <td></td>\n",
       "      <td></td>\n",
       "      <td></td>\n",
       "    </tr>\n",
       "    <tr>\n",
       "      <th>subcat</th>\n",
       "      <td>63</td>\n",
       "      <td>65</td>\n",
       "      <td>65</td>\n",
       "      <td>55</td>\n",
       "      <td>63</td>\n",
       "    </tr>\n",
       "    <tr>\n",
       "      <th>subcat_ocl</th>\n",
       "      <td>63</td>\n",
       "      <td>65</td>\n",
       "      <td>65</td>\n",
       "      <td>NaN</td>\n",
       "      <td>63</td>\n",
       "    </tr>\n",
       "    <tr>\n",
       "      <th>subclass</th>\n",
       "      <td>161.4</td>\n",
       "      <td>11</td>\n",
       "      <td>430</td>\n",
       "      <td>354</td>\n",
       "      <td>NaN</td>\n",
       "    </tr>\n",
       "    <tr>\n",
       "      <th>subclass1</th>\n",
       "      <td>161.4</td>\n",
       "      <td>11</td>\n",
       "      <td>430</td>\n",
       "      <td>354</td>\n",
       "      <td>142S</td>\n",
       "    </tr>\n",
       "    <tr>\n",
       "      <th>subclass1_ocl</th>\n",
       "      <td>161</td>\n",
       "      <td>11</td>\n",
       "      <td>331</td>\n",
       "      <td>2</td>\n",
       "      <td>142</td>\n",
       "    </tr>\n",
       "    <tr>\n",
       "      <th>subclass_ocl</th>\n",
       "      <td>161</td>\n",
       "      <td>11</td>\n",
       "      <td>331</td>\n",
       "      <td>2</td>\n",
       "      <td>142</td>\n",
       "    </tr>\n",
       "    <tr>\n",
       "      <th>term_extension</th>\n",
       "      <td>0</td>\n",
       "      <td>0</td>\n",
       "      <td>0</td>\n",
       "      <td>0</td>\n",
       "      <td>0</td>\n",
       "    </tr>\n",
       "    <tr>\n",
       "      <th>uspto_assignee</th>\n",
       "      <td>251415</td>\n",
       "      <td>246000</td>\n",
       "      <td>10490</td>\n",
       "      <td>0</td>\n",
       "      <td>0</td>\n",
       "    </tr>\n",
       "    <tr>\n",
       "      <th>icl_uc</th>\n",
       "      <td>A41D 1900</td>\n",
       "      <td>A47D  701</td>\n",
       "      <td>A47D  702</td>\n",
       "      <td>B63B  708</td>\n",
       "      <td>A43D  900</td>\n",
       "    </tr>\n",
       "    <tr>\n",
       "      <th>icl_class_uc</th>\n",
       "      <td>A41D</td>\n",
       "      <td>A47D</td>\n",
       "      <td>A47D</td>\n",
       "      <td>B63B</td>\n",
       "      <td>A43D</td>\n",
       "    </tr>\n",
       "  </tbody>\n",
       "</table>\n",
       "</div>"
      ],
      "text/plain": [
       "                          0            1           2          3          4\n",
       "allcites                  6            0          20          4          1\n",
       "appyear                1974         1974        1975       1974       1975\n",
       "asscode                   2            2           2          1          1\n",
       "assgnum                   1            1           1        NaN        NaN\n",
       "cat                       6            6           6          5          6\n",
       "cat_ocl                   6            6           6        NaN          6\n",
       "cclass              2/161.4         5/11       5/430    114/354    12/142S\n",
       "country                  US           US          US                      \n",
       "ddate                   NaT          NaT         NaT        NaT        NaT\n",
       "gday                      6            6           6          6          6\n",
       "gmonth                    1            1           1          1          1\n",
       "gyear                  1976         1976        1976       1976       1976\n",
       "hjtwt                     1            1           1          1          1\n",
       "icl               A41D 1900    A47D  701   A47D  702  B63B  708  A43D  900\n",
       "icl_class              A41D         A47D        A47D       B63B       A43D\n",
       "icl_maingroup            19            7           7          7          9\n",
       "iclnum                    1            1           1          1          1\n",
       "nclaims                   4            3          24          7          9\n",
       "nclass                    2            5           5        114         12\n",
       "nclass_ocl                2            5           5          9         12\n",
       "patent              3930271      3930272     3930273    3930274    3930275\n",
       "pdpass          1.00303e+07  1.01569e+07  1.0112e+07        NaN        NaN\n",
       "state                    IL           PA          MO         CA         NJ\n",
       "status                                                                    \n",
       "subcat                   63           65          65         55         63\n",
       "subcat_ocl               63           65          65        NaN         63\n",
       "subclass              161.4           11         430        354        NaN\n",
       "subclass1             161.4           11         430        354       142S\n",
       "subclass1_ocl           161           11         331          2        142\n",
       "subclass_ocl            161           11         331          2        142\n",
       "term_extension            0            0           0          0          0\n",
       "uspto_assignee       251415       246000       10490          0          0\n",
       "icl_uc            A41D 1900    A47D  701   A47D  702  B63B  708  A43D  900\n",
       "icl_class_uc           A41D         A47D        A47D       B63B       A43D"
      ]
     },
     "execution_count": 41,
     "metadata": {},
     "output_type": "execute_result"
    }
   ],
   "source": [
    "# concat icl and icl_maingroup to get intermediate representation between the full IPC and the IPC4\n",
    "pat76_06_assg_df.head().T\n"
   ]
  },
  {
   "cell_type": "code",
   "execution_count": 42,
   "metadata": {
    "collapsed": false
   },
   "outputs": [],
   "source": [
    "# create data from concating the icl_class (upper case version) and icl_maingroup\n",
    "ipc_inter = pat76_06_assg_df.icl_class_uc.values + pat76_06_assg_df.icl_maingroup.values.astype(int).astype(str)"
   ]
  },
  {
   "cell_type": "code",
   "execution_count": 43,
   "metadata": {
    "collapsed": true
   },
   "outputs": [],
   "source": [
    "# add this new intermediate IPC code to the df\n",
    "pat76_06_assg_df['ipc_inter'] = ipc_inter"
   ]
  },
  {
   "cell_type": "code",
   "execution_count": null,
   "metadata": {
    "collapsed": false
   },
   "outputs": [],
   "source": []
  },
  {
   "cell_type": "code",
   "execution_count": 44,
   "metadata": {
    "collapsed": false
   },
   "outputs": [
    {
     "data": {
      "text/plain": [
       "20841"
      ]
     },
     "execution_count": 44,
     "metadata": {},
     "output_type": "execute_result"
    }
   ],
   "source": [
    "# get new intermediate IPC intermediate codes\n",
    "groupedby_ipc_inter = pat76_06_assg_df.groupby(by='ipc_inter')\n",
    "groupedby_ipc_inter = pd.DataFrame(groupedby_ipc_inter.size().reset_index(name = \"Group_Count\"))\n",
    "groupedby_ipc_inter_sorted = groupedby_ipc_inter.sort_values(by='Group_Count', ascending=False)\n",
    "groupedby_ipc_inter_sorted.head()\n",
    "len(groupedby_ipc_inter_sorted)"
   ]
  },
  {
   "cell_type": "code",
   "execution_count": 45,
   "metadata": {
    "collapsed": false
   },
   "outputs": [
    {
     "data": {
      "text/plain": [
       "<matplotlib.axes._subplots.AxesSubplot at 0x18f161a58>"
      ]
     },
     "execution_count": 45,
     "metadata": {},
     "output_type": "execute_result"
    },
    {
     "data": {
      "image/png": "[encoded data removed]",
      "text/plain": [
       "<matplotlib.figure.Figure at 0x1832a0e10>"
      ]
     },
     "metadata": {},
     "output_type": "display_data"
    }
   ],
   "source": [
    "# plot number of ipc_inter\n",
    "groupedby_ipc_inter_sorted_reindexed = groupedby_ipc_inter_sorted.reset_index()\n",
    "groupedby_ipc_inter_sorted_reindexed.plot(y='Group_Count',c='orange',linewidth=5)"
   ]
  },
  {
   "cell_type": "code",
   "execution_count": 46,
   "metadata": {
    "collapsed": false
   },
   "outputs": [
    {
     "name": "stdout",
     "output_type": "stream",
     "text": [
      "20840\n",
      "20840\n"
     ]
    }
   ],
   "source": [
    "logx = np.log10(groupedby_ipc_inter_sorted_reindexed.index[1:]) \n",
    "logy = np.log10(groupedby_ipc_inter_sorted_reindexed.Group_Count[1:]) \n",
    "\n",
    "print(len(logx))\n",
    "print(len(logy))"
   ]
  },
  {
   "cell_type": "code",
   "execution_count": 47,
   "metadata": {
    "collapsed": false
   },
   "outputs": [
    {
     "data": {
      "image/png": "[encoded data removed]",
      "text/plain": [
       "<matplotlib.figure.Figure at 0x18f585240>"
      ]
     },
     "metadata": {},
     "output_type": "display_data"
    }
   ],
   "source": [
    "# plot data\n",
    "# very unlike a power-law\n",
    "fig = plt.figure(figsize=(4,4))\n",
    "ax = fig.add_subplot(111)\n",
    "ax.plot(logx,logy,'orange',linewidth=3)\n",
    "ax.set_xlim(0, 4)\n",
    "ax.set_ylim(0, 6)\n",
    "ax.set(title=\"\", xlabel=\"log(rank of ipc_inter)\", ylabel=\"log(number of patents)\")\n",
    "plt.savefig(\"/Users/ahuxor/MSc/Thesis_Project/msc_thesis/Figs/log_rank_ipcinter_log_patents.pdf\", bbox_inches = 'tight')\n",
    "\n",
    "plt.show()"
   ]
  },
  {
   "cell_type": "code",
   "execution_count": 48,
   "metadata": {
    "collapsed": false
   },
   "outputs": [
    {
     "data": {
      "text/html": [
       "<div>\n",
       "<table border=\"1\" class=\"dataframe\">\n",
       "  <thead>\n",
       "    <tr style=\"text-align: right;\">\n",
       "      <th></th>\n",
       "      <th>index</th>\n",
       "      <th>ipc_inter</th>\n",
       "      <th>Group_Count</th>\n",
       "    </tr>\n",
       "  </thead>\n",
       "  <tbody>\n",
       "    <tr>\n",
       "      <th>0</th>\n",
       "      <td>18463</td>\n",
       "      <td>H01L21</td>\n",
       "      <td>57467</td>\n",
       "    </tr>\n",
       "    <tr>\n",
       "      <th>1</th>\n",
       "      <td>2373</td>\n",
       "      <td>A61K31</td>\n",
       "      <td>50437</td>\n",
       "    </tr>\n",
       "    <tr>\n",
       "      <th>2</th>\n",
       "      <td>16657</td>\n",
       "      <td>G06F15</td>\n",
       "      <td>30138</td>\n",
       "    </tr>\n",
       "    <tr>\n",
       "      <th>3</th>\n",
       "      <td>16659</td>\n",
       "      <td>G06F17</td>\n",
       "      <td>28202</td>\n",
       "    </tr>\n",
       "    <tr>\n",
       "      <th>4</th>\n",
       "      <td>16017</td>\n",
       "      <td>G02B6</td>\n",
       "      <td>20071</td>\n",
       "    </tr>\n",
       "  </tbody>\n",
       "</table>\n",
       "</div>"
      ],
      "text/plain": [
       "   index ipc_inter  Group_Count\n",
       "0  18463    H01L21        57467\n",
       "1   2373    A61K31        50437\n",
       "2  16657    G06F15        30138\n",
       "3  16659    G06F17        28202\n",
       "4  16017     G02B6        20071"
      ]
     },
     "execution_count": 48,
     "metadata": {},
     "output_type": "execute_result"
    }
   ],
   "source": [
    "groupedby_ipc_inter_sorted_reindexed.head()"
   ]
  },
  {
   "cell_type": "code",
   "execution_count": 49,
   "metadata": {
    "collapsed": false
   },
   "outputs": [
    {
     "data": {
      "text/html": [
       "<div>\n",
       "<table border=\"1\" class=\"dataframe\">\n",
       "  <thead>\n",
       "    <tr style=\"text-align: right;\">\n",
       "      <th></th>\n",
       "      <th>index</th>\n",
       "      <th>ipc_inter</th>\n",
       "      <th>Group_Count</th>\n",
       "    </tr>\n",
       "  </thead>\n",
       "  <tbody>\n",
       "    <tr>\n",
       "      <th>20821</th>\n",
       "      <td>9970</td>\n",
       "      <td>C09S95</td>\n",
       "      <td>1</td>\n",
       "    </tr>\n",
       "    <tr>\n",
       "      <th>20822</th>\n",
       "      <td>9971</td>\n",
       "      <td>C09T3</td>\n",
       "      <td>1</td>\n",
       "    </tr>\n",
       "    <tr>\n",
       "      <th>20823</th>\n",
       "      <td>9974</td>\n",
       "      <td>C09W11</td>\n",
       "      <td>1</td>\n",
       "    </tr>\n",
       "    <tr>\n",
       "      <th>20824</th>\n",
       "      <td>9975</td>\n",
       "      <td>C09X3</td>\n",
       "      <td>1</td>\n",
       "    </tr>\n",
       "    <tr>\n",
       "      <th>20825</th>\n",
       "      <td>9976</td>\n",
       "      <td>C09Y7</td>\n",
       "      <td>1</td>\n",
       "    </tr>\n",
       "    <tr>\n",
       "      <th>20826</th>\n",
       "      <td>9977</td>\n",
       "      <td>C09Z11</td>\n",
       "      <td>1</td>\n",
       "    </tr>\n",
       "    <tr>\n",
       "      <th>20827</th>\n",
       "      <td>9978</td>\n",
       "      <td>C0BF83</td>\n",
       "      <td>1</td>\n",
       "    </tr>\n",
       "    <tr>\n",
       "      <th>20828</th>\n",
       "      <td>9979</td>\n",
       "      <td>C0BL75</td>\n",
       "      <td>1</td>\n",
       "    </tr>\n",
       "    <tr>\n",
       "      <th>20829</th>\n",
       "      <td>9983</td>\n",
       "      <td>C10B13</td>\n",
       "      <td>1</td>\n",
       "    </tr>\n",
       "    <tr>\n",
       "      <th>20830</th>\n",
       "      <td>9995</td>\n",
       "      <td>C10B34</td>\n",
       "      <td>1</td>\n",
       "    </tr>\n",
       "    <tr>\n",
       "      <th>20831</th>\n",
       "      <td>10010</td>\n",
       "      <td>C10B73</td>\n",
       "      <td>1</td>\n",
       "    </tr>\n",
       "    <tr>\n",
       "      <th>20832</th>\n",
       "      <td>10011</td>\n",
       "      <td>C10B79</td>\n",
       "      <td>1</td>\n",
       "    </tr>\n",
       "    <tr>\n",
       "      <th>20833</th>\n",
       "      <td>10013</td>\n",
       "      <td>C10B97</td>\n",
       "      <td>1</td>\n",
       "    </tr>\n",
       "    <tr>\n",
       "      <th>20834</th>\n",
       "      <td>10015</td>\n",
       "      <td>C10C11</td>\n",
       "      <td>1</td>\n",
       "    </tr>\n",
       "    <tr>\n",
       "      <th>20835</th>\n",
       "      <td>10018</td>\n",
       "      <td>C10C30</td>\n",
       "      <td>1</td>\n",
       "    </tr>\n",
       "    <tr>\n",
       "      <th>20836</th>\n",
       "      <td>10019</td>\n",
       "      <td>C10C33</td>\n",
       "      <td>1</td>\n",
       "    </tr>\n",
       "    <tr>\n",
       "      <th>20837</th>\n",
       "      <td>10020</td>\n",
       "      <td>C10C45</td>\n",
       "      <td>1</td>\n",
       "    </tr>\n",
       "    <tr>\n",
       "      <th>20838</th>\n",
       "      <td>10025</td>\n",
       "      <td>C10D1</td>\n",
       "      <td>1</td>\n",
       "    </tr>\n",
       "    <tr>\n",
       "      <th>20839</th>\n",
       "      <td>10026</td>\n",
       "      <td>C10D13</td>\n",
       "      <td>1</td>\n",
       "    </tr>\n",
       "    <tr>\n",
       "      <th>20840</th>\n",
       "      <td>20840</td>\n",
       "      <td>Z10G45</td>\n",
       "      <td>1</td>\n",
       "    </tr>\n",
       "  </tbody>\n",
       "</table>\n",
       "</div>"
      ],
      "text/plain": [
       "       index ipc_inter  Group_Count\n",
       "20821   9970    C09S95            1\n",
       "20822   9971     C09T3            1\n",
       "20823   9974    C09W11            1\n",
       "20824   9975     C09X3            1\n",
       "20825   9976     C09Y7            1\n",
       "20826   9977    C09Z11            1\n",
       "20827   9978    C0BF83            1\n",
       "20828   9979    C0BL75            1\n",
       "20829   9983    C10B13            1\n",
       "20830   9995    C10B34            1\n",
       "20831  10010    C10B73            1\n",
       "20832  10011    C10B79            1\n",
       "20833  10013    C10B97            1\n",
       "20834  10015    C10C11            1\n",
       "20835  10018    C10C30            1\n",
       "20836  10019    C10C33            1\n",
       "20837  10020    C10C45            1\n",
       "20838  10025     C10D1            1\n",
       "20839  10026    C10D13            1\n",
       "20840  20840    Z10G45            1"
      ]
     },
     "execution_count": 49,
     "metadata": {},
     "output_type": "execute_result"
    }
   ],
   "source": [
    "# It looks as if many of the single ones are mis-recognitions of actual codes\n",
    "groupedby_ipc_inter_sorted_reindexed.tail(20)"
   ]
  },
  {
   "cell_type": "code",
   "execution_count": 50,
   "metadata": {
    "collapsed": false
   },
   "outputs": [
    {
     "name": "stdout",
     "output_type": "stream",
     "text": [
      "length of only_one_ipc_inter =  8528\n"
     ]
    },
    {
     "data": {
      "text/html": [
       "<div>\n",
       "<table border=\"1\" class=\"dataframe\">\n",
       "  <thead>\n",
       "    <tr style=\"text-align: right;\">\n",
       "      <th></th>\n",
       "      <th>index</th>\n",
       "      <th>ipc_inter</th>\n",
       "      <th>Group_Count</th>\n",
       "    </tr>\n",
       "  </thead>\n",
       "  <tbody>\n",
       "    <tr>\n",
       "      <th>13313</th>\n",
       "      <td>20548</td>\n",
       "      <td>N05B33</td>\n",
       "      <td>1</td>\n",
       "    </tr>\n",
       "    <tr>\n",
       "      <th>13314</th>\n",
       "      <td>20549</td>\n",
       "      <td>N05K1</td>\n",
       "      <td>1</td>\n",
       "    </tr>\n",
       "    <tr>\n",
       "      <th>13315</th>\n",
       "      <td>20551</td>\n",
       "      <td>N22C13</td>\n",
       "      <td>1</td>\n",
       "    </tr>\n",
       "    <tr>\n",
       "      <th>13316</th>\n",
       "      <td>20559</td>\n",
       "      <td>N61F5</td>\n",
       "      <td>1</td>\n",
       "    </tr>\n",
       "    <tr>\n",
       "      <th>13317</th>\n",
       "      <td>20552</td>\n",
       "      <td>N23P19</td>\n",
       "      <td>1</td>\n",
       "    </tr>\n",
       "    <tr>\n",
       "      <th>13318</th>\n",
       "      <td>20553</td>\n",
       "      <td>N41D19</td>\n",
       "      <td>1</td>\n",
       "    </tr>\n",
       "    <tr>\n",
       "      <th>13319</th>\n",
       "      <td>20554</td>\n",
       "      <td>N46D1</td>\n",
       "      <td>1</td>\n",
       "    </tr>\n",
       "    <tr>\n",
       "      <th>13320</th>\n",
       "      <td>20555</td>\n",
       "      <td>N47B88</td>\n",
       "      <td>1</td>\n",
       "    </tr>\n",
       "    <tr>\n",
       "      <th>13321</th>\n",
       "      <td>20556</td>\n",
       "      <td>N60R9</td>\n",
       "      <td>1</td>\n",
       "    </tr>\n",
       "    <tr>\n",
       "      <th>13322</th>\n",
       "      <td>20557</td>\n",
       "      <td>N61C17</td>\n",
       "      <td>1</td>\n",
       "    </tr>\n",
       "    <tr>\n",
       "      <th>13323</th>\n",
       "      <td>20539</td>\n",
       "      <td>N03M1</td>\n",
       "      <td>1</td>\n",
       "    </tr>\n",
       "    <tr>\n",
       "      <th>13324</th>\n",
       "      <td>20538</td>\n",
       "      <td>N03F3</td>\n",
       "      <td>1</td>\n",
       "    </tr>\n",
       "    <tr>\n",
       "      <th>13325</th>\n",
       "      <td>20537</td>\n",
       "      <td>N02P9</td>\n",
       "      <td>1</td>\n",
       "    </tr>\n",
       "    <tr>\n",
       "      <th>13326</th>\n",
       "      <td>20536</td>\n",
       "      <td>N02P5</td>\n",
       "      <td>1</td>\n",
       "    </tr>\n",
       "    <tr>\n",
       "      <th>13327</th>\n",
       "      <td>20535</td>\n",
       "      <td>N02J7</td>\n",
       "      <td>1</td>\n",
       "    </tr>\n",
       "    <tr>\n",
       "      <th>13328</th>\n",
       "      <td>20534</td>\n",
       "      <td>N02H3</td>\n",
       "      <td>1</td>\n",
       "    </tr>\n",
       "    <tr>\n",
       "      <th>13329</th>\n",
       "      <td>20533</td>\n",
       "      <td>N02G3</td>\n",
       "      <td>1</td>\n",
       "    </tr>\n",
       "    <tr>\n",
       "      <th>13330</th>\n",
       "      <td>20532</td>\n",
       "      <td>N01S3</td>\n",
       "      <td>1</td>\n",
       "    </tr>\n",
       "    <tr>\n",
       "      <th>13331</th>\n",
       "      <td>20531</td>\n",
       "      <td>N01R7</td>\n",
       "      <td>1</td>\n",
       "    </tr>\n",
       "    <tr>\n",
       "      <th>13332</th>\n",
       "      <td>20530</td>\n",
       "      <td>N01R33</td>\n",
       "      <td>1</td>\n",
       "    </tr>\n",
       "  </tbody>\n",
       "</table>\n",
       "</div>"
      ],
      "text/plain": [
       "       index ipc_inter  Group_Count\n",
       "13313  20548    N05B33            1\n",
       "13314  20549     N05K1            1\n",
       "13315  20551    N22C13            1\n",
       "13316  20559     N61F5            1\n",
       "13317  20552    N23P19            1\n",
       "13318  20553    N41D19            1\n",
       "13319  20554     N46D1            1\n",
       "13320  20555    N47B88            1\n",
       "13321  20556     N60R9            1\n",
       "13322  20557    N61C17            1\n",
       "13323  20539     N03M1            1\n",
       "13324  20538     N03F3            1\n",
       "13325  20537     N02P9            1\n",
       "13326  20536     N02P5            1\n",
       "13327  20535     N02J7            1\n",
       "13328  20534     N02H3            1\n",
       "13329  20533     N02G3            1\n",
       "13330  20532     N01S3            1\n",
       "13331  20531     N01R7            1\n",
       "13332  20530    N01R33            1"
      ]
     },
     "execution_count": 50,
     "metadata": {},
     "output_type": "execute_result"
    }
   ],
   "source": [
    "# Get those ipc_inter thatonly have one patent.\n",
    "# It looks as if many of these may be typos or other problems in the data.\n",
    "only_one_ipc_inter = groupedby_ipc_inter_sorted_reindexed[groupedby_ipc_inter_sorted_reindexed.Group_Count==1]\n",
    "over_one_ipc_inter = groupedby_ipc_inter_sorted_reindexed[groupedby_ipc_inter_sorted_reindexed.Group_Count>1]\n",
    "\n",
    "\n",
    "print('length of only_one_ipc_inter = ',len(only_one_ipc_inter))\n",
    "only_one_ipc_inter[1000:1020]"
   ]
  },
  {
   "cell_type": "code",
   "execution_count": 51,
   "metadata": {
    "collapsed": false
   },
   "outputs": [
    {
     "data": {
      "text/plain": [
       "array([5923044], dtype=int32)"
      ]
     },
     "execution_count": 51,
     "metadata": {},
     "output_type": "execute_result"
    }
   ],
   "source": [
    "# Check certain ipc codes that seem wrong, get patent number and check\n",
    "pat76_06_assg_df[pat76_06_assg_df.icl_class=='C09X'].patent.values"
   ]
  },
  {
   "cell_type": "code",
   "execution_count": 52,
   "metadata": {
    "collapsed": true
   },
   "outputs": [],
   "source": [
    "# remove those ipc_inters from the main pat76_06_assg_df datafile\n",
    "# for subsequent work with ipc classes.\n",
    "to_drop = only_one_ipc_inter.ipc_inter.values"
   ]
  },
  {
   "cell_type": "code",
   "execution_count": 53,
   "metadata": {
    "collapsed": false
   },
   "outputs": [],
   "source": [
    "#df[~df['title'].isin(to_drop)]\n",
    "pat76_06_assg_minus_singular_ipc_inter_df = pat76_06_assg_df[~pat76_06_assg_df['ipc_inter'].isin(to_drop)]"
   ]
  },
  {
   "cell_type": "code",
   "execution_count": 54,
   "metadata": {
    "collapsed": false
   },
   "outputs": [
    {
     "data": {
      "text/plain": [
       "3270981"
      ]
     },
     "execution_count": 54,
     "metadata": {},
     "output_type": "execute_result"
    }
   ],
   "source": [
    "len(pat76_06_assg_minus_singular_ipc_inter_df)"
   ]
  },
  {
   "cell_type": "code",
   "execution_count": 55,
   "metadata": {
    "collapsed": false
   },
   "outputs": [
    {
     "data": {
      "text/plain": [
       "3279509"
      ]
     },
     "execution_count": 55,
     "metadata": {},
     "output_type": "execute_result"
    }
   ],
   "source": [
    "len(pat76_06_assg_df)"
   ]
  },
  {
   "cell_type": "code",
   "execution_count": 56,
   "metadata": {
    "collapsed": false
   },
   "outputs": [
    {
     "data": {
      "text/html": [
       "<div>\n",
       "<table border=\"1\" class=\"dataframe\">\n",
       "  <thead>\n",
       "    <tr style=\"text-align: right;\">\n",
       "      <th></th>\n",
       "      <th>0</th>\n",
       "      <th>1</th>\n",
       "      <th>2</th>\n",
       "      <th>3</th>\n",
       "      <th>4</th>\n",
       "    </tr>\n",
       "  </thead>\n",
       "  <tbody>\n",
       "    <tr>\n",
       "      <th>allcites</th>\n",
       "      <td>6</td>\n",
       "      <td>0</td>\n",
       "      <td>20</td>\n",
       "      <td>4</td>\n",
       "      <td>1</td>\n",
       "    </tr>\n",
       "    <tr>\n",
       "      <th>appyear</th>\n",
       "      <td>1974</td>\n",
       "      <td>1974</td>\n",
       "      <td>1975</td>\n",
       "      <td>1974</td>\n",
       "      <td>1975</td>\n",
       "    </tr>\n",
       "    <tr>\n",
       "      <th>asscode</th>\n",
       "      <td>2</td>\n",
       "      <td>2</td>\n",
       "      <td>2</td>\n",
       "      <td>1</td>\n",
       "      <td>1</td>\n",
       "    </tr>\n",
       "    <tr>\n",
       "      <th>assgnum</th>\n",
       "      <td>1</td>\n",
       "      <td>1</td>\n",
       "      <td>1</td>\n",
       "      <td>NaN</td>\n",
       "      <td>NaN</td>\n",
       "    </tr>\n",
       "    <tr>\n",
       "      <th>cat</th>\n",
       "      <td>6</td>\n",
       "      <td>6</td>\n",
       "      <td>6</td>\n",
       "      <td>5</td>\n",
       "      <td>6</td>\n",
       "    </tr>\n",
       "    <tr>\n",
       "      <th>cat_ocl</th>\n",
       "      <td>6</td>\n",
       "      <td>6</td>\n",
       "      <td>6</td>\n",
       "      <td>NaN</td>\n",
       "      <td>6</td>\n",
       "    </tr>\n",
       "    <tr>\n",
       "      <th>cclass</th>\n",
       "      <td>2/161.4</td>\n",
       "      <td>5/11</td>\n",
       "      <td>5/430</td>\n",
       "      <td>114/354</td>\n",
       "      <td>12/142S</td>\n",
       "    </tr>\n",
       "    <tr>\n",
       "      <th>country</th>\n",
       "      <td>US</td>\n",
       "      <td>US</td>\n",
       "      <td>US</td>\n",
       "      <td></td>\n",
       "      <td></td>\n",
       "    </tr>\n",
       "    <tr>\n",
       "      <th>ddate</th>\n",
       "      <td>NaT</td>\n",
       "      <td>NaT</td>\n",
       "      <td>NaT</td>\n",
       "      <td>NaT</td>\n",
       "      <td>NaT</td>\n",
       "    </tr>\n",
       "    <tr>\n",
       "      <th>gday</th>\n",
       "      <td>6</td>\n",
       "      <td>6</td>\n",
       "      <td>6</td>\n",
       "      <td>6</td>\n",
       "      <td>6</td>\n",
       "    </tr>\n",
       "    <tr>\n",
       "      <th>gmonth</th>\n",
       "      <td>1</td>\n",
       "      <td>1</td>\n",
       "      <td>1</td>\n",
       "      <td>1</td>\n",
       "      <td>1</td>\n",
       "    </tr>\n",
       "    <tr>\n",
       "      <th>gyear</th>\n",
       "      <td>1976</td>\n",
       "      <td>1976</td>\n",
       "      <td>1976</td>\n",
       "      <td>1976</td>\n",
       "      <td>1976</td>\n",
       "    </tr>\n",
       "    <tr>\n",
       "      <th>hjtwt</th>\n",
       "      <td>1</td>\n",
       "      <td>1</td>\n",
       "      <td>1</td>\n",
       "      <td>1</td>\n",
       "      <td>1</td>\n",
       "    </tr>\n",
       "    <tr>\n",
       "      <th>icl</th>\n",
       "      <td>A41D 1900</td>\n",
       "      <td>A47D  701</td>\n",
       "      <td>A47D  702</td>\n",
       "      <td>B63B  708</td>\n",
       "      <td>A43D  900</td>\n",
       "    </tr>\n",
       "    <tr>\n",
       "      <th>icl_class</th>\n",
       "      <td>A41D</td>\n",
       "      <td>A47D</td>\n",
       "      <td>A47D</td>\n",
       "      <td>B63B</td>\n",
       "      <td>A43D</td>\n",
       "    </tr>\n",
       "    <tr>\n",
       "      <th>icl_maingroup</th>\n",
       "      <td>19</td>\n",
       "      <td>7</td>\n",
       "      <td>7</td>\n",
       "      <td>7</td>\n",
       "      <td>9</td>\n",
       "    </tr>\n",
       "    <tr>\n",
       "      <th>iclnum</th>\n",
       "      <td>1</td>\n",
       "      <td>1</td>\n",
       "      <td>1</td>\n",
       "      <td>1</td>\n",
       "      <td>1</td>\n",
       "    </tr>\n",
       "    <tr>\n",
       "      <th>nclaims</th>\n",
       "      <td>4</td>\n",
       "      <td>3</td>\n",
       "      <td>24</td>\n",
       "      <td>7</td>\n",
       "      <td>9</td>\n",
       "    </tr>\n",
       "    <tr>\n",
       "      <th>nclass</th>\n",
       "      <td>2</td>\n",
       "      <td>5</td>\n",
       "      <td>5</td>\n",
       "      <td>114</td>\n",
       "      <td>12</td>\n",
       "    </tr>\n",
       "    <tr>\n",
       "      <th>nclass_ocl</th>\n",
       "      <td>2</td>\n",
       "      <td>5</td>\n",
       "      <td>5</td>\n",
       "      <td>9</td>\n",
       "      <td>12</td>\n",
       "    </tr>\n",
       "    <tr>\n",
       "      <th>patent</th>\n",
       "      <td>3930271</td>\n",
       "      <td>3930272</td>\n",
       "      <td>3930273</td>\n",
       "      <td>3930274</td>\n",
       "      <td>3930275</td>\n",
       "    </tr>\n",
       "    <tr>\n",
       "      <th>pdpass</th>\n",
       "      <td>1.00303e+07</td>\n",
       "      <td>1.01569e+07</td>\n",
       "      <td>1.0112e+07</td>\n",
       "      <td>NaN</td>\n",
       "      <td>NaN</td>\n",
       "    </tr>\n",
       "    <tr>\n",
       "      <th>state</th>\n",
       "      <td>IL</td>\n",
       "      <td>PA</td>\n",
       "      <td>MO</td>\n",
       "      <td>CA</td>\n",
       "      <td>NJ</td>\n",
       "    </tr>\n",
       "    <tr>\n",
       "      <th>status</th>\n",
       "      <td></td>\n",
       "      <td></td>\n",
       "      <td></td>\n",
       "      <td></td>\n",
       "      <td></td>\n",
       "    </tr>\n",
       "    <tr>\n",
       "      <th>subcat</th>\n",
       "      <td>63</td>\n",
       "      <td>65</td>\n",
       "      <td>65</td>\n",
       "      <td>55</td>\n",
       "      <td>63</td>\n",
       "    </tr>\n",
       "    <tr>\n",
       "      <th>subcat_ocl</th>\n",
       "      <td>63</td>\n",
       "      <td>65</td>\n",
       "      <td>65</td>\n",
       "      <td>NaN</td>\n",
       "      <td>63</td>\n",
       "    </tr>\n",
       "    <tr>\n",
       "      <th>subclass</th>\n",
       "      <td>161.4</td>\n",
       "      <td>11</td>\n",
       "      <td>430</td>\n",
       "      <td>354</td>\n",
       "      <td>NaN</td>\n",
       "    </tr>\n",
       "    <tr>\n",
       "      <th>subclass1</th>\n",
       "      <td>161.4</td>\n",
       "      <td>11</td>\n",
       "      <td>430</td>\n",
       "      <td>354</td>\n",
       "      <td>142S</td>\n",
       "    </tr>\n",
       "    <tr>\n",
       "      <th>subclass1_ocl</th>\n",
       "      <td>161</td>\n",
       "      <td>11</td>\n",
       "      <td>331</td>\n",
       "      <td>2</td>\n",
       "      <td>142</td>\n",
       "    </tr>\n",
       "    <tr>\n",
       "      <th>subclass_ocl</th>\n",
       "      <td>161</td>\n",
       "      <td>11</td>\n",
       "      <td>331</td>\n",
       "      <td>2</td>\n",
       "      <td>142</td>\n",
       "    </tr>\n",
       "    <tr>\n",
       "      <th>term_extension</th>\n",
       "      <td>0</td>\n",
       "      <td>0</td>\n",
       "      <td>0</td>\n",
       "      <td>0</td>\n",
       "      <td>0</td>\n",
       "    </tr>\n",
       "    <tr>\n",
       "      <th>uspto_assignee</th>\n",
       "      <td>251415</td>\n",
       "      <td>246000</td>\n",
       "      <td>10490</td>\n",
       "      <td>0</td>\n",
       "      <td>0</td>\n",
       "    </tr>\n",
       "    <tr>\n",
       "      <th>icl_uc</th>\n",
       "      <td>A41D 1900</td>\n",
       "      <td>A47D  701</td>\n",
       "      <td>A47D  702</td>\n",
       "      <td>B63B  708</td>\n",
       "      <td>A43D  900</td>\n",
       "    </tr>\n",
       "    <tr>\n",
       "      <th>icl_class_uc</th>\n",
       "      <td>A41D</td>\n",
       "      <td>A47D</td>\n",
       "      <td>A47D</td>\n",
       "      <td>B63B</td>\n",
       "      <td>A43D</td>\n",
       "    </tr>\n",
       "    <tr>\n",
       "      <th>ipc_inter</th>\n",
       "      <td>A41D19</td>\n",
       "      <td>A47D7</td>\n",
       "      <td>A47D7</td>\n",
       "      <td>B63B7</td>\n",
       "      <td>A43D9</td>\n",
       "    </tr>\n",
       "  </tbody>\n",
       "</table>\n",
       "</div>"
      ],
      "text/plain": [
       "                          0            1           2          3          4\n",
       "allcites                  6            0          20          4          1\n",
       "appyear                1974         1974        1975       1974       1975\n",
       "asscode                   2            2           2          1          1\n",
       "assgnum                   1            1           1        NaN        NaN\n",
       "cat                       6            6           6          5          6\n",
       "cat_ocl                   6            6           6        NaN          6\n",
       "cclass              2/161.4         5/11       5/430    114/354    12/142S\n",
       "country                  US           US          US                      \n",
       "ddate                   NaT          NaT         NaT        NaT        NaT\n",
       "gday                      6            6           6          6          6\n",
       "gmonth                    1            1           1          1          1\n",
       "gyear                  1976         1976        1976       1976       1976\n",
       "hjtwt                     1            1           1          1          1\n",
       "icl               A41D 1900    A47D  701   A47D  702  B63B  708  A43D  900\n",
       "icl_class              A41D         A47D        A47D       B63B       A43D\n",
       "icl_maingroup            19            7           7          7          9\n",
       "iclnum                    1            1           1          1          1\n",
       "nclaims                   4            3          24          7          9\n",
       "nclass                    2            5           5        114         12\n",
       "nclass_ocl                2            5           5          9         12\n",
       "patent              3930271      3930272     3930273    3930274    3930275\n",
       "pdpass          1.00303e+07  1.01569e+07  1.0112e+07        NaN        NaN\n",
       "state                    IL           PA          MO         CA         NJ\n",
       "status                                                                    \n",
       "subcat                   63           65          65         55         63\n",
       "subcat_ocl               63           65          65        NaN         63\n",
       "subclass              161.4           11         430        354        NaN\n",
       "subclass1             161.4           11         430        354       142S\n",
       "subclass1_ocl           161           11         331          2        142\n",
       "subclass_ocl            161           11         331          2        142\n",
       "term_extension            0            0           0          0          0\n",
       "uspto_assignee       251415       246000       10490          0          0\n",
       "icl_uc            A41D 1900    A47D  701   A47D  702  B63B  708  A43D  900\n",
       "icl_class_uc           A41D         A47D        A47D       B63B       A43D\n",
       "ipc_inter            A41D19        A47D7       A47D7      B63B7      A43D9"
      ]
     },
     "execution_count": 56,
     "metadata": {},
     "output_type": "execute_result"
    }
   ],
   "source": [
    "pat76_06_assg_minus_singular_ipc_inter_df.head().T"
   ]
  },
  {
   "cell_type": "code",
   "execution_count": 57,
   "metadata": {
    "collapsed": false
   },
   "outputs": [
    {
     "name": "stdout",
     "output_type": "stream",
     "text": [
      "12312\n",
      "12312\n"
     ]
    }
   ],
   "source": [
    "# repeat above, but for sample with possible corrupted single ipc_inter values removed (i.e. more than one patent)\n",
    "logx = np.log10(over_one_ipc_inter.index[1:]) \n",
    "logy = np.log10(over_one_ipc_inter.Group_Count[1:]) \n",
    "\n",
    "print(len(logx))\n",
    "print(len(logy))"
   ]
  },
  {
   "cell_type": "code",
   "execution_count": 58,
   "metadata": {
    "collapsed": false
   },
   "outputs": [
    {
     "data": {
      "image/png": "[encoded data removed]",
      "text/plain": [
       "<matplotlib.figure.Figure at 0x1ad3c0dd8>"
      ]
     },
     "metadata": {},
     "output_type": "display_data"
    }
   ],
   "source": [
    "# plot data\n",
    "# very unlike a power-law\n",
    "fig = plt.figure(figsize=(4,4))\n",
    "ax = fig.add_subplot(111)\n",
    "ax.plot(logx,logy,'orange',linewidth=3)\n",
    "ax.set_xlim(0, 4)\n",
    "ax.set_ylim(0, 6)\n",
    "ax.set(title=\"\", xlabel=\"log(rank of ipc_inter)\", ylabel=\"log(number of patents)\")\n",
    "plt.savefig(\"/Users/ahuxor/MSc/Thesis_Project/msc_thesis/Figs/log_rank_ipcinter_log_patents.pdf\", bbox_inches = 'tight')\n",
    "\n",
    "plt.show()"
   ]
  },
  {
   "cell_type": "code",
   "execution_count": 59,
   "metadata": {
    "collapsed": true
   },
   "outputs": [],
   "source": [
    "# now quickly save this edited dataframe with new upper case version and ipc_inter\n",
    "# and with the only one ipc_inter, the possible types\n",
    "\n",
    "pat76_06_assg_minus_singular_ipc_inter_df.to_csv('pat76_06_assg_minus_singular_ipc_inter.csv', index=False)"
   ]
  }
 ],
 "metadata": {
  "kernelspec": {
   "display_name": "Python 3",
   "language": "python",
   "name": "python3"
  },
  "language_info": {
   "codemirror_mode": {
    "name": "ipython",
    "version": 3
   },
   "file_extension": ".py",
   "mimetype": "text/x-python",
   "name": "python",
   "nbconvert_exporter": "python",
   "pygments_lexer": "ipython3",
   "version": "3.4.4"
  }
 },
 "nbformat": 4,
 "nbformat_minor": 0
}
