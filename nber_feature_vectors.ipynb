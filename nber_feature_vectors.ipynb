{
 "cells": [
  {
   "cell_type": "markdown",
   "metadata": {},
   "source": [
    "### nber experiments to get and explore feataure vectors\n",
    "data from see\n",
    "https://sites.google.com/site/patentdataproject/Home/downloads\n"
   ]
  },
  {
   "cell_type": "code",
   "execution_count": 1,
   "metadata": {
    "collapsed": false
   },
   "outputs": [],
   "source": [
    "import pandas as pd\n",
    "import matplotlib.pyplot as plt\n",
    "import numpy as np\n",
    "from scipy.spatial.distance import cosine\n",
    "from matplotlib.colors import LogNorm\n",
    "from sklearn.metrics.pairwise import cosine_similarity\n",
    "from scipy import sparse\n",
    "\n",
    "%matplotlib inline\n",
    "%reload_ext line_profiler\n"
   ]
  },
  {
   "cell_type": "code",
   "execution_count": null,
   "metadata": {
    "collapsed": false
   },
   "outputs": [],
   "source": [
    "!ls -l"
   ]
  },
  {
   "cell_type": "code",
   "execution_count": 2,
   "metadata": {
    "collapsed": false
   },
   "outputs": [
    {
     "name": "stdout",
     "output_type": "stream",
     "text": [
      "CPU times: user 1min 12s, sys: 7.02 s, total: 1min 19s\n",
      "Wall time: 1min 23s\n"
     ]
    }
   ],
   "source": [
    "%%time\n",
    "pat76_06_assg_df = pd.read_stata('pat76_06_assg.dta')\n"
   ]
  },
  {
   "cell_type": "code",
   "execution_count": 3,
   "metadata": {
    "collapsed": false
   },
   "outputs": [
    {
     "data": {
      "text/html": [
       "<div>\n",
       "<table border=\"1\" class=\"dataframe\">\n",
       "  <thead>\n",
       "    <tr style=\"text-align: right;\">\n",
       "      <th></th>\n",
       "      <th>0</th>\n",
       "      <th>1</th>\n",
       "      <th>2</th>\n",
       "      <th>3</th>\n",
       "      <th>4</th>\n",
       "    </tr>\n",
       "  </thead>\n",
       "  <tbody>\n",
       "    <tr>\n",
       "      <th>allcites</th>\n",
       "      <td>6</td>\n",
       "      <td>0</td>\n",
       "      <td>20</td>\n",
       "      <td>4</td>\n",
       "      <td>1</td>\n",
       "    </tr>\n",
       "    <tr>\n",
       "      <th>appyear</th>\n",
       "      <td>1974</td>\n",
       "      <td>1974</td>\n",
       "      <td>1975</td>\n",
       "      <td>1974</td>\n",
       "      <td>1975</td>\n",
       "    </tr>\n",
       "    <tr>\n",
       "      <th>asscode</th>\n",
       "      <td>2</td>\n",
       "      <td>2</td>\n",
       "      <td>2</td>\n",
       "      <td>1</td>\n",
       "      <td>1</td>\n",
       "    </tr>\n",
       "    <tr>\n",
       "      <th>assgnum</th>\n",
       "      <td>1</td>\n",
       "      <td>1</td>\n",
       "      <td>1</td>\n",
       "      <td>NaN</td>\n",
       "      <td>NaN</td>\n",
       "    </tr>\n",
       "    <tr>\n",
       "      <th>cat</th>\n",
       "      <td>6</td>\n",
       "      <td>6</td>\n",
       "      <td>6</td>\n",
       "      <td>5</td>\n",
       "      <td>6</td>\n",
       "    </tr>\n",
       "    <tr>\n",
       "      <th>cat_ocl</th>\n",
       "      <td>6</td>\n",
       "      <td>6</td>\n",
       "      <td>6</td>\n",
       "      <td>NaN</td>\n",
       "      <td>6</td>\n",
       "    </tr>\n",
       "    <tr>\n",
       "      <th>cclass</th>\n",
       "      <td>2/161.4</td>\n",
       "      <td>5/11</td>\n",
       "      <td>5/430</td>\n",
       "      <td>114/354</td>\n",
       "      <td>12/142S</td>\n",
       "    </tr>\n",
       "    <tr>\n",
       "      <th>country</th>\n",
       "      <td>US</td>\n",
       "      <td>US</td>\n",
       "      <td>US</td>\n",
       "      <td></td>\n",
       "      <td></td>\n",
       "    </tr>\n",
       "    <tr>\n",
       "      <th>ddate</th>\n",
       "      <td>NaT</td>\n",
       "      <td>NaT</td>\n",
       "      <td>NaT</td>\n",
       "      <td>NaT</td>\n",
       "      <td>NaT</td>\n",
       "    </tr>\n",
       "    <tr>\n",
       "      <th>gday</th>\n",
       "      <td>6</td>\n",
       "      <td>6</td>\n",
       "      <td>6</td>\n",
       "      <td>6</td>\n",
       "      <td>6</td>\n",
       "    </tr>\n",
       "    <tr>\n",
       "      <th>gmonth</th>\n",
       "      <td>1</td>\n",
       "      <td>1</td>\n",
       "      <td>1</td>\n",
       "      <td>1</td>\n",
       "      <td>1</td>\n",
       "    </tr>\n",
       "    <tr>\n",
       "      <th>gyear</th>\n",
       "      <td>1976</td>\n",
       "      <td>1976</td>\n",
       "      <td>1976</td>\n",
       "      <td>1976</td>\n",
       "      <td>1976</td>\n",
       "    </tr>\n",
       "    <tr>\n",
       "      <th>hjtwt</th>\n",
       "      <td>1</td>\n",
       "      <td>1</td>\n",
       "      <td>1</td>\n",
       "      <td>1</td>\n",
       "      <td>1</td>\n",
       "    </tr>\n",
       "    <tr>\n",
       "      <th>icl</th>\n",
       "      <td>A41D 1900</td>\n",
       "      <td>A47D  701</td>\n",
       "      <td>A47D  702</td>\n",
       "      <td>B63B  708</td>\n",
       "      <td>A43D  900</td>\n",
       "    </tr>\n",
       "    <tr>\n",
       "      <th>icl_class</th>\n",
       "      <td>A41D</td>\n",
       "      <td>A47D</td>\n",
       "      <td>A47D</td>\n",
       "      <td>B63B</td>\n",
       "      <td>A43D</td>\n",
       "    </tr>\n",
       "    <tr>\n",
       "      <th>icl_maingroup</th>\n",
       "      <td>19</td>\n",
       "      <td>7</td>\n",
       "      <td>7</td>\n",
       "      <td>7</td>\n",
       "      <td>9</td>\n",
       "    </tr>\n",
       "    <tr>\n",
       "      <th>iclnum</th>\n",
       "      <td>1</td>\n",
       "      <td>1</td>\n",
       "      <td>1</td>\n",
       "      <td>1</td>\n",
       "      <td>1</td>\n",
       "    </tr>\n",
       "    <tr>\n",
       "      <th>nclaims</th>\n",
       "      <td>4</td>\n",
       "      <td>3</td>\n",
       "      <td>24</td>\n",
       "      <td>7</td>\n",
       "      <td>9</td>\n",
       "    </tr>\n",
       "    <tr>\n",
       "      <th>nclass</th>\n",
       "      <td>2</td>\n",
       "      <td>5</td>\n",
       "      <td>5</td>\n",
       "      <td>114</td>\n",
       "      <td>12</td>\n",
       "    </tr>\n",
       "    <tr>\n",
       "      <th>nclass_ocl</th>\n",
       "      <td>2</td>\n",
       "      <td>5</td>\n",
       "      <td>5</td>\n",
       "      <td>9</td>\n",
       "      <td>12</td>\n",
       "    </tr>\n",
       "    <tr>\n",
       "      <th>patent</th>\n",
       "      <td>3930271</td>\n",
       "      <td>3930272</td>\n",
       "      <td>3930273</td>\n",
       "      <td>3930274</td>\n",
       "      <td>3930275</td>\n",
       "    </tr>\n",
       "    <tr>\n",
       "      <th>pdpass</th>\n",
       "      <td>1.00303e+07</td>\n",
       "      <td>1.01569e+07</td>\n",
       "      <td>1.0112e+07</td>\n",
       "      <td>NaN</td>\n",
       "      <td>NaN</td>\n",
       "    </tr>\n",
       "    <tr>\n",
       "      <th>state</th>\n",
       "      <td>IL</td>\n",
       "      <td>PA</td>\n",
       "      <td>MO</td>\n",
       "      <td>CA</td>\n",
       "      <td>NJ</td>\n",
       "    </tr>\n",
       "    <tr>\n",
       "      <th>status</th>\n",
       "      <td></td>\n",
       "      <td></td>\n",
       "      <td></td>\n",
       "      <td></td>\n",
       "      <td></td>\n",
       "    </tr>\n",
       "    <tr>\n",
       "      <th>subcat</th>\n",
       "      <td>63</td>\n",
       "      <td>65</td>\n",
       "      <td>65</td>\n",
       "      <td>55</td>\n",
       "      <td>63</td>\n",
       "    </tr>\n",
       "    <tr>\n",
       "      <th>subcat_ocl</th>\n",
       "      <td>63</td>\n",
       "      <td>65</td>\n",
       "      <td>65</td>\n",
       "      <td>NaN</td>\n",
       "      <td>63</td>\n",
       "    </tr>\n",
       "    <tr>\n",
       "      <th>subclass</th>\n",
       "      <td>161.4</td>\n",
       "      <td>11</td>\n",
       "      <td>430</td>\n",
       "      <td>354</td>\n",
       "      <td>NaN</td>\n",
       "    </tr>\n",
       "    <tr>\n",
       "      <th>subclass1</th>\n",
       "      <td>161.4</td>\n",
       "      <td>11</td>\n",
       "      <td>430</td>\n",
       "      <td>354</td>\n",
       "      <td>142S</td>\n",
       "    </tr>\n",
       "    <tr>\n",
       "      <th>subclass1_ocl</th>\n",
       "      <td>161</td>\n",
       "      <td>11</td>\n",
       "      <td>331</td>\n",
       "      <td>2</td>\n",
       "      <td>142</td>\n",
       "    </tr>\n",
       "    <tr>\n",
       "      <th>subclass_ocl</th>\n",
       "      <td>161</td>\n",
       "      <td>11</td>\n",
       "      <td>331</td>\n",
       "      <td>2</td>\n",
       "      <td>142</td>\n",
       "    </tr>\n",
       "    <tr>\n",
       "      <th>term_extension</th>\n",
       "      <td>0</td>\n",
       "      <td>0</td>\n",
       "      <td>0</td>\n",
       "      <td>0</td>\n",
       "      <td>0</td>\n",
       "    </tr>\n",
       "    <tr>\n",
       "      <th>uspto_assignee</th>\n",
       "      <td>251415</td>\n",
       "      <td>246000</td>\n",
       "      <td>10490</td>\n",
       "      <td>0</td>\n",
       "      <td>0</td>\n",
       "    </tr>\n",
       "  </tbody>\n",
       "</table>\n",
       "</div>"
      ],
      "text/plain": [
       "                          0            1           2          3          4\n",
       "allcites                  6            0          20          4          1\n",
       "appyear                1974         1974        1975       1974       1975\n",
       "asscode                   2            2           2          1          1\n",
       "assgnum                   1            1           1        NaN        NaN\n",
       "cat                       6            6           6          5          6\n",
       "cat_ocl                   6            6           6        NaN          6\n",
       "cclass              2/161.4         5/11       5/430    114/354    12/142S\n",
       "country                  US           US          US                      \n",
       "ddate                   NaT          NaT         NaT        NaT        NaT\n",
       "gday                      6            6           6          6          6\n",
       "gmonth                    1            1           1          1          1\n",
       "gyear                  1976         1976        1976       1976       1976\n",
       "hjtwt                     1            1           1          1          1\n",
       "icl               A41D 1900    A47D  701   A47D  702  B63B  708  A43D  900\n",
       "icl_class              A41D         A47D        A47D       B63B       A43D\n",
       "icl_maingroup            19            7           7          7          9\n",
       "iclnum                    1            1           1          1          1\n",
       "nclaims                   4            3          24          7          9\n",
       "nclass                    2            5           5        114         12\n",
       "nclass_ocl                2            5           5          9         12\n",
       "patent              3930271      3930272     3930273    3930274    3930275\n",
       "pdpass          1.00303e+07  1.01569e+07  1.0112e+07        NaN        NaN\n",
       "state                    IL           PA          MO         CA         NJ\n",
       "status                                                                    \n",
       "subcat                   63           65          65         55         63\n",
       "subcat_ocl               63           65          65        NaN         63\n",
       "subclass              161.4           11         430        354        NaN\n",
       "subclass1             161.4           11         430        354       142S\n",
       "subclass1_ocl           161           11         331          2        142\n",
       "subclass_ocl            161           11         331          2        142\n",
       "term_extension            0            0           0          0          0\n",
       "uspto_assignee       251415       246000       10490          0          0"
      ]
     },
     "execution_count": 3,
     "metadata": {},
     "output_type": "execute_result"
    }
   ],
   "source": [
    "pat76_06_assg_df.head().T"
   ]
  },
  {
   "cell_type": "code",
   "execution_count": 40,
   "metadata": {
    "collapsed": false
   },
   "outputs": [
    {
     "name": "stdout",
     "output_type": "stream",
     "text": [
      "cites =  [3]\n",
      "claims =  [ 7.]\n"
     ]
    },
    {
     "data": {
      "text/html": [
       "<div>\n",
       "<table border=\"1\" class=\"dataframe\">\n",
       "  <thead>\n",
       "    <tr style=\"text-align: right;\">\n",
       "      <th></th>\n",
       "      <th>204817</th>\n",
       "    </tr>\n",
       "  </thead>\n",
       "  <tbody>\n",
       "    <tr>\n",
       "      <th>allcites</th>\n",
       "      <td>3</td>\n",
       "    </tr>\n",
       "    <tr>\n",
       "      <th>appyear</th>\n",
       "      <td>1977</td>\n",
       "    </tr>\n",
       "    <tr>\n",
       "      <th>asscode</th>\n",
       "      <td>3</td>\n",
       "    </tr>\n",
       "    <tr>\n",
       "      <th>assgnum</th>\n",
       "      <td>1</td>\n",
       "    </tr>\n",
       "    <tr>\n",
       "      <th>cat</th>\n",
       "      <td>6</td>\n",
       "    </tr>\n",
       "    <tr>\n",
       "      <th>cat_ocl</th>\n",
       "      <td>6</td>\n",
       "    </tr>\n",
       "    <tr>\n",
       "      <th>cclass</th>\n",
       "      <td>70/183</td>\n",
       "    </tr>\n",
       "    <tr>\n",
       "      <th>country</th>\n",
       "      <td>JP</td>\n",
       "    </tr>\n",
       "    <tr>\n",
       "      <th>ddate</th>\n",
       "      <td>NaT</td>\n",
       "    </tr>\n",
       "    <tr>\n",
       "      <th>gday</th>\n",
       "      <td>9</td>\n",
       "    </tr>\n",
       "    <tr>\n",
       "      <th>gmonth</th>\n",
       "      <td>1</td>\n",
       "    </tr>\n",
       "    <tr>\n",
       "      <th>gyear</th>\n",
       "      <td>1979</td>\n",
       "    </tr>\n",
       "    <tr>\n",
       "      <th>hjtwt</th>\n",
       "      <td>1.014</td>\n",
       "    </tr>\n",
       "    <tr>\n",
       "      <th>icl</th>\n",
       "      <td>B60R 2504</td>\n",
       "    </tr>\n",
       "    <tr>\n",
       "      <th>icl_class</th>\n",
       "      <td>B60R</td>\n",
       "    </tr>\n",
       "    <tr>\n",
       "      <th>icl_maingroup</th>\n",
       "      <td>25</td>\n",
       "    </tr>\n",
       "    <tr>\n",
       "      <th>iclnum</th>\n",
       "      <td>1</td>\n",
       "    </tr>\n",
       "    <tr>\n",
       "      <th>nclaims</th>\n",
       "      <td>7</td>\n",
       "    </tr>\n",
       "    <tr>\n",
       "      <th>nclass</th>\n",
       "      <td>70</td>\n",
       "    </tr>\n",
       "    <tr>\n",
       "      <th>nclass_ocl</th>\n",
       "      <td>70</td>\n",
       "    </tr>\n",
       "    <tr>\n",
       "      <th>patent</th>\n",
       "      <td>4133193</td>\n",
       "    </tr>\n",
       "    <tr>\n",
       "      <th>pdpass</th>\n",
       "      <td>1.0239e+07</td>\n",
       "    </tr>\n",
       "    <tr>\n",
       "      <th>state</th>\n",
       "      <td></td>\n",
       "    </tr>\n",
       "    <tr>\n",
       "      <th>status</th>\n",
       "      <td></td>\n",
       "    </tr>\n",
       "    <tr>\n",
       "      <th>subcat</th>\n",
       "      <td>65</td>\n",
       "    </tr>\n",
       "    <tr>\n",
       "      <th>subcat_ocl</th>\n",
       "      <td>65</td>\n",
       "    </tr>\n",
       "    <tr>\n",
       "      <th>subclass</th>\n",
       "      <td>183</td>\n",
       "    </tr>\n",
       "    <tr>\n",
       "      <th>subclass1</th>\n",
       "      <td>183</td>\n",
       "    </tr>\n",
       "    <tr>\n",
       "      <th>subclass1_ocl</th>\n",
       "      <td>183</td>\n",
       "    </tr>\n",
       "    <tr>\n",
       "      <th>subclass_ocl</th>\n",
       "      <td>183</td>\n",
       "    </tr>\n",
       "    <tr>\n",
       "      <th>term_extension</th>\n",
       "      <td>0</td>\n",
       "    </tr>\n",
       "    <tr>\n",
       "      <th>uspto_assignee</th>\n",
       "      <td>256400</td>\n",
       "    </tr>\n",
       "  </tbody>\n",
       "</table>\n",
       "</div>"
      ],
      "text/plain": [
       "                    204817\n",
       "allcites                 3\n",
       "appyear               1977\n",
       "asscode                  3\n",
       "assgnum                  1\n",
       "cat                      6\n",
       "cat_ocl                  6\n",
       "cclass              70/183\n",
       "country                 JP\n",
       "ddate                  NaT\n",
       "gday                     9\n",
       "gmonth                   1\n",
       "gyear                 1979\n",
       "hjtwt                1.014\n",
       "icl              B60R 2504\n",
       "icl_class             B60R\n",
       "icl_maingroup           25\n",
       "iclnum                   1\n",
       "nclaims                  7\n",
       "nclass                  70\n",
       "nclass_ocl              70\n",
       "patent             4133193\n",
       "pdpass          1.0239e+07\n",
       "state                     \n",
       "status                    \n",
       "subcat                  65\n",
       "subcat_ocl              65\n",
       "subclass               183\n",
       "subclass1              183\n",
       "subclass1_ocl          183\n",
       "subclass_ocl           183\n",
       "term_extension           0\n",
       "uspto_assignee      256400"
      ]
     },
     "execution_count": 40,
     "metadata": {},
     "output_type": "execute_result"
    }
   ],
   "source": [
    "xx = pat76_06_assg_df[pat76_06_assg_df.patent==4133193]\n",
    "print('cites = ',xx.allcites.values)\n",
    "print('claims = ',xx.nclaims.values)\n",
    "xx.T"
   ]
  },
  {
   "cell_type": "code",
   "execution_count": 18,
   "metadata": {
    "collapsed": false
   },
   "outputs": [
    {
     "data": {
      "text/plain": [
       "<matplotlib.text.Text at 0x183cecd68>"
      ]
     },
     "execution_count": 19,
     "metadata": {},
     "output_type": "execute_result"
    },
    {
     "ename": "KeyboardInterrupt",
     "evalue": "",
     "output_type": "error",
     "traceback": [
      "Traceback (most recent call last):\n",
      "  File \"/Users/ahuxor/anaconda/lib/python3.4/site-packages/ipykernel/ipkernel.py\", line 199, in do_execute\n    shell.run_cell(code, store_history=store_history, silent=silent)\n",
      "  File \"/Users/ahuxor/anaconda/lib/python3.4/site-packages/IPython/core/interactiveshell.py\", line 2729, in run_cell\n    self.events.trigger('post_execute')\n",
      "  File \"/Users/ahuxor/anaconda/lib/python3.4/site-packages/IPython/core/events.py\", line 74, in trigger\n    func(*args, **kwargs)\n",
      "  File \"/Users/ahuxor/anaconda/lib/python3.4/site-packages/ipykernel/pylab/backend_inline.py\", line 113, in flush_figures\n    return show(True)\n",
      "  File \"/Users/ahuxor/anaconda/lib/python3.4/site-packages/ipykernel/pylab/backend_inline.py\", line 36, in show\n    display(figure_manager.canvas.figure)\n",
      "  File \"/Users/ahuxor/anaconda/lib/python3.4/site-packages/IPython/core/display.py\", line 158, in display\n    format_dict, md_dict = format(obj, include=include, exclude=exclude)\n",
      "  File \"/Users/ahuxor/anaconda/lib/python3.4/site-packages/IPython/core/formatters.py\", line 177, in format\n    data = formatter(obj)\n",
      "  File \"<decorator-gen-9>\", line 2, in __call__\n",
      "  File \"/Users/ahuxor/anaconda/lib/python3.4/site-packages/IPython/core/formatters.py\", line 222, in catch_format_error\n    r = method(self, *args, **kwargs)\n",
      "  File \"/Users/ahuxor/anaconda/lib/python3.4/site-packages/IPython/core/formatters.py\", line 339, in __call__\n    return printer(obj)\n",
      "  File \"/Users/ahuxor/anaconda/lib/python3.4/site-packages/IPython/core/pylabtools.py\", line 226, in <lambda>\n    png_formatter.for_type(Figure, lambda fig: print_figure(fig, 'png', **kwargs))\n",
      "  File \"/Users/ahuxor/anaconda/lib/python3.4/site-packages/IPython/core/pylabtools.py\", line 117, in print_figure\n    fig.canvas.print_figure(bytes_io, **kw)\n",
      "  File \"/Users/ahuxor/anaconda/lib/python3.4/site-packages/matplotlib/backend_bases.py\", line 2190, in print_figure\n    bbox = a.get_window_extent(renderer)\n",
      "  File \"/Users/ahuxor/anaconda/lib/python3.4/site-packages/matplotlib/collections.py\", line 214, in get_window_extent\n    return self.get_datalim(transforms.IdentityTransform())\n",
      "  File \"/Users/ahuxor/anaconda/lib/python3.4/site-packages/matplotlib/collections.py\", line 205, in get_datalim\n    offsets, transOffset.frozen())\n",
      "  File \"/Users/ahuxor/anaconda/lib/python3.4/site-packages/matplotlib/path.py\", line 992, in get_path_collection_extents\n    offsets, offset_transform))\n",
      "  File \"/Users/ahuxor/anaconda/lib/python3.4/site-packages/matplotlib/path.py\", line 254, in simplify_threshold\n    @property\n",
      "KeyboardInterrupt\n"
     ]
    }
   ],
   "source": [
    "plt.scatter(pat76_06_assg_df.gyear,pat76_06_assg_df.allcites)\n",
    "plt.xlabel('year')\n",
    "plt.ylabel('all cites')\n",
    "# plt.savefig(\"/Users/ahuxor/MSc/Thesis_Project/msc_thesis/Figs/allcites_year_plot.pdf\", bbox_inches = 'tight')"
   ]
  },
  {
   "cell_type": "code",
   "execution_count": null,
   "metadata": {
    "collapsed": false
   },
   "outputs": [],
   "source": [
    "x = pat76_06_assg_df.allcites.hist(alpha=0.5,bins=100, range=[0,30])\n"
   ]
  },
  {
   "cell_type": "code",
   "execution_count": null,
   "metadata": {
    "collapsed": true
   },
   "outputs": [],
   "source": [
    "# get subset of above with nclaims < threshold and allcites < another threshold\n",
    "zz = pat76_06_assg_df[(pat76_06_assg_df.nclaims < 30) & (pat76_06_assg_df.allcites < 300) ]"
   ]
  },
  {
   "cell_type": "code",
   "execution_count": null,
   "metadata": {
    "collapsed": true
   },
   "outputs": [],
   "source": [
    "#orig_gen_76_06_df_genorig_notnull = orig_gen_76_06_df[(orig_gen_76_06_df.general.notnull())&(orig_gen_76_06_df.orig.notnull())]\n",
    "zz_notnull = zz[(zz.nclaims.notnull()) & (zz.allcites.notnull())]\n"
   ]
  },
  {
   "cell_type": "code",
   "execution_count": null,
   "metadata": {
    "collapsed": false
   },
   "outputs": [],
   "source": [
    "# simple scatter plot has too many points to create a PDF. \n",
    "# need to use a heatmap\n",
    "plt.scatter(zz_notnull.nclaims,zz_notnull.allcites, marker='.')\n",
    "plt.xlabel('Number of Claims')\n",
    "plt.ylabel('Number of all cites')\n",
    "plt.ylim((0,600))\n",
    "plt.xlim((0,30))"
   ]
  },
  {
   "cell_type": "code",
   "execution_count": null,
   "metadata": {
    "collapsed": false
   },
   "outputs": [],
   "source": [
    "# simple scatter plot has too many points to create a PDF. \n",
    "# need to use a heatmap\n",
    "plt.scatter(pat76_06_assg_df.nclaims,pat76_06_assg_df.allcites, marker='.')\n",
    "plt.xlabel('Number of Claims')\n",
    "plt.ylabel('Number of all cites')\n",
    "#plt.ylim((0,150))\n",
    "#plt.xlim((0,100))"
   ]
  },
  {
   "cell_type": "code",
   "execution_count": null,
   "metadata": {
    "collapsed": false
   },
   "outputs": [],
   "source": [
    "plt.hist2d(zz_notnull.nclaims,zz_notnull.allcites, cmap='gist_rainbow',bins=[100,100],norm = LogNorm())\n",
    "cb = plt.colorbar()\n",
    "cb.set_label('Counts per bin')\n"
   ]
  },
  {
   "cell_type": "code",
   "execution_count": null,
   "metadata": {
    "collapsed": false
   },
   "outputs": [],
   "source": [
    "# what is the strange group of outliers at allcites>1100, but only for a few years\n",
    "extra_large_cites = pat76_06_assg_df[pat76_06_assg_df.allcites>1100]\n",
    "print(len(extra_large_cites))\n",
    "extra_large_cites.T"
   ]
  },
  {
   "cell_type": "code",
   "execution_count": null,
   "metadata": {
    "collapsed": false
   },
   "outputs": [],
   "source": [
    "!ls -l"
   ]
  },
  {
   "cell_type": "code",
   "execution_count": null,
   "metadata": {
    "collapsed": false
   },
   "outputs": [],
   "source": [
    "grouped = pat76_06_assg_df.groupby(by='pdpass')\n",
    "grouped_df = pd.DataFrame(grouped.size().reset_index(name = \"Group_Count\"))\n",
    "grouped_df_sorted = grouped_df.sort_values(by='Group_Count', ascending=False)\n",
    "grouped_df_sorted.head()"
   ]
  },
  {
   "cell_type": "code",
   "execution_count": null,
   "metadata": {
    "collapsed": false
   },
   "outputs": [],
   "source": [
    "grouped_df_sorted[(grouped_df_sorted.Group_Count > 100) & (grouped_df_sorted.Group_Count < 200)].head()"
   ]
  },
  {
   "cell_type": "code",
   "execution_count": null,
   "metadata": {
    "collapsed": false
   },
   "outputs": [],
   "source": [
    "%%time\n",
    "# note that %%time has to be above any comments like this\n",
    "# read in main data file in the Strata9 .dta format\n",
    "\n",
    "pat76_06_ipc_df = pd.read_stata('pat76_06_ipc.dta')\n"
   ]
  },
  {
   "cell_type": "code",
   "execution_count": null,
   "metadata": {
    "collapsed": false
   },
   "outputs": [],
   "source": [
    "pat76_06_ipc_df.head().T"
   ]
  },
  {
   "cell_type": "code",
   "execution_count": null,
   "metadata": {
    "collapsed": false
   },
   "outputs": [],
   "source": [
    "pat76_06_ipc_df.groupby(by='patent').count()"
   ]
  },
  {
   "cell_type": "code",
   "execution_count": null,
   "metadata": {
    "collapsed": false
   },
   "outputs": [],
   "source": [
    "\n",
    "# group citation data by \n",
    "grouped_ipc_classes = pat76_06_ipc_df.groupby(by='patent')\n",
    "grouped_ipc_classes_df = pd.DataFrame(grouped_ipc_classes.size().reset_index(name = \"Group_Count\"))\n",
    "grouped_ipc_classes_df_sorted = grouped_ipc_classes_df.sort_values(by='Group_Count', ascending=False)\n",
    "grouped_ipc_classes_df_sorted.head()"
   ]
  },
  {
   "cell_type": "code",
   "execution_count": null,
   "metadata": {
    "collapsed": false
   },
   "outputs": [],
   "source": [
    "pat76_06_ipc_df[pat76_06_ipc_df.patent==6119870]"
   ]
  },
  {
   "cell_type": "code",
   "execution_count": null,
   "metadata": {
    "collapsed": false
   },
   "outputs": [],
   "source": [
    "# note that is some of the above, there are pdpass values which are NaN. These\n",
    "# appear to be for lone inventor/assignee people. Remove these:\n",
    "pat76_06_assg_df_valid_pdpass = pat76_06_assg_df[pat76_06_assg_df.pdpass.notnull()]"
   ]
  },
  {
   "cell_type": "code",
   "execution_count": null,
   "metadata": {
    "collapsed": false
   },
   "outputs": [],
   "source": [
    "%%time\n",
    "unique_assignees = pat76_06_assg_df_valid_pdpass.pdpass.unique()\n",
    "print(len(unique_assignees))\n",
    "unique_assignees.sort()"
   ]
  },
  {
   "cell_type": "code",
   "execution_count": null,
   "metadata": {
    "collapsed": false
   },
   "outputs": [],
   "source": [
    "%%time\n",
    "unique_icl_class = pat76_06_assg_df_valid_pdpass.icl_class.unique()\n",
    "print(len(unique_icl_class))\n"
   ]
  },
  {
   "cell_type": "code",
   "execution_count": null,
   "metadata": {
    "collapsed": false
   },
   "outputs": [],
   "source": [
    "%%time\n",
    "# LOOK at getting coreference for icl_class pairs\n",
    "# first need citation data\n",
    "cite76_06_df = pd.read_stata('cite76_06.dta')\n",
    "\n"
   ]
  },
  {
   "cell_type": "code",
   "execution_count": null,
   "metadata": {
    "collapsed": true
   },
   "outputs": [],
   "source": [
    "# get patent numbers , unique, of cited patents\n",
    "cited_patent_nums = cite76_06_df.cited.unique()"
   ]
  },
  {
   "cell_type": "code",
   "execution_count": null,
   "metadata": {
    "collapsed": false
   },
   "outputs": [],
   "source": [
    "# get some patents class example\n",
    "test_patent = 6119870\n",
    "print('test_patent = ',test_patent)\n",
    "# get all icl_classes in this patent from pat76_06_assg_df.icl_class\n",
    "xx = pat76_06_ipc_df[pat76_06_ipc_df.patent==test_patent]\n",
    "xx.icl_class.unique()"
   ]
  },
  {
   "cell_type": "code",
   "execution_count": null,
   "metadata": {
    "collapsed": false
   },
   "outputs": [],
   "source": [
    "# get patents with more than one icl_class, from iclnum\n",
    "patents_with_morethanone_iclclass = pat76_06_ipc_df[pat76_06_ipc_df.numipc>1]\n",
    "patents_with_morethanone_iclclass.head()"
   ]
  },
  {
   "cell_type": "code",
   "execution_count": null,
   "metadata": {
    "collapsed": false
   },
   "outputs": [],
   "source": [
    "type(patents_with_morethanone_iclclass)"
   ]
  },
  {
   "cell_type": "code",
   "execution_count": null,
   "metadata": {
    "collapsed": false
   },
   "outputs": [],
   "source": [
    "# get some patents class example\n",
    "# redo with new target df\n",
    "test_patent = patents_with_morethanone_iclclass[:1]\n",
    "print('test_patent number = ',test_patent.patent.values)\n",
    "patent_number = test_patent.patent.values\n",
    "# get all icl_classes in this patent from pat76_06_assg_df.icl_class\n",
    "xx = patents_with_morethanone_iclclass[patents_with_morethanone_iclclass.patent.values == patent_number]\n",
    "xx.icl_class"
   ]
  },
  {
   "cell_type": "code",
   "execution_count": null,
   "metadata": {
    "collapsed": false
   },
   "outputs": [],
   "source": [
    "patents_with_morethanone_iclclass.head(10)"
   ]
  },
  {
   "cell_type": "code",
   "execution_count": null,
   "metadata": {
    "collapsed": false
   },
   "outputs": [],
   "source": [
    "# create loop\n",
    "max = 5\n",
    "\n",
    "for n in range(0,max):\n",
    "    test_patent = patents_with_morethanone_iclclass[n:(n+1)]\n",
    "    print('test_patent number = ',test_patent.patent.values)\n",
    "    patent_number = test_patent.patent.values\n",
    "    # get all icl_classes in this patent from pat76_06_assg_df.icl_class\n",
    "    xx = patents_with_morethanone_iclclass[patents_with_morethanone_iclclass.patent.values == patent_number]\n",
    "    print(xx)\n",
    "    "
   ]
  },
  {
   "cell_type": "code",
   "execution_count": null,
   "metadata": {
    "collapsed": false
   },
   "outputs": [],
   "source": [
    "# what is going on with patent 3930285 above?\n",
    "pat76_06_assg_df[pat76_06_assg_df.patent==3939285].T"
   ]
  },
  {
   "cell_type": "markdown",
   "metadata": {
    "collapsed": false
   },
   "source": [
    "%%time\n",
    "# now try and get vectors for each assignee of the number of patents they hols in each icl_class\n",
    "\n",
    "# create final dataframe to hold results, starting with all classes as first column\n",
    "feature_vectors_df = pd.DataFrame({'icl_class' : unique_icl_class})\n",
    "\n",
    "# first get list of (unique) assignees (try first few, first, to test code)\n",
    "test_range = unique_assignees[0:10]\n",
    "# then for each one of them, \n",
    "for assignee in test_range:\n",
    "    # look at all the patents they have\n",
    "    temp = pat76_06_assg_df_valid_pdpass[pat76_06_assg_df_valid_pdpass.pdpass==assignee].icl_class\n",
    "    icl_codes_in_current = temp.values\n",
    "    #  and count instances of these\n",
    "    n = len(unique_icl_class)\n",
    "    icl_codes_per_assignee_vector = [0] * n \n",
    "    for m in range(0,n):\n",
    "        current_icl_class = unique_icl_class[m]\n",
    "        counted = list(icl_codes_in_current).count(current_icl_class)\n",
    "        icl_codes_per_assignee_vector[m] = counted\n",
    "        col_name_used = assignee.astype(str)\n",
    "        feature_vectors_df[col_name_used]=icl_codes_per_assignee_vector\n"
   ]
  },
  {
   "cell_type": "markdown",
   "metadata": {
    "collapsed": false
   },
   "source": [
    "# TRYING TO PROFILE\n",
    "# now try and get vectors for each assignee of the number of patents they hols in each icl_class\n",
    "\n",
    "# create final dataframe to hold results, starting with all classes as first column\n",
    "def fv1(num):\n",
    "    feature_vectors_df = pd.DataFrame({'icl_class' : unique_icl_class})\n",
    "\n",
    "    # first get list of (unique) assignees (try first five first to test code)\n",
    "    test_range = unique_assignees[0:num]\n",
    "    # then for each one of them, \n",
    "    for assignee in test_range:\n",
    "        # look at all the patents they have\n",
    "        temp = pat76_06_assg_df_valid_pdpass[pat76_06_assg_df_valid_pdpass.pdpass==assignee].icl_class\n",
    "        icl_codes_in_current = temp.values\n",
    "        #  and count instances of these\n",
    "        n = len(unique_icl_class)\n",
    "        icl_codes_per_assignee_vector = [0] * n \n",
    "        for m in range(0,n):\n",
    "            current_icl_class = unique_icl_class[m]\n",
    "            counted = list(icl_codes_in_current).count(current_icl_class)\n",
    "            icl_codes_per_assignee_vector[m] = counted\n",
    "            col_name_used = assignee.astype(str)\n",
    "            feature_vectors_df[col_name_used]=icl_codes_per_assignee_vector\n",
    "    return"
   ]
  },
  {
   "cell_type": "markdown",
   "metadata": {
    "collapsed": false
   },
   "source": [
    "# TRYING TO PROFILE\n",
    "# now try and get vectors for each assignee of the number of patents they hols in each icl_class\n",
    "\n",
    "# create final dataframe to hold results, starting with all classes as first column\n",
    "def fv2(num):\n",
    "    feature_vectors_df = pd.DataFrame({'icl_class' : unique_icl_class})\n",
    "\n",
    "    # first get list of (unique) assignees (try first five first to test code)\n",
    "    test_range = unique_assignees[0:num]\n",
    "    # then for each one of them, \n",
    "    for assignee in test_range:\n",
    "        # look at all the patents they have\n",
    "        temp = pat76_06_assg_df_valid_pdpass[pat76_06_assg_df_valid_pdpass.pdpass==assignee].icl_class\n",
    "        icl_codes_in_current = temp.values\n",
    "        #  and count instances of these\n",
    "        n = len(unique_icl_class)\n",
    "        icl_codes_per_assignee_vector = [0] * n \n",
    "        for m in range(0,n):\n",
    "            current_icl_class = unique_icl_class[m]\n",
    "            counted = list(icl_codes_in_current).count(current_icl_class)\n",
    "            icl_codes_per_assignee_vector[m] = counted\n",
    "            col_name_used = assignee.astype(str)\n",
    "            # create new df from icl_codes_per_assignee_vector\n",
    "            temp_df = pd.DataFrame(icl_codes_per_assignee_vector)\n",
    "            temp_df.columns = [col_name_used]\n",
    "            feature_vectors_df = feature_vectors_df#.join(temp_df)\n",
    "    return"
   ]
  },
  {
   "cell_type": "code",
   "execution_count": null,
   "metadata": {
    "collapsed": true
   },
   "outputs": [],
   "source": [
    "# create list for unique_icl_class, rather than numpy array\n",
    "unique_icl_class_list = unique_icl_class.tolist()"
   ]
  },
  {
   "cell_type": "code",
   "execution_count": null,
   "metadata": {
    "collapsed": true
   },
   "outputs": [],
   "source": [
    "feature_vectors_df = pd.DataFrame({'icl_class' : unique_icl_class})\n"
   ]
  },
  {
   "cell_type": "code",
   "execution_count": null,
   "metadata": {
    "collapsed": false
   },
   "outputs": [],
   "source": [
    "# TRYING TO PROFILE\n",
    "# TRY TO ONLY USE LISTS, TO THE VERY END\n",
    "# now try and get vectors for each assignee of the number of patents they hold in each icl_class\n",
    "\n",
    "# create final dataframe to hold results, starting with all classes as first column\n",
    "# num = number of patents to look at\n",
    "def get_patent_class_counts_for_assignees(num):\n",
    "    feature_vectors_listoflist =[]\n",
    "    # first get list of (unique) assignees (try first five first to test code)\n",
    "    range_of_assignees = unique_assignees[0:num]\n",
    "    # then for each one of them, \n",
    "    for assignee in range_of_assignees:\n",
    "        # look at all the patent classes each assignee has\n",
    "        temp = pat76_06_assg_df_valid_pdpass[pat76_06_assg_df_valid_pdpass.pdpass==assignee].icl_class\n",
    "        icl_codes_in_current_list = list(temp.values)\n",
    "        #  and count instances of these if multiple instances of any \n",
    "        n = len(unique_icl_class)\n",
    "        icl_codes_per_assignee_list = []\n",
    "        for m in range(0,n):\n",
    "            current_icl_class = unique_icl_class_list[m]\n",
    "            counted = icl_codes_in_current_list.count(current_icl_class)\n",
    "            icl_codes_per_assignee_list.append(counted)\n",
    "            col_name_used = assignee.astype(str)\n",
    "        #feature_vectors_df[col_name_used]=icl_codes_per_assignee_vector\n",
    "        feature_vectors_listoflist.append((icl_codes_per_assignee_list))\n",
    "    return(feature_vectors_listoflist)"
   ]
  },
  {
   "cell_type": "code",
   "execution_count": null,
   "metadata": {
    "collapsed": false
   },
   "outputs": [],
   "source": [
    "j=10\n",
    "%lprun -f get_patent_class_counts_for_assignees xx= get_patent_class_counts_for_assignees(j)\n",
    "patent_class_counts_for_assignees = get_patent_class_counts_for_assignees(j)"
   ]
  },
  {
   "cell_type": "code",
   "execution_count": null,
   "metadata": {
    "collapsed": false
   },
   "outputs": [],
   "source": [
    "%%time\n",
    "j=100\n",
    "patent_class_counts_for_assignees = get_patent_class_counts_for_assignees(j)"
   ]
  },
  {
   "cell_type": "code",
   "execution_count": null,
   "metadata": {
    "collapsed": false
   },
   "outputs": [],
   "source": [
    "print('length test_out = ', len(patent_class_counts_for_assignees))\n",
    "inside=patent_class_counts_for_assignees[0]\n",
    "print('length x = ', len(patent_class_counts_for_assignees))\n",
    "\n"
   ]
  },
  {
   "cell_type": "code",
   "execution_count": null,
   "metadata": {
    "collapsed": false
   },
   "outputs": [],
   "source": [
    "%%time\n",
    "patent_class_counts_for_assignees_df = pd.DataFrame(patent_class_counts_for_assignees)"
   ]
  },
  {
   "cell_type": "code",
   "execution_count": null,
   "metadata": {
    "collapsed": false
   },
   "outputs": [],
   "source": [
    "patent_class_counts_for_assignees_df.head()"
   ]
  },
  {
   "cell_type": "code",
   "execution_count": null,
   "metadata": {
    "collapsed": false
   },
   "outputs": [],
   "source": [
    "unique_icl_class_list[0:5]"
   ]
  },
  {
   "cell_type": "code",
   "execution_count": null,
   "metadata": {
    "collapsed": true
   },
   "outputs": [],
   "source": [
    "# add column names to df from icl_class names\n",
    "# first sort unique_icl_class_list to reflect meaningful-ness of icl_class codes hierarchy\n",
    "unique_icl_class_list.sort()\n",
    "patent_class_counts_for_assignees_df.columns = unique_icl_class_list"
   ]
  },
  {
   "cell_type": "code",
   "execution_count": null,
   "metadata": {
    "collapsed": false
   },
   "outputs": [],
   "source": [
    "patent_class_counts_for_assignees_df.head()"
   ]
  },
  {
   "cell_type": "code",
   "execution_count": null,
   "metadata": {
    "collapsed": false
   },
   "outputs": [],
   "source": [
    "# add assignee numbers as index \n",
    "# first get required number (function of j, remember), then convert to integer\n",
    "assignees_for_index = unique_assignees[:len(patent_class_counts_for_assignees_df)].astype(int)\n",
    "assignees_for_index\n",
    "\n",
    "indexed_patent_class_counts_for_assignees_df = patent_class_counts_for_assignees_df.set_index(assignees_for_index)\n",
    "indexed_patent_class_counts_for_assignees_df.head()"
   ]
  },
  {
   "cell_type": "markdown",
   "metadata": {
    "collapsed": false
   },
   "source": [
    "temp_df = pd.DataFrame(icl_codes_per_assignee_vector)\n",
    "temp_df.columns = ['test']\n",
    "temp_df\n",
    "test1 = feature_vectors_df.join(temp_df)\n",
    "test1.head()"
   ]
  },
  {
   "cell_type": "markdown",
   "metadata": {
    "collapsed": false
   },
   "source": [
    "assignee_array = feature_vectors_df.columns.values\n",
    "assignee_array[1]\n"
   ]
  },
  {
   "cell_type": "code",
   "execution_count": null,
   "metadata": {
    "collapsed": false
   },
   "outputs": [],
   "source": [
    "assignee_list = list(indexed_patent_class_counts_for_assignees_df.index.values)\n",
    "assignee_list[:5]"
   ]
  },
  {
   "cell_type": "code",
   "execution_count": null,
   "metadata": {
    "collapsed": false
   },
   "outputs": [],
   "source": [
    "# test of getting row from assignee number\n",
    "indexed_patent_class_counts_for_assignees_df.loc[10030276].head(9)"
   ]
  },
  {
   "cell_type": "code",
   "execution_count": null,
   "metadata": {
    "collapsed": false
   },
   "outputs": [],
   "source": [
    "def cos_sim_matrix_from_patent_class_counts(num):\n",
    "    # go through each column header and compare it to the first by cosine similarity\n",
    "    # NOTE: does not like NaN, so cleared these out earlier\n",
    "\n",
    "    # set number of assignees to work with\n",
    "    pnum = num\n",
    "    # create a matrix to hold results\n",
    "    cos_ang_mat = np.zeros((pnum,pnum))\n",
    "    for i in range(1,pnum):\n",
    "        tempi = assignee_list[i]\n",
    "        for j in range(1,pnum):\n",
    "            tempj = assignee_list[j]\n",
    "            cos_similarity = 1-cosine(indexed_patent_class_counts_for_assignees_df.loc[tempi], indexed_patent_class_counts_for_assignees_df.loc[tempj])\n",
    "            cos_ang_mat[i,j] = cos_similarity\n",
    "            # print(cos_similarity)\n",
    "            if (cos_similarity>0.9) & (tempi!=tempj):\n",
    "                print('close for ',tempi,tempj,' with cos_ang = ',cos_similarity)\n",
    "    return(cos_ang_mat)"
   ]
  },
  {
   "cell_type": "code",
   "execution_count": null,
   "metadata": {
    "collapsed": false
   },
   "outputs": [],
   "source": [
    "%%time\n",
    "cos_ang_mat = cos_sim_matrix_from_patent_class_counts(100)\n"
   ]
  },
  {
   "cell_type": "code",
   "execution_count": null,
   "metadata": {
    "collapsed": false
   },
   "outputs": [],
   "source": [
    "# patent_class_counts_for_assignees is a list (of lists?)\n",
    "type(patent_class_counts_for_assignees)\n",
    "# convert to np.array\n",
    "patent_class_counts_for_assignees_array =  np.array(patent_class_counts_for_assignees)"
   ]
  },
  {
   "cell_type": "code",
   "execution_count": null,
   "metadata": {
    "collapsed": false
   },
   "outputs": [],
   "source": [
    "%%time\n",
    "\n",
    "A = patent_class_counts_for_assignees_array\n",
    "A_sparse = sparse.csr_matrix(A)\n",
    "\n",
    "similarities = cosine_similarity(A_sparse)\n",
    "print('pairwise dense output:\\n {}\\n'.format(similarities))\n",
    "\n",
    "#also can output sparse matrices\n",
    "similarities_sparse = cosine_similarity(A_sparse,dense_output=False)\n",
    "print('pairwise sparse output:\\n {}\\n'.format(similarities_sparse))"
   ]
  },
  {
   "cell_type": "code",
   "execution_count": null,
   "metadata": {
    "collapsed": false
   },
   "outputs": [],
   "source": [
    "type(similarities_sparse)\n",
    "\n",
    "Ks = similarities_sparse\n",
    "value = Ks.data\n",
    "column_index = Ks.indices\n",
    "row_pointers = Ks.indptr"
   ]
  },
  {
   "cell_type": "code",
   "execution_count": null,
   "metadata": {
    "collapsed": false
   },
   "outputs": [],
   "source": [
    "# get row/column and values for nonzero values\n",
    "print(Ks.nonzero()[0])\n",
    "print(Ks.nonzero()[1])\n",
    "print(Ks.data)"
   ]
  },
  {
   "cell_type": "code",
   "execution_count": null,
   "metadata": {
    "collapsed": false
   },
   "outputs": [],
   "source": [
    "%%time\n",
    "# read is assignee names datafile\n",
    "# note that using dta file partly as the asc file has some formatting error asscoiated.\n",
    "assignee_names = pd.read_stata('assignee.dta')\n",
    "\n"
   ]
  },
  {
   "cell_type": "code",
   "execution_count": null,
   "metadata": {
    "collapsed": false
   },
   "outputs": [],
   "source": [
    "assignee_names.head()"
   ]
  },
  {
   "cell_type": "code",
   "execution_count": null,
   "metadata": {
    "collapsed": false
   },
   "outputs": [],
   "source": [
    "print(assignee_names[assignee_names.pdpass==10446448].standard_name)\n"
   ]
  },
  {
   "cell_type": "code",
   "execution_count": null,
   "metadata": {
    "collapsed": false
   },
   "outputs": [],
   "source": [
    "patent_1 = Ks.nonzero()[0]\n",
    "patent_2 = Ks.nonzero()[1]\n",
    "a_cos_ang = Ks.data\n",
    "\n",
    "for n in range(0,2100):\n",
    "    assignee_1 = patent_1[n]\n",
    "    assignee_2 = patent_2[n]\n",
    "    if (assignee_1 != assignee_2) & (a_cos_ang[n]>0.9):\n",
    "        print('not same assignee')\n",
    "        print(a_cos_ang[n])\n",
    "        assignee_1_name = unique_assignees[assignee_1]\n",
    "        assignee_2_name = unique_assignees[assignee_2]\n",
    "        print(assignee_names[assignee_names.pdpass==assignee_1_name].standard_name)\n",
    "        print(assignee_names[assignee_names.pdpass==assignee_2_name].standard_name)\n",
    "    print('----')"
   ]
  },
  {
   "cell_type": "code",
   "execution_count": null,
   "metadata": {
    "collapsed": false
   },
   "outputs": [],
   "source": [
    "unique_assignees"
   ]
  },
  {
   "cell_type": "code",
   "execution_count": null,
   "metadata": {
    "collapsed": false
   },
   "outputs": [],
   "source": [
    "patent_ids = feature_vectors_df.columns.values[1:]\n",
    "patent_ids"
   ]
  },
  {
   "cell_type": "code",
   "execution_count": null,
   "metadata": {
    "collapsed": false
   },
   "outputs": [],
   "source": [
    "cos_ang_mat_df = pd.DataFrame(cos_ang_mat)\n",
    "cos_ang_mat_df.columns = patent_ids\n",
    "cos_ang_mat_df.set_index(patent_ids, inplace=True)\n",
    "cos_ang_mat_df"
   ]
  },
  {
   "cell_type": "markdown",
   "metadata": {
    "collapsed": false
   },
   "source": [
    "# go through each column header and compare it to the first by cosine similarity\n",
    "# NOTE: does not like NaN, so clear these out - if not useful\n",
    "\n",
    "# set number of assignees to work with\n",
    "pnum = 10\n",
    "# create a matrix to hold results\n",
    "cos_ang_mat = np.zeros((pnum,pnum))\n",
    "for i in range(1,pnum):\n",
    "    tempi = assignee_array[i]\n",
    "    for j in range(1,pnum):\n",
    "        tempj = assignee_array[j]\n",
    "        cos_similarity = 1-cosine(feature_vectors_df[tempi], feature_vectors_df[tempj])\n",
    "        cos_ang_mat[i,j] = cos_similarity\n",
    "        # print(cos_sim)\n",
    "        if (cos_similarity>0.95) & (tempi!=tempj):\n",
    "            print('close for ',tempi,tempj,' with cos_ang = ',cos_similarity)\n"
   ]
  },
  {
   "cell_type": "code",
   "execution_count": null,
   "metadata": {
    "collapsed": false
   },
   "outputs": [],
   "source": [
    "feature_vectors_df.head()"
   ]
  },
  {
   "cell_type": "code",
   "execution_count": null,
   "metadata": {
    "collapsed": false
   },
   "outputs": [],
   "source": [
    "# how many zeros in, say, the first patent column\n",
    "\n",
    "yy = feature_vectors_df['10156902.0'].values\n",
    "num_nonzeros = np.count_nonzero(yy)\n",
    "num_zeros = len(yy) - num_nonzeros\n",
    "print('length of array = ', len(yy))\n",
    "print('number of zeros = ', num_zeros)\n",
    "print('number of nonzeros [icl classes] = ', num_nonzeros)"
   ]
  },
  {
   "cell_type": "code",
   "execution_count": null,
   "metadata": {
    "collapsed": true
   },
   "outputs": [],
   "source": []
  },
  {
   "cell_type": "code",
   "execution_count": null,
   "metadata": {
    "collapsed": false
   },
   "outputs": [],
   "source": [
    "# these two assignees have a cos-ang, see above, of 0.972\n",
    "print(assignee_names[assignee_names.pdpass==11073260])\n",
    "print(assignee_names[assignee_names.pdpass==10140808])\n",
    "# could these basically all be an array of zeros?!\n",
    "# no - see cell below"
   ]
  },
  {
   "cell_type": "code",
   "execution_count": null,
   "metadata": {
    "collapsed": false
   },
   "outputs": [],
   "source": [
    "# these two assignees have a cos-ang, see above, of 0.9906\n",
    "print(assignee_names[assignee_names.pdpass==10780383])\n",
    "print('-----')\n",
    "print(assignee_names[assignee_names.pdpass==10401313])\n"
   ]
  },
  {
   "cell_type": "code",
   "execution_count": null,
   "metadata": {
    "collapsed": false
   },
   "outputs": [],
   "source": [
    "# these two assignees have a cos-ang, see above, of 0.9886\n",
    "print(assignee_names[assignee_names.pdpass==10109257])\n",
    "print(assignee_names[assignee_names.pdpass==10198901])\n"
   ]
  },
  {
   "cell_type": "code",
   "execution_count": null,
   "metadata": {
    "collapsed": false
   },
   "outputs": [],
   "source": [
    "# these two assignees have a cos-ang, of 1.0\n",
    "print(assignee_names[assignee_names.pdpass==10030357])\n",
    "print(assignee_names[assignee_names.pdpass==10030383])\n",
    "# could these basically all be an array of zeros?!\n"
   ]
  },
  {
   "cell_type": "code",
   "execution_count": null,
   "metadata": {
    "collapsed": false
   },
   "outputs": [],
   "source": [
    "feature_vectors_df.head()"
   ]
  },
  {
   "cell_type": "code",
   "execution_count": null,
   "metadata": {
    "collapsed": false
   },
   "outputs": [],
   "source": [
    "# get patents for specific assignee\n",
    "x = pat76_06_assg_df_valid_pdpass[pat76_06_assg_df_valid_pdpass.pdpass ==10868281.0]\n",
    "x.T"
   ]
  },
  {
   "cell_type": "code",
   "execution_count": null,
   "metadata": {
    "collapsed": true
   },
   "outputs": [],
   "source": [
    "import networkx as nx\n",
    "from networkx.algorithms import bipartite"
   ]
  },
  {
   "cell_type": "code",
   "execution_count": null,
   "metadata": {
    "collapsed": false
   },
   "outputs": [],
   "source": [
    "feature_vectors_df.head()"
   ]
  },
  {
   "cell_type": "code",
   "execution_count": null,
   "metadata": {
    "collapsed": false
   },
   "outputs": [],
   "source": [
    "new_index = feature_vectors_df.icl_class.values\n",
    "feature_vectors_df_v2 = feature_vectors_df.reindex(new_index)\n",
    "feature_vectors_df_v3 = feature_vectors_df_v2.drop('icl_class',axis=1)\n",
    "feature_vectors_df_v3.head()"
   ]
  },
  {
   "cell_type": "code",
   "execution_count": null,
   "metadata": {
    "collapsed": false
   },
   "outputs": [],
   "source": [
    "import scipy\n",
    "# scipy.sparse.csr_matrix(df.values)\n",
    "Z = scipy.sparse.csr_matrix(feature_vectors_df_v3.values)\n",
    "Z"
   ]
  },
  {
   "cell_type": "code",
   "execution_count": null,
   "metadata": {
    "collapsed": true
   },
   "outputs": [],
   "source": [
    "B = nx.Graph()\n",
    "B.add_nodes_from([1,2,3,4], bipartite=0) # Add the node attribute \"bipartite\"\n",
    "B.add_nodes_from(['a','b','c'], bipartite=1)\n",
    "B.add_edges_from([(1,'a'), (1,'b'), (2,'b'), (2,'c'), (3,'c'), (4,'a')])"
   ]
  },
  {
   "cell_type": "code",
   "execution_count": null,
   "metadata": {
    "collapsed": false
   },
   "outputs": [],
   "source": [
    "XX = nx.bipartite.from_biadjacency_matrix(Z)"
   ]
  },
  {
   "cell_type": "code",
   "execution_count": null,
   "metadata": {
    "collapsed": false
   },
   "outputs": [],
   "source": [
    "nx.bipartite.betweenness_centrality(XX,[1,2])"
   ]
  },
  {
   "cell_type": "code",
   "execution_count": null,
   "metadata": {
    "collapsed": false
   },
   "outputs": [],
   "source": [
    "nx.draw(B)"
   ]
  },
  {
   "cell_type": "code",
   "execution_count": null,
   "metadata": {
    "collapsed": false
   },
   "outputs": [],
   "source": [
    "!sysctl hw.ncpu"
   ]
  },
  {
   "cell_type": "markdown",
   "metadata": {
    "collapsed": true
   },
   "source": [
    "## USE CASE STUDY WITH A FIRM\n",
    "Was going to use Volkswagen, but found from a string search that there are 5 different assignee numbers for it (cleanup not complete).\n",
    "Similar for Hewlett Packard.\n"
   ]
  },
  {
   "cell_type": "code",
   "execution_count": null,
   "metadata": {
    "collapsed": false
   },
   "outputs": [],
   "source": [
    "# need to find a way to get a mid-sized firm that is not too messed up in the assignee names\n",
    "# e.g. fome cell above on 100-200 patent firms, 12362179\n",
    "print(assignee_names[assignee_names.pdpass==10585143].standard_name)\n",
    "\n"
   ]
  },
  {
   "cell_type": "code",
   "execution_count": null,
   "metadata": {
    "collapsed": true
   },
   "outputs": [],
   "source": [
    "# experiment with specific firm as case study\n",
    "\n",
    "firm = 'TOSHIBA CERAMICS'\n",
    "# get assignee number for this firm"
   ]
  },
  {
   "cell_type": "code",
   "execution_count": null,
   "metadata": {
    "collapsed": false
   },
   "outputs": [],
   "source": [
    "assignee_names.head()"
   ]
  },
  {
   "cell_type": "code",
   "execution_count": null,
   "metadata": {
    "collapsed": false
   },
   "outputs": [],
   "source": [
    "# get assignee number for this firm\n",
    "test_assignee = assignee_names[assignee_names['standard_name'].str.contains(firm)].pdpass\n",
    "test_assignee_num = test_assignee.unique()[0]\n",
    "test_assignee_num"
   ]
  },
  {
   "cell_type": "code",
   "execution_count": null,
   "metadata": {
    "collapsed": false
   },
   "outputs": [],
   "source": [
    "# get all patents assigned to this firm\n",
    "firm_patents = pat76_06_assg_df_valid_pdpass[pat76_06_assg_df_valid_pdpass.pdpass==test_assignee_num]\n",
    "firm_icl_classes = firm_patents.icl_class.unique()\n",
    "firm_icl_classes"
   ]
  },
  {
   "cell_type": "code",
   "execution_count": null,
   "metadata": {
    "collapsed": true
   },
   "outputs": [],
   "source": []
  }
 ],
 "metadata": {
  "kernelspec": {
   "display_name": "Python 3",
   "language": "python",
   "name": "python3"
  },
  "language_info": {
   "codemirror_mode": {
    "name": "ipython",
    "version": 3
   },
   "file_extension": ".py",
   "mimetype": "text/x-python",
   "name": "python",
   "nbconvert_exporter": "python",
   "pygments_lexer": "ipython3",
   "version": "3.4.4"
  }
 },
 "nbformat": 4,
 "nbformat_minor": 0
}
