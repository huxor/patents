{
 "cells": [
  {
   "cell_type": "markdown",
   "metadata": {},
   "source": [
    "#### code to create pat76_06_citesnum_hjtwt_nclaims_patent.csv\n",
    "Needed to have three possibly useful columns for use later"
   ]
  },
  {
   "cell_type": "code",
   "execution_count": 2,
   "metadata": {
    "collapsed": true
   },
   "outputs": [],
   "source": [
    "import pandas as pd"
   ]
  },
  {
   "cell_type": "code",
   "execution_count": 3,
   "metadata": {
    "collapsed": true
   },
   "outputs": [],
   "source": [
    "# load basic input file\n",
    "pat76_06_assg_df = pd.read_stata('pat76_06_assg.dta')\n"
   ]
  },
  {
   "cell_type": "code",
   "execution_count": 4,
   "metadata": {
    "collapsed": false
   },
   "outputs": [],
   "source": [
    "# create dataset from pat76_06_assg_df that only has the three\n",
    "# important columns, that may be needed\n",
    "pat76_06_citesnum_hjtwt_nclaims_patent = pat76_06_assg_df[['patent','allcites', 'hjtwt', 'nclaims']].copy()\n",
    "# now remove duplicates of each patent number\n",
    "pat76_06_citesnum_hjtwt_nclaims_patent.drop_duplicates(subset='patent',keep='first')\n",
    "pat76_06_citesnum_hjtwt_nclaims_patent.head()\n",
    "# write this to a datafile\n",
    "pat76_06_citesnum_hjtwt_nclaims_patent.to_csv('pat76_06_citesnum_hjtwt_nclaims_patent.csv', index=False)"
   ]
  },
  {
   "cell_type": "code",
   "execution_count": null,
   "metadata": {
    "collapsed": true
   },
   "outputs": [],
   "source": []
  }
 ],
 "metadata": {
  "kernelspec": {
   "display_name": "Python 3",
   "language": "python",
   "name": "python3"
  },
  "language_info": {
   "codemirror_mode": {
    "name": "ipython",
    "version": 3
   },
   "file_extension": ".py",
   "mimetype": "text/x-python",
   "name": "python",
   "nbconvert_exporter": "python",
   "pygments_lexer": "ipython3",
   "version": "3.4.4"
  }
 },
 "nbformat": 4,
 "nbformat_minor": 0
}
