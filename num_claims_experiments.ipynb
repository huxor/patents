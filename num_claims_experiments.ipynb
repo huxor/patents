{
 "cells": [
  {
   "cell_type": "markdown",
   "metadata": {},
   "source": [
    "#### Experiments with number of claims as a measure of patent value"
   ]
  },
  {
   "cell_type": "code",
   "execution_count": 8,
   "metadata": {
    "collapsed": true
   },
   "outputs": [],
   "source": [
    "import pandas as pd\n",
    "import matplotlib.pyplot as plt\n",
    "\n",
    "%matplotlib inline\n",
    "\n"
   ]
  },
  {
   "cell_type": "code",
   "execution_count": 3,
   "metadata": {
    "collapsed": true
   },
   "outputs": [],
   "source": [
    "# read in file\n",
    "pat76_06_citesnum_hjtwt_nclaims_patent = pd.read_csv('pat76_06_citesnum_hjtwt_nclaims_patent.csv')"
   ]
  },
  {
   "cell_type": "code",
   "execution_count": 12,
   "metadata": {
    "collapsed": false
   },
   "outputs": [
    {
     "name": "stdout",
     "output_type": "stream",
     "text": [
      "   Unnamed: 0   patent  allcites  hjtwt  nclaims\n",
      "0           0  3930271         6    1.0      4.0\n",
      "1           1  3930272         0    1.0      3.0\n",
      "2           2  3930273        20    1.0     24.0\n",
      "3           3  3930274         4    1.0      7.0\n",
      "4           4  3930275         1    1.0      9.0\n"
     ]
    },
    {
     "data": {
      "text/html": [
       "<div>\n",
       "<table border=\"1\" class=\"dataframe\">\n",
       "  <thead>\n",
       "    <tr style=\"text-align: right;\">\n",
       "      <th></th>\n",
       "      <th>Unnamed: 0</th>\n",
       "      <th>patent</th>\n",
       "      <th>allcites</th>\n",
       "      <th>hjtwt</th>\n",
       "      <th>nclaims</th>\n",
       "    </tr>\n",
       "  </thead>\n",
       "  <tbody>\n",
       "    <tr>\n",
       "      <th>count</th>\n",
       "      <td>3.279509e+06</td>\n",
       "      <td>3.279509e+06</td>\n",
       "      <td>3.279509e+06</td>\n",
       "      <td>3.278174e+06</td>\n",
       "      <td>3.279499e+06</td>\n",
       "    </tr>\n",
       "    <tr>\n",
       "      <th>mean</th>\n",
       "      <td>1.639754e+06</td>\n",
       "      <td>5.546964e+06</td>\n",
       "      <td>7.343411e+00</td>\n",
       "      <td>4.505871e+00</td>\n",
       "      <td>1.439351e+01</td>\n",
       "    </tr>\n",
       "    <tr>\n",
       "      <th>std</th>\n",
       "      <td>9.467128e+05</td>\n",
       "      <td>9.313492e+05</td>\n",
       "      <td>1.321949e+01</td>\n",
       "      <td>7.910069e+00</td>\n",
       "      <td>1.253491e+01</td>\n",
       "    </tr>\n",
       "    <tr>\n",
       "      <th>min</th>\n",
       "      <td>0.000000e+00</td>\n",
       "      <td>3.930271e+06</td>\n",
       "      <td>0.000000e+00</td>\n",
       "      <td>1.000000e+00</td>\n",
       "      <td>1.000000e+00</td>\n",
       "    </tr>\n",
       "    <tr>\n",
       "      <th>25%</th>\n",
       "      <td>8.198770e+05</td>\n",
       "      <td>4.740673e+06</td>\n",
       "      <td>1.000000e+00</td>\n",
       "      <td>1.127900e+00</td>\n",
       "      <td>6.000000e+00</td>\n",
       "    </tr>\n",
       "    <tr>\n",
       "      <th>50%</th>\n",
       "      <td>1.639754e+06</td>\n",
       "      <td>5.548073e+06</td>\n",
       "      <td>3.000000e+00</td>\n",
       "      <td>1.599500e+00</td>\n",
       "      <td>1.100000e+01</td>\n",
       "    </tr>\n",
       "    <tr>\n",
       "      <th>75%</th>\n",
       "      <td>2.459631e+06</td>\n",
       "      <td>6.354474e+06</td>\n",
       "      <td>9.000000e+00</td>\n",
       "      <td>3.655600e+00</td>\n",
       "      <td>1.900000e+01</td>\n",
       "    </tr>\n",
       "    <tr>\n",
       "      <th>max</th>\n",
       "      <td>3.279508e+06</td>\n",
       "      <td>7.155745e+06</td>\n",
       "      <td>1.804000e+03</td>\n",
       "      <td>3.617150e+01</td>\n",
       "      <td>8.870000e+02</td>\n",
       "    </tr>\n",
       "  </tbody>\n",
       "</table>\n",
       "</div>"
      ],
      "text/plain": [
       "         Unnamed: 0        patent      allcites         hjtwt       nclaims\n",
       "count  3.279509e+06  3.279509e+06  3.279509e+06  3.278174e+06  3.279499e+06\n",
       "mean   1.639754e+06  5.546964e+06  7.343411e+00  4.505871e+00  1.439351e+01\n",
       "std    9.467128e+05  9.313492e+05  1.321949e+01  7.910069e+00  1.253491e+01\n",
       "min    0.000000e+00  3.930271e+06  0.000000e+00  1.000000e+00  1.000000e+00\n",
       "25%    8.198770e+05  4.740673e+06  1.000000e+00  1.127900e+00  6.000000e+00\n",
       "50%    1.639754e+06  5.548073e+06  3.000000e+00  1.599500e+00  1.100000e+01\n",
       "75%    2.459631e+06  6.354474e+06  9.000000e+00  3.655600e+00  1.900000e+01\n",
       "max    3.279508e+06  7.155745e+06  1.804000e+03  3.617150e+01  8.870000e+02"
      ]
     },
     "execution_count": 12,
     "metadata": {},
     "output_type": "execute_result"
    }
   ],
   "source": [
    "print(pat76_06_citesnum_hjtwt_nclaims_patent.head())\n",
    "pat76_06_citesnum_hjtwt_nclaims_patent.describe()"
   ]
  },
  {
   "cell_type": "code",
   "execution_count": 14,
   "metadata": {
    "collapsed": false
   },
   "outputs": [
    {
     "data": {
      "text/plain": [
       "<matplotlib.collections.PathCollection at 0x1157ed2e8>"
      ]
     },
     "execution_count": 14,
     "metadata": {},
     "output_type": "execute_result"
    },
    {
     "data": {
      "image/png": "[encoded data removed]",
      "text/plain": [
       "<matplotlib.figure.Figure at 0x112d435c0>"
      ]
     },
     "metadata": {},
     "output_type": "display_data"
    }
   ],
   "source": [
    "plt.scatter(pat76_06_citesnum_hjtwt_nclaims_patent.allcites,pat76_06_citesnum_hjtwt_nclaims_patent.nclaims)"
   ]
  },
  {
   "cell_type": "code",
   "execution_count": null,
   "metadata": {
    "collapsed": true
   },
   "outputs": [],
   "source": []
  }
 ],
 "metadata": {
  "kernelspec": {
   "display_name": "Python 3",
   "language": "python",
   "name": "python3"
  },
  "language_info": {
   "codemirror_mode": {
    "name": "ipython",
    "version": 3
   },
   "file_extension": ".py",
   "mimetype": "text/x-python",
   "name": "python",
   "nbconvert_exporter": "python",
   "pygments_lexer": "ipython3",
   "version": "3.4.4"
  }
 },
 "nbformat": 4,
 "nbformat_minor": 0
}
