{
 "cells": [
  {
   "cell_type": "markdown",
   "metadata": {},
   "source": [
    "### nber experiments\n",
    "see\n",
    "https://sites.google.com/site/patentdataproject/Home/downloads\n"
   ]
  },
  {
   "cell_type": "code",
   "execution_count": 3,
   "metadata": {
    "collapsed": true
   },
   "outputs": [],
   "source": [
    "import pandas as pd\n",
    "import matplotlib.pyplot as plt\n",
    "import numpy as np\n",
    "from scipy.spatial.distance import cosine\n",
    "from matplotlib.colors import LogNorm\n",
    "\n",
    "%matplotlib inline"
   ]
  },
  {
   "cell_type": "code",
   "execution_count": 4,
   "metadata": {
    "collapsed": false
   },
   "outputs": [],
   "source": [
    "%load_ext line_profiler"
   ]
  },
  {
   "cell_type": "code",
   "execution_count": 5,
   "metadata": {
    "collapsed": false
   },
   "outputs": [
    {
     "name": "stdout",
     "output_type": "stream",
     "text": [
      "total 4844672\r\n",
      "-rw-r--r--  1 ahuxor  staff      21452 19 Aug 22:54 NBER_generality_originality_heatmap.pdf\r\n",
      "-rw-r--r--  1 ahuxor  staff       1097 22 Jul 19:34 Untitled.ipynb\r\n",
      "drwxr-xr-x  4 ahuxor  staff        136 23 Jul 14:59 \u001b[34mUpdate_to_NBER\u001b[m\u001b[m\r\n",
      "-rw-r--r--@ 1 ahuxor  staff   51973915  4 Aug  2010 assignee.dta\r\n",
      "-rwxr-xr-x@ 1 ahuxor  staff  236509670 28 Mar  2009 \u001b[31mcite76_06.dta\u001b[m\u001b[m\r\n",
      "-rw-r--r--  1 ahuxor  staff       1928  8 Aug 12:03 create_pat76_06_citesnum_hjtwt_nclaims_patent.ipynb\r\n",
      "-rw-r--r--  1 ahuxor  staff     266567 19 Aug 20:49 des_stats_76_06_assg.ipynb\r\n",
      "-rw-r--r--  1 ahuxor  staff      74125 11 Aug 13:21 desc_stats_ cite76_06.ipynb\r\n",
      "-rw-r--r--  1 ahuxor  staff       2146 19 Aug 13:25 desc_stats_pat76_06_ipc.ipynb\r\n",
      "-rw-r--r--  1 ahuxor  staff     173890 20 Aug 10:25 distance_from_section.ipynb\r\n",
      "-rw-rw-rw-@ 1 ahuxor  staff     788072 28 Jul  2010 dynass.dat\r\n",
      "-rw-r--r--  1 ahuxor  staff      26181 16 Aug 20:52 getdummy_tests.ipynb\r\n",
      "-rw-r--r--  1 ahuxor  staff     726615 20 Aug 10:27 nber_experiments.ipynb\r\n",
      "-rw-r--r--  1 ahuxor  staff      54941 19 Aug 15:46 nber_feature_vectors.ipynb\r\n",
      "-rw-r--r--  1 ahuxor  staff      22220 11 Aug 13:21 num_claims_experiments.ipynb\r\n",
      "-rwxr-xr-x@ 1 ahuxor  staff   56791108 17 Aug  2013 \u001b[31morig_gen_76_06.dta\u001b[m\u001b[m\r\n",
      "-rw-r--r--@ 1 ahuxor  staff  364030957  4 Aug  2010 pat76_06_assg.dta\r\n",
      "-rw-r--r--  1 ahuxor  staff  606712645 11 Aug 21:24 pat76_06_assg_minus_singular_ipc_inter.csv\r\n",
      "-rw-r--r--  1 ahuxor  staff  108491068  8 Aug 12:02 pat76_06_citesnum_hjtwt_nclaims_patent.csv\r\n",
      "-rw-r--r--  1 ahuxor  staff   24550084  7 Aug 17:51 pat76_06_citesnum_hjtwt_nclaims_patent.csv.gz\r\n",
      "-rw-r--r--@ 1 ahuxor  staff  252609858  4 Aug  2010 pat76_06_ipc.dta\r\n",
      "-rw-r--r--  1 ahuxor  staff  510687103 19 Aug 13:56 pat76_06_ipc_df_modified.csv\r\n",
      "-rw-r--r--@ 1 ahuxor  staff  263827184  7 Apr  2008 patassg.dta\r\n",
      "-rw-r--r--  1 ahuxor  staff      16015  8 Aug 09:02 patentsView_experiments.ipynb\r\n",
      "-rw-r--r--@ 1 ahuxor  staff    1702925 19 Dec  2008 pdpcohdr.dat\r\n",
      "-rw-r--r--  1 ahuxor  staff      13872 17 Aug 21:18 plot_U_shape_curve.ipynb\r\n",
      "-rw-r--r--  1 ahuxor  staff      11611 19 Aug 13:56 prepare_ipc_datafile.ipynb\r\n",
      "-rw-r--r--  1 ahuxor  staff     111529 17 Aug 13:13 second_simple_use_example.ipynb\r\n",
      "-rw-r--r--  1 ahuxor  staff      32755 16 Aug 20:52 simple_use_example.ipynb\r\n",
      "-rw-r--r--  1 ahuxor  staff     176714 17 Aug 20:56 third_use_example.ipynb\r\n",
      "drwxr-xr-x  7 ahuxor  staff        238  8 Jun 11:21 \u001b[34muser_documentation\u001b[m\u001b[m\r\n"
     ]
    }
   ],
   "source": [
    "!ls -l"
   ]
  },
  {
   "cell_type": "code",
   "execution_count": 6,
   "metadata": {
    "collapsed": false,
    "scrolled": false
   },
   "outputs": [
    {
     "name": "stdout",
     "output_type": "stream",
     "text": [
      "head: pat76_06_ipc.asc: No such file or directory\r\n"
     ]
    }
   ],
   "source": [
    "!head -2 pat76_06_ipc.asc"
   ]
  },
  {
   "cell_type": "code",
   "execution_count": 7,
   "metadata": {
    "collapsed": false
   },
   "outputs": [],
   "source": [
    "pat76_06_ipc_df = pd.read_stata('pat76_06_ipc.dta')"
   ]
  },
  {
   "cell_type": "code",
   "execution_count": 8,
   "metadata": {
    "collapsed": false
   },
   "outputs": [
    {
     "data": {
      "text/plain": [
       "appyear             int16\n",
       "cat               float64\n",
       "gyear               int16\n",
       "icl                object\n",
       "icl_class          object\n",
       "icl_maingroup     float32\n",
       "iclnum               int8\n",
       "nclass            float64\n",
       "numipc               int8\n",
       "patent              int32\n",
       "pdpass            float64\n",
       "subcat            float64\n",
       "subclass          float32\n",
       "uspto_assignee    float64\n",
       "dtype: object"
      ]
     },
     "execution_count": 8,
     "metadata": {},
     "output_type": "execute_result"
    }
   ],
   "source": [
    "pat76_06_ipc_df.dtypes"
   ]
  },
  {
   "cell_type": "code",
   "execution_count": 9,
   "metadata": {
    "collapsed": false
   },
   "outputs": [],
   "source": [
    "pat76_06_assg_df = pd.read_stata('pat76_06_assg.dta')"
   ]
  },
  {
   "cell_type": "code",
   "execution_count": 10,
   "metadata": {
    "collapsed": false
   },
   "outputs": [
    {
     "data": {
      "text/html": [
       "<div>\n",
       "<table border=\"1\" class=\"dataframe\">\n",
       "  <thead>\n",
       "    <tr style=\"text-align: right;\">\n",
       "      <th></th>\n",
       "      <th>allcites</th>\n",
       "      <th>appyear</th>\n",
       "      <th>asscode</th>\n",
       "      <th>assgnum</th>\n",
       "      <th>cat</th>\n",
       "      <th>cat_ocl</th>\n",
       "      <th>cclass</th>\n",
       "      <th>country</th>\n",
       "      <th>ddate</th>\n",
       "      <th>gday</th>\n",
       "      <th>...</th>\n",
       "      <th>state</th>\n",
       "      <th>status</th>\n",
       "      <th>subcat</th>\n",
       "      <th>subcat_ocl</th>\n",
       "      <th>subclass</th>\n",
       "      <th>subclass1</th>\n",
       "      <th>subclass1_ocl</th>\n",
       "      <th>subclass_ocl</th>\n",
       "      <th>term_extension</th>\n",
       "      <th>uspto_assignee</th>\n",
       "    </tr>\n",
       "  </thead>\n",
       "  <tbody>\n",
       "    <tr>\n",
       "      <th>802010</th>\n",
       "      <td>1804</td>\n",
       "      <td>1986</td>\n",
       "      <td>3.0</td>\n",
       "      <td>1.0</td>\n",
       "      <td>2.0</td>\n",
       "      <td>4.0</td>\n",
       "      <td>347/56</td>\n",
       "      <td>JP</td>\n",
       "      <td>NaT</td>\n",
       "      <td>2</td>\n",
       "      <td>...</td>\n",
       "      <td></td>\n",
       "      <td></td>\n",
       "      <td>23.0</td>\n",
       "      <td>49.0</td>\n",
       "      <td>56.000000</td>\n",
       "      <td>56</td>\n",
       "      <td>1</td>\n",
       "      <td>1.0</td>\n",
       "      <td>0</td>\n",
       "      <td>87490.0</td>\n",
       "    </tr>\n",
       "    <tr>\n",
       "      <th>538455</th>\n",
       "      <td>1587</td>\n",
       "      <td>1980</td>\n",
       "      <td>3.0</td>\n",
       "      <td>1.0</td>\n",
       "      <td>2.0</td>\n",
       "      <td>4.0</td>\n",
       "      <td>347/56</td>\n",
       "      <td>JP</td>\n",
       "      <td>NaT</td>\n",
       "      <td>31</td>\n",
       "      <td>...</td>\n",
       "      <td></td>\n",
       "      <td></td>\n",
       "      <td>23.0</td>\n",
       "      <td>49.0</td>\n",
       "      <td>56.000000</td>\n",
       "      <td>56</td>\n",
       "      <td>1</td>\n",
       "      <td>1.0</td>\n",
       "      <td>0</td>\n",
       "      <td>87490.0</td>\n",
       "    </tr>\n",
       "    <tr>\n",
       "      <th>761488</th>\n",
       "      <td>1555</td>\n",
       "      <td>1985</td>\n",
       "      <td>2.0</td>\n",
       "      <td>1.0</td>\n",
       "      <td>3.0</td>\n",
       "      <td>3.0</td>\n",
       "      <td>435/91.2</td>\n",
       "      <td>US</td>\n",
       "      <td>2004-07-28 00:00:00</td>\n",
       "      <td>28</td>\n",
       "      <td>...</td>\n",
       "      <td>CA</td>\n",
       "      <td></td>\n",
       "      <td>31.0</td>\n",
       "      <td>31.0</td>\n",
       "      <td>91.199997</td>\n",
       "      <td>91.2</td>\n",
       "      <td>91</td>\n",
       "      <td>91.0</td>\n",
       "      <td>0</td>\n",
       "      <td>97235.0</td>\n",
       "    </tr>\n",
       "    <tr>\n",
       "      <th>820002</th>\n",
       "      <td>1519</td>\n",
       "      <td>1986</td>\n",
       "      <td>3.0</td>\n",
       "      <td>1.0</td>\n",
       "      <td>2.0</td>\n",
       "      <td>4.0</td>\n",
       "      <td>347/56</td>\n",
       "      <td>JP</td>\n",
       "      <td>NaT</td>\n",
       "      <td>26</td>\n",
       "      <td>...</td>\n",
       "      <td></td>\n",
       "      <td></td>\n",
       "      <td>23.0</td>\n",
       "      <td>49.0</td>\n",
       "      <td>56.000000</td>\n",
       "      <td>56</td>\n",
       "      <td>1</td>\n",
       "      <td>1.0</td>\n",
       "      <td>0</td>\n",
       "      <td>87490.0</td>\n",
       "    </tr>\n",
       "    <tr>\n",
       "      <th>634740</th>\n",
       "      <td>1482</td>\n",
       "      <td>1982</td>\n",
       "      <td>3.0</td>\n",
       "      <td>1.0</td>\n",
       "      <td>2.0</td>\n",
       "      <td>4.0</td>\n",
       "      <td>347/65</td>\n",
       "      <td>JP</td>\n",
       "      <td>NaT</td>\n",
       "      <td>10</td>\n",
       "      <td>...</td>\n",
       "      <td></td>\n",
       "      <td></td>\n",
       "      <td>23.0</td>\n",
       "      <td>49.0</td>\n",
       "      <td>65.000000</td>\n",
       "      <td>65</td>\n",
       "      <td>140</td>\n",
       "      <td>140.0</td>\n",
       "      <td>0</td>\n",
       "      <td>87490.0</td>\n",
       "    </tr>\n",
       "    <tr>\n",
       "      <th>761481</th>\n",
       "      <td>1460</td>\n",
       "      <td>1986</td>\n",
       "      <td>2.0</td>\n",
       "      <td>1.0</td>\n",
       "      <td>3.0</td>\n",
       "      <td>3.0</td>\n",
       "      <td>435/6</td>\n",
       "      <td>US</td>\n",
       "      <td>2004-07-28 00:00:00</td>\n",
       "      <td>28</td>\n",
       "      <td>...</td>\n",
       "      <td>CA</td>\n",
       "      <td></td>\n",
       "      <td>31.0</td>\n",
       "      <td>31.0</td>\n",
       "      <td>6.000000</td>\n",
       "      <td>6</td>\n",
       "      <td>6</td>\n",
       "      <td>6.0</td>\n",
       "      <td>0</td>\n",
       "      <td>97235.0</td>\n",
       "    </tr>\n",
       "    <tr>\n",
       "      <th>418936</th>\n",
       "      <td>1453</td>\n",
       "      <td>1980</td>\n",
       "      <td>3.0</td>\n",
       "      <td>1.0</td>\n",
       "      <td>2.0</td>\n",
       "      <td>4.0</td>\n",
       "      <td>347/10</td>\n",
       "      <td>JP</td>\n",
       "      <td>NaT</td>\n",
       "      <td>17</td>\n",
       "      <td>...</td>\n",
       "      <td></td>\n",
       "      <td></td>\n",
       "      <td>23.0</td>\n",
       "      <td>49.0</td>\n",
       "      <td>10.000000</td>\n",
       "      <td>10</td>\n",
       "      <td>140</td>\n",
       "      <td>140.0</td>\n",
       "      <td>0</td>\n",
       "      <td>87490.0</td>\n",
       "    </tr>\n",
       "    <tr>\n",
       "      <th>386465</th>\n",
       "      <td>1418</td>\n",
       "      <td>1980</td>\n",
       "      <td>3.0</td>\n",
       "      <td>1.0</td>\n",
       "      <td>2.0</td>\n",
       "      <td>4.0</td>\n",
       "      <td>347/57</td>\n",
       "      <td>JP</td>\n",
       "      <td>NaT</td>\n",
       "      <td>26</td>\n",
       "      <td>...</td>\n",
       "      <td></td>\n",
       "      <td></td>\n",
       "      <td>23.0</td>\n",
       "      <td>49.0</td>\n",
       "      <td>57.000000</td>\n",
       "      <td>57</td>\n",
       "      <td>140</td>\n",
       "      <td>140.0</td>\n",
       "      <td>0</td>\n",
       "      <td>87490.0</td>\n",
       "    </tr>\n",
       "    <tr>\n",
       "      <th>534645</th>\n",
       "      <td>1390</td>\n",
       "      <td>1981</td>\n",
       "      <td>3.0</td>\n",
       "      <td>1.0</td>\n",
       "      <td>2.0</td>\n",
       "      <td>4.0</td>\n",
       "      <td>347/47</td>\n",
       "      <td>JP</td>\n",
       "      <td>1999-05-18 00:00:00</td>\n",
       "      <td>10</td>\n",
       "      <td>...</td>\n",
       "      <td></td>\n",
       "      <td></td>\n",
       "      <td>23.0</td>\n",
       "      <td>49.0</td>\n",
       "      <td>47.000000</td>\n",
       "      <td>47</td>\n",
       "      <td>140</td>\n",
       "      <td>140.0</td>\n",
       "      <td>0</td>\n",
       "      <td>87490.0</td>\n",
       "    </tr>\n",
       "    <tr>\n",
       "      <th>812739</th>\n",
       "      <td>1015</td>\n",
       "      <td>1985</td>\n",
       "      <td>2.0</td>\n",
       "      <td>1.0</td>\n",
       "      <td>3.0</td>\n",
       "      <td>3.0</td>\n",
       "      <td>606/108</td>\n",
       "      <td>US</td>\n",
       "      <td>NaT</td>\n",
       "      <td>29</td>\n",
       "      <td>...</td>\n",
       "      <td>TX</td>\n",
       "      <td></td>\n",
       "      <td>32.0</td>\n",
       "      <td>32.0</td>\n",
       "      <td>108.000000</td>\n",
       "      <td>108</td>\n",
       "      <td>343</td>\n",
       "      <td>343.0</td>\n",
       "      <td>0</td>\n",
       "      <td>185985.0</td>\n",
       "    </tr>\n",
       "    <tr>\n",
       "      <th>1188759</th>\n",
       "      <td>917</td>\n",
       "      <td>1990</td>\n",
       "      <td>2.0</td>\n",
       "      <td>1.0</td>\n",
       "      <td>2.0</td>\n",
       "      <td>2.0</td>\n",
       "      <td>370/206</td>\n",
       "      <td>US</td>\n",
       "      <td>NaT</td>\n",
       "      <td>7</td>\n",
       "      <td>...</td>\n",
       "      <td>CA</td>\n",
       "      <td></td>\n",
       "      <td>21.0</td>\n",
       "      <td>21.0</td>\n",
       "      <td>206.000000</td>\n",
       "      <td>206</td>\n",
       "      <td>1</td>\n",
       "      <td>1.0</td>\n",
       "      <td>0</td>\n",
       "      <td>460225.0</td>\n",
       "    </tr>\n",
       "    <tr>\n",
       "      <th>983202</th>\n",
       "      <td>768</td>\n",
       "      <td>1986</td>\n",
       "      <td>2.0</td>\n",
       "      <td>1.0</td>\n",
       "      <td>2.0</td>\n",
       "      <td>2.0</td>\n",
       "      <td>370/320</td>\n",
       "      <td>US</td>\n",
       "      <td>NaT</td>\n",
       "      <td>13</td>\n",
       "      <td>...</td>\n",
       "      <td>CA</td>\n",
       "      <td></td>\n",
       "      <td>21.0</td>\n",
       "      <td>21.0</td>\n",
       "      <td>320.000000</td>\n",
       "      <td>320</td>\n",
       "      <td>18</td>\n",
       "      <td>18.0</td>\n",
       "      <td>0</td>\n",
       "      <td>460225.0</td>\n",
       "    </tr>\n",
       "    <tr>\n",
       "      <th>1664704</th>\n",
       "      <td>756</td>\n",
       "      <td>1995</td>\n",
       "      <td>1.0</td>\n",
       "      <td>NaN</td>\n",
       "      <td>2.0</td>\n",
       "      <td>2.0</td>\n",
       "      <td>709/218</td>\n",
       "      <td></td>\n",
       "      <td>NaT</td>\n",
       "      <td>5</td>\n",
       "      <td>...</td>\n",
       "      <td>TX</td>\n",
       "      <td></td>\n",
       "      <td>22.0</td>\n",
       "      <td>25.0</td>\n",
       "      <td>218.000000</td>\n",
       "      <td>218</td>\n",
       "      <td>793</td>\n",
       "      <td>793.0</td>\n",
       "      <td>0</td>\n",
       "      <td>0.0</td>\n",
       "    </tr>\n",
       "    <tr>\n",
       "      <th>733607</th>\n",
       "      <td>743</td>\n",
       "      <td>1983</td>\n",
       "      <td>3.0</td>\n",
       "      <td>1.0</td>\n",
       "      <td>3.0</td>\n",
       "      <td>3.0</td>\n",
       "      <td>623/1.22</td>\n",
       "      <td>CH</td>\n",
       "      <td>NaT</td>\n",
       "      <td>7</td>\n",
       "      <td>...</td>\n",
       "      <td></td>\n",
       "      <td></td>\n",
       "      <td>39.0</td>\n",
       "      <td>39.0</td>\n",
       "      <td>1.220000</td>\n",
       "      <td>1.22</td>\n",
       "      <td>1</td>\n",
       "      <td>1.0</td>\n",
       "      <td>0</td>\n",
       "      <td>509095.0</td>\n",
       "    </tr>\n",
       "    <tr>\n",
       "      <th>1229725</th>\n",
       "      <td>729</td>\n",
       "      <td>1990</td>\n",
       "      <td>3.0</td>\n",
       "      <td>1.0</td>\n",
       "      <td>1.0</td>\n",
       "      <td>1.0</td>\n",
       "      <td>436/518</td>\n",
       "      <td>AN</td>\n",
       "      <td>NaT</td>\n",
       "      <td>1</td>\n",
       "      <td>...</td>\n",
       "      <td></td>\n",
       "      <td></td>\n",
       "      <td>19.0</td>\n",
       "      <td>19.0</td>\n",
       "      <td>518.000000</td>\n",
       "      <td>518</td>\n",
       "      <td>518</td>\n",
       "      <td>518.0</td>\n",
       "      <td>0</td>\n",
       "      <td>685535.0</td>\n",
       "    </tr>\n",
       "    <tr>\n",
       "      <th>414204</th>\n",
       "      <td>687</td>\n",
       "      <td>1980</td>\n",
       "      <td>2.0</td>\n",
       "      <td>1.0</td>\n",
       "      <td>5.0</td>\n",
       "      <td>5.0</td>\n",
       "      <td>264/518</td>\n",
       "      <td>US</td>\n",
       "      <td>NaT</td>\n",
       "      <td>20</td>\n",
       "      <td>...</td>\n",
       "      <td>WI</td>\n",
       "      <td></td>\n",
       "      <td>51.0</td>\n",
       "      <td>51.0</td>\n",
       "      <td>518.000000</td>\n",
       "      <td>518</td>\n",
       "      <td>518</td>\n",
       "      <td>518.0</td>\n",
       "      <td>0</td>\n",
       "      <td>313200.0</td>\n",
       "    </tr>\n",
       "    <tr>\n",
       "      <th>685660</th>\n",
       "      <td>642</td>\n",
       "      <td>1984</td>\n",
       "      <td>3.0</td>\n",
       "      <td>1.0</td>\n",
       "      <td>2.0</td>\n",
       "      <td>4.0</td>\n",
       "      <td>347/66</td>\n",
       "      <td>JP</td>\n",
       "      <td>NaT</td>\n",
       "      <td>26</td>\n",
       "      <td>...</td>\n",
       "      <td></td>\n",
       "      <td></td>\n",
       "      <td>23.0</td>\n",
       "      <td>49.0</td>\n",
       "      <td>66.000000</td>\n",
       "      <td>66</td>\n",
       "      <td>140</td>\n",
       "      <td>140.0</td>\n",
       "      <td>0</td>\n",
       "      <td>171065.0</td>\n",
       "    </tr>\n",
       "    <tr>\n",
       "      <th>856145</th>\n",
       "      <td>623</td>\n",
       "      <td>1986</td>\n",
       "      <td>2.0</td>\n",
       "      <td>1.0</td>\n",
       "      <td>3.0</td>\n",
       "      <td>3.0</td>\n",
       "      <td>623/1.11</td>\n",
       "      <td>US</td>\n",
       "      <td>NaT</td>\n",
       "      <td>11</td>\n",
       "      <td>...</td>\n",
       "      <td>TX</td>\n",
       "      <td></td>\n",
       "      <td>39.0</td>\n",
       "      <td>32.0</td>\n",
       "      <td>1.110000</td>\n",
       "      <td>1.11</td>\n",
       "      <td>343</td>\n",
       "      <td>343.0</td>\n",
       "      <td>0</td>\n",
       "      <td>185985.0</td>\n",
       "    </tr>\n",
       "    <tr>\n",
       "      <th>23541</th>\n",
       "      <td>620</td>\n",
       "      <td>1973</td>\n",
       "      <td>2.0</td>\n",
       "      <td>1.0</td>\n",
       "      <td>5.0</td>\n",
       "      <td>5.0</td>\n",
       "      <td>264/505</td>\n",
       "      <td>US</td>\n",
       "      <td>NaT</td>\n",
       "      <td>27</td>\n",
       "      <td>...</td>\n",
       "      <td>DE</td>\n",
       "      <td></td>\n",
       "      <td>51.0</td>\n",
       "      <td>51.0</td>\n",
       "      <td>505.000000</td>\n",
       "      <td>505</td>\n",
       "      <td>288</td>\n",
       "      <td>288.0</td>\n",
       "      <td>0</td>\n",
       "      <td>774265.0</td>\n",
       "    </tr>\n",
       "    <tr>\n",
       "      <th>1140634</th>\n",
       "      <td>588</td>\n",
       "      <td>1989</td>\n",
       "      <td>2.0</td>\n",
       "      <td>1.0</td>\n",
       "      <td>2.0</td>\n",
       "      <td>2.0</td>\n",
       "      <td>370/342</td>\n",
       "      <td>US</td>\n",
       "      <td>NaT</td>\n",
       "      <td>8</td>\n",
       "      <td>...</td>\n",
       "      <td>CA</td>\n",
       "      <td></td>\n",
       "      <td>21.0</td>\n",
       "      <td>21.0</td>\n",
       "      <td>342.000000</td>\n",
       "      <td>342</td>\n",
       "      <td>1</td>\n",
       "      <td>1.0</td>\n",
       "      <td>0</td>\n",
       "      <td>460225.0</td>\n",
       "    </tr>\n",
       "    <tr>\n",
       "      <th>1048172</th>\n",
       "      <td>586</td>\n",
       "      <td>1987</td>\n",
       "      <td>2.0</td>\n",
       "      <td>1.0</td>\n",
       "      <td>3.0</td>\n",
       "      <td>3.0</td>\n",
       "      <td>435/6</td>\n",
       "      <td>US</td>\n",
       "      <td>2004-07-28 00:00:00</td>\n",
       "      <td>23</td>\n",
       "      <td>...</td>\n",
       "      <td>CA</td>\n",
       "      <td></td>\n",
       "      <td>31.0</td>\n",
       "      <td>31.0</td>\n",
       "      <td>6.000000</td>\n",
       "      <td>6</td>\n",
       "      <td>6</td>\n",
       "      <td>6.0</td>\n",
       "      <td>0</td>\n",
       "      <td>97235.0</td>\n",
       "    </tr>\n",
       "    <tr>\n",
       "      <th>657282</th>\n",
       "      <td>585</td>\n",
       "      <td>1984</td>\n",
       "      <td>2.0</td>\n",
       "      <td>1.0</td>\n",
       "      <td>3.0</td>\n",
       "      <td>3.0</td>\n",
       "      <td>606/198</td>\n",
       "      <td>US</td>\n",
       "      <td>NaT</td>\n",
       "      <td>8</td>\n",
       "      <td>...</td>\n",
       "      <td>IN</td>\n",
       "      <td></td>\n",
       "      <td>32.0</td>\n",
       "      <td>32.0</td>\n",
       "      <td>198.000000</td>\n",
       "      <td>198</td>\n",
       "      <td>345</td>\n",
       "      <td>345.0</td>\n",
       "      <td>0</td>\n",
       "      <td>121730.0</td>\n",
       "    </tr>\n",
       "    <tr>\n",
       "      <th>579214</th>\n",
       "      <td>583</td>\n",
       "      <td>1983</td>\n",
       "      <td>1.0</td>\n",
       "      <td>NaN</td>\n",
       "      <td>3.0</td>\n",
       "      <td>NaN</td>\n",
       "      <td>623/1.19</td>\n",
       "      <td></td>\n",
       "      <td>NaT</td>\n",
       "      <td>12</td>\n",
       "      <td>...</td>\n",
       "      <td>OR</td>\n",
       "      <td></td>\n",
       "      <td>39.0</td>\n",
       "      <td>NaN</td>\n",
       "      <td>1.190000</td>\n",
       "      <td>1.19</td>\n",
       "      <td>1</td>\n",
       "      <td>1.0</td>\n",
       "      <td>0</td>\n",
       "      <td>0.0</td>\n",
       "    </tr>\n",
       "    <tr>\n",
       "      <th>1197074</th>\n",
       "      <td>577</td>\n",
       "      <td>1991</td>\n",
       "      <td>2.0</td>\n",
       "      <td>1.0</td>\n",
       "      <td>6.0</td>\n",
       "      <td>6.0</td>\n",
       "      <td>53/397</td>\n",
       "      <td>US</td>\n",
       "      <td>NaT</td>\n",
       "      <td>12</td>\n",
       "      <td>...</td>\n",
       "      <td>IL</td>\n",
       "      <td></td>\n",
       "      <td>68.0</td>\n",
       "      <td>68.0</td>\n",
       "      <td>397.000000</td>\n",
       "      <td>397</td>\n",
       "      <td>397</td>\n",
       "      <td>397.0</td>\n",
       "      <td>0</td>\n",
       "      <td>251075.0</td>\n",
       "    </tr>\n",
       "    <tr>\n",
       "      <th>1736888</th>\n",
       "      <td>572</td>\n",
       "      <td>1994</td>\n",
       "      <td>3.0</td>\n",
       "      <td>1.0</td>\n",
       "      <td>4.0</td>\n",
       "      <td>4.0</td>\n",
       "      <td>438/162</td>\n",
       "      <td>JP</td>\n",
       "      <td>NaT</td>\n",
       "      <td>1</td>\n",
       "      <td>...</td>\n",
       "      <td></td>\n",
       "      <td></td>\n",
       "      <td>46.0</td>\n",
       "      <td>46.0</td>\n",
       "      <td>162.000000</td>\n",
       "      <td>162</td>\n",
       "      <td>88</td>\n",
       "      <td>88.0</td>\n",
       "      <td>0</td>\n",
       "      <td>504585.0</td>\n",
       "    </tr>\n",
       "    <tr>\n",
       "      <th>488210</th>\n",
       "      <td>565</td>\n",
       "      <td>1982</td>\n",
       "      <td>1.0</td>\n",
       "      <td>NaN</td>\n",
       "      <td>6.0</td>\n",
       "      <td>6.0</td>\n",
       "      <td>206/770</td>\n",
       "      <td></td>\n",
       "      <td>NaT</td>\n",
       "      <td>8</td>\n",
       "      <td>...</td>\n",
       "      <td>CO</td>\n",
       "      <td></td>\n",
       "      <td>68.0</td>\n",
       "      <td>68.0</td>\n",
       "      <td>770.000000</td>\n",
       "      <td>770</td>\n",
       "      <td>45</td>\n",
       "      <td>45.0</td>\n",
       "      <td>0</td>\n",
       "      <td>0.0</td>\n",
       "    </tr>\n",
       "    <tr>\n",
       "      <th>1836758</th>\n",
       "      <td>563</td>\n",
       "      <td>1994</td>\n",
       "      <td>2.0</td>\n",
       "      <td>1.0</td>\n",
       "      <td>2.0</td>\n",
       "      <td>2.0</td>\n",
       "      <td>455/461</td>\n",
       "      <td>US</td>\n",
       "      <td>NaT</td>\n",
       "      <td>21</td>\n",
       "      <td>...</td>\n",
       "      <td>NJ</td>\n",
       "      <td></td>\n",
       "      <td>21.0</td>\n",
       "      <td>21.0</td>\n",
       "      <td>461.000000</td>\n",
       "      <td>461</td>\n",
       "      <td>461</td>\n",
       "      <td>461.0</td>\n",
       "      <td>0</td>\n",
       "      <td>58495.0</td>\n",
       "    </tr>\n",
       "    <tr>\n",
       "      <th>967718</th>\n",
       "      <td>558</td>\n",
       "      <td>1987</td>\n",
       "      <td>2.0</td>\n",
       "      <td>1.0</td>\n",
       "      <td>3.0</td>\n",
       "      <td>3.0</td>\n",
       "      <td>606/194</td>\n",
       "      <td>US</td>\n",
       "      <td>NaT</td>\n",
       "      <td>12</td>\n",
       "      <td>...</td>\n",
       "      <td>MN</td>\n",
       "      <td></td>\n",
       "      <td>32.0</td>\n",
       "      <td>32.0</td>\n",
       "      <td>194.000000</td>\n",
       "      <td>194</td>\n",
       "      <td>343</td>\n",
       "      <td>343.0</td>\n",
       "      <td>0</td>\n",
       "      <td>365520.0</td>\n",
       "    </tr>\n",
       "    <tr>\n",
       "      <th>818953</th>\n",
       "      <td>548</td>\n",
       "      <td>1986</td>\n",
       "      <td>2.0</td>\n",
       "      <td>1.0</td>\n",
       "      <td>3.0</td>\n",
       "      <td>3.0</td>\n",
       "      <td>623/1.11</td>\n",
       "      <td>US</td>\n",
       "      <td>NaT</td>\n",
       "      <td>26</td>\n",
       "      <td>...</td>\n",
       "      <td>TX</td>\n",
       "      <td></td>\n",
       "      <td>39.0</td>\n",
       "      <td>32.0</td>\n",
       "      <td>1.110000</td>\n",
       "      <td>1.11</td>\n",
       "      <td>343</td>\n",
       "      <td>343.0</td>\n",
       "      <td>0</td>\n",
       "      <td>185985.0</td>\n",
       "    </tr>\n",
       "    <tr>\n",
       "      <th>881071</th>\n",
       "      <td>545</td>\n",
       "      <td>1987</td>\n",
       "      <td>2.0</td>\n",
       "      <td>1.0</td>\n",
       "      <td>3.0</td>\n",
       "      <td>3.0</td>\n",
       "      <td>606/194</td>\n",
       "      <td>US</td>\n",
       "      <td>NaT</td>\n",
       "      <td>31</td>\n",
       "      <td>...</td>\n",
       "      <td>IN</td>\n",
       "      <td></td>\n",
       "      <td>32.0</td>\n",
       "      <td>32.0</td>\n",
       "      <td>194.000000</td>\n",
       "      <td>194</td>\n",
       "      <td>343</td>\n",
       "      <td>343.0</td>\n",
       "      <td>0</td>\n",
       "      <td>121730.0</td>\n",
       "    </tr>\n",
       "    <tr>\n",
       "      <th>...</th>\n",
       "      <td>...</td>\n",
       "      <td>...</td>\n",
       "      <td>...</td>\n",
       "      <td>...</td>\n",
       "      <td>...</td>\n",
       "      <td>...</td>\n",
       "      <td>...</td>\n",
       "      <td>...</td>\n",
       "      <td>...</td>\n",
       "      <td>...</td>\n",
       "      <td>...</td>\n",
       "      <td>...</td>\n",
       "      <td>...</td>\n",
       "      <td>...</td>\n",
       "      <td>...</td>\n",
       "      <td>...</td>\n",
       "      <td>...</td>\n",
       "      <td>...</td>\n",
       "      <td>...</td>\n",
       "      <td>...</td>\n",
       "      <td>...</td>\n",
       "    </tr>\n",
       "    <tr>\n",
       "      <th>2621141</th>\n",
       "      <td>0</td>\n",
       "      <td>2002</td>\n",
       "      <td>3.0</td>\n",
       "      <td>1.0</td>\n",
       "      <td>4.0</td>\n",
       "      <td>4.0</td>\n",
       "      <td>327/543</td>\n",
       "      <td>JP</td>\n",
       "      <td>NaT</td>\n",
       "      <td>28</td>\n",
       "      <td>...</td>\n",
       "      <td></td>\n",
       "      <td></td>\n",
       "      <td>41.0</td>\n",
       "      <td>41.0</td>\n",
       "      <td>543.000000</td>\n",
       "      <td>543</td>\n",
       "      <td>543</td>\n",
       "      <td>543.0</td>\n",
       "      <td>0</td>\n",
       "      <td>252865.0</td>\n",
       "    </tr>\n",
       "    <tr>\n",
       "      <th>2621146</th>\n",
       "      <td>0</td>\n",
       "      <td>2001</td>\n",
       "      <td>1.0</td>\n",
       "      <td>NaN</td>\n",
       "      <td>4.0</td>\n",
       "      <td>4.0</td>\n",
       "      <td>330/310</td>\n",
       "      <td></td>\n",
       "      <td>NaT</td>\n",
       "      <td>28</td>\n",
       "      <td>...</td>\n",
       "      <td>SE</td>\n",
       "      <td></td>\n",
       "      <td>41.0</td>\n",
       "      <td>41.0</td>\n",
       "      <td>310.000000</td>\n",
       "      <td>310</td>\n",
       "      <td>310</td>\n",
       "      <td>310.0</td>\n",
       "      <td>0</td>\n",
       "      <td>0.0</td>\n",
       "    </tr>\n",
       "    <tr>\n",
       "      <th>2621148</th>\n",
       "      <td>0</td>\n",
       "      <td>2000</td>\n",
       "      <td>2.0</td>\n",
       "      <td>1.0</td>\n",
       "      <td>4.0</td>\n",
       "      <td>4.0</td>\n",
       "      <td>331/57</td>\n",
       "      <td>US</td>\n",
       "      <td>NaT</td>\n",
       "      <td>28</td>\n",
       "      <td>...</td>\n",
       "      <td>CA</td>\n",
       "      <td></td>\n",
       "      <td>41.0</td>\n",
       "      <td>41.0</td>\n",
       "      <td>57.000000</td>\n",
       "      <td>57</td>\n",
       "      <td>57</td>\n",
       "      <td>57.0</td>\n",
       "      <td>0</td>\n",
       "      <td>33525.0</td>\n",
       "    </tr>\n",
       "    <tr>\n",
       "      <th>2621149</th>\n",
       "      <td>0</td>\n",
       "      <td>2000</td>\n",
       "      <td>3.0</td>\n",
       "      <td>1.0</td>\n",
       "      <td>4.0</td>\n",
       "      <td>4.0</td>\n",
       "      <td>331/107G</td>\n",
       "      <td>JP</td>\n",
       "      <td>NaT</td>\n",
       "      <td>28</td>\n",
       "      <td>...</td>\n",
       "      <td></td>\n",
       "      <td></td>\n",
       "      <td>41.0</td>\n",
       "      <td>41.0</td>\n",
       "      <td>NaN</td>\n",
       "      <td>107G</td>\n",
       "      <td>107</td>\n",
       "      <td>107.0</td>\n",
       "      <td>0</td>\n",
       "      <td>389720.0</td>\n",
       "    </tr>\n",
       "    <tr>\n",
       "      <th>2621153</th>\n",
       "      <td>0</td>\n",
       "      <td>2001</td>\n",
       "      <td>3.0</td>\n",
       "      <td>1.0</td>\n",
       "      <td>2.0</td>\n",
       "      <td>2.0</td>\n",
       "      <td>333/12</td>\n",
       "      <td>JP</td>\n",
       "      <td>NaT</td>\n",
       "      <td>28</td>\n",
       "      <td>...</td>\n",
       "      <td></td>\n",
       "      <td></td>\n",
       "      <td>21.0</td>\n",
       "      <td>21.0</td>\n",
       "      <td>12.000000</td>\n",
       "      <td>12</td>\n",
       "      <td>12</td>\n",
       "      <td>12.0</td>\n",
       "      <td>0</td>\n",
       "      <td>314825.0</td>\n",
       "    </tr>\n",
       "    <tr>\n",
       "      <th>2621154</th>\n",
       "      <td>0</td>\n",
       "      <td>2000</td>\n",
       "      <td>3.0</td>\n",
       "      <td>1.0</td>\n",
       "      <td>2.0</td>\n",
       "      <td>2.0</td>\n",
       "      <td>333/99S</td>\n",
       "      <td>DE</td>\n",
       "      <td>NaT</td>\n",
       "      <td>28</td>\n",
       "      <td>...</td>\n",
       "      <td></td>\n",
       "      <td></td>\n",
       "      <td>21.0</td>\n",
       "      <td>21.0</td>\n",
       "      <td>NaN</td>\n",
       "      <td>99S</td>\n",
       "      <td>99</td>\n",
       "      <td>99.0</td>\n",
       "      <td>0</td>\n",
       "      <td>478430.0</td>\n",
       "    </tr>\n",
       "    <tr>\n",
       "      <th>2621093</th>\n",
       "      <td>0</td>\n",
       "      <td>2001</td>\n",
       "      <td>2.0</td>\n",
       "      <td>1.0</td>\n",
       "      <td>4.0</td>\n",
       "      <td>4.0</td>\n",
       "      <td>324/252</td>\n",
       "      <td>US</td>\n",
       "      <td>NaT</td>\n",
       "      <td>28</td>\n",
       "      <td>...</td>\n",
       "      <td>MI</td>\n",
       "      <td></td>\n",
       "      <td>43.0</td>\n",
       "      <td>43.0</td>\n",
       "      <td>252.000000</td>\n",
       "      <td>252</td>\n",
       "      <td>252</td>\n",
       "      <td>252.0</td>\n",
       "      <td>0</td>\n",
       "      <td>762382.0</td>\n",
       "    </tr>\n",
       "    <tr>\n",
       "      <th>2621092</th>\n",
       "      <td>0</td>\n",
       "      <td>2001</td>\n",
       "      <td>3.0</td>\n",
       "      <td>1.0</td>\n",
       "      <td>4.0</td>\n",
       "      <td>4.0</td>\n",
       "      <td>324/248</td>\n",
       "      <td>JP</td>\n",
       "      <td>NaT</td>\n",
       "      <td>28</td>\n",
       "      <td>...</td>\n",
       "      <td></td>\n",
       "      <td></td>\n",
       "      <td>43.0</td>\n",
       "      <td>43.0</td>\n",
       "      <td>248.000000</td>\n",
       "      <td>248</td>\n",
       "      <td>248</td>\n",
       "      <td>248.0</td>\n",
       "      <td>0</td>\n",
       "      <td>252865.0</td>\n",
       "    </tr>\n",
       "    <tr>\n",
       "      <th>2621089</th>\n",
       "      <td>0</td>\n",
       "      <td>2001</td>\n",
       "      <td>2.0</td>\n",
       "      <td>1.0</td>\n",
       "      <td>4.0</td>\n",
       "      <td>4.0</td>\n",
       "      <td>324/173</td>\n",
       "      <td>US</td>\n",
       "      <td>NaT</td>\n",
       "      <td>28</td>\n",
       "      <td>...</td>\n",
       "      <td>OH</td>\n",
       "      <td></td>\n",
       "      <td>43.0</td>\n",
       "      <td>43.0</td>\n",
       "      <td>173.000000</td>\n",
       "      <td>173</td>\n",
       "      <td>173</td>\n",
       "      <td>173.0</td>\n",
       "      <td>0</td>\n",
       "      <td>576120.0</td>\n",
       "    </tr>\n",
       "    <tr>\n",
       "      <th>2621087</th>\n",
       "      <td>0</td>\n",
       "      <td>2000</td>\n",
       "      <td>3.0</td>\n",
       "      <td>1.0</td>\n",
       "      <td>4.0</td>\n",
       "      <td>4.0</td>\n",
       "      <td>324/158.1</td>\n",
       "      <td>JP</td>\n",
       "      <td>NaT</td>\n",
       "      <td>28</td>\n",
       "      <td>...</td>\n",
       "      <td></td>\n",
       "      <td></td>\n",
       "      <td>43.0</td>\n",
       "      <td>43.0</td>\n",
       "      <td>158.100006</td>\n",
       "      <td>158.1</td>\n",
       "      <td>158</td>\n",
       "      <td>158.0</td>\n",
       "      <td>0</td>\n",
       "      <td>358975.0</td>\n",
       "    </tr>\n",
       "    <tr>\n",
       "      <th>2621039</th>\n",
       "      <td>0</td>\n",
       "      <td>2000</td>\n",
       "      <td>3.0</td>\n",
       "      <td>1.0</td>\n",
       "      <td>4.0</td>\n",
       "      <td>4.0</td>\n",
       "      <td>310/156.57</td>\n",
       "      <td>TW</td>\n",
       "      <td>NaT</td>\n",
       "      <td>28</td>\n",
       "      <td>...</td>\n",
       "      <td></td>\n",
       "      <td></td>\n",
       "      <td>45.0</td>\n",
       "      <td>45.0</td>\n",
       "      <td>156.570007</td>\n",
       "      <td>156.57</td>\n",
       "      <td>156</td>\n",
       "      <td>156.0</td>\n",
       "      <td>0</td>\n",
       "      <td>703520.0</td>\n",
       "    </tr>\n",
       "    <tr>\n",
       "      <th>93926</th>\n",
       "      <td>0</td>\n",
       "      <td>1975</td>\n",
       "      <td>6.0</td>\n",
       "      <td>1.0</td>\n",
       "      <td>4.0</td>\n",
       "      <td>4.0</td>\n",
       "      <td>60/770</td>\n",
       "      <td>US</td>\n",
       "      <td>NaT</td>\n",
       "      <td>17</td>\n",
       "      <td>...</td>\n",
       "      <td>DC</td>\n",
       "      <td></td>\n",
       "      <td>45.0</td>\n",
       "      <td>45.0</td>\n",
       "      <td>770.000000</td>\n",
       "      <td>770</td>\n",
       "      <td>271</td>\n",
       "      <td>271.0</td>\n",
       "      <td>0</td>\n",
       "      <td>597185.0</td>\n",
       "    </tr>\n",
       "    <tr>\n",
       "      <th>93924</th>\n",
       "      <td>0</td>\n",
       "      <td>1971</td>\n",
       "      <td>6.0</td>\n",
       "      <td>1.0</td>\n",
       "      <td>4.0</td>\n",
       "      <td>4.0</td>\n",
       "      <td>60/252</td>\n",
       "      <td>US</td>\n",
       "      <td>NaT</td>\n",
       "      <td>17</td>\n",
       "      <td>...</td>\n",
       "      <td>DC</td>\n",
       "      <td></td>\n",
       "      <td>45.0</td>\n",
       "      <td>45.0</td>\n",
       "      <td>252.000000</td>\n",
       "      <td>252</td>\n",
       "      <td>252</td>\n",
       "      <td>252.0</td>\n",
       "      <td>0</td>\n",
       "      <td>597270.0</td>\n",
       "    </tr>\n",
       "    <tr>\n",
       "      <th>2621047</th>\n",
       "      <td>0</td>\n",
       "      <td>1999</td>\n",
       "      <td>3.0</td>\n",
       "      <td>1.0</td>\n",
       "      <td>4.0</td>\n",
       "      <td>4.0</td>\n",
       "      <td>313/402</td>\n",
       "      <td>KR</td>\n",
       "      <td>NaT</td>\n",
       "      <td>28</td>\n",
       "      <td>...</td>\n",
       "      <td></td>\n",
       "      <td></td>\n",
       "      <td>42.0</td>\n",
       "      <td>42.0</td>\n",
       "      <td>402.000000</td>\n",
       "      <td>402</td>\n",
       "      <td>402</td>\n",
       "      <td>402.0</td>\n",
       "      <td>0</td>\n",
       "      <td>712893.0</td>\n",
       "    </tr>\n",
       "    <tr>\n",
       "      <th>2621050</th>\n",
       "      <td>0</td>\n",
       "      <td>2001</td>\n",
       "      <td>3.0</td>\n",
       "      <td>1.0</td>\n",
       "      <td>4.0</td>\n",
       "      <td>4.0</td>\n",
       "      <td>313/477HC</td>\n",
       "      <td>KR</td>\n",
       "      <td>NaT</td>\n",
       "      <td>28</td>\n",
       "      <td>...</td>\n",
       "      <td></td>\n",
       "      <td></td>\n",
       "      <td>42.0</td>\n",
       "      <td>42.0</td>\n",
       "      <td>NaN</td>\n",
       "      <td>477HC</td>\n",
       "      <td>477</td>\n",
       "      <td>477.0</td>\n",
       "      <td>0</td>\n",
       "      <td>780849.0</td>\n",
       "    </tr>\n",
       "    <tr>\n",
       "      <th>2621053</th>\n",
       "      <td>0</td>\n",
       "      <td>2000</td>\n",
       "      <td>1.0</td>\n",
       "      <td>NaN</td>\n",
       "      <td>4.0</td>\n",
       "      <td>4.0</td>\n",
       "      <td>313/609</td>\n",
       "      <td></td>\n",
       "      <td>NaT</td>\n",
       "      <td>28</td>\n",
       "      <td>...</td>\n",
       "      <td>HK</td>\n",
       "      <td></td>\n",
       "      <td>42.0</td>\n",
       "      <td>42.0</td>\n",
       "      <td>609.000000</td>\n",
       "      <td>609</td>\n",
       "      <td>609</td>\n",
       "      <td>609.0</td>\n",
       "      <td>0</td>\n",
       "      <td>0.0</td>\n",
       "    </tr>\n",
       "    <tr>\n",
       "      <th>2621054</th>\n",
       "      <td>0</td>\n",
       "      <td>2000</td>\n",
       "      <td>6.0</td>\n",
       "      <td>1.0</td>\n",
       "      <td>4.0</td>\n",
       "      <td>4.0</td>\n",
       "      <td>315/58</td>\n",
       "      <td>US</td>\n",
       "      <td>NaT</td>\n",
       "      <td>28</td>\n",
       "      <td>...</td>\n",
       "      <td>DC</td>\n",
       "      <td></td>\n",
       "      <td>42.0</td>\n",
       "      <td>42.0</td>\n",
       "      <td>58.000000</td>\n",
       "      <td>58</td>\n",
       "      <td>58</td>\n",
       "      <td>58.0</td>\n",
       "      <td>0</td>\n",
       "      <td>597185.0</td>\n",
       "    </tr>\n",
       "    <tr>\n",
       "      <th>2621056</th>\n",
       "      <td>0</td>\n",
       "      <td>2001</td>\n",
       "      <td>3.0</td>\n",
       "      <td>1.0</td>\n",
       "      <td>4.0</td>\n",
       "      <td>4.0</td>\n",
       "      <td>315/169.1</td>\n",
       "      <td>TW</td>\n",
       "      <td>NaT</td>\n",
       "      <td>28</td>\n",
       "      <td>...</td>\n",
       "      <td></td>\n",
       "      <td></td>\n",
       "      <td>42.0</td>\n",
       "      <td>42.0</td>\n",
       "      <td>169.100006</td>\n",
       "      <td>169.1</td>\n",
       "      <td>169</td>\n",
       "      <td>169.0</td>\n",
       "      <td>0</td>\n",
       "      <td>703520.0</td>\n",
       "    </tr>\n",
       "    <tr>\n",
       "      <th>2621060</th>\n",
       "      <td>0</td>\n",
       "      <td>2000</td>\n",
       "      <td>3.0</td>\n",
       "      <td>1.0</td>\n",
       "      <td>4.0</td>\n",
       "      <td>4.0</td>\n",
       "      <td>315/362</td>\n",
       "      <td>FR</td>\n",
       "      <td>NaT</td>\n",
       "      <td>28</td>\n",
       "      <td>...</td>\n",
       "      <td></td>\n",
       "      <td></td>\n",
       "      <td>42.0</td>\n",
       "      <td>42.0</td>\n",
       "      <td>362.000000</td>\n",
       "      <td>362</td>\n",
       "      <td>362</td>\n",
       "      <td>362.0</td>\n",
       "      <td>0</td>\n",
       "      <td>332795.0</td>\n",
       "    </tr>\n",
       "    <tr>\n",
       "      <th>2621061</th>\n",
       "      <td>0</td>\n",
       "      <td>2000</td>\n",
       "      <td>3.0</td>\n",
       "      <td>2.0</td>\n",
       "      <td>4.0</td>\n",
       "      <td>4.0</td>\n",
       "      <td>315/362</td>\n",
       "      <td>FR</td>\n",
       "      <td>NaT</td>\n",
       "      <td>28</td>\n",
       "      <td>...</td>\n",
       "      <td></td>\n",
       "      <td></td>\n",
       "      <td>42.0</td>\n",
       "      <td>42.0</td>\n",
       "      <td>362.000000</td>\n",
       "      <td>362</td>\n",
       "      <td>362</td>\n",
       "      <td>362.0</td>\n",
       "      <td>0</td>\n",
       "      <td>332795.0</td>\n",
       "    </tr>\n",
       "    <tr>\n",
       "      <th>2621063</th>\n",
       "      <td>0</td>\n",
       "      <td>2001</td>\n",
       "      <td>2.0</td>\n",
       "      <td>1.0</td>\n",
       "      <td>4.0</td>\n",
       "      <td>4.0</td>\n",
       "      <td>315/401</td>\n",
       "      <td>US</td>\n",
       "      <td>NaT</td>\n",
       "      <td>28</td>\n",
       "      <td>...</td>\n",
       "      <td>CA</td>\n",
       "      <td></td>\n",
       "      <td>42.0</td>\n",
       "      <td>42.0</td>\n",
       "      <td>401.000000</td>\n",
       "      <td>401</td>\n",
       "      <td>401</td>\n",
       "      <td>401.0</td>\n",
       "      <td>0</td>\n",
       "      <td>394010.0</td>\n",
       "    </tr>\n",
       "    <tr>\n",
       "      <th>2621067</th>\n",
       "      <td>0</td>\n",
       "      <td>1999</td>\n",
       "      <td>3.0</td>\n",
       "      <td>1.0</td>\n",
       "      <td>4.0</td>\n",
       "      <td>4.0</td>\n",
       "      <td>318/560</td>\n",
       "      <td>JP</td>\n",
       "      <td>NaT</td>\n",
       "      <td>28</td>\n",
       "      <td>...</td>\n",
       "      <td></td>\n",
       "      <td></td>\n",
       "      <td>45.0</td>\n",
       "      <td>45.0</td>\n",
       "      <td>560.000000</td>\n",
       "      <td>560</td>\n",
       "      <td>560</td>\n",
       "      <td>560.0</td>\n",
       "      <td>0</td>\n",
       "      <td>731003.0</td>\n",
       "    </tr>\n",
       "    <tr>\n",
       "      <th>2621072</th>\n",
       "      <td>0</td>\n",
       "      <td>2001</td>\n",
       "      <td>3.0</td>\n",
       "      <td>1.0</td>\n",
       "      <td>4.0</td>\n",
       "      <td>4.0</td>\n",
       "      <td>320/137</td>\n",
       "      <td>CH</td>\n",
       "      <td>NaT</td>\n",
       "      <td>28</td>\n",
       "      <td>...</td>\n",
       "      <td></td>\n",
       "      <td></td>\n",
       "      <td>45.0</td>\n",
       "      <td>45.0</td>\n",
       "      <td>137.000000</td>\n",
       "      <td>137</td>\n",
       "      <td>137</td>\n",
       "      <td>137.0</td>\n",
       "      <td>0</td>\n",
       "      <td>791802.0</td>\n",
       "    </tr>\n",
       "    <tr>\n",
       "      <th>2621073</th>\n",
       "      <td>0</td>\n",
       "      <td>2001</td>\n",
       "      <td>3.0</td>\n",
       "      <td>1.0</td>\n",
       "      <td>4.0</td>\n",
       "      <td>4.0</td>\n",
       "      <td>320/150</td>\n",
       "      <td>FR</td>\n",
       "      <td>NaT</td>\n",
       "      <td>28</td>\n",
       "      <td>...</td>\n",
       "      <td></td>\n",
       "      <td></td>\n",
       "      <td>45.0</td>\n",
       "      <td>45.0</td>\n",
       "      <td>150.000000</td>\n",
       "      <td>150</td>\n",
       "      <td>150</td>\n",
       "      <td>150.0</td>\n",
       "      <td>0</td>\n",
       "      <td>714677.0</td>\n",
       "    </tr>\n",
       "    <tr>\n",
       "      <th>2621078</th>\n",
       "      <td>0</td>\n",
       "      <td>1999</td>\n",
       "      <td>6.0</td>\n",
       "      <td>1.0</td>\n",
       "      <td>4.0</td>\n",
       "      <td>4.0</td>\n",
       "      <td>324/71.1</td>\n",
       "      <td>US</td>\n",
       "      <td>NaT</td>\n",
       "      <td>28</td>\n",
       "      <td>...</td>\n",
       "      <td>DC</td>\n",
       "      <td></td>\n",
       "      <td>43.0</td>\n",
       "      <td>43.0</td>\n",
       "      <td>71.099998</td>\n",
       "      <td>71.1</td>\n",
       "      <td>71</td>\n",
       "      <td>71.0</td>\n",
       "      <td>0</td>\n",
       "      <td>597185.0</td>\n",
       "    </tr>\n",
       "    <tr>\n",
       "      <th>2621079</th>\n",
       "      <td>0</td>\n",
       "      <td>1999</td>\n",
       "      <td>1.0</td>\n",
       "      <td>NaN</td>\n",
       "      <td>4.0</td>\n",
       "      <td>4.0</td>\n",
       "      <td>324/72</td>\n",
       "      <td></td>\n",
       "      <td>NaT</td>\n",
       "      <td>28</td>\n",
       "      <td>...</td>\n",
       "      <td>GB</td>\n",
       "      <td></td>\n",
       "      <td>43.0</td>\n",
       "      <td>43.0</td>\n",
       "      <td>72.000000</td>\n",
       "      <td>72</td>\n",
       "      <td>72</td>\n",
       "      <td>72.0</td>\n",
       "      <td>0</td>\n",
       "      <td>0.0</td>\n",
       "    </tr>\n",
       "    <tr>\n",
       "      <th>2621080</th>\n",
       "      <td>0</td>\n",
       "      <td>2001</td>\n",
       "      <td>3.0</td>\n",
       "      <td>1.0</td>\n",
       "      <td>4.0</td>\n",
       "      <td>4.0</td>\n",
       "      <td>324/96</td>\n",
       "      <td>DE</td>\n",
       "      <td>NaT</td>\n",
       "      <td>28</td>\n",
       "      <td>...</td>\n",
       "      <td></td>\n",
       "      <td></td>\n",
       "      <td>43.0</td>\n",
       "      <td>43.0</td>\n",
       "      <td>96.000000</td>\n",
       "      <td>96</td>\n",
       "      <td>96</td>\n",
       "      <td>96.0</td>\n",
       "      <td>0</td>\n",
       "      <td>512710.0</td>\n",
       "    </tr>\n",
       "    <tr>\n",
       "      <th>2621083</th>\n",
       "      <td>0</td>\n",
       "      <td>2000</td>\n",
       "      <td>3.0</td>\n",
       "      <td>2.0</td>\n",
       "      <td>4.0</td>\n",
       "      <td>4.0</td>\n",
       "      <td>324/120</td>\n",
       "      <td>JP</td>\n",
       "      <td>NaT</td>\n",
       "      <td>28</td>\n",
       "      <td>...</td>\n",
       "      <td></td>\n",
       "      <td></td>\n",
       "      <td>43.0</td>\n",
       "      <td>43.0</td>\n",
       "      <td>120.000000</td>\n",
       "      <td>120</td>\n",
       "      <td>120</td>\n",
       "      <td>120.0</td>\n",
       "      <td>0</td>\n",
       "      <td>813089.0</td>\n",
       "    </tr>\n",
       "    <tr>\n",
       "      <th>2621084</th>\n",
       "      <td>0</td>\n",
       "      <td>2000</td>\n",
       "      <td>3.0</td>\n",
       "      <td>1.0</td>\n",
       "      <td>4.0</td>\n",
       "      <td>4.0</td>\n",
       "      <td>324/120</td>\n",
       "      <td>JP</td>\n",
       "      <td>NaT</td>\n",
       "      <td>28</td>\n",
       "      <td>...</td>\n",
       "      <td></td>\n",
       "      <td></td>\n",
       "      <td>43.0</td>\n",
       "      <td>43.0</td>\n",
       "      <td>120.000000</td>\n",
       "      <td>120</td>\n",
       "      <td>120</td>\n",
       "      <td>120.0</td>\n",
       "      <td>0</td>\n",
       "      <td>813089.0</td>\n",
       "    </tr>\n",
       "    <tr>\n",
       "      <th>3279508</th>\n",
       "      <td>0</td>\n",
       "      <td>2000</td>\n",
       "      <td>NaN</td>\n",
       "      <td>1.0</td>\n",
       "      <td>2.0</td>\n",
       "      <td>2.0</td>\n",
       "      <td>726/27</td>\n",
       "      <td>JP</td>\n",
       "      <td>NaT</td>\n",
       "      <td>26</td>\n",
       "      <td>...</td>\n",
       "      <td></td>\n",
       "      <td></td>\n",
       "      <td>25.0</td>\n",
       "      <td>25.0</td>\n",
       "      <td>27.000000</td>\n",
       "      <td>27</td>\n",
       "      <td>27</td>\n",
       "      <td>27.0</td>\n",
       "      <td>1076</td>\n",
       "      <td>NaN</td>\n",
       "    </tr>\n",
       "  </tbody>\n",
       "</table>\n",
       "<p>3279509 rows × 32 columns</p>\n",
       "</div>"
      ],
      "text/plain": [
       "         allcites  appyear  asscode  assgnum  cat  cat_ocl      cclass  \\\n",
       "802010       1804     1986      3.0      1.0  2.0      4.0      347/56   \n",
       "538455       1587     1980      3.0      1.0  2.0      4.0      347/56   \n",
       "761488       1555     1985      2.0      1.0  3.0      3.0    435/91.2   \n",
       "820002       1519     1986      3.0      1.0  2.0      4.0      347/56   \n",
       "634740       1482     1982      3.0      1.0  2.0      4.0      347/65   \n",
       "761481       1460     1986      2.0      1.0  3.0      3.0       435/6   \n",
       "418936       1453     1980      3.0      1.0  2.0      4.0      347/10   \n",
       "386465       1418     1980      3.0      1.0  2.0      4.0      347/57   \n",
       "534645       1390     1981      3.0      1.0  2.0      4.0      347/47   \n",
       "812739       1015     1985      2.0      1.0  3.0      3.0     606/108   \n",
       "1188759       917     1990      2.0      1.0  2.0      2.0     370/206   \n",
       "983202        768     1986      2.0      1.0  2.0      2.0     370/320   \n",
       "1664704       756     1995      1.0      NaN  2.0      2.0     709/218   \n",
       "733607        743     1983      3.0      1.0  3.0      3.0    623/1.22   \n",
       "1229725       729     1990      3.0      1.0  1.0      1.0     436/518   \n",
       "414204        687     1980      2.0      1.0  5.0      5.0     264/518   \n",
       "685660        642     1984      3.0      1.0  2.0      4.0      347/66   \n",
       "856145        623     1986      2.0      1.0  3.0      3.0    623/1.11   \n",
       "23541         620     1973      2.0      1.0  5.0      5.0     264/505   \n",
       "1140634       588     1989      2.0      1.0  2.0      2.0     370/342   \n",
       "1048172       586     1987      2.0      1.0  3.0      3.0       435/6   \n",
       "657282        585     1984      2.0      1.0  3.0      3.0     606/198   \n",
       "579214        583     1983      1.0      NaN  3.0      NaN    623/1.19   \n",
       "1197074       577     1991      2.0      1.0  6.0      6.0      53/397   \n",
       "1736888       572     1994      3.0      1.0  4.0      4.0     438/162   \n",
       "488210        565     1982      1.0      NaN  6.0      6.0     206/770   \n",
       "1836758       563     1994      2.0      1.0  2.0      2.0     455/461   \n",
       "967718        558     1987      2.0      1.0  3.0      3.0     606/194   \n",
       "818953        548     1986      2.0      1.0  3.0      3.0    623/1.11   \n",
       "881071        545     1987      2.0      1.0  3.0      3.0     606/194   \n",
       "...           ...      ...      ...      ...  ...      ...         ...   \n",
       "2621141         0     2002      3.0      1.0  4.0      4.0     327/543   \n",
       "2621146         0     2001      1.0      NaN  4.0      4.0     330/310   \n",
       "2621148         0     2000      2.0      1.0  4.0      4.0      331/57   \n",
       "2621149         0     2000      3.0      1.0  4.0      4.0    331/107G   \n",
       "2621153         0     2001      3.0      1.0  2.0      2.0      333/12   \n",
       "2621154         0     2000      3.0      1.0  2.0      2.0     333/99S   \n",
       "2621093         0     2001      2.0      1.0  4.0      4.0     324/252   \n",
       "2621092         0     2001      3.0      1.0  4.0      4.0     324/248   \n",
       "2621089         0     2001      2.0      1.0  4.0      4.0     324/173   \n",
       "2621087         0     2000      3.0      1.0  4.0      4.0   324/158.1   \n",
       "2621039         0     2000      3.0      1.0  4.0      4.0  310/156.57   \n",
       "93926           0     1975      6.0      1.0  4.0      4.0      60/770   \n",
       "93924           0     1971      6.0      1.0  4.0      4.0      60/252   \n",
       "2621047         0     1999      3.0      1.0  4.0      4.0     313/402   \n",
       "2621050         0     2001      3.0      1.0  4.0      4.0   313/477HC   \n",
       "2621053         0     2000      1.0      NaN  4.0      4.0     313/609   \n",
       "2621054         0     2000      6.0      1.0  4.0      4.0      315/58   \n",
       "2621056         0     2001      3.0      1.0  4.0      4.0   315/169.1   \n",
       "2621060         0     2000      3.0      1.0  4.0      4.0     315/362   \n",
       "2621061         0     2000      3.0      2.0  4.0      4.0     315/362   \n",
       "2621063         0     2001      2.0      1.0  4.0      4.0     315/401   \n",
       "2621067         0     1999      3.0      1.0  4.0      4.0     318/560   \n",
       "2621072         0     2001      3.0      1.0  4.0      4.0     320/137   \n",
       "2621073         0     2001      3.0      1.0  4.0      4.0     320/150   \n",
       "2621078         0     1999      6.0      1.0  4.0      4.0    324/71.1   \n",
       "2621079         0     1999      1.0      NaN  4.0      4.0      324/72   \n",
       "2621080         0     2001      3.0      1.0  4.0      4.0      324/96   \n",
       "2621083         0     2000      3.0      2.0  4.0      4.0     324/120   \n",
       "2621084         0     2000      3.0      1.0  4.0      4.0     324/120   \n",
       "3279508         0     2000      NaN      1.0  2.0      2.0      726/27   \n",
       "\n",
       "        country                ddate  gday       ...        state  status  \\\n",
       "802010       JP                  NaT     2       ...                        \n",
       "538455       JP                  NaT    31       ...                        \n",
       "761488       US  2004-07-28 00:00:00    28       ...           CA           \n",
       "820002       JP                  NaT    26       ...                        \n",
       "634740       JP                  NaT    10       ...                        \n",
       "761481       US  2004-07-28 00:00:00    28       ...           CA           \n",
       "418936       JP                  NaT    17       ...                        \n",
       "386465       JP                  NaT    26       ...                        \n",
       "534645       JP  1999-05-18 00:00:00    10       ...                        \n",
       "812739       US                  NaT    29       ...           TX           \n",
       "1188759      US                  NaT     7       ...           CA           \n",
       "983202       US                  NaT    13       ...           CA           \n",
       "1664704                          NaT     5       ...           TX           \n",
       "733607       CH                  NaT     7       ...                        \n",
       "1229725      AN                  NaT     1       ...                        \n",
       "414204       US                  NaT    20       ...           WI           \n",
       "685660       JP                  NaT    26       ...                        \n",
       "856145       US                  NaT    11       ...           TX           \n",
       "23541        US                  NaT    27       ...           DE           \n",
       "1140634      US                  NaT     8       ...           CA           \n",
       "1048172      US  2004-07-28 00:00:00    23       ...           CA           \n",
       "657282       US                  NaT     8       ...           IN           \n",
       "579214                           NaT    12       ...           OR           \n",
       "1197074      US                  NaT    12       ...           IL           \n",
       "1736888      JP                  NaT     1       ...                        \n",
       "488210                           NaT     8       ...           CO           \n",
       "1836758      US                  NaT    21       ...           NJ           \n",
       "967718       US                  NaT    12       ...           MN           \n",
       "818953       US                  NaT    26       ...           TX           \n",
       "881071       US                  NaT    31       ...           IN           \n",
       "...         ...                  ...   ...       ...          ...     ...   \n",
       "2621141      JP                  NaT    28       ...                        \n",
       "2621146                          NaT    28       ...           SE           \n",
       "2621148      US                  NaT    28       ...           CA           \n",
       "2621149      JP                  NaT    28       ...                        \n",
       "2621153      JP                  NaT    28       ...                        \n",
       "2621154      DE                  NaT    28       ...                        \n",
       "2621093      US                  NaT    28       ...           MI           \n",
       "2621092      JP                  NaT    28       ...                        \n",
       "2621089      US                  NaT    28       ...           OH           \n",
       "2621087      JP                  NaT    28       ...                        \n",
       "2621039      TW                  NaT    28       ...                        \n",
       "93926        US                  NaT    17       ...           DC           \n",
       "93924        US                  NaT    17       ...           DC           \n",
       "2621047      KR                  NaT    28       ...                        \n",
       "2621050      KR                  NaT    28       ...                        \n",
       "2621053                          NaT    28       ...           HK           \n",
       "2621054      US                  NaT    28       ...           DC           \n",
       "2621056      TW                  NaT    28       ...                        \n",
       "2621060      FR                  NaT    28       ...                        \n",
       "2621061      FR                  NaT    28       ...                        \n",
       "2621063      US                  NaT    28       ...           CA           \n",
       "2621067      JP                  NaT    28       ...                        \n",
       "2621072      CH                  NaT    28       ...                        \n",
       "2621073      FR                  NaT    28       ...                        \n",
       "2621078      US                  NaT    28       ...           DC           \n",
       "2621079                          NaT    28       ...           GB           \n",
       "2621080      DE                  NaT    28       ...                        \n",
       "2621083      JP                  NaT    28       ...                        \n",
       "2621084      JP                  NaT    28       ...                        \n",
       "3279508      JP                  NaT    26       ...                        \n",
       "\n",
       "         subcat subcat_ocl    subclass  subclass1  subclass1_ocl  \\\n",
       "802010     23.0       49.0   56.000000         56              1   \n",
       "538455     23.0       49.0   56.000000         56              1   \n",
       "761488     31.0       31.0   91.199997       91.2             91   \n",
       "820002     23.0       49.0   56.000000         56              1   \n",
       "634740     23.0       49.0   65.000000         65            140   \n",
       "761481     31.0       31.0    6.000000          6              6   \n",
       "418936     23.0       49.0   10.000000         10            140   \n",
       "386465     23.0       49.0   57.000000         57            140   \n",
       "534645     23.0       49.0   47.000000         47            140   \n",
       "812739     32.0       32.0  108.000000        108            343   \n",
       "1188759    21.0       21.0  206.000000        206              1   \n",
       "983202     21.0       21.0  320.000000        320             18   \n",
       "1664704    22.0       25.0  218.000000        218            793   \n",
       "733607     39.0       39.0    1.220000       1.22              1   \n",
       "1229725    19.0       19.0  518.000000        518            518   \n",
       "414204     51.0       51.0  518.000000        518            518   \n",
       "685660     23.0       49.0   66.000000         66            140   \n",
       "856145     39.0       32.0    1.110000       1.11            343   \n",
       "23541      51.0       51.0  505.000000        505            288   \n",
       "1140634    21.0       21.0  342.000000        342              1   \n",
       "1048172    31.0       31.0    6.000000          6              6   \n",
       "657282     32.0       32.0  198.000000        198            345   \n",
       "579214     39.0        NaN    1.190000       1.19              1   \n",
       "1197074    68.0       68.0  397.000000        397            397   \n",
       "1736888    46.0       46.0  162.000000        162             88   \n",
       "488210     68.0       68.0  770.000000        770             45   \n",
       "1836758    21.0       21.0  461.000000        461            461   \n",
       "967718     32.0       32.0  194.000000        194            343   \n",
       "818953     39.0       32.0    1.110000       1.11            343   \n",
       "881071     32.0       32.0  194.000000        194            343   \n",
       "...         ...        ...         ...        ...            ...   \n",
       "2621141    41.0       41.0  543.000000        543            543   \n",
       "2621146    41.0       41.0  310.000000        310            310   \n",
       "2621148    41.0       41.0   57.000000         57             57   \n",
       "2621149    41.0       41.0         NaN       107G            107   \n",
       "2621153    21.0       21.0   12.000000         12             12   \n",
       "2621154    21.0       21.0         NaN        99S             99   \n",
       "2621093    43.0       43.0  252.000000        252            252   \n",
       "2621092    43.0       43.0  248.000000        248            248   \n",
       "2621089    43.0       43.0  173.000000        173            173   \n",
       "2621087    43.0       43.0  158.100006      158.1            158   \n",
       "2621039    45.0       45.0  156.570007     156.57            156   \n",
       "93926      45.0       45.0  770.000000        770            271   \n",
       "93924      45.0       45.0  252.000000        252            252   \n",
       "2621047    42.0       42.0  402.000000        402            402   \n",
       "2621050    42.0       42.0         NaN      477HC            477   \n",
       "2621053    42.0       42.0  609.000000        609            609   \n",
       "2621054    42.0       42.0   58.000000         58             58   \n",
       "2621056    42.0       42.0  169.100006      169.1            169   \n",
       "2621060    42.0       42.0  362.000000        362            362   \n",
       "2621061    42.0       42.0  362.000000        362            362   \n",
       "2621063    42.0       42.0  401.000000        401            401   \n",
       "2621067    45.0       45.0  560.000000        560            560   \n",
       "2621072    45.0       45.0  137.000000        137            137   \n",
       "2621073    45.0       45.0  150.000000        150            150   \n",
       "2621078    43.0       43.0   71.099998       71.1             71   \n",
       "2621079    43.0       43.0   72.000000         72             72   \n",
       "2621080    43.0       43.0   96.000000         96             96   \n",
       "2621083    43.0       43.0  120.000000        120            120   \n",
       "2621084    43.0       43.0  120.000000        120            120   \n",
       "3279508    25.0       25.0   27.000000         27             27   \n",
       "\n",
       "         subclass_ocl  term_extension  uspto_assignee  \n",
       "802010            1.0               0         87490.0  \n",
       "538455            1.0               0         87490.0  \n",
       "761488           91.0               0         97235.0  \n",
       "820002            1.0               0         87490.0  \n",
       "634740          140.0               0         87490.0  \n",
       "761481            6.0               0         97235.0  \n",
       "418936          140.0               0         87490.0  \n",
       "386465          140.0               0         87490.0  \n",
       "534645          140.0               0         87490.0  \n",
       "812739          343.0               0        185985.0  \n",
       "1188759           1.0               0        460225.0  \n",
       "983202           18.0               0        460225.0  \n",
       "1664704         793.0               0             0.0  \n",
       "733607            1.0               0        509095.0  \n",
       "1229725         518.0               0        685535.0  \n",
       "414204          518.0               0        313200.0  \n",
       "685660          140.0               0        171065.0  \n",
       "856145          343.0               0        185985.0  \n",
       "23541           288.0               0        774265.0  \n",
       "1140634           1.0               0        460225.0  \n",
       "1048172           6.0               0         97235.0  \n",
       "657282          345.0               0        121730.0  \n",
       "579214            1.0               0             0.0  \n",
       "1197074         397.0               0        251075.0  \n",
       "1736888          88.0               0        504585.0  \n",
       "488210           45.0               0             0.0  \n",
       "1836758         461.0               0         58495.0  \n",
       "967718          343.0               0        365520.0  \n",
       "818953          343.0               0        185985.0  \n",
       "881071          343.0               0        121730.0  \n",
       "...               ...             ...             ...  \n",
       "2621141         543.0               0        252865.0  \n",
       "2621146         310.0               0             0.0  \n",
       "2621148          57.0               0         33525.0  \n",
       "2621149         107.0               0        389720.0  \n",
       "2621153          12.0               0        314825.0  \n",
       "2621154          99.0               0        478430.0  \n",
       "2621093         252.0               0        762382.0  \n",
       "2621092         248.0               0        252865.0  \n",
       "2621089         173.0               0        576120.0  \n",
       "2621087         158.0               0        358975.0  \n",
       "2621039         156.0               0        703520.0  \n",
       "93926           271.0               0        597185.0  \n",
       "93924           252.0               0        597270.0  \n",
       "2621047         402.0               0        712893.0  \n",
       "2621050         477.0               0        780849.0  \n",
       "2621053         609.0               0             0.0  \n",
       "2621054          58.0               0        597185.0  \n",
       "2621056         169.0               0        703520.0  \n",
       "2621060         362.0               0        332795.0  \n",
       "2621061         362.0               0        332795.0  \n",
       "2621063         401.0               0        394010.0  \n",
       "2621067         560.0               0        731003.0  \n",
       "2621072         137.0               0        791802.0  \n",
       "2621073         150.0               0        714677.0  \n",
       "2621078          71.0               0        597185.0  \n",
       "2621079          72.0               0             0.0  \n",
       "2621080          96.0               0        512710.0  \n",
       "2621083         120.0               0        813089.0  \n",
       "2621084         120.0               0        813089.0  \n",
       "3279508          27.0            1076             NaN  \n",
       "\n",
       "[3279509 rows x 32 columns]"
      ]
     },
     "execution_count": 10,
     "metadata": {},
     "output_type": "execute_result"
    }
   ],
   "source": [
    "pat76_06_assg_df.sort_values(by='allcites', ascending=False)"
   ]
  },
  {
   "cell_type": "code",
   "execution_count": 11,
   "metadata": {
    "collapsed": false
   },
   "outputs": [
    {
     "name": "stdout",
     "output_type": "stream",
     "text": [
      "total 4843352\r\n",
      "-rw-r--r--  1 ahuxor  staff      21452 19 Aug 22:54 NBER_generality_originality_heatmap.pdf\r\n",
      "-rw-r--r--  1 ahuxor  staff       1097 22 Jul 19:34 Untitled.ipynb\r\n",
      "drwxr-xr-x  4 ahuxor  staff        136 23 Jul 14:59 \u001b[34mUpdate_to_NBER\u001b[m\u001b[m\r\n",
      "-rw-r--r--@ 1 ahuxor  staff   51973915  4 Aug  2010 assignee.dta\r\n",
      "-rwxr-xr-x@ 1 ahuxor  staff  236509670 28 Mar  2009 \u001b[31mcite76_06.dta\u001b[m\u001b[m\r\n",
      "-rw-r--r--  1 ahuxor  staff       1928  8 Aug 12:03 create_pat76_06_citesnum_hjtwt_nclaims_patent.ipynb\r\n",
      "-rw-r--r--  1 ahuxor  staff     266567 19 Aug 20:49 des_stats_76_06_assg.ipynb\r\n",
      "-rw-r--r--  1 ahuxor  staff      74125 11 Aug 13:21 desc_stats_ cite76_06.ipynb\r\n",
      "-rw-r--r--  1 ahuxor  staff       2146 19 Aug 13:25 desc_stats_pat76_06_ipc.ipynb\r\n",
      "-rw-r--r--  1 ahuxor  staff     173890 20 Aug 10:25 distance_from_section.ipynb\r\n",
      "-rw-rw-rw-@ 1 ahuxor  staff     788072 28 Jul  2010 dynass.dat\r\n",
      "-rw-r--r--  1 ahuxor  staff      26181 16 Aug 20:52 getdummy_tests.ipynb\r\n",
      "-rw-r--r--  1 ahuxor  staff      49765 20 Aug 10:29 nber_experiments.ipynb\r\n",
      "-rw-r--r--  1 ahuxor  staff      54941 19 Aug 15:46 nber_feature_vectors.ipynb\r\n",
      "-rw-r--r--  1 ahuxor  staff      22220 11 Aug 13:21 num_claims_experiments.ipynb\r\n",
      "-rwxr-xr-x@ 1 ahuxor  staff   56791108 17 Aug  2013 \u001b[31morig_gen_76_06.dta\u001b[m\u001b[m\r\n",
      "-rw-r--r--@ 1 ahuxor  staff  364030957  4 Aug  2010 pat76_06_assg.dta\r\n",
      "-rw-r--r--  1 ahuxor  staff  606712645 11 Aug 21:24 pat76_06_assg_minus_singular_ipc_inter.csv\r\n",
      "-rw-r--r--  1 ahuxor  staff  108491068  8 Aug 12:02 pat76_06_citesnum_hjtwt_nclaims_patent.csv\r\n",
      "-rw-r--r--  1 ahuxor  staff   24550084  7 Aug 17:51 pat76_06_citesnum_hjtwt_nclaims_patent.csv.gz\r\n",
      "-rw-r--r--@ 1 ahuxor  staff  252609858  4 Aug  2010 pat76_06_ipc.dta\r\n",
      "-rw-r--r--  1 ahuxor  staff  510687103 19 Aug 13:56 pat76_06_ipc_df_modified.csv\r\n",
      "-rw-r--r--@ 1 ahuxor  staff  263827184  7 Apr  2008 patassg.dta\r\n",
      "-rw-r--r--  1 ahuxor  staff      16015  8 Aug 09:02 patentsView_experiments.ipynb\r\n",
      "-rw-r--r--@ 1 ahuxor  staff    1702925 19 Dec  2008 pdpcohdr.dat\r\n",
      "-rw-r--r--  1 ahuxor  staff      13872 17 Aug 21:18 plot_U_shape_curve.ipynb\r\n",
      "-rw-r--r--  1 ahuxor  staff      11611 19 Aug 13:56 prepare_ipc_datafile.ipynb\r\n",
      "-rw-r--r--  1 ahuxor  staff     111529 17 Aug 13:13 second_simple_use_example.ipynb\r\n",
      "-rw-r--r--  1 ahuxor  staff      32755 16 Aug 20:52 simple_use_example.ipynb\r\n",
      "-rw-r--r--  1 ahuxor  staff     176714 17 Aug 20:56 third_use_example.ipynb\r\n",
      "drwxr-xr-x  7 ahuxor  staff        238  8 Jun 11:21 \u001b[34muser_documentation\u001b[m\u001b[m\r\n"
     ]
    }
   ],
   "source": [
    "!ls -l"
   ]
  },
  {
   "cell_type": "code",
   "execution_count": 12,
   "metadata": {
    "collapsed": false
   },
   "outputs": [
    {
     "name": "stdout",
     "output_type": "stream",
     "text": [
      "head: assignee.asc: No such file or directory\r\n"
     ]
    }
   ],
   "source": [
    "# note that first few assignees do seem to actually start with an ampersand\n",
    "junk = pd.read_stata('assignee.dta')\n",
    "!head -5 assignee.asc"
   ]
  },
  {
   "cell_type": "code",
   "execution_count": 13,
   "metadata": {
    "collapsed": false
   },
   "outputs": [],
   "source": [
    "cite76_06_df = pd.read_stata('cite76_06.dta')\n"
   ]
  },
  {
   "cell_type": "code",
   "execution_count": 14,
   "metadata": {
    "collapsed": false
   },
   "outputs": [
    {
     "data": {
      "text/html": [
       "<div>\n",
       "<table border=\"1\" class=\"dataframe\">\n",
       "  <thead>\n",
       "    <tr style=\"text-align: right;\">\n",
       "      <th></th>\n",
       "      <th>citing</th>\n",
       "      <th>cited</th>\n",
       "      <th>ncites7606</th>\n",
       "    </tr>\n",
       "  </thead>\n",
       "  <tbody>\n",
       "    <tr>\n",
       "      <th>0</th>\n",
       "      <td>5135226</td>\n",
       "      <td>3930271</td>\n",
       "      <td>6</td>\n",
       "    </tr>\n",
       "    <tr>\n",
       "      <th>1</th>\n",
       "      <td>5592695</td>\n",
       "      <td>3930271</td>\n",
       "      <td>6</td>\n",
       "    </tr>\n",
       "    <tr>\n",
       "      <th>2</th>\n",
       "      <td>5621918</td>\n",
       "      <td>3930271</td>\n",
       "      <td>6</td>\n",
       "    </tr>\n",
       "    <tr>\n",
       "      <th>3</th>\n",
       "      <td>5624296</td>\n",
       "      <td>3930271</td>\n",
       "      <td>6</td>\n",
       "    </tr>\n",
       "    <tr>\n",
       "      <th>4</th>\n",
       "      <td>5675839</td>\n",
       "      <td>3930271</td>\n",
       "      <td>6</td>\n",
       "    </tr>\n",
       "  </tbody>\n",
       "</table>\n",
       "</div>"
      ],
      "text/plain": [
       "    citing    cited  ncites7606\n",
       "0  5135226  3930271           6\n",
       "1  5592695  3930271           6\n",
       "2  5621918  3930271           6\n",
       "3  5624296  3930271           6\n",
       "4  5675839  3930271           6"
      ]
     },
     "execution_count": 14,
     "metadata": {},
     "output_type": "execute_result"
    }
   ],
   "source": [
    "# it looks as if the cited patents do not go back before 1976\n",
    "# so the lowest cited patent number (earlier?) is 3939271, dated 6 Jan 1976\n",
    "cite76_06_df.sort_values(by='cited', ascending=True).head()"
   ]
  },
  {
   "cell_type": "code",
   "execution_count": 15,
   "metadata": {
    "collapsed": false
   },
   "outputs": [
    {
     "data": {
      "text/plain": [
       "23650891"
      ]
     },
     "execution_count": 15,
     "metadata": {},
     "output_type": "execute_result"
    }
   ],
   "source": [
    "len(cite76_06_df)"
   ]
  },
  {
   "cell_type": "code",
   "execution_count": 16,
   "metadata": {
    "collapsed": true
   },
   "outputs": [],
   "source": [
    "cited_patent_nums = cite76_06_df.cited.unique()"
   ]
  },
  {
   "cell_type": "code",
   "execution_count": 17,
   "metadata": {
    "collapsed": false
   },
   "outputs": [
    {
     "data": {
      "text/plain": [
       "2516969"
      ]
     },
     "execution_count": 17,
     "metadata": {},
     "output_type": "execute_result"
    }
   ],
   "source": [
    "len(cited_patent_nums)"
   ]
  },
  {
   "cell_type": "code",
   "execution_count": 18,
   "metadata": {
    "collapsed": false
   },
   "outputs": [
    {
     "data": {
      "text/html": [
       "<div>\n",
       "<table border=\"1\" class=\"dataframe\">\n",
       "  <thead>\n",
       "    <tr style=\"text-align: right;\">\n",
       "      <th></th>\n",
       "      <th>citing</th>\n",
       "      <th>cited</th>\n",
       "      <th>ncites7606</th>\n",
       "    </tr>\n",
       "  </thead>\n",
       "  <tbody>\n",
       "  </tbody>\n",
       "</table>\n",
       "</div>"
      ],
      "text/plain": [
       "Empty DataFrame\n",
       "Columns: [citing, cited, ncites7606]\n",
       "Index: []"
      ]
     },
     "execution_count": 18,
     "metadata": {},
     "output_type": "execute_result"
    }
   ],
   "source": [
    "# this patent is for a golfing glove, which itself cites 2 older patents: 2379430 & 2782422\n",
    "# but if I look for citing = 3939271, I get an empty frame\n",
    "cite76_06_df[cite76_06_df.citing==3939271]"
   ]
  },
  {
   "cell_type": "code",
   "execution_count": 19,
   "metadata": {
    "collapsed": false
   },
   "outputs": [
    {
     "data": {
      "text/html": [
       "<div>\n",
       "<table border=\"1\" class=\"dataframe\">\n",
       "  <thead>\n",
       "    <tr style=\"text-align: right;\">\n",
       "      <th></th>\n",
       "      <th>cited</th>\n",
       "      <th>Group_Count</th>\n",
       "    </tr>\n",
       "  </thead>\n",
       "  <tbody>\n",
       "    <tr>\n",
       "      <th>742259</th>\n",
       "      <td>4723129</td>\n",
       "      <td>1804</td>\n",
       "    </tr>\n",
       "    <tr>\n",
       "      <th>497379</th>\n",
       "      <td>4463359</td>\n",
       "      <td>1587</td>\n",
       "    </tr>\n",
       "    <tr>\n",
       "      <th>704507</th>\n",
       "      <td>4683202</td>\n",
       "      <td>1555</td>\n",
       "    </tr>\n",
       "    <tr>\n",
       "      <th>758951</th>\n",
       "      <td>4740796</td>\n",
       "      <td>1519</td>\n",
       "    </tr>\n",
       "    <tr>\n",
       "      <th>586651</th>\n",
       "      <td>4558333</td>\n",
       "      <td>1482</td>\n",
       "    </tr>\n",
       "  </tbody>\n",
       "</table>\n",
       "</div>"
      ],
      "text/plain": [
       "          cited  Group_Count\n",
       "742259  4723129         1804\n",
       "497379  4463359         1587\n",
       "704507  4683202         1555\n",
       "758951  4740796         1519\n",
       "586651  4558333         1482"
      ]
     },
     "execution_count": 19,
     "metadata": {},
     "output_type": "execute_result"
    }
   ],
   "source": [
    "# group citation data by cited patent number\n",
    "grouped_cites = cite76_06_df.groupby(by='cited')\n",
    "grouped_cites_df = pd.DataFrame(grouped_cites.size().reset_index(name = \"Group_Count\"))\n",
    "grouped_cites_df_sorted = grouped_cites_df.sort_values(by='Group_Count', ascending=False)\n",
    "grouped_cites_df_sorted.head()"
   ]
  },
  {
   "cell_type": "code",
   "execution_count": 20,
   "metadata": {
    "collapsed": false
   },
   "outputs": [
    {
     "data": {
      "text/html": [
       "<div>\n",
       "<table border=\"1\" class=\"dataframe\">\n",
       "  <thead>\n",
       "    <tr style=\"text-align: right;\">\n",
       "      <th></th>\n",
       "      <th>cited</th>\n",
       "      <th>Group_Count</th>\n",
       "    </tr>\n",
       "  </thead>\n",
       "  <tbody>\n",
       "    <tr>\n",
       "      <th>2516964</th>\n",
       "      <td>6058129</td>\n",
       "      <td>1</td>\n",
       "    </tr>\n",
       "    <tr>\n",
       "      <th>2516965</th>\n",
       "      <td>4192258</td>\n",
       "      <td>1</td>\n",
       "    </tr>\n",
       "    <tr>\n",
       "      <th>2516966</th>\n",
       "      <td>6058126</td>\n",
       "      <td>1</td>\n",
       "    </tr>\n",
       "    <tr>\n",
       "      <th>2516967</th>\n",
       "      <td>6058123</td>\n",
       "      <td>1</td>\n",
       "    </tr>\n",
       "    <tr>\n",
       "      <th>2516968</th>\n",
       "      <td>7118895</td>\n",
       "      <td>1</td>\n",
       "    </tr>\n",
       "  </tbody>\n",
       "</table>\n",
       "</div>"
      ],
      "text/plain": [
       "           cited  Group_Count\n",
       "2516964  6058129            1\n",
       "2516965  4192258            1\n",
       "2516966  6058126            1\n",
       "2516967  6058123            1\n",
       "2516968  7118895            1"
      ]
     },
     "execution_count": 20,
     "metadata": {},
     "output_type": "execute_result"
    }
   ],
   "source": [
    "aa = grouped_cites_df_sorted.reset_index()[['cited','Group_Count']]\n",
    "aa.tail()"
   ]
  },
  {
   "cell_type": "code",
   "execution_count": 21,
   "metadata": {
    "collapsed": false
   },
   "outputs": [
    {
     "data": {
      "text/plain": [
       "<matplotlib.axes._subplots.AxesSubplot at 0x1d21b40f0>"
      ]
     },
     "execution_count": 21,
     "metadata": {},
     "output_type": "execute_result"
    },
    {
     "data": {
      "image/png": "[encoded data removed]",
      "text/plain": [
       "<matplotlib.figure.Figure at 0x1d2126c18>"
      ]
     },
     "metadata": {},
     "output_type": "display_data"
    }
   ],
   "source": [
    "aa.plot(y='Group_Count',c='r',xlim=(-500,2516968),linewidth=5)"
   ]
  },
  {
   "cell_type": "code",
   "execution_count": 22,
   "metadata": {
    "collapsed": false
   },
   "outputs": [
    {
     "name": "stderr",
     "output_type": "stream",
     "text": [
      "/Users/ahuxor/anaconda/lib/python3.4/site-packages/ipykernel/__main__.py:3: SettingWithCopyWarning: \n",
      "A value is trying to be set on a copy of a slice from a DataFrame.\n",
      "Try using .loc[row_indexer,col_indexer] = value instead\n",
      "\n",
      "See the caveats in the documentation: http://pandas.pydata.org/pandas-docs/stable/indexing.html#indexing-view-versus-copy\n",
      "  app.launch_new_instance()\n",
      "/Users/ahuxor/anaconda/lib/python3.4/site-packages/ipykernel/__main__.py:4: SettingWithCopyWarning: \n",
      "A value is trying to be set on a copy of a slice from a DataFrame.\n",
      "Try using .loc[row_indexer,col_indexer] = value instead\n",
      "\n",
      "See the caveats in the documentation: http://pandas.pydata.org/pandas-docs/stable/indexing.html#indexing-view-versus-copy\n"
     ]
    },
    {
     "data": {
      "text/html": [
       "<div>\n",
       "<table border=\"1\" class=\"dataframe\">\n",
       "  <thead>\n",
       "    <tr style=\"text-align: right;\">\n",
       "      <th></th>\n",
       "      <th>cited</th>\n",
       "      <th>Group_Count</th>\n",
       "      <th>log_counts</th>\n",
       "      <th>log_index</th>\n",
       "    </tr>\n",
       "  </thead>\n",
       "  <tbody>\n",
       "    <tr>\n",
       "      <th>1</th>\n",
       "      <td>4463359</td>\n",
       "      <td>1587</td>\n",
       "      <td>3.200577</td>\n",
       "      <td>0.000000</td>\n",
       "    </tr>\n",
       "    <tr>\n",
       "      <th>2</th>\n",
       "      <td>4683202</td>\n",
       "      <td>1555</td>\n",
       "      <td>3.191730</td>\n",
       "      <td>0.301030</td>\n",
       "    </tr>\n",
       "    <tr>\n",
       "      <th>3</th>\n",
       "      <td>4740796</td>\n",
       "      <td>1519</td>\n",
       "      <td>3.181558</td>\n",
       "      <td>0.477121</td>\n",
       "    </tr>\n",
       "    <tr>\n",
       "      <th>4</th>\n",
       "      <td>4558333</td>\n",
       "      <td>1482</td>\n",
       "      <td>3.170848</td>\n",
       "      <td>0.602060</td>\n",
       "    </tr>\n",
       "    <tr>\n",
       "      <th>5</th>\n",
       "      <td>4683195</td>\n",
       "      <td>1460</td>\n",
       "      <td>3.164353</td>\n",
       "      <td>0.698970</td>\n",
       "    </tr>\n",
       "    <tr>\n",
       "      <th>6</th>\n",
       "      <td>4345262</td>\n",
       "      <td>1453</td>\n",
       "      <td>3.162266</td>\n",
       "      <td>0.778151</td>\n",
       "    </tr>\n",
       "    <tr>\n",
       "      <th>7</th>\n",
       "      <td>4313124</td>\n",
       "      <td>1418</td>\n",
       "      <td>3.151676</td>\n",
       "      <td>0.845098</td>\n",
       "    </tr>\n",
       "    <tr>\n",
       "      <th>8</th>\n",
       "      <td>4459600</td>\n",
       "      <td>1390</td>\n",
       "      <td>3.143015</td>\n",
       "      <td>0.903090</td>\n",
       "    </tr>\n",
       "    <tr>\n",
       "      <th>9</th>\n",
       "      <td>4733665</td>\n",
       "      <td>1015</td>\n",
       "      <td>3.006466</td>\n",
       "      <td>0.954243</td>\n",
       "    </tr>\n",
       "    <tr>\n",
       "      <th>10</th>\n",
       "      <td>5103459</td>\n",
       "      <td>917</td>\n",
       "      <td>2.962369</td>\n",
       "      <td>1.000000</td>\n",
       "    </tr>\n",
       "    <tr>\n",
       "      <th>11</th>\n",
       "      <td>4901307</td>\n",
       "      <td>768</td>\n",
       "      <td>2.885361</td>\n",
       "      <td>1.041393</td>\n",
       "    </tr>\n",
       "    <tr>\n",
       "      <th>12</th>\n",
       "      <td>5572643</td>\n",
       "      <td>756</td>\n",
       "      <td>2.878522</td>\n",
       "      <td>1.079181</td>\n",
       "    </tr>\n",
       "    <tr>\n",
       "      <th>13</th>\n",
       "      <td>4655771</td>\n",
       "      <td>743</td>\n",
       "      <td>2.870989</td>\n",
       "      <td>1.113943</td>\n",
       "    </tr>\n",
       "    <tr>\n",
       "      <th>14</th>\n",
       "      <td>5143854</td>\n",
       "      <td>729</td>\n",
       "      <td>2.862728</td>\n",
       "      <td>1.146128</td>\n",
       "    </tr>\n",
       "    <tr>\n",
       "      <th>15</th>\n",
       "      <td>4340563</td>\n",
       "      <td>687</td>\n",
       "      <td>2.836957</td>\n",
       "      <td>1.176091</td>\n",
       "    </tr>\n",
       "  </tbody>\n",
       "</table>\n",
       "</div>"
      ],
      "text/plain": [
       "      cited  Group_Count  log_counts  log_index\n",
       "1   4463359         1587    3.200577   0.000000\n",
       "2   4683202         1555    3.191730   0.301030\n",
       "3   4740796         1519    3.181558   0.477121\n",
       "4   4558333         1482    3.170848   0.602060\n",
       "5   4683195         1460    3.164353   0.698970\n",
       "6   4345262         1453    3.162266   0.778151\n",
       "7   4313124         1418    3.151676   0.845098\n",
       "8   4459600         1390    3.143015   0.903090\n",
       "9   4733665         1015    3.006466   0.954243\n",
       "10  5103459          917    2.962369   1.000000\n",
       "11  4901307          768    2.885361   1.041393\n",
       "12  5572643          756    2.878522   1.079181\n",
       "13  4655771          743    2.870989   1.113943\n",
       "14  5143854          729    2.862728   1.146128\n",
       "15  4340563          687    2.836957   1.176091"
      ]
     },
     "execution_count": 22,
     "metadata": {},
     "output_type": "execute_result"
    }
   ],
   "source": [
    "# get log of counts\n",
    "bb = aa[1:]\n",
    "bb['log_counts'] = np.log10(bb.Group_Count) \n",
    "bb['log_index'] = np.log10(bb.index) \n",
    "\n",
    "bb.head(15)"
   ]
  },
  {
   "cell_type": "code",
   "execution_count": 23,
   "metadata": {
    "collapsed": false
   },
   "outputs": [
    {
     "data": {
      "text/plain": [
       "<matplotlib.axes._subplots.AxesSubplot at 0x1c7c779b0>"
      ]
     },
     "execution_count": 23,
     "metadata": {},
     "output_type": "execute_result"
    },
    {
     "data": {
      "image/png": "[encoded data removed]",
      "text/plain": [
       "<matplotlib.figure.Figure at 0x1fb90dba8>"
      ]
     },
     "metadata": {},
     "output_type": "display_data"
    }
   ],
   "source": [
    "# plot log-log of index against patant counts. Seems to be a shortfall at top end.\n",
    "bb.plot(x='log_index',y='log_counts',c='r',linewidth=3)"
   ]
  },
  {
   "cell_type": "code",
   "execution_count": 24,
   "metadata": {
    "collapsed": true
   },
   "outputs": [],
   "source": [
    "# not a very good zipf law. This may be due to thos at the latter years not having time to accrue citations.\n",
    "# I should maybe use only the first deciade or so, or use their citation correction factor.\n",
    "# but need to merge a few datfiles first."
   ]
  },
  {
   "cell_type": "code",
   "execution_count": 25,
   "metadata": {
    "collapsed": false
   },
   "outputs": [],
   "source": [
    "# read in originality and generality measures data, which is only in the Strata9 .dta format\n",
    "orig_gen_76_06_df = pd.read_stata('orig_gen_76_06.dta')"
   ]
  },
  {
   "cell_type": "code",
   "execution_count": 26,
   "metadata": {
    "collapsed": false
   },
   "outputs": [
    {
     "data": {
      "text/html": [
       "<div>\n",
       "<table border=\"1\" class=\"dataframe\">\n",
       "  <thead>\n",
       "    <tr style=\"text-align: right;\">\n",
       "      <th></th>\n",
       "      <th>general</th>\n",
       "      <th>ncited</th>\n",
       "      <th>nciting</th>\n",
       "      <th>orig</th>\n",
       "      <th>patent</th>\n",
       "      <th>year</th>\n",
       "    </tr>\n",
       "  </thead>\n",
       "  <tbody>\n",
       "    <tr>\n",
       "      <th>197164</th>\n",
       "      <td>0.207468</td>\n",
       "      <td>82</td>\n",
       "      <td>101</td>\n",
       "      <td>0.616832</td>\n",
       "      <td>4373932</td>\n",
       "      <td>1981.0</td>\n",
       "    </tr>\n",
       "    <tr>\n",
       "      <th>661362</th>\n",
       "      <td>0.345455</td>\n",
       "      <td>11</td>\n",
       "      <td>137</td>\n",
       "      <td>0.758051</td>\n",
       "      <td>4906475</td>\n",
       "      <td>1988.0</td>\n",
       "    </tr>\n",
       "    <tr>\n",
       "      <th>747013</th>\n",
       "      <td>0.514286</td>\n",
       "      <td>21</td>\n",
       "      <td>117</td>\n",
       "      <td>0.320365</td>\n",
       "      <td>4999547</td>\n",
       "      <td>1986.0</td>\n",
       "    </tr>\n",
       "    <tr>\n",
       "      <th>751976</th>\n",
       "      <td>0.380952</td>\n",
       "      <td>28</td>\n",
       "      <td>109</td>\n",
       "      <td>0.288481</td>\n",
       "      <td>5004944</td>\n",
       "      <td>1987.0</td>\n",
       "    </tr>\n",
       "    <tr>\n",
       "      <th>769496</th>\n",
       "      <td>0.890110</td>\n",
       "      <td>14</td>\n",
       "      <td>129</td>\n",
       "      <td>0.887355</td>\n",
       "      <td>5023891</td>\n",
       "      <td>1989.0</td>\n",
       "    </tr>\n",
       "  </tbody>\n",
       "</table>\n",
       "</div>"
      ],
      "text/plain": [
       "         general  ncited  nciting      orig   patent    year\n",
       "197164  0.207468      82      101  0.616832  4373932  1981.0\n",
       "661362  0.345455      11      137  0.758051  4906475  1988.0\n",
       "747013  0.514286      21      117  0.320365  4999547  1986.0\n",
       "751976  0.380952      28      109  0.288481  5004944  1987.0\n",
       "769496  0.890110      14      129  0.887355  5023891  1989.0"
      ]
     },
     "execution_count": 26,
     "metadata": {},
     "output_type": "execute_result"
    }
   ],
   "source": [
    "orig_gen_76_06_df[orig_gen_76_06_df.nciting>100].head()"
   ]
  },
  {
   "cell_type": "code",
   "execution_count": 27,
   "metadata": {
    "collapsed": false
   },
   "outputs": [
    {
     "data": {
      "text/plain": [
       "<matplotlib.collections.PathCollection at 0x1d88927f0>"
      ]
     },
     "execution_count": 27,
     "metadata": {},
     "output_type": "execute_result"
    },
    {
     "data": {
      "image/png": "[encoded data removed]",
      "text/plain": [
       "<matplotlib.figure.Figure at 0x1d1fb62b0>"
      ]
     },
     "metadata": {},
     "output_type": "display_data"
    }
   ],
   "source": [
    "plt.scatter(orig_gen_76_06_df.nciting,orig_gen_76_06_df.orig,marker='.')"
   ]
  },
  {
   "cell_type": "code",
   "execution_count": 357,
   "metadata": {
    "collapsed": false
   },
   "outputs": [
    {
     "data": {
      "text/html": [
       "<div>\n",
       "<table border=\"1\" class=\"dataframe\">\n",
       "  <thead>\n",
       "    <tr style=\"text-align: right;\">\n",
       "      <th></th>\n",
       "      <th>general</th>\n",
       "      <th>ncited</th>\n",
       "      <th>nciting</th>\n",
       "      <th>orig</th>\n",
       "      <th>patent</th>\n",
       "      <th>year</th>\n",
       "    </tr>\n",
       "  </thead>\n",
       "  <tbody>\n",
       "    <tr>\n",
       "      <th>9</th>\n",
       "      <td>0.179435</td>\n",
       "      <td>32</td>\n",
       "      <td>3</td>\n",
       "      <td>0.666667</td>\n",
       "      <td>3931349</td>\n",
       "      <td>1974.0</td>\n",
       "    </tr>\n",
       "    <tr>\n",
       "      <th>22</th>\n",
       "      <td>0.500000</td>\n",
       "      <td>4</td>\n",
       "      <td>2</td>\n",
       "      <td>1.000000</td>\n",
       "      <td>3965241</td>\n",
       "      <td>1975.0</td>\n",
       "    </tr>\n",
       "    <tr>\n",
       "      <th>35</th>\n",
       "      <td>0.800000</td>\n",
       "      <td>6</td>\n",
       "      <td>2</td>\n",
       "      <td>1.000000</td>\n",
       "      <td>3970769</td>\n",
       "      <td>1974.0</td>\n",
       "    </tr>\n",
       "    <tr>\n",
       "      <th>41</th>\n",
       "      <td>0.536842</td>\n",
       "      <td>20</td>\n",
       "      <td>2</td>\n",
       "      <td>1.000000</td>\n",
       "      <td>3971877</td>\n",
       "      <td>1975.0</td>\n",
       "    </tr>\n",
       "    <tr>\n",
       "      <th>57</th>\n",
       "      <td>NaN</td>\n",
       "      <td>1</td>\n",
       "      <td>2</td>\n",
       "      <td>0.000000</td>\n",
       "      <td>3974168</td>\n",
       "      <td>1974.0</td>\n",
       "    </tr>\n",
       "  </tbody>\n",
       "</table>\n",
       "</div>"
      ],
      "text/plain": [
       "     general  ncited  nciting      orig   patent    year\n",
       "9   0.179435      32        3  0.666667  3931349  1974.0\n",
       "22  0.500000       4        2  1.000000  3965241  1975.0\n",
       "35  0.800000       6        2  1.000000  3970769  1974.0\n",
       "41  0.536842      20        2  1.000000  3971877  1975.0\n",
       "57       NaN       1        2  0.000000  3974168  1974.0"
      ]
     },
     "execution_count": 357,
     "metadata": {},
     "output_type": "execute_result"
    }
   ],
   "source": [
    "o_g_notnull.head()"
   ]
  },
  {
   "cell_type": "code",
   "execution_count": 29,
   "metadata": {
    "collapsed": false
   },
   "outputs": [
    {
     "data": {
      "image/png": "[encoded data removed]",
      "text/plain": [
       "<matplotlib.figure.Figure at 0x23e411dd8>"
      ]
     },
     "metadata": {},
     "output_type": "display_data"
    }
   ],
   "source": [
    "from matplotlib.colors import LogNorm\n",
    "o_g_notnull = orig_gen_76_06_df[(orig_gen_76_06_df.nciting.notnull()) & (orig_gen_76_06_df.orig.notnull())]\n",
    "\n",
    "plt.hist2d(o_g_notnull.orig,o_g_notnull.nciting, cmap='gist_rainbow',bins=[100,100],norm = LogNorm())\n",
    "cb = plt.colorbar()\n",
    "cb.set_label('Counts per bin')\n",
    "plt.savefig(\"/Users/ahuxor/MSc/Thesis_Project/msc_thesis/Figs/orig_ncites_heatmap.pdf\", bbox_inches = 'tight')\n"
   ]
  },
  {
   "cell_type": "code",
   "execution_count": 30,
   "metadata": {
    "collapsed": true
   },
   "outputs": [],
   "source": [
    "# looks promising as almost an inverted U-shape\n",
    "# need to subset data to be from 1976 to 2000 as patents near 2006 \n",
    "# do not have time to accrue citations\n",
    "o_g_notnull_76_00 = o_g_notnull[o_g_notnull.year<2001]"
   ]
  },
  {
   "cell_type": "code",
   "execution_count": 31,
   "metadata": {
    "collapsed": false
   },
   "outputs": [
    {
     "data": {
      "image/png": "[encoded data removed]",
      "text/plain": [
       "<matplotlib.figure.Figure at 0x1d7c37ac8>"
      ]
     },
     "metadata": {},
     "output_type": "display_data"
    }
   ],
   "source": [
    "# new plot with data from only 1976 to 200\n",
    "\n",
    "plt.hist2d(o_g_notnull_76_00.orig,o_g_notnull_76_00.nciting, cmap='gist_ncar',bins=[100,100],norm = LogNorm())\n",
    "cb = plt.colorbar()\n",
    "cb.set_label('Counts per bin')\n",
    "plt.savefig(\"/Users/ahuxor/MSc/Thesis_Project/msc_thesis/Figs/orig_ncites_76_00_heatmap.pdf\", bbox_inches = 'tight')\n"
   ]
  },
  {
   "cell_type": "code",
   "execution_count": 248,
   "metadata": {
    "collapsed": false
   },
   "outputs": [
    {
     "name": "stderr",
     "output_type": "stream",
     "text": [
      "/Users/ahuxor/anaconda/lib/python3.4/site-packages/ipykernel/__main__.py:1: SettingWithCopyWarning: \n",
      "A value is trying to be set on a copy of a slice from a DataFrame.\n",
      "Try using .loc[row_indexer,col_indexer] = value instead\n",
      "\n",
      "See the caveats in the documentation: http://pandas.pydata.org/pandas-docs/stable/indexing.html#indexing-view-versus-copy\n",
      "  if __name__ == '__main__':\n"
     ]
    },
    {
     "data": {
      "text/html": [
       "<div>\n",
       "<table border=\"1\" class=\"dataframe\">\n",
       "  <thead>\n",
       "    <tr style=\"text-align: right;\">\n",
       "      <th></th>\n",
       "      <th>general</th>\n",
       "      <th>ncited</th>\n",
       "      <th>nciting</th>\n",
       "      <th>orig</th>\n",
       "      <th>patent</th>\n",
       "      <th>year</th>\n",
       "      <th>log_nciting</th>\n",
       "    </tr>\n",
       "  </thead>\n",
       "  <tbody>\n",
       "    <tr>\n",
       "      <th>2811939</th>\n",
       "      <td>NaN</td>\n",
       "      <td>0</td>\n",
       "      <td>16</td>\n",
       "      <td>0.541667</td>\n",
       "      <td>7155729</td>\n",
       "      <td>2000.0</td>\n",
       "      <td>1.204120</td>\n",
       "    </tr>\n",
       "    <tr>\n",
       "      <th>2811943</th>\n",
       "      <td>NaN</td>\n",
       "      <td>0</td>\n",
       "      <td>84</td>\n",
       "      <td>0.708262</td>\n",
       "      <td>7155734</td>\n",
       "      <td>2000.0</td>\n",
       "      <td>1.924279</td>\n",
       "    </tr>\n",
       "    <tr>\n",
       "      <th>2811944</th>\n",
       "      <td>NaN</td>\n",
       "      <td>0</td>\n",
       "      <td>10</td>\n",
       "      <td>0.200000</td>\n",
       "      <td>7155735</td>\n",
       "      <td>1999.0</td>\n",
       "      <td>1.000000</td>\n",
       "    </tr>\n",
       "    <tr>\n",
       "      <th>2811953</th>\n",
       "      <td>NaN</td>\n",
       "      <td>0</td>\n",
       "      <td>54</td>\n",
       "      <td>0.712089</td>\n",
       "      <td>7155744</td>\n",
       "      <td>2000.0</td>\n",
       "      <td>1.732394</td>\n",
       "    </tr>\n",
       "    <tr>\n",
       "      <th>2811954</th>\n",
       "      <td>NaN</td>\n",
       "      <td>0</td>\n",
       "      <td>15</td>\n",
       "      <td>0.542857</td>\n",
       "      <td>7155745</td>\n",
       "      <td>2000.0</td>\n",
       "      <td>1.176091</td>\n",
       "    </tr>\n",
       "  </tbody>\n",
       "</table>\n",
       "</div>"
      ],
      "text/plain": [
       "         general  ncited  nciting      orig   patent    year  log_nciting\n",
       "2811939      NaN       0       16  0.541667  7155729  2000.0     1.204120\n",
       "2811943      NaN       0       84  0.708262  7155734  2000.0     1.924279\n",
       "2811944      NaN       0       10  0.200000  7155735  1999.0     1.000000\n",
       "2811953      NaN       0       54  0.712089  7155744  2000.0     1.732394\n",
       "2811954      NaN       0       15  0.542857  7155745  2000.0     1.176091"
      ]
     },
     "execution_count": 248,
     "metadata": {},
     "output_type": "execute_result"
    }
   ],
   "source": [
    "o_g_notnull_76_00['log_nciting']=np.log10(o_g_notnull_76_00.nciting)\n",
    "o_g_notnull_76_00.tail()"
   ]
  },
  {
   "cell_type": "code",
   "execution_count": 249,
   "metadata": {
    "collapsed": false
   },
   "outputs": [
    {
     "data": {
      "image/png": "[encoded data removed]",
      "text/plain": [
       "<matplotlib.figure.Figure at 0x296cc3c88>"
      ]
     },
     "metadata": {},
     "output_type": "display_data"
    }
   ],
   "source": [
    "# new plot with data from only 1976 to 2000\n",
    "# trying to get \n",
    "fig = plt.figure(1)\n",
    "ax = plt.subplot(111)\n",
    "\n",
    "plt.hist2d(o_g_notnull_76_00.orig,o_g_notnull_76_00.log_nciting, cmap='gist_ncar',bins=[40,40],norm = LogNorm())\n",
    "cb = plt.colorbar()\n",
    "cb.set_label('Counts per bin')\n",
    "ax.set_xlabel('Originality')\n",
    "ax.set_ylabel('Log10(Number of forward citations)')\n",
    "\n",
    "plt.savefig(\"/Users/ahuxor/MSc/Thesis_Project/msc_thesis/Figs/orig_log_ncites_76_00_heatmap.pdf\", bbox_inches = 'tight')\n",
    "plt.show()"
   ]
  },
  {
   "cell_type": "code",
   "execution_count": 250,
   "metadata": {
    "collapsed": false
   },
   "outputs": [
    {
     "data": {
      "text/plain": [
       "array([468876,  30514,  75062, 114591,  70347, 211872, 279885, 175576,\n",
       "       200812, 324287])"
      ]
     },
     "execution_count": 250,
     "metadata": {},
     "output_type": "execute_result"
    }
   ],
   "source": [
    "# need to get bins of originality to get a boxplot?\n",
    "# count, division = np.histogram(series)\n",
    "\n",
    "count, division = np.histogram(o_g_notnull_76_00.orig)\n",
    "count"
   ]
  },
  {
   "cell_type": "code",
   "execution_count": 252,
   "metadata": {
    "collapsed": false
   },
   "outputs": [
    {
     "name": "stdout",
     "output_type": "stream",
     "text": [
      "195182.2\n"
     ]
    }
   ],
   "source": [
    "# sort o_g_notnull_76_00 by orig parameter\n",
    "o_g_notnull_76_00_sorted = o_g_notnull_76_00.sort_values(by='orig')\n",
    "\n",
    "# get number to ensure equal sized bins\n",
    "print(len(o_g_notnull_76_00_sorted)/10)\n",
    "\n",
    "# then divide this into 9 dfs, creating 10 'chunks' of originiality - 0.1 wide bins\n",
    "temp = np.array_split(o_g_notnull_76_00_sorted, 10)\n",
    "bin0 = temp[0].nciting.values[:195182]\n",
    "bin1 = temp[1].nciting.values[:195182]\n",
    "bin2 = temp[2].nciting.values[:195182]\n",
    "bin3 = temp[3].nciting.values[:195182]\n",
    "bin4 = temp[4].nciting.values[:195182]\n",
    "bin5 = temp[5].nciting.values[:195182]\n",
    "bin6 = temp[6].nciting.values[:195182]\n",
    "bin7 = temp[7].nciting.values[:195182]\n",
    "bin8 = temp[8].nciting.values[:195182]\n",
    "bin9 = temp[9].nciting.values[:195182]\n",
    "\n",
    "# make ist of bins for subsequent use\n",
    "bin_list =[bin0,bin1,bin2,bin3,bin4,bin5,bin6,bin7,bin8,bin9]\n"
   ]
  },
  {
   "cell_type": "code",
   "execution_count": 266,
   "metadata": {
    "collapsed": false
   },
   "outputs": [
    {
     "name": "stderr",
     "output_type": "stream",
     "text": [
      "/Users/ahuxor/anaconda/lib/python3.4/site-packages/ipykernel/__main__.py:16: RuntimeWarning: divide by zero encountered in log10\n"
     ]
    },
    {
     "data": {
      "image/png": "[encoded data removed]",
      "text/plain": [
       "<matplotlib.figure.Figure at 0x1d71b8860>"
      ]
     },
     "metadata": {},
     "output_type": "display_data"
    },
    {
     "name": "stdout",
     "output_type": "stream",
     "text": [
      "Coefficient: \n",
      " -4.5243641571\n",
      "Intercept: \n",
      " 8.18029718175\n",
      "R² Value: \n",
      " 0.982060419239\n"
     ]
    },
    {
     "data": {
      "image/png": "[encoded data removed]",
      "text/plain": [
       "<matplotlib.figure.Figure at 0x19ea3ce48>"
      ]
     },
     "metadata": {},
     "output_type": "display_data"
    },
    {
     "data": {
      "image/png": "[encoded data removed]",
      "text/plain": [
       "<matplotlib.figure.Figure at 0x296face10>"
      ]
     },
     "metadata": {},
     "output_type": "display_data"
    },
    {
     "name": "stdout",
     "output_type": "stream",
     "text": [
      "Coefficient: \n",
      " -4.61072883236\n",
      "Intercept: \n",
      " 8.23155820635\n",
      "R² Value: \n",
      " 0.973872864607\n"
     ]
    },
    {
     "data": {
      "image/png": "[encoded data removed]",
      "text/plain": [
       "<matplotlib.figure.Figure at 0x245a9a630>"
      ]
     },
     "metadata": {},
     "output_type": "display_data"
    },
    {
     "data": {
      "image/png": "[encoded data removed]",
      "text/plain": [
       "<matplotlib.figure.Figure at 0x2734736a0>"
      ]
     },
     "metadata": {},
     "output_type": "display_data"
    },
    {
     "name": "stdout",
     "output_type": "stream",
     "text": [
      "Coefficient: \n",
      " -3.36771956039\n",
      "Intercept: \n",
      " 8.51617876478\n",
      "R² Value: \n",
      " 0.96769368338\n"
     ]
    },
    {
     "data": {
      "image/png": "[encoded data removed]",
      "text/plain": [
       "<matplotlib.figure.Figure at 0x1c037ed68>"
      ]
     },
     "metadata": {},
     "output_type": "display_data"
    },
    {
     "data": {
      "image/png": "[encoded data removed]",
      "text/plain": [
       "<matplotlib.figure.Figure at 0x29683b128>"
      ]
     },
     "metadata": {},
     "output_type": "display_data"
    },
    {
     "name": "stdout",
     "output_type": "stream",
     "text": [
      "Coefficient: \n",
      " -2.98215996679\n",
      "Intercept: \n",
      " 7.71823133161\n",
      "R² Value: \n",
      " 0.949966880504\n"
     ]
    },
    {
     "data": {
      "image/png": "[encoded data removed]",
      "text/plain": [
       "<matplotlib.figure.Figure at 0x1ddb54908>"
      ]
     },
     "metadata": {},
     "output_type": "display_data"
    },
    {
     "data": {
      "image/png": "[encoded data removed]",
      "text/plain": [
       "<matplotlib.figure.Figure at 0x145ef5f98>"
      ]
     },
     "metadata": {},
     "output_type": "display_data"
    },
    {
     "name": "stdout",
     "output_type": "stream",
     "text": [
      "Coefficient: \n",
      " -3.14615258576\n",
      "Intercept: \n",
      " 8.02945092298\n",
      "R² Value: \n",
      " 0.970835520841\n"
     ]
    },
    {
     "data": {
      "image/png": "[encoded data removed]",
      "text/plain": [
       "<matplotlib.figure.Figure at 0x1c005af98>"
      ]
     },
     "metadata": {},
     "output_type": "display_data"
    },
    {
     "data": {
      "image/png": "[encoded data removed]",
      "text/plain": [
       "<matplotlib.figure.Figure at 0x1bf3a3710>"
      ]
     },
     "metadata": {},
     "output_type": "display_data"
    },
    {
     "name": "stdout",
     "output_type": "stream",
     "text": [
      "Coefficient: \n",
      " -3.07666363531\n",
      "Intercept: \n",
      " 7.9089693688\n",
      "R² Value: \n",
      " 0.9531602158\n"
     ]
    },
    {
     "data": {
      "image/png": "[encoded data removed]",
      "text/plain": [
       "<matplotlib.figure.Figure at 0x272f17438>"
      ]
     },
     "metadata": {},
     "output_type": "display_data"
    },
    {
     "data": {
      "image/png": "[encoded data removed]",
      "text/plain": [
       "<matplotlib.figure.Figure at 0x296f31b70>"
      ]
     },
     "metadata": {},
     "output_type": "display_data"
    },
    {
     "name": "stdout",
     "output_type": "stream",
     "text": [
      "Coefficient: \n",
      " -3.0867823104\n",
      "Intercept: \n",
      " 8.40479678862\n",
      "R² Value: \n",
      " 0.951684051832\n"
     ]
    },
    {
     "data": {
      "image/png": "[encoded data removed]",
      "text/plain": [
       "<matplotlib.figure.Figure at 0x296d85278>"
      ]
     },
     "metadata": {},
     "output_type": "display_data"
    },
    {
     "data": {
      "image/png": "[encoded data removed]",
      "text/plain": [
       "<matplotlib.figure.Figure at 0x296ccd4e0>"
      ]
     },
     "metadata": {},
     "output_type": "display_data"
    },
    {
     "name": "stdout",
     "output_type": "stream",
     "text": [
      "Coefficient: \n",
      " -3.1250961627\n",
      "Intercept: \n",
      " 8.14499764091\n",
      "R² Value: \n",
      " 0.961538362713\n"
     ]
    },
    {
     "data": {
      "image/png": "[encoded data removed]",
      "text/plain": [
       "<matplotlib.figure.Figure at 0x29697eeb8>"
      ]
     },
     "metadata": {},
     "output_type": "display_data"
    },
    {
     "data": {
      "image/png": "[encoded data removed]",
      "text/plain": [
       "<matplotlib.figure.Figure at 0x273103128>"
      ]
     },
     "metadata": {},
     "output_type": "display_data"
    },
    {
     "name": "stdout",
     "output_type": "stream",
     "text": [
      "Coefficient: \n",
      " -2.91872797839\n",
      "Intercept: \n",
      " 7.90490380002\n",
      "R² Value: \n",
      " 0.959284178097\n"
     ]
    },
    {
     "data": {
      "image/png": "[encoded data removed]",
      "text/plain": [
       "<matplotlib.figure.Figure at 0x296c03198>"
      ]
     },
     "metadata": {},
     "output_type": "display_data"
    },
    {
     "data": {
      "image/png": "[encoded data removed]",
      "text/plain": [
       "<matplotlib.figure.Figure at 0x26b305898>"
      ]
     },
     "metadata": {},
     "output_type": "display_data"
    },
    {
     "name": "stdout",
     "output_type": "stream",
     "text": [
      "Coefficient: \n",
      " -10.1372482881\n",
      "Intercept: \n",
      " 11.7059052098\n",
      "R² Value: \n",
      " 0.966487795067\n"
     ]
    },
    {
     "data": {
      "image/png": "[encoded data removed]",
      "text/plain": [
       "<matplotlib.figure.Figure at 0x2731304a8>"
      ]
     },
     "metadata": {},
     "output_type": "display_data"
    }
   ],
   "source": [
    "# plot log of plot for one bin and fit power-law to it\n",
    "# version to do it for all bins in a loop\n",
    "# this version generates single plots\n",
    "slope_list = []\n",
    "intercept_list = []\n",
    "R_squared_list = []\n",
    "\n",
    "for a_bin in bin_list:\n",
    "    hist_data = plt.hist(a_bin,bins=100)\n",
    "    x = hist_data[1][1:]\n",
    "    y = hist_data[0][0:]\n",
    "    len(x)\n",
    "\n",
    "\n",
    "\n",
    "    logx = np.log10(x)\n",
    "    logy = np.log10(y)\n",
    "\n",
    "    plt.plot(logx,logy)\n",
    "    plt.show()\n",
    "\n",
    "    # create dataframe from log values\n",
    "    # as this may help get them into a regression\n",
    "    logged_df = pd.DataFrame({'logx':logx, 'logy':logy})\n",
    "\n",
    "    # remove rows with NaN/Inf etc\n",
    "    clean_logged_df = logged_df.replace([np.inf, -np.inf], np.nan)\n",
    "    clean_logged_df = clean_logged_df.dropna()\n",
    "\n",
    "    clean_logged_df_trim = clean_logged_df[clean_logged_df.logx>0.8]\n",
    "\n",
    "    from sklearn import linear_model\n",
    "    linear = linear_model.LinearRegression()\n",
    "    trainX = np.asarray(clean_logged_df_trim.logx[:]).reshape(-1, 1)\n",
    "    trainY = np.asarray(clean_logged_df_trim.logy[:]).reshape(-1, 1)\n",
    "    testX = np.asarray(clean_logged_df_trim.logx).reshape(-1, 1)\n",
    "    testY = np.asarray(clean_logged_df_trim.logy).reshape(-1, 1)\n",
    "    linear.fit(trainX, trainY)\n",
    "    linear.score(trainX, trainY)\n",
    "    slope_list.append(linear.coef_[0][0])\n",
    "    print('Coefficient: \\n', linear.coef_[0][0])\n",
    "    intercept_list.append(linear.intercept_[0])\n",
    "    print('Intercept: \\n', linear.intercept_[0])\n",
    "    R_squared_list.append(linear.score(trainX, trainY))\n",
    "    print('R² Value: \\n', linear.score(trainX, trainY))\n",
    "    predicted = linear.predict(trainX)\n",
    "    linear.fit(trainX, trainY)\n",
    "\n",
    "\n",
    "\n",
    "    logged_df.plot('logx', 'logy', kind='scatter')\n",
    "\n",
    "    plt.plot(testX, linear.predict(testX), color='red', linewidth=2)\n",
    "    plt.show()\n",
    "    # plt.savefig(\"/Users/ahuxor/MSc/Thesis_Project/msc_thesis/Figs/allcites_year_plot.pdf\", bbox_inches = 'tight')"
   ]
  },
  {
   "cell_type": "code",
   "execution_count": 332,
   "metadata": {
    "collapsed": false
   },
   "outputs": [
    {
     "name": "stderr",
     "output_type": "stream",
     "text": [
      "/Users/ahuxor/anaconda/lib/python3.4/site-packages/ipykernel/__main__.py:16: RuntimeWarning: divide by zero encountered in log10\n",
      "/Users/ahuxor/anaconda/lib/python3.4/site-packages/matplotlib/figure.py:397: UserWarning: matplotlib is currently using a non-GUI backend, so cannot show the figure\n",
      "  \"matplotlib is currently using a non-GUI backend, \"\n"
     ]
    },
    {
     "data": {
      "image/png": "[encoded data removed]",
      "text/plain": [
       "<matplotlib.figure.Figure at 0x24624a080>"
      ]
     },
     "metadata": {},
     "output_type": "display_data"
    }
   ],
   "source": [
    "# plot log of plot for one bin and fit power-law to it\n",
    "# version to do it for all bins in a loop\n",
    "# version to also create subplots\n",
    "slope_list = []\n",
    "intercept_list = []\n",
    "R_squared_list = []\n",
    "legend_text1 = ['0-0.1','0.1-0.2','0.2-0.3', '0.3-0.5','0.4-0.5','0.5-0.6','0.6-0.7', \\\n",
    "                '0.7-0.8','0.8-0.9','0.9-1.0']\n",
    "fig = plt.figure(figsize=(10,10))\n",
    "\n",
    "for plot_number in range(1,11):\n",
    "    hist_data = np.histogram(bin_list[(plot_number-1)],bins=50)\n",
    "    x = hist_data[1][1:]\n",
    "    y = hist_data[0][0:]\n",
    "    \n",
    "    logx = np.log10(x)\n",
    "    logy = np.log10(y)\n",
    "    # create dataframe from log values\n",
    "    # as this may help get them into a regression\n",
    "    logged_df = pd.DataFrame({'logx':logx, 'logy':logy})\n",
    "\n",
    "    # remove rows with NaN/Inf etc\n",
    "    clean_logged_df = logged_df.replace([np.inf, -np.inf], np.nan)\n",
    "    clean_logged_df = clean_logged_df.dropna()\n",
    "\n",
    "    clean_logged_df_trim = clean_logged_df[clean_logged_df.logx>0.8]\n",
    "\n",
    "    from sklearn import linear_model\n",
    "    linear = linear_model.LinearRegression()\n",
    "    trainX = np.asarray(clean_logged_df_trim.logx[:]).reshape(-1, 1)\n",
    "    trainY = np.asarray(clean_logged_df_trim.logy[:]).reshape(-1, 1)\n",
    "    testX = np.asarray(clean_logged_df_trim.logx).reshape(-1, 1)\n",
    "    testY = np.asarray(clean_logged_df_trim.logy).reshape(-1, 1)\n",
    "    linear.fit(trainX, trainY)\n",
    "    linear.score(trainX, trainY)\n",
    "    slope_list.append(linear.coef_[0][0])\n",
    "    #print('Coefficient: \\n', linear.coef_[0][0])\n",
    "    intercept_list.append(linear.intercept_[0])\n",
    "    #print('Intercept: \\n', linear.intercept_[0])\n",
    "    R_squared_list.append(linear.score(trainX, trainY))\n",
    "    #print('R² Value: \\n', linear.score(trainX, trainY))\n",
    "    predicted = linear.predict(trainX)\n",
    "    linear.fit(trainX, trainY)\n",
    "    \n",
    "    bin_name = legend_text1[(plot_number-1)]\n",
    "    slope_text = 'slope =' + format(linear.coef_[0][0],'.2f') \n",
    "    ax = fig.add_subplot(5,2,plot_number)\n",
    "    ax.scatter(logged_df.logx, logged_df.logy)\n",
    "    ax.plot(testX, linear.predict(testX), color='red', linewidth=2)\n",
    "    ax.set_xlim([0.4,3])\n",
    "    ax.text(0.5, -0.8, 'originality:'+bin_name)\n",
    "    ax.text(2, 5, slope_text)\n",
    "\n",
    "fig.show()\n",
    "plt.savefig(\"/Users/ahuxor/MSc/Thesis_Project/msc_thesis/Figs/slopes_multi_plots.pdf\", bbox_inches = 'tight')"
   ]
  },
  {
   "cell_type": "code",
   "execution_count": 290,
   "metadata": {
    "collapsed": false
   },
   "outputs": [
    {
     "data": {
      "text/plain": [
       "(array([96612, 28424, 20448, 14301,  9816, 11736,  3452,  2487,  1785,\n",
       "         1296,  1836,   597,   422,   376,   301,   433,   150,   111,\n",
       "           91,    90,   109,    41,    40,    25,    17,    44,    17,\n",
       "           19,    13,     8,    13,     5,     9,     4,     8,    13,\n",
       "            5,     3,     0,     1,    11,     3,     2,     0,     2,\n",
       "            4,     0,     0,     0,     2]),\n",
       " array([  2. ,   3.2,   4.4,   5.6,   6.8,   8. ,   9.2,  10.4,  11.6,\n",
       "         12.8,  14. ,  15.2,  16.4,  17.6,  18.8,  20. ,  21.2,  22.4,\n",
       "         23.6,  24.8,  26. ,  27.2,  28.4,  29.6,  30.8,  32. ,  33.2,\n",
       "         34.4,  35.6,  36.8,  38. ,  39.2,  40.4,  41.6,  42.8,  44. ,\n",
       "         45.2,  46.4,  47.6,  48.8,  50. ,  51.2,  52.4,  53.6,  54.8,\n",
       "         56. ,  57.2,  58.4,  59.6,  60.8,  62. ]))"
      ]
     },
     "execution_count": 290,
     "metadata": {},
     "output_type": "execute_result"
    }
   ],
   "source": [
    "np.histogram(bin_list[0],bins=50)"
   ]
  },
  {
   "cell_type": "code",
   "execution_count": 267,
   "metadata": {
    "collapsed": true
   },
   "outputs": [],
   "source": [
    "stats = pd.DataFrame(\n",
    "    {'slope': slope_list,\n",
    "     'intercept': intercept_list,\n",
    "     'R_squared': R_squared_list\n",
    "    })"
   ]
  },
  {
   "cell_type": "code",
   "execution_count": 278,
   "metadata": {
    "collapsed": false
   },
   "outputs": [
    {
     "data": {
      "text/html": [
       "<div>\n",
       "<table border=\"1\" class=\"dataframe\">\n",
       "  <thead>\n",
       "    <tr style=\"text-align: right;\">\n",
       "      <th></th>\n",
       "      <th>R_squared</th>\n",
       "      <th>intercept</th>\n",
       "      <th>slope</th>\n",
       "    </tr>\n",
       "  </thead>\n",
       "  <tbody>\n",
       "    <tr>\n",
       "      <th>0</th>\n",
       "      <td>0.982060</td>\n",
       "      <td>8.180297</td>\n",
       "      <td>-4.524364</td>\n",
       "    </tr>\n",
       "    <tr>\n",
       "      <th>1</th>\n",
       "      <td>0.973873</td>\n",
       "      <td>8.231558</td>\n",
       "      <td>-4.610729</td>\n",
       "    </tr>\n",
       "    <tr>\n",
       "      <th>2</th>\n",
       "      <td>0.967694</td>\n",
       "      <td>8.516179</td>\n",
       "      <td>-3.367720</td>\n",
       "    </tr>\n",
       "    <tr>\n",
       "      <th>3</th>\n",
       "      <td>0.949967</td>\n",
       "      <td>7.718231</td>\n",
       "      <td>-2.982160</td>\n",
       "    </tr>\n",
       "    <tr>\n",
       "      <th>4</th>\n",
       "      <td>0.970836</td>\n",
       "      <td>8.029451</td>\n",
       "      <td>-3.146153</td>\n",
       "    </tr>\n",
       "    <tr>\n",
       "      <th>5</th>\n",
       "      <td>0.953160</td>\n",
       "      <td>7.908969</td>\n",
       "      <td>-3.076664</td>\n",
       "    </tr>\n",
       "    <tr>\n",
       "      <th>6</th>\n",
       "      <td>0.951684</td>\n",
       "      <td>8.404797</td>\n",
       "      <td>-3.086782</td>\n",
       "    </tr>\n",
       "    <tr>\n",
       "      <th>7</th>\n",
       "      <td>0.961538</td>\n",
       "      <td>8.144998</td>\n",
       "      <td>-3.125096</td>\n",
       "    </tr>\n",
       "    <tr>\n",
       "      <th>8</th>\n",
       "      <td>0.959284</td>\n",
       "      <td>7.904904</td>\n",
       "      <td>-2.918728</td>\n",
       "    </tr>\n",
       "    <tr>\n",
       "      <th>9</th>\n",
       "      <td>0.966488</td>\n",
       "      <td>11.705905</td>\n",
       "      <td>-10.137248</td>\n",
       "    </tr>\n",
       "  </tbody>\n",
       "</table>\n",
       "</div>"
      ],
      "text/plain": [
       "   R_squared  intercept      slope\n",
       "0   0.982060   8.180297  -4.524364\n",
       "1   0.973873   8.231558  -4.610729\n",
       "2   0.967694   8.516179  -3.367720\n",
       "3   0.949967   7.718231  -2.982160\n",
       "4   0.970836   8.029451  -3.146153\n",
       "5   0.953160   7.908969  -3.076664\n",
       "6   0.951684   8.404797  -3.086782\n",
       "7   0.961538   8.144998  -3.125096\n",
       "8   0.959284   7.904904  -2.918728\n",
       "9   0.966488  11.705905 -10.137248"
      ]
     },
     "execution_count": 278,
     "metadata": {},
     "output_type": "execute_result"
    }
   ],
   "source": [
    "stats"
   ]
  },
  {
   "cell_type": "code",
   "execution_count": 391,
   "metadata": {
    "collapsed": false
   },
   "outputs": [
    {
     "data": {
      "image/png": "[encoded data removed]",
      "text/plain": [
       "<matplotlib.figure.Figure at 0x24ffe5b00>"
      ]
     },
     "metadata": {},
     "output_type": "display_data"
    }
   ],
   "source": [
    "plt.scatter(stats.index.values/10,stats['slope'],marker='o',color='red',linewidth=4.0)\n",
    "plt.plot(stats.index.values/10,stats['slope'],marker='.',color='blue',linewidth=1.0)\n",
    "\n",
    "\n",
    "plt.title(' ')\n",
    "plt.xlabel('Originality bin')\n",
    "plt.ylabel('slope of fit to power-law')\n",
    "plt.xlim([-0.1,1.0])\n",
    "\n",
    "plt.savefig(\"/Users/ahuxor/MSc/Thesis_Project/msc_thesis/Figs/slopes_aggregate_plot.pdf\", bbox_inches = 'tight')\n",
    "plt.show()"
   ]
  },
  {
   "cell_type": "code",
   "execution_count": 361,
   "metadata": {
    "collapsed": false
   },
   "outputs": [
    {
     "data": {
      "text/html": [
       "<div>\n",
       "<table border=\"1\" class=\"dataframe\">\n",
       "  <thead>\n",
       "    <tr style=\"text-align: right;\">\n",
       "      <th></th>\n",
       "      <th>general</th>\n",
       "      <th>ncited</th>\n",
       "      <th>nciting</th>\n",
       "      <th>orig</th>\n",
       "      <th>patent</th>\n",
       "      <th>year</th>\n",
       "      <th>log_nciting</th>\n",
       "    </tr>\n",
       "  </thead>\n",
       "  <tbody>\n",
       "    <tr>\n",
       "      <th>22</th>\n",
       "      <td>0.500000</td>\n",
       "      <td>4</td>\n",
       "      <td>2</td>\n",
       "      <td>1.0</td>\n",
       "      <td>3965241</td>\n",
       "      <td>1975.0</td>\n",
       "      <td>0.30103</td>\n",
       "    </tr>\n",
       "    <tr>\n",
       "      <th>35</th>\n",
       "      <td>0.800000</td>\n",
       "      <td>6</td>\n",
       "      <td>2</td>\n",
       "      <td>1.0</td>\n",
       "      <td>3970769</td>\n",
       "      <td>1974.0</td>\n",
       "      <td>0.30103</td>\n",
       "    </tr>\n",
       "    <tr>\n",
       "      <th>41</th>\n",
       "      <td>0.536842</td>\n",
       "      <td>20</td>\n",
       "      <td>2</td>\n",
       "      <td>1.0</td>\n",
       "      <td>3971877</td>\n",
       "      <td>1975.0</td>\n",
       "      <td>0.30103</td>\n",
       "    </tr>\n",
       "    <tr>\n",
       "      <th>66</th>\n",
       "      <td>0.803419</td>\n",
       "      <td>27</td>\n",
       "      <td>2</td>\n",
       "      <td>1.0</td>\n",
       "      <td>3975252</td>\n",
       "      <td>1975.0</td>\n",
       "      <td>0.30103</td>\n",
       "    </tr>\n",
       "    <tr>\n",
       "      <th>71</th>\n",
       "      <td>0.666667</td>\n",
       "      <td>3</td>\n",
       "      <td>2</td>\n",
       "      <td>1.0</td>\n",
       "      <td>3975561</td>\n",
       "      <td>1974.0</td>\n",
       "      <td>0.30103</td>\n",
       "    </tr>\n",
       "  </tbody>\n",
       "</table>\n",
       "</div>"
      ],
      "text/plain": [
       "     general  ncited  nciting  orig   patent    year  log_nciting\n",
       "22  0.500000       4        2   1.0  3965241  1975.0      0.30103\n",
       "35  0.800000       6        2   1.0  3970769  1974.0      0.30103\n",
       "41  0.536842      20        2   1.0  3971877  1975.0      0.30103\n",
       "66  0.803419      27        2   1.0  3975252  1975.0      0.30103\n",
       "71  0.666667       3        2   1.0  3975561  1974.0      0.30103"
      ]
     },
     "execution_count": 361,
     "metadata": {},
     "output_type": "execute_result"
    }
   ],
   "source": [
    "# just in passing.. what are the highly original patents that have low forward citations?\n",
    "o_g_notnull_76_00_origGT09 = o_g_notnull_76_00[o_g_notnull_76_00.orig > 0.9]\n",
    "len(o_g_notnull_76_00_origGT09)\n",
    "o_g_notnull_76_00_origGT09.head()"
   ]
  },
  {
   "cell_type": "code",
   "execution_count": 383,
   "metadata": {
    "collapsed": false
   },
   "outputs": [
    {
     "data": {
      "text/html": [
       "<div>\n",
       "<table border=\"1\" class=\"dataframe\">\n",
       "  <thead>\n",
       "    <tr style=\"text-align: right;\">\n",
       "      <th></th>\n",
       "      <th>general</th>\n",
       "      <th>ncited</th>\n",
       "      <th>nciting</th>\n",
       "      <th>orig</th>\n",
       "      <th>patent</th>\n",
       "      <th>year</th>\n",
       "      <th>log_nciting</th>\n",
       "    </tr>\n",
       "  </thead>\n",
       "  <tbody>\n",
       "    <tr>\n",
       "      <th>57</th>\n",
       "      <td>NaN</td>\n",
       "      <td>1</td>\n",
       "      <td>2</td>\n",
       "      <td>0.0</td>\n",
       "      <td>3974168</td>\n",
       "      <td>1974.0</td>\n",
       "      <td>0.301030</td>\n",
       "    </tr>\n",
       "    <tr>\n",
       "      <th>126</th>\n",
       "      <td>0.361905</td>\n",
       "      <td>15</td>\n",
       "      <td>2</td>\n",
       "      <td>0.0</td>\n",
       "      <td>3980438</td>\n",
       "      <td>1975.0</td>\n",
       "      <td>0.301030</td>\n",
       "    </tr>\n",
       "    <tr>\n",
       "      <th>127</th>\n",
       "      <td>0.796923</td>\n",
       "      <td>26</td>\n",
       "      <td>2</td>\n",
       "      <td>0.0</td>\n",
       "      <td>3980459</td>\n",
       "      <td>1975.0</td>\n",
       "      <td>0.301030</td>\n",
       "    </tr>\n",
       "    <tr>\n",
       "      <th>128</th>\n",
       "      <td>NaN</td>\n",
       "      <td>1</td>\n",
       "      <td>3</td>\n",
       "      <td>0.0</td>\n",
       "      <td>3980495</td>\n",
       "      <td>1975.0</td>\n",
       "      <td>0.477121</td>\n",
       "    </tr>\n",
       "    <tr>\n",
       "      <th>163</th>\n",
       "      <td>0.607143</td>\n",
       "      <td>8</td>\n",
       "      <td>2</td>\n",
       "      <td>0.0</td>\n",
       "      <td>3982686</td>\n",
       "      <td>1976.0</td>\n",
       "      <td>0.301030</td>\n",
       "    </tr>\n",
       "  </tbody>\n",
       "</table>\n",
       "</div>"
      ],
      "text/plain": [
       "      general  ncited  nciting  orig   patent    year  log_nciting\n",
       "57        NaN       1        2   0.0  3974168  1974.0     0.301030\n",
       "126  0.361905      15        2   0.0  3980438  1975.0     0.301030\n",
       "127  0.796923      26        2   0.0  3980459  1975.0     0.301030\n",
       "128       NaN       1        3   0.0  3980495  1975.0     0.477121\n",
       "163  0.607143       8        2   0.0  3982686  1976.0     0.301030"
      ]
     },
     "execution_count": 383,
     "metadata": {},
     "output_type": "execute_result"
    }
   ],
   "source": [
    "# just in passing.. what are the lowly original patents that have low forward citations?\n",
    "o_g_notnull_76_00_origLT01 = o_g_notnull_76_00[o_g_notnull_76_00.orig < 0.1]\n",
    "len(o_g_notnull_76_00_origLT01)\n",
    "o_g_notnull_76_00_origLT01.head()"
   ]
  },
  {
   "cell_type": "code",
   "execution_count": 362,
   "metadata": {
    "collapsed": true
   },
   "outputs": [],
   "source": [
    "# merge above high originality with other datafile to get assignee number\n",
    "result = pd.merge(o_g_notnull_76_00_origGT09, pat76_06_assg_df, on='patent')"
   ]
  },
  {
   "cell_type": "code",
   "execution_count": 384,
   "metadata": {
    "collapsed": true
   },
   "outputs": [],
   "source": [
    "# merge above high originality with other datafile to get assignee number\n",
    "result_lo = pd.merge(o_g_notnull_76_00_origLT01, pat76_06_assg_df, on='patent')"
   ]
  },
  {
   "cell_type": "code",
   "execution_count": 373,
   "metadata": {
    "collapsed": false
   },
   "outputs": [
    {
     "data": {
      "text/html": [
       "<div>\n",
       "<table border=\"1\" class=\"dataframe\">\n",
       "  <thead>\n",
       "    <tr style=\"text-align: right;\">\n",
       "      <th></th>\n",
       "      <th>0</th>\n",
       "      <th>1</th>\n",
       "      <th>2</th>\n",
       "      <th>3</th>\n",
       "      <th>4</th>\n",
       "    </tr>\n",
       "  </thead>\n",
       "  <tbody>\n",
       "    <tr>\n",
       "      <th>general</th>\n",
       "      <td>0.5</td>\n",
       "      <td>0.8</td>\n",
       "      <td>0.536842</td>\n",
       "      <td>0.803419</td>\n",
       "      <td>0.666667</td>\n",
       "    </tr>\n",
       "    <tr>\n",
       "      <th>ncited</th>\n",
       "      <td>4</td>\n",
       "      <td>6</td>\n",
       "      <td>20</td>\n",
       "      <td>27</td>\n",
       "      <td>3</td>\n",
       "    </tr>\n",
       "    <tr>\n",
       "      <th>nciting</th>\n",
       "      <td>2</td>\n",
       "      <td>2</td>\n",
       "      <td>2</td>\n",
       "      <td>2</td>\n",
       "      <td>2</td>\n",
       "    </tr>\n",
       "    <tr>\n",
       "      <th>orig</th>\n",
       "      <td>1</td>\n",
       "      <td>1</td>\n",
       "      <td>1</td>\n",
       "      <td>1</td>\n",
       "      <td>1</td>\n",
       "    </tr>\n",
       "    <tr>\n",
       "      <th>patent</th>\n",
       "      <td>3965241</td>\n",
       "      <td>3970769</td>\n",
       "      <td>3971877</td>\n",
       "      <td>3975252</td>\n",
       "      <td>3975561</td>\n",
       "    </tr>\n",
       "    <tr>\n",
       "      <th>year</th>\n",
       "      <td>1975</td>\n",
       "      <td>1974</td>\n",
       "      <td>1975</td>\n",
       "      <td>1975</td>\n",
       "      <td>1974</td>\n",
       "    </tr>\n",
       "    <tr>\n",
       "      <th>log_nciting</th>\n",
       "      <td>0.30103</td>\n",
       "      <td>0.30103</td>\n",
       "      <td>0.30103</td>\n",
       "      <td>0.30103</td>\n",
       "      <td>0.30103</td>\n",
       "    </tr>\n",
       "    <tr>\n",
       "      <th>allcites</th>\n",
       "      <td>4</td>\n",
       "      <td>6</td>\n",
       "      <td>20</td>\n",
       "      <td>27</td>\n",
       "      <td>3</td>\n",
       "    </tr>\n",
       "    <tr>\n",
       "      <th>appyear</th>\n",
       "      <td>1975</td>\n",
       "      <td>1974</td>\n",
       "      <td>1975</td>\n",
       "      <td>1975</td>\n",
       "      <td>1974</td>\n",
       "    </tr>\n",
       "    <tr>\n",
       "      <th>asscode</th>\n",
       "      <td>2</td>\n",
       "      <td>3</td>\n",
       "      <td>4</td>\n",
       "      <td>2</td>\n",
       "      <td>1</td>\n",
       "    </tr>\n",
       "    <tr>\n",
       "      <th>assgnum</th>\n",
       "      <td>1</td>\n",
       "      <td>1</td>\n",
       "      <td>NaN</td>\n",
       "      <td>1</td>\n",
       "      <td>NaN</td>\n",
       "    </tr>\n",
       "    <tr>\n",
       "      <th>cat</th>\n",
       "      <td>1</td>\n",
       "      <td>1</td>\n",
       "      <td>4</td>\n",
       "      <td>1</td>\n",
       "      <td>1</td>\n",
       "    </tr>\n",
       "    <tr>\n",
       "      <th>cat_ocl</th>\n",
       "      <td>1</td>\n",
       "      <td>1</td>\n",
       "      <td>4</td>\n",
       "      <td>1</td>\n",
       "      <td>6</td>\n",
       "    </tr>\n",
       "    <tr>\n",
       "      <th>cclass</th>\n",
       "      <td>423/155</td>\n",
       "      <td>427/145</td>\n",
       "      <td>174/16.1</td>\n",
       "      <td>204/192.15</td>\n",
       "      <td>430/14</td>\n",
       "    </tr>\n",
       "    <tr>\n",
       "      <th>country</th>\n",
       "      <td>US</td>\n",
       "      <td>JA</td>\n",
       "      <td></td>\n",
       "      <td>US</td>\n",
       "      <td></td>\n",
       "    </tr>\n",
       "    <tr>\n",
       "      <th>ddate</th>\n",
       "      <td>NaT</td>\n",
       "      <td>NaT</td>\n",
       "      <td>NaT</td>\n",
       "      <td>NaT</td>\n",
       "      <td>NaT</td>\n",
       "    </tr>\n",
       "    <tr>\n",
       "      <th>gday</th>\n",
       "      <td>22</td>\n",
       "      <td>20</td>\n",
       "      <td>27</td>\n",
       "      <td>17</td>\n",
       "      <td>17</td>\n",
       "    </tr>\n",
       "    <tr>\n",
       "      <th>gmonth</th>\n",
       "      <td>6</td>\n",
       "      <td>7</td>\n",
       "      <td>7</td>\n",
       "      <td>8</td>\n",
       "      <td>8</td>\n",
       "    </tr>\n",
       "    <tr>\n",
       "      <th>gyear</th>\n",
       "      <td>1976</td>\n",
       "      <td>1976</td>\n",
       "      <td>1976</td>\n",
       "      <td>1976</td>\n",
       "      <td>1976</td>\n",
       "    </tr>\n",
       "    <tr>\n",
       "      <th>hjtwt</th>\n",
       "      <td>1</td>\n",
       "      <td>1</td>\n",
       "      <td>1</td>\n",
       "      <td>1</td>\n",
       "      <td>1</td>\n",
       "    </tr>\n",
       "    <tr>\n",
       "      <th>icl</th>\n",
       "      <td>C01B 3324</td>\n",
       "      <td>B41M  522</td>\n",
       "      <td>H01B  734</td>\n",
       "      <td>C23C 1500</td>\n",
       "      <td>G03C  168</td>\n",
       "    </tr>\n",
       "    <tr>\n",
       "      <th>icl_class</th>\n",
       "      <td>C01B</td>\n",
       "      <td>B41M</td>\n",
       "      <td>H01B</td>\n",
       "      <td>C23C</td>\n",
       "      <td>G03C</td>\n",
       "    </tr>\n",
       "    <tr>\n",
       "      <th>icl_maingroup</th>\n",
       "      <td>33</td>\n",
       "      <td>5</td>\n",
       "      <td>7</td>\n",
       "      <td>15</td>\n",
       "      <td>1</td>\n",
       "    </tr>\n",
       "    <tr>\n",
       "      <th>iclnum</th>\n",
       "      <td>1</td>\n",
       "      <td>1</td>\n",
       "      <td>1</td>\n",
       "      <td>1</td>\n",
       "      <td>1</td>\n",
       "    </tr>\n",
       "    <tr>\n",
       "      <th>nclaims</th>\n",
       "      <td>15</td>\n",
       "      <td>10</td>\n",
       "      <td>11</td>\n",
       "      <td>20</td>\n",
       "      <td>10</td>\n",
       "    </tr>\n",
       "    <tr>\n",
       "      <th>nclass</th>\n",
       "      <td>423</td>\n",
       "      <td>427</td>\n",
       "      <td>174</td>\n",
       "      <td>204</td>\n",
       "      <td>430</td>\n",
       "    </tr>\n",
       "    <tr>\n",
       "      <th>nclass_ocl</th>\n",
       "      <td>423</td>\n",
       "      <td>427</td>\n",
       "      <td>174</td>\n",
       "      <td>204</td>\n",
       "      <td>428</td>\n",
       "    </tr>\n",
       "    <tr>\n",
       "      <th>pdpass</th>\n",
       "      <td>1.1065e+07</td>\n",
       "      <td>1.0035e+07</td>\n",
       "      <td>NaN</td>\n",
       "      <td>1.01111e+07</td>\n",
       "      <td>NaN</td>\n",
       "    </tr>\n",
       "    <tr>\n",
       "      <th>state</th>\n",
       "      <td>CA</td>\n",
       "      <td></td>\n",
       "      <td>CA</td>\n",
       "      <td>NJ</td>\n",
       "      <td>UT</td>\n",
       "    </tr>\n",
       "    <tr>\n",
       "      <th>status</th>\n",
       "      <td></td>\n",
       "      <td></td>\n",
       "      <td></td>\n",
       "      <td></td>\n",
       "      <td></td>\n",
       "    </tr>\n",
       "    <tr>\n",
       "      <th>subcat</th>\n",
       "      <td>19</td>\n",
       "      <td>12</td>\n",
       "      <td>41</td>\n",
       "      <td>19</td>\n",
       "      <td>19</td>\n",
       "    </tr>\n",
       "    <tr>\n",
       "      <th>subcat_ocl</th>\n",
       "      <td>19</td>\n",
       "      <td>12</td>\n",
       "      <td>41</td>\n",
       "      <td>19</td>\n",
       "      <td>69</td>\n",
       "    </tr>\n",
       "    <tr>\n",
       "      <th>subclass</th>\n",
       "      <td>155</td>\n",
       "      <td>145</td>\n",
       "      <td>16.1</td>\n",
       "      <td>192.15</td>\n",
       "      <td>14</td>\n",
       "    </tr>\n",
       "    <tr>\n",
       "      <th>subclass1</th>\n",
       "      <td>155</td>\n",
       "      <td>145</td>\n",
       "      <td>16.1</td>\n",
       "      <td>192.15</td>\n",
       "      <td>14</td>\n",
       "    </tr>\n",
       "    <tr>\n",
       "      <th>subclass1_ocl</th>\n",
       "      <td>155</td>\n",
       "      <td>145</td>\n",
       "      <td>16</td>\n",
       "      <td>192</td>\n",
       "      <td>67</td>\n",
       "    </tr>\n",
       "    <tr>\n",
       "      <th>subclass_ocl</th>\n",
       "      <td>155</td>\n",
       "      <td>145</td>\n",
       "      <td>16</td>\n",
       "      <td>192</td>\n",
       "      <td>67</td>\n",
       "    </tr>\n",
       "    <tr>\n",
       "      <th>term_extension</th>\n",
       "      <td>0</td>\n",
       "      <td>0</td>\n",
       "      <td>0</td>\n",
       "      <td>0</td>\n",
       "      <td>0</td>\n",
       "    </tr>\n",
       "    <tr>\n",
       "      <th>uspto_assignee</th>\n",
       "      <td>132190</td>\n",
       "      <td>211155</td>\n",
       "      <td>0</td>\n",
       "      <td>706518</td>\n",
       "      <td>0</td>\n",
       "    </tr>\n",
       "  </tbody>\n",
       "</table>\n",
       "</div>"
      ],
      "text/plain": [
       "                         0           1          2            3          4\n",
       "general                0.5         0.8   0.536842     0.803419   0.666667\n",
       "ncited                   4           6         20           27          3\n",
       "nciting                  2           2          2            2          2\n",
       "orig                     1           1          1            1          1\n",
       "patent             3965241     3970769    3971877      3975252    3975561\n",
       "year                  1975        1974       1975         1975       1974\n",
       "log_nciting        0.30103     0.30103    0.30103      0.30103    0.30103\n",
       "allcites                 4           6         20           27          3\n",
       "appyear               1975        1974       1975         1975       1974\n",
       "asscode                  2           3          4            2          1\n",
       "assgnum                  1           1        NaN            1        NaN\n",
       "cat                      1           1          4            1          1\n",
       "cat_ocl                  1           1          4            1          6\n",
       "cclass             423/155     427/145   174/16.1   204/192.15     430/14\n",
       "country                 US          JA                      US           \n",
       "ddate                  NaT         NaT        NaT          NaT        NaT\n",
       "gday                    22          20         27           17         17\n",
       "gmonth                   6           7          7            8          8\n",
       "gyear                 1976        1976       1976         1976       1976\n",
       "hjtwt                    1           1          1            1          1\n",
       "icl              C01B 3324   B41M  522  H01B  734    C23C 1500  G03C  168\n",
       "icl_class             C01B        B41M       H01B         C23C       G03C\n",
       "icl_maingroup           33           5          7           15          1\n",
       "iclnum                   1           1          1            1          1\n",
       "nclaims                 15          10         11           20         10\n",
       "nclass                 423         427        174          204        430\n",
       "nclass_ocl             423         427        174          204        428\n",
       "pdpass          1.1065e+07  1.0035e+07        NaN  1.01111e+07        NaN\n",
       "state                   CA                     CA           NJ         UT\n",
       "status                                                                   \n",
       "subcat                  19          12         41           19         19\n",
       "subcat_ocl              19          12         41           19         69\n",
       "subclass               155         145       16.1       192.15         14\n",
       "subclass1              155         145       16.1       192.15         14\n",
       "subclass1_ocl          155         145         16          192         67\n",
       "subclass_ocl           155         145         16          192         67\n",
       "term_extension           0           0          0            0          0\n",
       "uspto_assignee      132190      211155          0       706518          0"
      ]
     },
     "execution_count": 373,
     "metadata": {},
     "output_type": "execute_result"
    }
   ],
   "source": [
    "result.head().T\n",
    "#rr[rr.years_exp.isnull()])"
   ]
  },
  {
   "cell_type": "code",
   "execution_count": 378,
   "metadata": {
    "collapsed": false
   },
   "outputs": [
    {
     "name": "stdout",
     "output_type": "stream",
     "text": [
      "324287\n"
     ]
    },
    {
     "data": {
      "text/plain": [
       "0.17379050039008656"
      ]
     },
     "execution_count": 378,
     "metadata": {},
     "output_type": "execute_result"
    }
   ],
   "source": [
    "nan_results = result[result.pdpass.isnull()]\n",
    "print(len(o_g_notnull_76_00_origGT09))\n",
    "len(nan_results)\n",
    "# print proportion of nans in this high originility\n",
    "len(nan_results)/len(o_g_notnull_76_00_origGT09)"
   ]
  },
  {
   "cell_type": "code",
   "execution_count": 385,
   "metadata": {
    "collapsed": false
   },
   "outputs": [
    {
     "data": {
      "text/plain": [
       "0.1549450174459772"
      ]
     },
     "execution_count": 385,
     "metadata": {},
     "output_type": "execute_result"
    }
   ],
   "source": [
    "nan_results_lo = result_lo[result_lo.pdpass.isnull()]\n",
    "len(o_g_notnull_76_00_origLT01)\n",
    "len(nan_results_lo)\n",
    "# print proportion of nans in this high originility\n",
    "len(nan_results_lo)/len(o_g_notnull_76_00_origLT01)"
   ]
  },
  {
   "cell_type": "code",
   "execution_count": 378,
   "metadata": {
    "collapsed": false
   },
   "outputs": [
    {
     "name": "stdout",
     "output_type": "stream",
     "text": [
      "324287\n"
     ]
    },
    {
     "data": {
      "text/plain": [
       "0.17379050039008656"
      ]
     },
     "execution_count": 378,
     "metadata": {},
     "output_type": "execute_result"
    }
   ],
   "source": [
    "nan_results = result[result.pdpass.isnull()]\n",
    "len(o_g_notnull_76_00_origGT09)\n",
    "len(nan_results)\n",
    "# print proportion of nans in this high originility\n",
    "len(nan_results)/len(o_g_notnull_76_00_origGT09)"
   ]
  },
  {
   "cell_type": "code",
   "execution_count": 380,
   "metadata": {
    "collapsed": false
   },
   "outputs": [],
   "source": [
    "result_alldata = pd.merge(o_g_notnull_76_00, pat76_06_assg_df, on='patent')\n"
   ]
  },
  {
   "cell_type": "code",
   "execution_count": 382,
   "metadata": {
    "collapsed": false
   },
   "outputs": [
    {
     "data": {
      "text/plain": [
       "0.1494270481632034"
      ]
     },
     "execution_count": 382,
     "metadata": {},
     "output_type": "execute_result"
    }
   ],
   "source": [
    "nan_result_alldata = result_alldata[result_alldata.pdpass.isnull()]\n",
    "# print proportion of nans in this all data set\n",
    "len(nan_result_alldata)/len(o_g_notnull_76_00)"
   ]
  },
  {
   "cell_type": "code",
   "execution_count": 238,
   "metadata": {
    "collapsed": false
   },
   "outputs": [],
   "source": [
    "test_nciting_df = pd.DataFrame({'0':bin0nciting, '1':bin1nciting, '2':bin2nciting, \\\n",
    "                                '3':bin3nciting, '4':bin4nciting,'5':bin5nciting, \\\n",
    "                                '6':bin6nciting,'7':bin7nciting, '8':bin8nciting, '9':bin8nciting})"
   ]
  },
  {
   "cell_type": "code",
   "execution_count": 221,
   "metadata": {
    "collapsed": false
   },
   "outputs": [
    {
     "data": {
      "text/plain": [
       "<matplotlib.axes._subplots.AxesSubplot at 0x296f68358>"
      ]
     },
     "execution_count": 221,
     "metadata": {},
     "output_type": "execute_result"
    },
    {
     "data": {
      "image/png": "[encoded data removed]",
      "text/plain": [
       "<matplotlib.figure.Figure at 0x1c05bc470>"
      ]
     },
     "metadata": {},
     "output_type": "display_data"
    }
   ],
   "source": [
    "test_nciting_df.plot.box()\n"
   ]
  },
  {
   "cell_type": "code",
   "execution_count": 90,
   "metadata": {
    "collapsed": false
   },
   "outputs": [
    {
     "data": {
      "text/html": [
       "<div>\n",
       "<table border=\"1\" class=\"dataframe\">\n",
       "  <thead>\n",
       "    <tr style=\"text-align: right;\">\n",
       "      <th></th>\n",
       "      <th>count</th>\n",
       "      <th>mean</th>\n",
       "      <th>std</th>\n",
       "      <th>min</th>\n",
       "      <th>25%</th>\n",
       "      <th>50%</th>\n",
       "      <th>75%</th>\n",
       "      <th>max</th>\n",
       "    </tr>\n",
       "  </thead>\n",
       "  <tbody>\n",
       "    <tr>\n",
       "      <th>0</th>\n",
       "      <td>195182.0</td>\n",
       "      <td>4.566886</td>\n",
       "      <td>3.371665</td>\n",
       "      <td>2.0</td>\n",
       "      <td>2.0</td>\n",
       "      <td>4.0</td>\n",
       "      <td>6.0</td>\n",
       "      <td>62.0</td>\n",
       "    </tr>\n",
       "    <tr>\n",
       "      <th>1</th>\n",
       "      <td>195182.0</td>\n",
       "      <td>4.259891</td>\n",
       "      <td>3.324427</td>\n",
       "      <td>2.0</td>\n",
       "      <td>2.0</td>\n",
       "      <td>3.0</td>\n",
       "      <td>5.0</td>\n",
       "      <td>68.0</td>\n",
       "    </tr>\n",
       "    <tr>\n",
       "      <th>2</th>\n",
       "      <td>195182.0</td>\n",
       "      <td>12.126615</td>\n",
       "      <td>12.893648</td>\n",
       "      <td>2.0</td>\n",
       "      <td>6.0</td>\n",
       "      <td>9.0</td>\n",
       "      <td>14.0</td>\n",
       "      <td>522.0</td>\n",
       "    </tr>\n",
       "    <tr>\n",
       "      <th>3</th>\n",
       "      <td>195182.0</td>\n",
       "      <td>9.144957</td>\n",
       "      <td>12.119023</td>\n",
       "      <td>4.0</td>\n",
       "      <td>4.0</td>\n",
       "      <td>5.0</td>\n",
       "      <td>10.0</td>\n",
       "      <td>384.0</td>\n",
       "    </tr>\n",
       "    <tr>\n",
       "      <th>4</th>\n",
       "      <td>195182.0</td>\n",
       "      <td>12.127189</td>\n",
       "      <td>14.922111</td>\n",
       "      <td>3.0</td>\n",
       "      <td>6.0</td>\n",
       "      <td>8.0</td>\n",
       "      <td>13.0</td>\n",
       "      <td>513.0</td>\n",
       "    </tr>\n",
       "    <tr>\n",
       "      <th>5</th>\n",
       "      <td>195182.0</td>\n",
       "      <td>7.562214</td>\n",
       "      <td>11.673573</td>\n",
       "      <td>3.0</td>\n",
       "      <td>3.0</td>\n",
       "      <td>5.0</td>\n",
       "      <td>8.0</td>\n",
       "      <td>678.0</td>\n",
       "    </tr>\n",
       "    <tr>\n",
       "      <th>6</th>\n",
       "      <td>195182.0</td>\n",
       "      <td>12.651454</td>\n",
       "      <td>16.521298</td>\n",
       "      <td>4.0</td>\n",
       "      <td>6.0</td>\n",
       "      <td>8.0</td>\n",
       "      <td>13.0</td>\n",
       "      <td>443.0</td>\n",
       "    </tr>\n",
       "    <tr>\n",
       "      <th>7</th>\n",
       "      <td>195182.0</td>\n",
       "      <td>11.645372</td>\n",
       "      <td>16.163490</td>\n",
       "      <td>3.0</td>\n",
       "      <td>5.0</td>\n",
       "      <td>8.0</td>\n",
       "      <td>12.0</td>\n",
       "      <td>710.0</td>\n",
       "    </tr>\n",
       "    <tr>\n",
       "      <th>8</th>\n",
       "      <td>195182.0</td>\n",
       "      <td>2.580279</td>\n",
       "      <td>1.002008</td>\n",
       "      <td>2.0</td>\n",
       "      <td>2.0</td>\n",
       "      <td>2.0</td>\n",
       "      <td>3.0</td>\n",
       "      <td>15.0</td>\n",
       "    </tr>\n",
       "  </tbody>\n",
       "</table>\n",
       "</div>"
      ],
      "text/plain": [
       "      count       mean        std  min  25%  50%   75%    max\n",
       "0  195182.0   4.566886   3.371665  2.0  2.0  4.0   6.0   62.0\n",
       "1  195182.0   4.259891   3.324427  2.0  2.0  3.0   5.0   68.0\n",
       "2  195182.0  12.126615  12.893648  2.0  6.0  9.0  14.0  522.0\n",
       "3  195182.0   9.144957  12.119023  4.0  4.0  5.0  10.0  384.0\n",
       "4  195182.0  12.127189  14.922111  3.0  6.0  8.0  13.0  513.0\n",
       "5  195182.0   7.562214  11.673573  3.0  3.0  5.0   8.0  678.0\n",
       "6  195182.0  12.651454  16.521298  4.0  6.0  8.0  13.0  443.0\n",
       "7  195182.0  11.645372  16.163490  3.0  5.0  8.0  12.0  710.0\n",
       "8  195182.0   2.580279   1.002008  2.0  2.0  2.0   3.0   15.0"
      ]
     },
     "execution_count": 90,
     "metadata": {},
     "output_type": "execute_result"
    }
   ],
   "source": [
    "test_nciting_df.describe().T"
   ]
  },
  {
   "cell_type": "markdown",
   "metadata": {},
   "source": [
    "results are not sensible as each bin is distributed in a power law. It may be more sensible to derive the slope of the power law for each bin and see how this changes with originality. One might expect the slope to get shallower with originaility and then steepen again."
   ]
  },
  {
   "cell_type": "code",
   "execution_count": 79,
   "metadata": {
    "collapsed": false
   },
   "outputs": [
    {
     "data": {
      "image/png": "[encoded data removed]",
      "text/plain": [
       "<matplotlib.figure.Figure at 0x2f74ac6d8>"
      ]
     },
     "metadata": {},
     "output_type": "display_data"
    }
   ],
   "source": [
    "plt.hist(bin1nciting,bins=50)\n",
    "plt.hist(bin2nciting,bins=50,alpha=0.1)\n",
    "plt.hist(bin3nciting,bins=50,alpha=0.1)\n",
    "plt.hist(bin7nciting,bins=50,alpha=0.1)\n",
    "plt.yscale('log', nonposy='clip')"
   ]
  },
  {
   "cell_type": "code",
   "execution_count": 86,
   "metadata": {
    "collapsed": false
   },
   "outputs": [
    {
     "data": {
      "text/plain": [
       "4"
      ]
     },
     "execution_count": 86,
     "metadata": {},
     "output_type": "execute_result"
    }
   ],
   "source": [
    "min(bin3nciting)"
   ]
  },
  {
   "cell_type": "code",
   "execution_count": 43,
   "metadata": {
    "collapsed": false
   },
   "outputs": [],
   "source": [
    "# get number of claims to see how these work as measure of patent value\n",
    "nclaims_data = pd.read_csv('pat76_06_citesnum_hjtwt_nclaims_patent.csv')"
   ]
  },
  {
   "cell_type": "code",
   "execution_count": 44,
   "metadata": {
    "collapsed": false
   },
   "outputs": [
    {
     "name": "stdout",
     "output_type": "stream",
     "text": [
      "    patent  allcites  hjtwt  nclaims\n",
      "0  3930271         6    1.0      4.0\n",
      "1  3930272         0    1.0      3.0\n",
      "2  3930273        20    1.0     24.0\n",
      "3  3930274         4    1.0      7.0\n",
      "4  3930275         1    1.0      9.0\n",
      "     general  ncited  nciting      orig   patent    year  log_nciting\n",
      "9   0.179435      32        3  0.666667  3931349  1974.0     0.477121\n",
      "22  0.500000       4        2  1.000000  3965241  1975.0     0.301030\n",
      "35  0.800000       6        2  1.000000  3970769  1974.0     0.301030\n",
      "41  0.536842      20        2  1.000000  3971877  1975.0     0.301030\n",
      "57       NaN       1        2  0.000000  3974168  1974.0     0.301030\n"
     ]
    }
   ],
   "source": [
    "# merge nclaims data with originality \n",
    "print(nclaims_data.head())\n",
    "print(o_g_notnull_76_00.head())\n",
    "# pd.merge(df_new, df_n, on='subject_id')\n",
    "orig_nclaims_df = pd.merge(o_g_notnull_76_00,nclaims_data,on='patent')"
   ]
  },
  {
   "cell_type": "code",
   "execution_count": 45,
   "metadata": {
    "collapsed": false
   },
   "outputs": [
    {
     "data": {
      "text/html": [
       "<div>\n",
       "<table border=\"1\" class=\"dataframe\">\n",
       "  <thead>\n",
       "    <tr style=\"text-align: right;\">\n",
       "      <th></th>\n",
       "      <th>general</th>\n",
       "      <th>ncited</th>\n",
       "      <th>nciting</th>\n",
       "      <th>orig</th>\n",
       "      <th>patent</th>\n",
       "      <th>year</th>\n",
       "      <th>log_nciting</th>\n",
       "      <th>allcites</th>\n",
       "      <th>hjtwt</th>\n",
       "      <th>nclaims</th>\n",
       "      <th>log_nclaims</th>\n",
       "    </tr>\n",
       "  </thead>\n",
       "  <tbody>\n",
       "    <tr>\n",
       "      <th>0</th>\n",
       "      <td>0.179435</td>\n",
       "      <td>32</td>\n",
       "      <td>3</td>\n",
       "      <td>0.666667</td>\n",
       "      <td>3931349</td>\n",
       "      <td>1974.0</td>\n",
       "      <td>0.477121</td>\n",
       "      <td>32</td>\n",
       "      <td>1.0</td>\n",
       "      <td>9.0</td>\n",
       "      <td>0.954243</td>\n",
       "    </tr>\n",
       "    <tr>\n",
       "      <th>1</th>\n",
       "      <td>0.500000</td>\n",
       "      <td>4</td>\n",
       "      <td>2</td>\n",
       "      <td>1.000000</td>\n",
       "      <td>3965241</td>\n",
       "      <td>1975.0</td>\n",
       "      <td>0.301030</td>\n",
       "      <td>4</td>\n",
       "      <td>1.0</td>\n",
       "      <td>15.0</td>\n",
       "      <td>1.176091</td>\n",
       "    </tr>\n",
       "    <tr>\n",
       "      <th>2</th>\n",
       "      <td>0.800000</td>\n",
       "      <td>6</td>\n",
       "      <td>2</td>\n",
       "      <td>1.000000</td>\n",
       "      <td>3970769</td>\n",
       "      <td>1974.0</td>\n",
       "      <td>0.301030</td>\n",
       "      <td>6</td>\n",
       "      <td>1.0</td>\n",
       "      <td>10.0</td>\n",
       "      <td>1.000000</td>\n",
       "    </tr>\n",
       "    <tr>\n",
       "      <th>3</th>\n",
       "      <td>0.536842</td>\n",
       "      <td>20</td>\n",
       "      <td>2</td>\n",
       "      <td>1.000000</td>\n",
       "      <td>3971877</td>\n",
       "      <td>1975.0</td>\n",
       "      <td>0.301030</td>\n",
       "      <td>20</td>\n",
       "      <td>1.0</td>\n",
       "      <td>11.0</td>\n",
       "      <td>1.041393</td>\n",
       "    </tr>\n",
       "    <tr>\n",
       "      <th>4</th>\n",
       "      <td>NaN</td>\n",
       "      <td>1</td>\n",
       "      <td>2</td>\n",
       "      <td>0.000000</td>\n",
       "      <td>3974168</td>\n",
       "      <td>1974.0</td>\n",
       "      <td>0.301030</td>\n",
       "      <td>1</td>\n",
       "      <td>1.0</td>\n",
       "      <td>23.0</td>\n",
       "      <td>1.361728</td>\n",
       "    </tr>\n",
       "  </tbody>\n",
       "</table>\n",
       "</div>"
      ],
      "text/plain": [
       "    general  ncited  nciting      orig   patent    year  log_nciting  \\\n",
       "0  0.179435      32        3  0.666667  3931349  1974.0     0.477121   \n",
       "1  0.500000       4        2  1.000000  3965241  1975.0     0.301030   \n",
       "2  0.800000       6        2  1.000000  3970769  1974.0     0.301030   \n",
       "3  0.536842      20        2  1.000000  3971877  1975.0     0.301030   \n",
       "4       NaN       1        2  0.000000  3974168  1974.0     0.301030   \n",
       "\n",
       "   allcites  hjtwt  nclaims  log_nclaims  \n",
       "0        32    1.0      9.0     0.954243  \n",
       "1         4    1.0     15.0     1.176091  \n",
       "2         6    1.0     10.0     1.000000  \n",
       "3        20    1.0     11.0     1.041393  \n",
       "4         1    1.0     23.0     1.361728  "
      ]
     },
     "execution_count": 45,
     "metadata": {},
     "output_type": "execute_result"
    }
   ],
   "source": [
    "orig_nclaims_df['log_nclaims'] = np.log10(orig_nclaims_df.nclaims)\n",
    "orig_nclaims_df.head()"
   ]
  },
  {
   "cell_type": "code",
   "execution_count": 46,
   "metadata": {
    "collapsed": false
   },
   "outputs": [
    {
     "data": {
      "image/png": "[encoded data removed]",
      "text/plain": [
       "<matplotlib.figure.Figure at 0x1d7e20438>"
      ]
     },
     "metadata": {},
     "output_type": "display_data"
    }
   ],
   "source": [
    "# new plot with data from only 1976 to 200\n",
    "\n",
    "plt.hist2d(orig_nclaims_df.orig,orig_nclaims_df.nclaims, cmap='gist_rainbow',bins=[100,100],norm = LogNorm())\n",
    "cb = plt.colorbar()\n",
    "cb.set_label('Counts per bin')\n",
    "plt.savefig(\"/Users/ahuxor/MSc/Thesis_Project/msc_thesis/Figs/orig_nclaims_76_00_heatmap.pdf\", bbox_inches = 'tight')\n"
   ]
  },
  {
   "cell_type": "code",
   "execution_count": 66,
   "metadata": {
    "collapsed": false
   },
   "outputs": [
    {
     "data": {
      "image/png": "[encoded data removed]",
      "text/plain": [
       "<matplotlib.figure.Figure at 0x1cfed1668>"
      ]
     },
     "metadata": {},
     "output_type": "display_data"
    }
   ],
   "source": [
    "# new plot with data from only 1976 to 200\n",
    "fig = plt.figure(1)\n",
    "ax = plt.subplot(111)\n",
    "\n",
    "plt.hist2d(orig_nclaims_df.orig,orig_nclaims_df.log_nclaims, cmap='gist_ncar',bins=[40,40],norm = LogNorm())\n",
    "cb = plt.colorbar()\n",
    "cb.set_label('Counts per bin')\n",
    "ax.set_xlabel('Originality')\n",
    "ax.set_ylabel('Log10(Number of claims)')\n",
    "\n",
    "plt.savefig(\"/Users/ahuxor/MSc/Thesis_Project/msc_thesis/Figs/orig_log_nclaims_76_00_heatmap.pdf\", bbox_inches = 'tight')\n",
    "\n",
    "plt.show()"
   ]
  },
  {
   "cell_type": "code",
   "execution_count": 48,
   "metadata": {
    "collapsed": false
   },
   "outputs": [
    {
     "data": {
      "text/html": [
       "<div>\n",
       "<table border=\"1\" class=\"dataframe\">\n",
       "  <thead>\n",
       "    <tr style=\"text-align: right;\">\n",
       "      <th></th>\n",
       "      <th>general</th>\n",
       "      <th>ncited</th>\n",
       "      <th>nciting</th>\n",
       "      <th>orig</th>\n",
       "      <th>patent</th>\n",
       "      <th>year</th>\n",
       "      <th>log_nciting</th>\n",
       "      <th>allcites</th>\n",
       "      <th>hjtwt</th>\n",
       "      <th>nclaims</th>\n",
       "      <th>log_nclaims</th>\n",
       "    </tr>\n",
       "  </thead>\n",
       "  <tbody>\n",
       "    <tr>\n",
       "      <th>0</th>\n",
       "      <td>0.179435</td>\n",
       "      <td>32</td>\n",
       "      <td>3</td>\n",
       "      <td>0.666667</td>\n",
       "      <td>3931349</td>\n",
       "      <td>1974.0</td>\n",
       "      <td>0.477121</td>\n",
       "      <td>32</td>\n",
       "      <td>1.0</td>\n",
       "      <td>9.0</td>\n",
       "      <td>0.954243</td>\n",
       "    </tr>\n",
       "    <tr>\n",
       "      <th>1</th>\n",
       "      <td>0.500000</td>\n",
       "      <td>4</td>\n",
       "      <td>2</td>\n",
       "      <td>1.000000</td>\n",
       "      <td>3965241</td>\n",
       "      <td>1975.0</td>\n",
       "      <td>0.301030</td>\n",
       "      <td>4</td>\n",
       "      <td>1.0</td>\n",
       "      <td>15.0</td>\n",
       "      <td>1.176091</td>\n",
       "    </tr>\n",
       "    <tr>\n",
       "      <th>2</th>\n",
       "      <td>0.800000</td>\n",
       "      <td>6</td>\n",
       "      <td>2</td>\n",
       "      <td>1.000000</td>\n",
       "      <td>3970769</td>\n",
       "      <td>1974.0</td>\n",
       "      <td>0.301030</td>\n",
       "      <td>6</td>\n",
       "      <td>1.0</td>\n",
       "      <td>10.0</td>\n",
       "      <td>1.000000</td>\n",
       "    </tr>\n",
       "    <tr>\n",
       "      <th>3</th>\n",
       "      <td>0.536842</td>\n",
       "      <td>20</td>\n",
       "      <td>2</td>\n",
       "      <td>1.000000</td>\n",
       "      <td>3971877</td>\n",
       "      <td>1975.0</td>\n",
       "      <td>0.301030</td>\n",
       "      <td>20</td>\n",
       "      <td>1.0</td>\n",
       "      <td>11.0</td>\n",
       "      <td>1.041393</td>\n",
       "    </tr>\n",
       "    <tr>\n",
       "      <th>4</th>\n",
       "      <td>NaN</td>\n",
       "      <td>1</td>\n",
       "      <td>2</td>\n",
       "      <td>0.000000</td>\n",
       "      <td>3974168</td>\n",
       "      <td>1974.0</td>\n",
       "      <td>0.301030</td>\n",
       "      <td>1</td>\n",
       "      <td>1.0</td>\n",
       "      <td>23.0</td>\n",
       "      <td>1.361728</td>\n",
       "    </tr>\n",
       "  </tbody>\n",
       "</table>\n",
       "</div>"
      ],
      "text/plain": [
       "    general  ncited  nciting      orig   patent    year  log_nciting  \\\n",
       "0  0.179435      32        3  0.666667  3931349  1974.0     0.477121   \n",
       "1  0.500000       4        2  1.000000  3965241  1975.0     0.301030   \n",
       "2  0.800000       6        2  1.000000  3970769  1974.0     0.301030   \n",
       "3  0.536842      20        2  1.000000  3971877  1975.0     0.301030   \n",
       "4       NaN       1        2  0.000000  3974168  1974.0     0.301030   \n",
       "\n",
       "   allcites  hjtwt  nclaims  log_nclaims  \n",
       "0        32    1.0      9.0     0.954243  \n",
       "1         4    1.0     15.0     1.176091  \n",
       "2         6    1.0     10.0     1.000000  \n",
       "3        20    1.0     11.0     1.041393  \n",
       "4         1    1.0     23.0     1.361728  "
      ]
     },
     "execution_count": 48,
     "metadata": {},
     "output_type": "execute_result"
    }
   ],
   "source": [
    "orig_nclaims_df.head()"
   ]
  },
  {
   "cell_type": "code",
   "execution_count": 49,
   "metadata": {
    "collapsed": false
   },
   "outputs": [
    {
     "data": {
      "text/html": [
       "<div>\n",
       "<table border=\"1\" class=\"dataframe\">\n",
       "  <thead>\n",
       "    <tr style=\"text-align: right;\">\n",
       "      <th></th>\n",
       "      <th>general</th>\n",
       "      <th>ncited</th>\n",
       "      <th>nciting</th>\n",
       "      <th>orig</th>\n",
       "      <th>patent</th>\n",
       "      <th>year</th>\n",
       "    </tr>\n",
       "  </thead>\n",
       "  <tbody>\n",
       "    <tr>\n",
       "      <th>9</th>\n",
       "      <td>0.179435</td>\n",
       "      <td>32</td>\n",
       "      <td>3</td>\n",
       "      <td>0.666667</td>\n",
       "      <td>3931349</td>\n",
       "      <td>1974.0</td>\n",
       "    </tr>\n",
       "    <tr>\n",
       "      <th>22</th>\n",
       "      <td>0.500000</td>\n",
       "      <td>4</td>\n",
       "      <td>2</td>\n",
       "      <td>1.000000</td>\n",
       "      <td>3965241</td>\n",
       "      <td>1975.0</td>\n",
       "    </tr>\n",
       "    <tr>\n",
       "      <th>35</th>\n",
       "      <td>0.800000</td>\n",
       "      <td>6</td>\n",
       "      <td>2</td>\n",
       "      <td>1.000000</td>\n",
       "      <td>3970769</td>\n",
       "      <td>1974.0</td>\n",
       "    </tr>\n",
       "    <tr>\n",
       "      <th>41</th>\n",
       "      <td>0.536842</td>\n",
       "      <td>20</td>\n",
       "      <td>2</td>\n",
       "      <td>1.000000</td>\n",
       "      <td>3971877</td>\n",
       "      <td>1975.0</td>\n",
       "    </tr>\n",
       "    <tr>\n",
       "      <th>57</th>\n",
       "      <td>NaN</td>\n",
       "      <td>1</td>\n",
       "      <td>2</td>\n",
       "      <td>0.000000</td>\n",
       "      <td>3974168</td>\n",
       "      <td>1974.0</td>\n",
       "    </tr>\n",
       "  </tbody>\n",
       "</table>\n",
       "</div>"
      ],
      "text/plain": [
       "     general  ncited  nciting      orig   patent    year\n",
       "9   0.179435      32        3  0.666667  3931349  1974.0\n",
       "22  0.500000       4        2  1.000000  3965241  1975.0\n",
       "35  0.800000       6        2  1.000000  3970769  1974.0\n",
       "41  0.536842      20        2  1.000000  3971877  1975.0\n",
       "57       NaN       1        2  0.000000  3974168  1974.0"
      ]
     },
     "execution_count": 49,
     "metadata": {},
     "output_type": "execute_result"
    }
   ],
   "source": [
    "o_g_notnull.head()"
   ]
  },
  {
   "cell_type": "code",
   "execution_count": 50,
   "metadata": {
    "collapsed": false
   },
   "outputs": [
    {
     "data": {
      "image/png": "[encoded data removed]",
      "text/plain": [
       "<matplotlib.figure.Figure at 0x1d00eb588>"
      ]
     },
     "metadata": {},
     "output_type": "display_data"
    }
   ],
   "source": [
    "o_g_2_notnull = orig_gen_76_06_df[(orig_gen_76_06_df.nciting.notnull()) & (orig_gen_76_06_df.general.notnull())]\n",
    "\n",
    "plt.hist2d(o_g_2_notnull.nciting,o_g_2_notnull.general, cmap='gist_rainbow',bins=[100,100],norm = LogNorm())\n",
    "cb = plt.colorbar()\n",
    "cb.set_label('Counts per bin')\n",
    "\n"
   ]
  },
  {
   "cell_type": "code",
   "execution_count": 51,
   "metadata": {
    "collapsed": false
   },
   "outputs": [
    {
     "data": {
      "text/plain": [
       "2142036"
      ]
     },
     "execution_count": 51,
     "metadata": {},
     "output_type": "execute_result"
    }
   ],
   "source": [
    "orig_gen_76_06_df.head()\n",
    "orig_gen_76_06_df_gen_notnull = orig_gen_76_06_df[orig_gen_76_06_df.general.notnull()]\n",
    "len(orig_gen_76_06_df_gen_notnull)"
   ]
  },
  {
   "cell_type": "code",
   "execution_count": 52,
   "metadata": {
    "collapsed": false
   },
   "outputs": [
    {
     "data": {
      "text/plain": [
       "0.6789380598292224"
      ]
     },
     "execution_count": 52,
     "metadata": {},
     "output_type": "execute_result"
    }
   ],
   "source": [
    "# percetage of orig_gen data with active generality measures\n",
    "2142036/3154980"
   ]
  },
  {
   "cell_type": "code",
   "execution_count": 53,
   "metadata": {
    "collapsed": false
   },
   "outputs": [
    {
     "data": {
      "text/plain": [
       "2469808"
      ]
     },
     "execution_count": 53,
     "metadata": {},
     "output_type": "execute_result"
    }
   ],
   "source": [
    "\n",
    "orig_gen_76_06_df_orig_notnull = orig_gen_76_06_df[orig_gen_76_06_df.orig.notnull()]\n",
    "len(orig_gen_76_06_df_orig_notnull)"
   ]
  },
  {
   "cell_type": "code",
   "execution_count": 54,
   "metadata": {
    "collapsed": false
   },
   "outputs": [
    {
     "data": {
      "text/plain": [
       "0.7828284172958307"
      ]
     },
     "execution_count": 54,
     "metadata": {},
     "output_type": "execute_result"
    }
   ],
   "source": [
    "# percetage of orig_gen data with active originality measures\n",
    "2469808/3154980"
   ]
  },
  {
   "cell_type": "code",
   "execution_count": 55,
   "metadata": {
    "collapsed": false
   },
   "outputs": [
    {
     "data": {
      "text/plain": [
       "1603141"
      ]
     },
     "execution_count": 55,
     "metadata": {},
     "output_type": "execute_result"
    }
   ],
   "source": [
    "# get proportion of patent with both active genarality and originality measures.\n",
    "orig_gen_76_06_df_genorig_notnull = orig_gen_76_06_df[(orig_gen_76_06_df.general.notnull())&(orig_gen_76_06_df.orig.notnull())]\n",
    "len(orig_gen_76_06_df_genorig_notnull)\n"
   ]
  },
  {
   "cell_type": "code",
   "execution_count": 56,
   "metadata": {
    "collapsed": false
   },
   "outputs": [
    {
     "data": {
      "text/plain": [
       "0.5081303209529062"
      ]
     },
     "execution_count": 56,
     "metadata": {},
     "output_type": "execute_result"
    }
   ],
   "source": [
    "# percetage of orig_gen data with active originality and generality measures\n",
    "1603141/3154980"
   ]
  },
  {
   "cell_type": "code",
   "execution_count": 57,
   "metadata": {
    "collapsed": false
   },
   "outputs": [
    {
     "data": {
      "text/plain": [
       "<matplotlib.collections.PathCollection at 0x1d77156d8>"
      ]
     },
     "execution_count": 57,
     "metadata": {},
     "output_type": "execute_result"
    },
    {
     "data": {
      "image/png": "[encoded data removed]",
      "text/plain": [
       "<matplotlib.figure.Figure at 0x1d54e2c18>"
      ]
     },
     "metadata": {},
     "output_type": "display_data"
    }
   ],
   "source": [
    "orig_gen_76_06_df_genorig_notnull\n",
    "plt.scatter(orig_gen_76_06_df_genorig_notnull.general,orig_gen_76_06_df_genorig_notnull.orig,marker='.')"
   ]
  },
  {
   "cell_type": "code",
   "execution_count": 58,
   "metadata": {
    "collapsed": false
   },
   "outputs": [
    {
     "data": {
      "image/png": "[encoded data removed]",
      "text/plain": [
       "<matplotlib.figure.Figure at 0x1cbcc4320>"
      ]
     },
     "metadata": {},
     "output_type": "display_data"
    }
   ],
   "source": [
    "plt.hist2d(orig_gen_76_06_df_genorig_notnull.general, orig_gen_76_06_df_genorig_notnull.orig, bins=[50,50], cmap='gist_rainbow',norm = LogNorm())\n",
    "cb = plt.colorbar()\n",
    "cb.set_label('Counts per bin')\n",
    "plt.xlabel('Generality')\n",
    "plt.ylabel('Originality')\n",
    "# plt.title('Number density: generality against orginality')\n",
    "plt.savefig(\"NBER_generality_originality_heatmap.pdf\", bbox_inches = 'tight', pad_inches = 0.1)"
   ]
  },
  {
   "cell_type": "code",
   "execution_count": 59,
   "metadata": {
    "collapsed": false
   },
   "outputs": [
    {
     "name": "stdout",
     "output_type": "stream",
     "text": [
      "Sun 20 Aug 2017 10:31:21 BST\r\n"
     ]
    },
    {
     "ename": "KeyboardInterrupt",
     "evalue": "",
     "output_type": "error",
     "traceback": [
      "\u001b[0;31m---------------------------------------------------------------------------\u001b[0m",
      "\u001b[0;31mKeyboardInterrupt\u001b[0m                         Traceback (most recent call last)",
      "\u001b[0;32m<ipython-input-59-ba3c7685a1bc>\u001b[0m in \u001b[0;36m<module>\u001b[0;34m()\u001b[0m\n\u001b[1;32m      2\u001b[0m \u001b[0;31m# read in main data file in the Strata9 .dta format\u001b[0m\u001b[0;34m\u001b[0m\u001b[0;34m\u001b[0m\u001b[0m\n\u001b[1;32m      3\u001b[0m \u001b[0mget_ipython\u001b[0m\u001b[0;34m(\u001b[0m\u001b[0;34m)\u001b[0m\u001b[0;34m.\u001b[0m\u001b[0msystem\u001b[0m\u001b[0;34m(\u001b[0m\u001b[0;34m'date'\u001b[0m\u001b[0;34m)\u001b[0m\u001b[0;34m\u001b[0m\u001b[0m\n\u001b[0;32m----> 4\u001b[0;31m \u001b[0mpat76_06_assg_df\u001b[0m \u001b[0;34m=\u001b[0m \u001b[0mpd\u001b[0m\u001b[0;34m.\u001b[0m\u001b[0mread_stata\u001b[0m\u001b[0;34m(\u001b[0m\u001b[0;34m'pat76_06_assg.dta'\u001b[0m\u001b[0;34m)\u001b[0m\u001b[0;34m\u001b[0m\u001b[0m\n\u001b[0m\u001b[1;32m      5\u001b[0m \u001b[0mget_ipython\u001b[0m\u001b[0;34m(\u001b[0m\u001b[0;34m)\u001b[0m\u001b[0;34m.\u001b[0m\u001b[0msystem\u001b[0m\u001b[0;34m(\u001b[0m\u001b[0;34m'date'\u001b[0m\u001b[0;34m)\u001b[0m\u001b[0;34m\u001b[0m\u001b[0m\n",
      "\u001b[0;32m/Users/ahuxor/anaconda/lib/python3.4/site-packages/pandas/io/stata.py\u001b[0m in \u001b[0;36mread_stata\u001b[0;34m(filepath_or_buffer, convert_dates, convert_categoricals, encoding, index, convert_missing, preserve_dtypes, columns, order_categoricals, chunksize, iterator)\u001b[0m\n\u001b[1;32m    170\u001b[0m         \u001b[0mdata\u001b[0m \u001b[0;34m=\u001b[0m \u001b[0mreader\u001b[0m\u001b[0;34m\u001b[0m\u001b[0m\n\u001b[1;32m    171\u001b[0m     \u001b[0;32melse\u001b[0m\u001b[0;34m:\u001b[0m\u001b[0;34m\u001b[0m\u001b[0m\n\u001b[0;32m--> 172\u001b[0;31m         \u001b[0mdata\u001b[0m \u001b[0;34m=\u001b[0m \u001b[0mreader\u001b[0m\u001b[0;34m.\u001b[0m\u001b[0mread\u001b[0m\u001b[0;34m(\u001b[0m\u001b[0;34m)\u001b[0m\u001b[0;34m\u001b[0m\u001b[0m\n\u001b[0m\u001b[1;32m    173\u001b[0m         \u001b[0mreader\u001b[0m\u001b[0;34m.\u001b[0m\u001b[0mclose\u001b[0m\u001b[0;34m(\u001b[0m\u001b[0;34m)\u001b[0m\u001b[0;34m\u001b[0m\u001b[0m\n\u001b[1;32m    174\u001b[0m     \u001b[0;32mreturn\u001b[0m \u001b[0mdata\u001b[0m\u001b[0;34m\u001b[0m\u001b[0m\n",
      "\u001b[0;32m/Users/ahuxor/anaconda/lib/python3.4/site-packages/pandas/io/stata.py\u001b[0m in \u001b[0;36mread\u001b[0;34m(self, nrows, convert_dates, convert_categoricals, index, convert_missing, preserve_dtypes, columns, order_categoricals)\u001b[0m\n\u001b[1;32m   1552\u001b[0m                     data[col] = _stata_elapsed_date_to_datetime_vec(\n\u001b[1;32m   1553\u001b[0m                         \u001b[0mdata\u001b[0m\u001b[0;34m[\u001b[0m\u001b[0mcol\u001b[0m\u001b[0;34m]\u001b[0m\u001b[0;34m,\u001b[0m\u001b[0;34m\u001b[0m\u001b[0m\n\u001b[0;32m-> 1554\u001b[0;31m                         self.fmtlist[i])\n\u001b[0m\u001b[1;32m   1555\u001b[0m                 \u001b[0;32mexcept\u001b[0m \u001b[0mValueError\u001b[0m\u001b[0;34m:\u001b[0m\u001b[0;34m\u001b[0m\u001b[0m\n\u001b[1;32m   1556\u001b[0m                     \u001b[0mself\u001b[0m\u001b[0;34m.\u001b[0m\u001b[0mclose\u001b[0m\u001b[0;34m(\u001b[0m\u001b[0;34m)\u001b[0m\u001b[0;34m\u001b[0m\u001b[0m\n",
      "\u001b[0;32m/Users/ahuxor/anaconda/lib/python3.4/site-packages/pandas/io/stata.py\u001b[0m in \u001b[0;36m_stata_elapsed_date_to_datetime_vec\u001b[0;34m(dates, fmt)\u001b[0m\n\u001b[1;32m    311\u001b[0m         \u001b[0mbase\u001b[0m \u001b[0;34m=\u001b[0m \u001b[0mstata_epoch\u001b[0m\u001b[0;34m\u001b[0m\u001b[0m\n\u001b[1;32m    312\u001b[0m         \u001b[0mdays\u001b[0m \u001b[0;34m=\u001b[0m \u001b[0mdates\u001b[0m\u001b[0;34m\u001b[0m\u001b[0m\n\u001b[0;32m--> 313\u001b[0;31m         \u001b[0mconv_dates\u001b[0m \u001b[0;34m=\u001b[0m \u001b[0mconvert_delta_safe\u001b[0m\u001b[0;34m(\u001b[0m\u001b[0mbase\u001b[0m\u001b[0;34m,\u001b[0m \u001b[0mdays\u001b[0m\u001b[0;34m,\u001b[0m \u001b[0;34m'd'\u001b[0m\u001b[0;34m)\u001b[0m\u001b[0;34m\u001b[0m\u001b[0m\n\u001b[0m\u001b[1;32m    314\u001b[0m     \u001b[0;32melif\u001b[0m \u001b[0mfmt\u001b[0m \u001b[0;32min\u001b[0m \u001b[0;34m[\u001b[0m\u001b[0;34m\"%tw\"\u001b[0m\u001b[0;34m,\u001b[0m \u001b[0;34m\"tw\"\u001b[0m\u001b[0;34m]\u001b[0m\u001b[0;34m:\u001b[0m  \u001b[0;31m# does not count leap days - 7 days is a week\u001b[0m\u001b[0;34m\u001b[0m\u001b[0m\n\u001b[1;32m    315\u001b[0m         \u001b[0myear\u001b[0m \u001b[0;34m=\u001b[0m \u001b[0mstata_epoch\u001b[0m\u001b[0;34m.\u001b[0m\u001b[0myear\u001b[0m \u001b[0;34m+\u001b[0m \u001b[0mdates\u001b[0m \u001b[0;34m//\u001b[0m \u001b[0;36m52\u001b[0m\u001b[0;34m\u001b[0m\u001b[0m\n",
      "\u001b[0;32m/Users/ahuxor/anaconda/lib/python3.4/site-packages/pandas/io/stata.py\u001b[0m in \u001b[0;36mconvert_delta_safe\u001b[0;34m(base, deltas, unit)\u001b[0m\n\u001b[1;32m    273\u001b[0m         \u001b[0;32mif\u001b[0m \u001b[0munit\u001b[0m \u001b[0;34m==\u001b[0m \u001b[0;34m'd'\u001b[0m\u001b[0;34m:\u001b[0m\u001b[0;34m\u001b[0m\u001b[0m\n\u001b[1;32m    274\u001b[0m             \u001b[0;32mif\u001b[0m \u001b[0mdeltas\u001b[0m\u001b[0;34m.\u001b[0m\u001b[0mmax\u001b[0m\u001b[0;34m(\u001b[0m\u001b[0;34m)\u001b[0m \u001b[0;34m>\u001b[0m \u001b[0mMAX_DAY_DELTA\u001b[0m \u001b[0;32mor\u001b[0m \u001b[0mdeltas\u001b[0m\u001b[0;34m.\u001b[0m\u001b[0mmin\u001b[0m\u001b[0;34m(\u001b[0m\u001b[0;34m)\u001b[0m \u001b[0;34m<\u001b[0m \u001b[0mMIN_DAY_DELTA\u001b[0m\u001b[0;34m:\u001b[0m\u001b[0;34m\u001b[0m\u001b[0m\n\u001b[0;32m--> 275\u001b[0;31m                 \u001b[0mvalues\u001b[0m \u001b[0;34m=\u001b[0m \u001b[0;34m[\u001b[0m\u001b[0mbase\u001b[0m \u001b[0;34m+\u001b[0m \u001b[0mrelativedelta\u001b[0m\u001b[0;34m(\u001b[0m\u001b[0mdays\u001b[0m\u001b[0;34m=\u001b[0m\u001b[0mint\u001b[0m\u001b[0;34m(\u001b[0m\u001b[0md\u001b[0m\u001b[0;34m)\u001b[0m\u001b[0;34m)\u001b[0m \u001b[0;32mfor\u001b[0m \u001b[0md\u001b[0m \u001b[0;32min\u001b[0m \u001b[0mdeltas\u001b[0m\u001b[0;34m]\u001b[0m\u001b[0;34m\u001b[0m\u001b[0m\n\u001b[0m\u001b[1;32m    276\u001b[0m                 \u001b[0;32mreturn\u001b[0m \u001b[0mSeries\u001b[0m\u001b[0;34m(\u001b[0m\u001b[0mvalues\u001b[0m\u001b[0;34m,\u001b[0m \u001b[0mindex\u001b[0m\u001b[0;34m=\u001b[0m\u001b[0mindex\u001b[0m\u001b[0;34m)\u001b[0m\u001b[0;34m\u001b[0m\u001b[0m\n\u001b[1;32m    277\u001b[0m         \u001b[0;32melif\u001b[0m \u001b[0munit\u001b[0m \u001b[0;34m==\u001b[0m \u001b[0;34m'ms'\u001b[0m\u001b[0;34m:\u001b[0m\u001b[0;34m\u001b[0m\u001b[0m\n",
      "\u001b[0;32m/Users/ahuxor/anaconda/lib/python3.4/site-packages/pandas/io/stata.py\u001b[0m in \u001b[0;36m<listcomp>\u001b[0;34m(.0)\u001b[0m\n\u001b[1;32m    273\u001b[0m         \u001b[0;32mif\u001b[0m \u001b[0munit\u001b[0m \u001b[0;34m==\u001b[0m \u001b[0;34m'd'\u001b[0m\u001b[0;34m:\u001b[0m\u001b[0;34m\u001b[0m\u001b[0m\n\u001b[1;32m    274\u001b[0m             \u001b[0;32mif\u001b[0m \u001b[0mdeltas\u001b[0m\u001b[0;34m.\u001b[0m\u001b[0mmax\u001b[0m\u001b[0;34m(\u001b[0m\u001b[0;34m)\u001b[0m \u001b[0;34m>\u001b[0m \u001b[0mMAX_DAY_DELTA\u001b[0m \u001b[0;32mor\u001b[0m \u001b[0mdeltas\u001b[0m\u001b[0;34m.\u001b[0m\u001b[0mmin\u001b[0m\u001b[0;34m(\u001b[0m\u001b[0;34m)\u001b[0m \u001b[0;34m<\u001b[0m \u001b[0mMIN_DAY_DELTA\u001b[0m\u001b[0;34m:\u001b[0m\u001b[0;34m\u001b[0m\u001b[0m\n\u001b[0;32m--> 275\u001b[0;31m                 \u001b[0mvalues\u001b[0m \u001b[0;34m=\u001b[0m \u001b[0;34m[\u001b[0m\u001b[0mbase\u001b[0m \u001b[0;34m+\u001b[0m \u001b[0mrelativedelta\u001b[0m\u001b[0;34m(\u001b[0m\u001b[0mdays\u001b[0m\u001b[0;34m=\u001b[0m\u001b[0mint\u001b[0m\u001b[0;34m(\u001b[0m\u001b[0md\u001b[0m\u001b[0;34m)\u001b[0m\u001b[0;34m)\u001b[0m \u001b[0;32mfor\u001b[0m \u001b[0md\u001b[0m \u001b[0;32min\u001b[0m \u001b[0mdeltas\u001b[0m\u001b[0;34m]\u001b[0m\u001b[0;34m\u001b[0m\u001b[0m\n\u001b[0m\u001b[1;32m    276\u001b[0m                 \u001b[0;32mreturn\u001b[0m \u001b[0mSeries\u001b[0m\u001b[0;34m(\u001b[0m\u001b[0mvalues\u001b[0m\u001b[0;34m,\u001b[0m \u001b[0mindex\u001b[0m\u001b[0;34m=\u001b[0m\u001b[0mindex\u001b[0m\u001b[0;34m)\u001b[0m\u001b[0;34m\u001b[0m\u001b[0m\n\u001b[1;32m    277\u001b[0m         \u001b[0;32melif\u001b[0m \u001b[0munit\u001b[0m \u001b[0;34m==\u001b[0m \u001b[0;34m'ms'\u001b[0m\u001b[0;34m:\u001b[0m\u001b[0;34m\u001b[0m\u001b[0m\n",
      "\u001b[0;32m/Users/ahuxor/anaconda/lib/python3.4/site-packages/dateutil/relativedelta.py\u001b[0m in \u001b[0;36m__radd__\u001b[0;34m(self, other)\u001b[0m\n\u001b[1;32m    391\u001b[0m \u001b[0;34m\u001b[0m\u001b[0m\n\u001b[1;32m    392\u001b[0m     \u001b[0;32mdef\u001b[0m \u001b[0m__radd__\u001b[0m\u001b[0;34m(\u001b[0m\u001b[0mself\u001b[0m\u001b[0;34m,\u001b[0m \u001b[0mother\u001b[0m\u001b[0;34m)\u001b[0m\u001b[0;34m:\u001b[0m\u001b[0;34m\u001b[0m\u001b[0m\n\u001b[0;32m--> 393\u001b[0;31m         \u001b[0;32mreturn\u001b[0m \u001b[0mself\u001b[0m\u001b[0;34m.\u001b[0m\u001b[0m__add__\u001b[0m\u001b[0;34m(\u001b[0m\u001b[0mother\u001b[0m\u001b[0;34m)\u001b[0m\u001b[0;34m\u001b[0m\u001b[0m\n\u001b[0m\u001b[1;32m    394\u001b[0m \u001b[0;34m\u001b[0m\u001b[0m\n\u001b[1;32m    395\u001b[0m     \u001b[0;32mdef\u001b[0m \u001b[0m__rsub__\u001b[0m\u001b[0;34m(\u001b[0m\u001b[0mself\u001b[0m\u001b[0;34m,\u001b[0m \u001b[0mother\u001b[0m\u001b[0;34m)\u001b[0m\u001b[0;34m:\u001b[0m\u001b[0;34m\u001b[0m\u001b[0m\n",
      "\u001b[0;32m/Users/ahuxor/anaconda/lib/python3.4/site-packages/dateutil/relativedelta.py\u001b[0m in \u001b[0;36m__add__\u001b[0;34m(self, other)\u001b[0m\n\u001b[1;32m    364\u001b[0m                 \u001b[0mmonth\u001b[0m \u001b[0;34m+=\u001b[0m \u001b[0;36m12\u001b[0m\u001b[0;34m\u001b[0m\u001b[0m\n\u001b[1;32m    365\u001b[0m         day = min(calendar.monthrange(year, month)[1],\n\u001b[0;32m--> 366\u001b[0;31m                   self.day or other.day)\n\u001b[0m\u001b[1;32m    367\u001b[0m         \u001b[0mrepl\u001b[0m \u001b[0;34m=\u001b[0m \u001b[0;34m{\u001b[0m\u001b[0;34m\"year\"\u001b[0m\u001b[0;34m:\u001b[0m \u001b[0myear\u001b[0m\u001b[0;34m,\u001b[0m \u001b[0;34m\"month\"\u001b[0m\u001b[0;34m:\u001b[0m \u001b[0mmonth\u001b[0m\u001b[0;34m,\u001b[0m \u001b[0;34m\"day\"\u001b[0m\u001b[0;34m:\u001b[0m \u001b[0mday\u001b[0m\u001b[0;34m}\u001b[0m\u001b[0;34m\u001b[0m\u001b[0m\n\u001b[1;32m    368\u001b[0m         \u001b[0;32mfor\u001b[0m \u001b[0mattr\u001b[0m \u001b[0;32min\u001b[0m \u001b[0;34m[\u001b[0m\u001b[0;34m\"hour\"\u001b[0m\u001b[0;34m,\u001b[0m \u001b[0;34m\"minute\"\u001b[0m\u001b[0;34m,\u001b[0m \u001b[0;34m\"second\"\u001b[0m\u001b[0;34m,\u001b[0m \u001b[0;34m\"microsecond\"\u001b[0m\u001b[0;34m]\u001b[0m\u001b[0;34m:\u001b[0m\u001b[0;34m\u001b[0m\u001b[0m\n",
      "\u001b[0;31mKeyboardInterrupt\u001b[0m: "
     ]
    }
   ],
   "source": [
    "# MAIN\n",
    "# read in main data file in the Strata9 .dta format\n",
    "!date\n",
    "pat76_06_assg_df = pd.read_stata('pat76_06_assg.dta')\n",
    "!date"
   ]
  },
  {
   "cell_type": "code",
   "execution_count": null,
   "metadata": {
    "collapsed": false
   },
   "outputs": [],
   "source": [
    "pat76_06_assg_df.head().T"
   ]
  },
  {
   "cell_type": "code",
   "execution_count": null,
   "metadata": {
    "collapsed": false
   },
   "outputs": [],
   "source": [
    "pat76_06_assg_df['adjusted_cites'] = pat76_06_assg_df.allcites * pat76_06_assg_df.hjtwt\n",
    "pat76_06_assg_df.plot(x='gyear',y='adjusted_cites')"
   ]
  },
  {
   "cell_type": "code",
   "execution_count": null,
   "metadata": {
    "collapsed": false
   },
   "outputs": [],
   "source": [
    "len(pat76_06_assg_df)"
   ]
  },
  {
   "cell_type": "code",
   "execution_count": null,
   "metadata": {
    "collapsed": false
   },
   "outputs": [],
   "source": [
    "!date\n",
    "print(len(pat76_06_assg_df.pdpass))\n",
    "!date"
   ]
  },
  {
   "cell_type": "code",
   "execution_count": null,
   "metadata": {
    "collapsed": false
   },
   "outputs": [],
   "source": [
    "!date\n",
    "unique_assignees = pat76_06_assg_df.pdpass.unique()\n",
    "print(len(unique_assignees))\n",
    "!date"
   ]
  },
  {
   "cell_type": "code",
   "execution_count": null,
   "metadata": {
    "collapsed": false
   },
   "outputs": [],
   "source": [
    "# get the records for those patents where the assignee is NaN\n",
    "nan_pdpasses = pat76_06_assg_df[pat76_06_assg_df.pdpass.isnull()]"
   ]
  },
  {
   "cell_type": "code",
   "execution_count": null,
   "metadata": {
    "collapsed": false
   },
   "outputs": [],
   "source": [
    "len(nan_pdpasses)"
   ]
  },
  {
   "cell_type": "code",
   "execution_count": null,
   "metadata": {
    "collapsed": false
   },
   "outputs": [],
   "source": [
    "nan_pdpasses.tail().T"
   ]
  },
  {
   "cell_type": "code",
   "execution_count": null,
   "metadata": {
    "collapsed": false
   },
   "outputs": [],
   "source": [
    "grouped = pat76_06_assg_df.groupby(by='pdpass')\n",
    "grouped_df = pd.DataFrame(grouped.size().reset_index(name = \"Group_Count\"))\n",
    "grouped_df_sorted = grouped_df.sort_values(by='Group_Count', ascending=False)\n",
    "grouped_df_sorted.head()"
   ]
  },
  {
   "cell_type": "code",
   "execution_count": null,
   "metadata": {
    "collapsed": false
   },
   "outputs": [],
   "source": [
    "\n",
    "xx = grouped_df_sorted.reset_index()[['pdpass','Group_Count']]\n",
    "xx.head()"
   ]
  },
  {
   "cell_type": "code",
   "execution_count": null,
   "metadata": {
    "collapsed": false
   },
   "outputs": [],
   "source": [
    "xx.plot(y='Group_Count',xlim=(-10,1500),ylim=(0,50000),c='r',linewidth=5)"
   ]
  },
  {
   "cell_type": "code",
   "execution_count": null,
   "metadata": {
    "collapsed": false
   },
   "outputs": [],
   "source": [
    "# get log of counts\n",
    "yy = xx[1:]\n",
    "yy['log_counts'] = np.log10(yy.Group_Count) \n",
    "yy['log_index'] = np.log10(yy.index) \n",
    "\n",
    "yy.head(15)"
   ]
  },
  {
   "cell_type": "code",
   "execution_count": null,
   "metadata": {
    "collapsed": false
   },
   "outputs": [],
   "source": [
    "# how many assignees only have 1 patent?\n",
    "len(xx[xx.Group_Count ==1])"
   ]
  },
  {
   "cell_type": "code",
   "execution_count": null,
   "metadata": {
    "collapsed": false
   },
   "outputs": [],
   "source": [
    "# plot log-log of index against patant counts. Seems to be a shortfall at top end.\n",
    "yy.plot(x='log_index',y='log_counts',c='r',linewidth=5)"
   ]
  },
  {
   "cell_type": "code",
   "execution_count": null,
   "metadata": {
    "collapsed": false
   },
   "outputs": [],
   "source": [
    "major_assignees_100_df = grouped_df_sorted[0:100]\n",
    "major_assignees_100_df\n",
    "major_assignees_100_se = major_assignees_100_df.pdpass\n",
    "major_assignees_100_se[0:10]"
   ]
  },
  {
   "cell_type": "code",
   "execution_count": null,
   "metadata": {
    "collapsed": false
   },
   "outputs": [],
   "source": [
    "# need to convert major_assignees_100_se from floats to integers\n",
    "major_assignees_100_se = major_assignees_100_se.astype(int)\n",
    "major_assignees_100_se.values"
   ]
  },
  {
   "cell_type": "code",
   "execution_count": null,
   "metadata": {
    "collapsed": false
   },
   "outputs": [],
   "source": [
    "# get subset of pat76_06_assg_df win which the pdpass is equal to one of those in major_assignees_100_se\n",
    "# df[df['A'].isin([3, 6])]\n",
    "pat76_06_top100_assignees = pat76_06_assg_df[pat76_06_assg_df['pdpass'].isin(major_assignees_100_se.values)]"
   ]
  },
  {
   "cell_type": "code",
   "execution_count": null,
   "metadata": {
    "collapsed": false,
    "scrolled": true
   },
   "outputs": [],
   "source": [
    "pat76_06_top100_assignees.head().T"
   ]
  },
  {
   "cell_type": "code",
   "execution_count": null,
   "metadata": {
    "collapsed": false
   },
   "outputs": [],
   "source": [
    "len(pat76_06_top100_assignees.icl_class.unique())"
   ]
  },
  {
   "cell_type": "code",
   "execution_count": null,
   "metadata": {
    "collapsed": false
   },
   "outputs": [],
   "source": [
    "# read is assignee names datafile\n",
    "# note that using dta file partly as the asc file has some formatting error asscoiated.\n",
    "assignee_names = pd.read_stata('assignee.dta')\n",
    "\n"
   ]
  },
  {
   "cell_type": "code",
   "execution_count": null,
   "metadata": {
    "collapsed": false
   },
   "outputs": [],
   "source": [
    "assignee_names[assignee_names.pdpass==10518134]"
   ]
  },
  {
   "cell_type": "code",
   "execution_count": null,
   "metadata": {
    "collapsed": false
   },
   "outputs": [],
   "source": [
    "assignee_names.head(100)"
   ]
  },
  {
   "cell_type": "markdown",
   "metadata": {},
   "source": [
    "what are all the ampersands at the start of the top of this file? Are they real or an error?"
   ]
  },
  {
   "cell_type": "code",
   "execution_count": null,
   "metadata": {
    "collapsed": false
   },
   "outputs": [],
   "source": [
    "assignees_groupedby_pdpass = assignee_names.groupby(by='pdpass')\n",
    "assignees_groupedby_pdpass.count()\n",
    "# grouped_df = pd.DataFrame(grouped.size().reset_index(name = \"Group_Count\"))\n",
    "assignees_grouped_df = pd.DataFrame(assignees_groupedby_pdpass.size().reset_index(name = \"Group_Count\"))\n",
    "# grouped_df_sorted = grouped_df.sort_values(by='Group_Count', ascending=False)\n",
    "assignees_grouped_df_sorted = assignees_grouped_df.sort_values(by='Group_Count', ascending=False)\n",
    "\n",
    "assignees_grouped_df_sorted.head()\n",
    "\n"
   ]
  },
  {
   "cell_type": "code",
   "execution_count": null,
   "metadata": {
    "collapsed": false
   },
   "outputs": [],
   "source": [
    "# what is the pdpass=-19842?\n",
    "# all are cod = '05 Foreign individual', none are not that ...\n",
    "assignee_names[(assignee_names.pdpass==-19842) & (assignee_names.cod !='05 Foreign individual')]"
   ]
  },
  {
   "cell_type": "code",
   "execution_count": null,
   "metadata": {
    "collapsed": false
   },
   "outputs": [],
   "source": [
    "# what is the pdpass=-0067050? with the next greatest (119) entries\n",
    "# all are appear to be version of (misspellings?) of Mitsubushi\n",
    "assignee_names[(assignee_names.pdpass==10067050)]"
   ]
  },
  {
   "cell_type": "code",
   "execution_count": null,
   "metadata": {
    "collapsed": false
   },
   "outputs": [],
   "source": [
    "# what is the pdpass=10126157? with the next greatest (115) entries\n",
    "# all are appear to be version of (misspellings?) of Fraunhofer\n",
    "assignee_names[(assignee_names.pdpass==10126157)]"
   ]
  },
  {
   "cell_type": "code",
   "execution_count": null,
   "metadata": {
    "collapsed": false
   },
   "outputs": [],
   "source": [
    "# what is the pdpass=10083419? with the next greatest (also 115) entries\n",
    "# all are appear to be version of (misspellings?) of IBM\n",
    "assignee_names[(assignee_names.pdpass==10083419)]"
   ]
  },
  {
   "cell_type": "markdown",
   "metadata": {},
   "source": [
    "above has a problem or does it? (the negative pdpass values must be the non-utlity patents, I assume...See the matchdoc description.\n"
   ]
  },
  {
   "cell_type": "code",
   "execution_count": null,
   "metadata": {
    "collapsed": false
   },
   "outputs": [],
   "source": [
    "groupedby_pdpdass = pat76_06_assg_df.groupby(by='pdpass')\n",
    "\n",
    "groupedby_pdpdass.head().T"
   ]
  },
  {
   "cell_type": "code",
   "execution_count": null,
   "metadata": {
    "collapsed": false
   },
   "outputs": [],
   "source": [
    "!date\n",
    "unique_icl_class = pat76_06_assg_df.icl_class.unique()\n",
    "print(len(unique_icl_class))\n",
    "!date"
   ]
  },
  {
   "cell_type": "code",
   "execution_count": null,
   "metadata": {
    "collapsed": true
   },
   "outputs": [],
   "source": [
    "# create dataframe with just assignees and main ipc class\n",
    "assignees_ipc_class_df = pat76_06_assg_df[['pdpass','patent','icl_class','icl_maingroup']]"
   ]
  },
  {
   "cell_type": "code",
   "execution_count": null,
   "metadata": {
    "collapsed": false
   },
   "outputs": [],
   "source": [
    "assignees_ipc_class_df"
   ]
  },
  {
   "cell_type": "code",
   "execution_count": null,
   "metadata": {
    "collapsed": false
   },
   "outputs": [],
   "source": [
    "assignees_ipc_class_df.merged_icl[0:1]"
   ]
  },
  {
   "cell_type": "code",
   "execution_count": null,
   "metadata": {
    "collapsed": false
   },
   "outputs": [],
   "source": [
    "# create merged ipc class from two components\n",
    "assignees_ipc_class_df['merged_icl'] = (assignees_ipc_class_df.icl_class + str(assignees_ipc_class_df.icl_maingroup))"
   ]
  },
  {
   "cell_type": "code",
   "execution_count": null,
   "metadata": {
    "collapsed": false
   },
   "outputs": [],
   "source": [
    "import networkx as nx"
   ]
  },
  {
   "cell_type": "code",
   "execution_count": null,
   "metadata": {
    "collapsed": true
   },
   "outputs": [],
   "source": [
    "test = assignees_ipc_class_df[:10000]"
   ]
  },
  {
   "cell_type": "code",
   "execution_count": null,
   "metadata": {
    "collapsed": false
   },
   "outputs": [],
   "source": [
    "G=nx.from_pandas_dataframe(test, source='pdpass', target='icl_class', edge_attr='patent')"
   ]
  },
  {
   "cell_type": "code",
   "execution_count": null,
   "metadata": {
    "collapsed": false
   },
   "outputs": [],
   "source": [
    "# G=nx.from_pandas_dataframe(assignees_ipc_class_df, source='pdpass', target='icl_class', edge_attr='patent')"
   ]
  },
  {
   "cell_type": "code",
   "execution_count": null,
   "metadata": {
    "collapsed": false
   },
   "outputs": [],
   "source": [
    "!date\n",
    "nx.draw(G,node_size=5)\n",
    "!date"
   ]
  },
  {
   "cell_type": "code",
   "execution_count": null,
   "metadata": {
    "collapsed": false
   },
   "outputs": [],
   "source": [
    "nx.graph_clique_number(G)"
   ]
  },
  {
   "cell_type": "code",
   "execution_count": null,
   "metadata": {
    "collapsed": false
   },
   "outputs": [],
   "source": [
    "# this is my starting dataframe for now, with the top 100 assignees.\n",
    "pat76_06_top100_assignees.head()"
   ]
  },
  {
   "cell_type": "code",
   "execution_count": null,
   "metadata": {
    "collapsed": false
   },
   "outputs": [],
   "source": [
    "\n",
    "# now group this new starter dataframe, by both assignee and by icl_class\n",
    "test = pat76_06_top100_assignees.groupby(by=['pdpass','icl_class'])\n",
    "test_df = pd.DataFrame(test.size().reset_index())\n",
    "\n",
    "\n"
   ]
  },
  {
   "cell_type": "code",
   "execution_count": null,
   "metadata": {
    "collapsed": false
   },
   "outputs": [],
   "source": [
    "len(pat76_06_top100_assignees.pdpass.unique())"
   ]
  },
  {
   "cell_type": "markdown",
   "metadata": {},
   "source": [
    "problem with above is just that it does not include those classes with zero entry"
   ]
  },
  {
   "cell_type": "code",
   "execution_count": null,
   "metadata": {
    "collapsed": false
   },
   "outputs": [],
   "source": [
    "test_df.head()"
   ]
  },
  {
   "cell_type": "code",
   "execution_count": null,
   "metadata": {
    "collapsed": false
   },
   "outputs": [],
   "source": [
    "all_icl_class = all_icl_class.tolist\n",
    "type(all_icl_class)"
   ]
  },
  {
   "cell_type": "code",
   "execution_count": null,
   "metadata": {
    "collapsed": false
   },
   "outputs": [],
   "source": [
    "\n",
    "# need list of ALL icl_class'es \n",
    "all_icl_class = test_df.icl_class.unique()\n",
    "len(all_icl_class)\n",
    "# create empty list zeros of this length\n",
    "a = [0] * len(all_icl_class)\n",
    "# create dataframe of these names and zeros\n",
    "dfxx = pd.DataFrame({'icl_class':all_icl_class, 'patents':a})\n",
    "dfxx.head()\n",
    "junk = dfxx.copy()"
   ]
  },
  {
   "cell_type": "code",
   "execution_count": null,
   "metadata": {
    "collapsed": false
   },
   "outputs": [],
   "source": [
    "# lets take first assignee (IBM) = 10030628\n",
    "ibm_classes = test_df[test_df.pdpass == 10030628]\n",
    "print(ibm_classes.head())\n",
    "ibm_classes.dtypes"
   ]
  },
  {
   "cell_type": "code",
   "execution_count": null,
   "metadata": {
    "collapsed": false
   },
   "outputs": [],
   "source": [
    "patassg_df = pd.read_stata('patassg.dta')"
   ]
  },
  {
   "cell_type": "code",
   "execution_count": null,
   "metadata": {
    "collapsed": false
   },
   "outputs": [],
   "source": [
    "patassg_df.head()\n",
    "len(patassg_df)"
   ]
  },
  {
   "cell_type": "code",
   "execution_count": null,
   "metadata": {
    "collapsed": true
   },
   "outputs": [],
   "source": [
    "utility_patents = patassg_df[patassg_df.ptype=='0']"
   ]
  },
  {
   "cell_type": "code",
   "execution_count": null,
   "metadata": {
    "collapsed": false
   },
   "outputs": [],
   "source": [
    "len(utility_patents)"
   ]
  },
  {
   "cell_type": "code",
   "execution_count": null,
   "metadata": {
    "collapsed": false
   },
   "outputs": [],
   "source": [
    "utility_patents.head()"
   ]
  },
  {
   "cell_type": "code",
   "execution_count": null,
   "metadata": {
    "collapsed": false
   },
   "outputs": [],
   "source": [
    "grouped_utility_patents = utility_patents.groupby(by='patnum')\n",
    "grouped_utility_patents_df = pd.DataFrame(grouped_utility_patents.size().reset_index(name = \"Group_Count\"))\n",
    "grouped_utility_patents_df_sorted = grouped_utility_patents_df.sort_values(by='Group_Count', ascending=False)\n"
   ]
  },
  {
   "cell_type": "code",
   "execution_count": null,
   "metadata": {
    "collapsed": false
   },
   "outputs": [],
   "source": [
    "grouped_utility_patents_df_sorted.head()\n",
    "len(grouped_utility_patents_df_sorted[grouped_utility_patents_df_sorted.Group_Count==1])"
   ]
  },
  {
   "cell_type": "code",
   "execution_count": null,
   "metadata": {
    "collapsed": false
   },
   "outputs": [],
   "source": [
    "len(grouped_utility_patents_df_sorted[grouped_utility_patents_df_sorted.Group_Count==2])"
   ]
  },
  {
   "cell_type": "code",
   "execution_count": null,
   "metadata": {
    "collapsed": false
   },
   "outputs": [],
   "source": [
    "!ls"
   ]
  },
  {
   "cell_type": "code",
   "execution_count": null,
   "metadata": {
    "collapsed": true
   },
   "outputs": [],
   "source": [
    "# load in IPC classification data\n",
    "pat76_06_ipc_df = pd.read_stata('pat76_06_ipc.dta')\n"
   ]
  },
  {
   "cell_type": "code",
   "execution_count": null,
   "metadata": {
    "collapsed": false
   },
   "outputs": [],
   "source": [
    "pat76_06_ipc_df.head()"
   ]
  },
  {
   "cell_type": "code",
   "execution_count": null,
   "metadata": {
    "collapsed": false
   },
   "outputs": [],
   "source": [
    "pat76_06_ipc_df[pat76_06_ipc_df.pdpass==10030581].T"
   ]
  },
  {
   "cell_type": "code",
   "execution_count": null,
   "metadata": {
    "collapsed": false
   },
   "outputs": [],
   "source": [
    "# /Users/ahuxor/MSc/Thesis_Project/Data/patentsView\n",
    "!ls -l /Users/ahuxor/MSc/Thesis_Project/Data/patentsView"
   ]
  },
  {
   "cell_type": "code",
   "execution_count": null,
   "metadata": {
    "collapsed": false
   },
   "outputs": [],
   "source": [
    "figures_df = pd.read_csv('/Users/ahuxor/MSc/Thesis_Project/Data/patentsView/figures.tsv',sep='\\t')"
   ]
  },
  {
   "cell_type": "code",
   "execution_count": null,
   "metadata": {
    "collapsed": false
   },
   "outputs": [],
   "source": [
    "len(figures_df)"
   ]
  },
  {
   "cell_type": "code",
   "execution_count": null,
   "metadata": {
    "collapsed": false
   },
   "outputs": [],
   "source": [
    "figures_df.num_figures.max()"
   ]
  },
  {
   "cell_type": "code",
   "execution_count": null,
   "metadata": {
    "collapsed": false
   },
   "outputs": [],
   "source": [
    "figures_df[figures_df.num_figures==1].head()"
   ]
  },
  {
   "cell_type": "code",
   "execution_count": null,
   "metadata": {
    "collapsed": false
   },
   "outputs": [],
   "source": [
    "!date\n",
    "# now try and get vectors for each assignee of the number of patents they hols in each icl_class\n",
    "\n",
    "# create final dataframe to hold results, starting with all classes as first column\n",
    "feature_vectors_df = pd.DataFrame({'icl_class' : unique_icl_class})\n",
    "\n",
    "# first get list of (unique) assignees (try first five first to test code)\n",
    "test_range = unique_assignees[0:100]\n",
    "# then for each one of them, \n",
    "for assignee in test_range:\n",
    "    # look at all the patents they have\n",
    "    temp = pat76_06_assg_df[pat76_06_assg_df.pdpass==assignee].icl_class\n",
    "    icl_codes_in_current = temp.values\n",
    "    #  and count instances of these\n",
    "    n = len(unique_icl_class)\n",
    "    icl_codes_per_assignee_vector = [0] * n \n",
    "    for m in range(0,n):\n",
    "        current_icl_class = unique_icl_class[m]\n",
    "        counted = list(icl_codes_in_current).count(current_icl_class)\n",
    "        icl_codes_per_assignee_vector[m] = counted\n",
    "        col_name_used = assignee.astype(str)\n",
    "        feature_vectors_df[col_name_used]=icl_codes_per_assignee_vector\n",
    "!date"
   ]
  },
  {
   "cell_type": "code",
   "execution_count": null,
   "metadata": {
    "collapsed": false
   },
   "outputs": [],
   "source": [
    "print(len(feature_vectors_df))\n",
    "feature_vectors_df.head()\n"
   ]
  },
  {
   "cell_type": "code",
   "execution_count": null,
   "metadata": {
    "collapsed": false
   },
   "outputs": [],
   "source": [
    "# COPY OF ABOVE CELL TO TRY AND VECTORISE FOR-LOOPS\n",
    "!date\n",
    "# now try and get vectors for each assignee of the number of patents they hols in each icl_class\n",
    "\n",
    "# create final dataframe to hold results, starting with all classes as first column\n",
    "feature_vectors_df = pd.DataFrame({'icl_class' : unique_icl_class})\n",
    "\n",
    "# first get list of (unique) assignees (try first five first to test code)\n",
    "test_range = unique_assignees[0:10]\n",
    "# then for each one of them, \n",
    "for assignee in test_range:\n",
    "    # look at all the patents they have\n",
    "    temp = pat76_06_assg_df[pat76_06_assg_df.pdpass==assignee].icl_class\n",
    "    icl_codes_in_current = temp.values\n",
    "    #  and count instances of these\n",
    "    n = len(unique_icl_class)\n",
    "    icl_codes_per_assignee_vector = [0] * n \n",
    "#    for m in range(0,n):\n",
    "#        current_icl_class = unique_icl_class[m]\n",
    "#        counted = list(icl_codes_in_current).count(current_icl_class)\n",
    "#        icl_codes_per_assignee_vector[m] = counted\n",
    "#        col_name_used = assignee.astype(str)\n",
    "#        feature_vectors_df[col_name_used]=icl_codes_per_assignee_vector\n",
    "    icl_codes_per_assignee_vector = map(lambda x,y: x+y, xs, ys))\n",
    "!date"
   ]
  },
  {
   "cell_type": "code",
   "execution_count": null,
   "metadata": {
    "collapsed": false
   },
   "outputs": [],
   "source": [
    "icl_codes_in_current"
   ]
  },
  {
   "cell_type": "code",
   "execution_count": null,
   "metadata": {
    "collapsed": false
   },
   "outputs": [],
   "source": [
    "feature_vectors_df.head()"
   ]
  },
  {
   "cell_type": "code",
   "execution_count": null,
   "metadata": {
    "collapsed": false
   },
   "outputs": [],
   "source": [
    "len(unique_assignees)"
   ]
  },
  {
   "cell_type": "code",
   "execution_count": null,
   "metadata": {
    "collapsed": false
   },
   "outputs": [],
   "source": [
    "(223959*3)/(60*60)"
   ]
  },
  {
   "cell_type": "code",
   "execution_count": null,
   "metadata": {
    "collapsed": true
   },
   "outputs": [],
   "source": []
  },
  {
   "cell_type": "code",
   "execution_count": null,
   "metadata": {
    "collapsed": false
   },
   "outputs": [],
   "source": [
    "!date\n",
    "print(1-cosine(feature_vectors_df[\"10030276.0\"], feature_vectors_df[\"10699376.0\"]))\n",
    "!date"
   ]
  },
  {
   "cell_type": "code",
   "execution_count": null,
   "metadata": {
    "collapsed": false
   },
   "outputs": [],
   "source": [
    "feature_vectors_df.head()"
   ]
  },
  {
   "cell_type": "code",
   "execution_count": null,
   "metadata": {
    "collapsed": false
   },
   "outputs": [],
   "source": [
    "a = feature_vectors_df.drop(0,axis=1)\n",
    "a.head()\n"
   ]
  },
  {
   "cell_type": "code",
   "execution_count": null,
   "metadata": {
    "collapsed": false
   },
   "outputs": [],
   "source": [
    "assignee_array = feature_vectors_df.columns.values\n",
    "assignee_array[1]"
   ]
  },
  {
   "cell_type": "code",
   "execution_count": null,
   "metadata": {
    "collapsed": false
   },
   "outputs": [],
   "source": [
    "# go through each column header and compare it to the first by cosine similarity\n",
    "# NOTE: does not like NaN, so clear these out - if not useful\n",
    "\n",
    "# set number of patents available\n",
    "pnum = 1000\n",
    "# create a matrix to hold results\n",
    "cos_ang_mat = np.zeros((pnum,pnum))\n",
    "for i in range(1,pnum):\n",
    "    tempi = assignee_array[i]\n",
    "    for j in range(1,pnum):\n",
    "        tempj = assignee_array[j]\n",
    "        cos_similarity = 1-cosine(feature_vectors_df[tempi], feature_vectors_df[tempj])\n",
    "        cos_ang_mat[i,j] = cos_similarity\n",
    "        # print(cos_sim)\n",
    "        if (cos_similarity>0.95) & (tempi!=tempj):\n",
    "            print('close for ',tempi,tempj,' with cos_ang = ',cos_similarity)\n"
   ]
  },
  {
   "cell_type": "code",
   "execution_count": null,
   "metadata": {
    "collapsed": false
   },
   "outputs": [],
   "source": [
    "patent_ids = feature_vectors_df.columns.values[1:]\n",
    "patent_ids"
   ]
  },
  {
   "cell_type": "code",
   "execution_count": null,
   "metadata": {
    "collapsed": false
   },
   "outputs": [],
   "source": [
    "cos_ang_mat_df = pd.DataFrame(cos_ang_mat)\n",
    "cos_ang_mat_df.columns = patent_ids\n",
    "cos_ang_mat_df.set_index(patent_ids, inplace=True)\n",
    "cos_ang_mat_df"
   ]
  },
  {
   "cell_type": "code",
   "execution_count": null,
   "metadata": {
    "collapsed": false
   },
   "outputs": [],
   "source": [
    "cos_ang_mat_df[cos_ang_mat_df>0.9]"
   ]
  },
  {
   "cell_type": "code",
   "execution_count": null,
   "metadata": {
    "collapsed": false
   },
   "outputs": [],
   "source": [
    "# these two assignees have a cos-ang, see above, of 0.938\n",
    "print(assignee_names[assignee_names.pdpass==10172187])\n",
    "print(assignee_names[assignee_names.pdpass==10030281])"
   ]
  },
  {
   "cell_type": "code",
   "execution_count": null,
   "metadata": {
    "collapsed": false
   },
   "outputs": [],
   "source": [
    "# these two assignees have a cos-ang, see above, of 0.972\n",
    "print(assignee_names[assignee_names.pdpass==11073260])\n",
    "print(assignee_names[assignee_names.pdpass==10140808])\n",
    "# could these basically all be an array of zeros?!\n",
    "# no - see cell below"
   ]
  },
  {
   "cell_type": "code",
   "execution_count": null,
   "metadata": {
    "collapsed": false
   },
   "outputs": [],
   "source": [
    "# these two assignees have a cos-ang, see above, of 0.9906\n",
    "print(assignee_names[assignee_names.pdpass==10780383])\n",
    "print('-----')\n",
    "print(assignee_names[assignee_names.pdpass==10401313])\n"
   ]
  },
  {
   "cell_type": "code",
   "execution_count": null,
   "metadata": {
    "collapsed": false
   },
   "outputs": [],
   "source": [
    "# these two assignees have a cos-ang, see above, of 0.9886\n",
    "print(assignee_names[assignee_names.pdpass==10109257])\n",
    "print(assignee_names[assignee_names.pdpass==10198901])\n"
   ]
  },
  {
   "cell_type": "code",
   "execution_count": null,
   "metadata": {
    "collapsed": false
   },
   "outputs": [],
   "source": [
    "# these two assignees have a cos-ang, of 1.0\n",
    "print(assignee_names[assignee_names.pdpass==10030357])\n",
    "print(assignee_names[assignee_names.pdpass==10030383])\n",
    "# could these basically all be an array of zeros?!\n"
   ]
  },
  {
   "cell_type": "code",
   "execution_count": null,
   "metadata": {
    "collapsed": false
   },
   "outputs": [],
   "source": [
    "feature_vectors_df.head()"
   ]
  },
  {
   "cell_type": "code",
   "execution_count": null,
   "metadata": {
    "collapsed": false
   },
   "outputs": [],
   "source": [
    "# close for  10030357.0 10030383.0  with cos_ang =  1.0\n",
    "feature_vectors_df['10030383.0']\n",
    "# note that note all zeros though?"
   ]
  },
  {
   "cell_type": "code",
   "execution_count": null,
   "metadata": {
    "collapsed": false
   },
   "outputs": [],
   "source": [
    "type(feature_vectors_df['10030383.0'])"
   ]
  },
  {
   "cell_type": "code",
   "execution_count": null,
   "metadata": {
    "collapsed": false
   },
   "outputs": [],
   "source": [
    "# get patents for specific assignee\n",
    "x = pat76_06_assg_df[pat76_06_assg_df.pdpass ==10198901]\n",
    "x.T"
   ]
  },
  {
   "cell_type": "code",
   "execution_count": null,
   "metadata": {
    "collapsed": false
   },
   "outputs": [],
   "source": [
    "x[(x.icl_class!='G06F') & (x.icl_class=='G03C')].T"
   ]
  },
  {
   "cell_type": "code",
   "execution_count": null,
   "metadata": {
    "collapsed": false
   },
   "outputs": [],
   "source": [
    "x[(x.icl_class!='G06F')].icl_class.T"
   ]
  },
  {
   "cell_type": "code",
   "execution_count": 390,
   "metadata": {
    "collapsed": false
   },
   "outputs": [
    {
     "data": {
      "text/html": [
       "<div>\n",
       "<table border=\"1\" class=\"dataframe\">\n",
       "  <thead>\n",
       "    <tr style=\"text-align: right;\">\n",
       "      <th></th>\n",
       "      <th>648230</th>\n",
       "      <th>672247</th>\n",
       "      <th>678060</th>\n",
       "      <th>680094</th>\n",
       "      <th>681869</th>\n",
       "    </tr>\n",
       "  </thead>\n",
       "  <tbody>\n",
       "    <tr>\n",
       "      <th>general</th>\n",
       "      <td>6.666666e-01</td>\n",
       "      <td>3.768116e-01</td>\n",
       "      <td>5.494253e-01</td>\n",
       "      <td>4.000000e-01</td>\n",
       "      <td>9.000000e-01</td>\n",
       "    </tr>\n",
       "    <tr>\n",
       "      <th>ncited</th>\n",
       "      <td>3.000000e+00</td>\n",
       "      <td>2.400000e+01</td>\n",
       "      <td>3.000000e+01</td>\n",
       "      <td>5.000000e+00</td>\n",
       "      <td>5.000000e+00</td>\n",
       "    </tr>\n",
       "    <tr>\n",
       "      <th>nciting</th>\n",
       "      <td>3.000000e+00</td>\n",
       "      <td>1.000000e+01</td>\n",
       "      <td>4.000000e+00</td>\n",
       "      <td>3.000000e+00</td>\n",
       "      <td>3.000000e+00</td>\n",
       "    </tr>\n",
       "    <tr>\n",
       "      <th>orig</th>\n",
       "      <td>6.666666e-01</td>\n",
       "      <td>5.111111e-01</td>\n",
       "      <td>0.000000e+00</td>\n",
       "      <td>9.999999e-01</td>\n",
       "      <td>6.666666e-01</td>\n",
       "    </tr>\n",
       "    <tr>\n",
       "      <th>patent</th>\n",
       "      <td>4.892236e+06</td>\n",
       "      <td>4.918376e+06</td>\n",
       "      <td>4.924683e+06</td>\n",
       "      <td>4.926909e+06</td>\n",
       "      <td>4.928843e+06</td>\n",
       "    </tr>\n",
       "    <tr>\n",
       "      <th>year</th>\n",
       "      <td>1.990000e+03</td>\n",
       "      <td>1.990000e+03</td>\n",
       "      <td>1.990000e+03</td>\n",
       "      <td>1.990000e+03</td>\n",
       "      <td>1.990000e+03</td>\n",
       "    </tr>\n",
       "    <tr>\n",
       "      <th>log_nciting</th>\n",
       "      <td>4.771213e-01</td>\n",
       "      <td>1.000000e+00</td>\n",
       "      <td>6.020600e-01</td>\n",
       "      <td>4.771213e-01</td>\n",
       "      <td>4.771213e-01</td>\n",
       "    </tr>\n",
       "  </tbody>\n",
       "</table>\n",
       "</div>"
      ],
      "text/plain": [
       "                   648230        672247        678060        680094  \\\n",
       "general      6.666666e-01  3.768116e-01  5.494253e-01  4.000000e-01   \n",
       "ncited       3.000000e+00  2.400000e+01  3.000000e+01  5.000000e+00   \n",
       "nciting      3.000000e+00  1.000000e+01  4.000000e+00  3.000000e+00   \n",
       "orig         6.666666e-01  5.111111e-01  0.000000e+00  9.999999e-01   \n",
       "patent       4.892236e+06  4.918376e+06  4.924683e+06  4.926909e+06   \n",
       "year         1.990000e+03  1.990000e+03  1.990000e+03  1.990000e+03   \n",
       "log_nciting  4.771213e-01  1.000000e+00  6.020600e-01  4.771213e-01   \n",
       "\n",
       "                   681869  \n",
       "general      9.000000e-01  \n",
       "ncited       5.000000e+00  \n",
       "nciting      3.000000e+00  \n",
       "orig         6.666666e-01  \n",
       "patent       4.928843e+06  \n",
       "year         1.990000e+03  \n",
       "log_nciting  4.771213e-01  "
      ]
     },
     "execution_count": 390,
     "metadata": {},
     "output_type": "execute_result"
    }
   ],
   "source": [
    "# try and recreate the originality measure from a patent in middle of sample (so not truncated either side)\n",
    "o_g_notnull_76_00[o_g_notnull_76_00.year==1990].head().T\n"
   ]
  },
  {
   "cell_type": "code",
   "execution_count": null,
   "metadata": {
    "collapsed": true
   },
   "outputs": [],
   "source": [
    "# so  patent 4924683  has an originality of zero!\n"
   ]
  }
 ],
 "metadata": {
  "kernelspec": {
   "display_name": "Python 3",
   "language": "python",
   "name": "python3"
  },
  "language_info": {
   "codemirror_mode": {
    "name": "ipython",
    "version": 3
   },
   "file_extension": ".py",
   "mimetype": "text/x-python",
   "name": "python",
   "nbconvert_exporter": "python",
   "pygments_lexer": "ipython3",
   "version": "3.4.4"
  }
 },
 "nbformat": 4,
 "nbformat_minor": 0
}
