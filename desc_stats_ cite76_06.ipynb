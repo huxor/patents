{
 "cells": [
  {
   "cell_type": "markdown",
   "metadata": {},
   "source": [
    "### descriptive statistics for cite76_06, the citations file"
   ]
  },
  {
   "cell_type": "code",
   "execution_count": 1,
   "metadata": {
    "collapsed": false
   },
   "outputs": [],
   "source": [
    "import pandas as pd\n",
    "import matplotlib.pyplot as plt\n",
    "import numpy as np\n",
    "from scipy.spatial.distance import cosine\n",
    "from matplotlib.colors import LogNorm\n",
    "\n",
    "%matplotlib inline"
   ]
  },
  {
   "cell_type": "code",
   "execution_count": 2,
   "metadata": {
    "collapsed": false
   },
   "outputs": [
    {
     "name": "stdout",
     "output_type": "stream",
     "text": [
      "CPU times: user 1.03 s, sys: 783 ms, total: 1.81 s\n",
      "Wall time: 2.41 s\n"
     ]
    }
   ],
   "source": [
    "%%time\n",
    "# read in main data file in the Strata9 .dta format\n",
    "cite76_06_df = pd.read_stata('cite76_06.dta')\n",
    "\n"
   ]
  },
  {
   "cell_type": "code",
   "execution_count": 4,
   "metadata": {
    "collapsed": false
   },
   "outputs": [
    {
     "name": "stdout",
     "output_type": "stream",
     "text": [
      "legth of cite76_06_df =  23650891\n"
     ]
    },
    {
     "data": {
      "text/html": [
       "<div>\n",
       "<table border=\"1\" class=\"dataframe\">\n",
       "  <thead>\n",
       "    <tr style=\"text-align: right;\">\n",
       "      <th></th>\n",
       "      <th>citing</th>\n",
       "      <th>cited</th>\n",
       "      <th>ncites7606</th>\n",
       "    </tr>\n",
       "  </thead>\n",
       "  <tbody>\n",
       "    <tr>\n",
       "      <th>0</th>\n",
       "      <td>5135226</td>\n",
       "      <td>3930271</td>\n",
       "      <td>6</td>\n",
       "    </tr>\n",
       "    <tr>\n",
       "      <th>1</th>\n",
       "      <td>5592695</td>\n",
       "      <td>3930271</td>\n",
       "      <td>6</td>\n",
       "    </tr>\n",
       "    <tr>\n",
       "      <th>2</th>\n",
       "      <td>5621918</td>\n",
       "      <td>3930271</td>\n",
       "      <td>6</td>\n",
       "    </tr>\n",
       "    <tr>\n",
       "      <th>3</th>\n",
       "      <td>5624296</td>\n",
       "      <td>3930271</td>\n",
       "      <td>6</td>\n",
       "    </tr>\n",
       "    <tr>\n",
       "      <th>4</th>\n",
       "      <td>5675839</td>\n",
       "      <td>3930271</td>\n",
       "      <td>6</td>\n",
       "    </tr>\n",
       "  </tbody>\n",
       "</table>\n",
       "</div>"
      ],
      "text/plain": [
       "    citing    cited  ncites7606\n",
       "0  5135226  3930271           6\n",
       "1  5592695  3930271           6\n",
       "2  5621918  3930271           6\n",
       "3  5624296  3930271           6\n",
       "4  5675839  3930271           6"
      ]
     },
     "execution_count": 4,
     "metadata": {},
     "output_type": "execute_result"
    }
   ],
   "source": [
    "print('legth of cite76_06_df = ',len(cite76_06_df))\n",
    "cite76_06_df.head()"
   ]
  },
  {
   "cell_type": "code",
   "execution_count": null,
   "metadata": {
    "collapsed": false
   },
   "outputs": [],
   "source": [
    "# look at first patent number if pat_76_06_assg = 3930271\n",
    "print(cite76_06_df[cite76_06_df.cited==3930271])\n",
    "# does not look back for what this patent is citing, the backward citation.\n",
    "cite76_06_df[cite76_06_df.citing==3930271]\n",
    "\n"
   ]
  },
  {
   "cell_type": "code",
   "execution_count": 6,
   "metadata": {
    "collapsed": false
   },
   "outputs": [
    {
     "data": {
      "text/html": [
       "<div>\n",
       "<table border=\"1\" class=\"dataframe\">\n",
       "  <thead>\n",
       "    <tr style=\"text-align: right;\">\n",
       "      <th></th>\n",
       "      <th>citing</th>\n",
       "      <th>cited</th>\n",
       "      <th>ncites7606</th>\n",
       "    </tr>\n",
       "  </thead>\n",
       "  <tbody>\n",
       "    <tr>\n",
       "      <th>1790101</th>\n",
       "      <td>4924683</td>\n",
       "      <td>4131001</td>\n",
       "      <td>38</td>\n",
       "    </tr>\n",
       "    <tr>\n",
       "      <th>6572433</th>\n",
       "      <td>4924683</td>\n",
       "      <td>4616490</td>\n",
       "      <td>38</td>\n",
       "    </tr>\n",
       "    <tr>\n",
       "      <th>6831368</th>\n",
       "      <td>4924683</td>\n",
       "      <td>4640106</td>\n",
       "      <td>33</td>\n",
       "    </tr>\n",
       "    <tr>\n",
       "      <th>9285577</th>\n",
       "      <td>4924683</td>\n",
       "      <td>4856304</td>\n",
       "      <td>32</td>\n",
       "    </tr>\n",
       "  </tbody>\n",
       "</table>\n",
       "</div>"
      ],
      "text/plain": [
       "          citing    cited  ncites7606\n",
       "1790101  4924683  4131001          38\n",
       "6572433  4924683  4616490          38\n",
       "6831368  4924683  4640106          33\n",
       "9285577  4924683  4856304          32"
      ]
     },
     "execution_count": 6,
     "metadata": {},
     "output_type": "execute_result"
    }
   ],
   "source": [
    "# look for originality=0 patent, 4924683.\n",
    "cite76_06_df[cite76_06_df.citing==4924683]\n",
    "\n"
   ]
  },
  {
   "cell_type": "code",
   "execution_count": 7,
   "metadata": {
    "collapsed": false
   },
   "outputs": [
    {
     "data": {
      "text/html": [
       "<div>\n",
       "<table border=\"1\" class=\"dataframe\">\n",
       "  <thead>\n",
       "    <tr style=\"text-align: right;\">\n",
       "      <th></th>\n",
       "      <th>citing</th>\n",
       "      <th>cited</th>\n",
       "      <th>ncites7606</th>\n",
       "    </tr>\n",
       "  </thead>\n",
       "  <tbody>\n",
       "    <tr>\n",
       "      <th>5603706</th>\n",
       "      <td>6238084</td>\n",
       "      <td>4525077</td>\n",
       "      <td>20</td>\n",
       "    </tr>\n",
       "    <tr>\n",
       "      <th>13273383</th>\n",
       "      <td>6238084</td>\n",
       "      <td>5214622</td>\n",
       "      <td>15</td>\n",
       "    </tr>\n",
       "    <tr>\n",
       "      <th>13380777</th>\n",
       "      <td>6238084</td>\n",
       "      <td>5224078</td>\n",
       "      <td>10</td>\n",
       "    </tr>\n",
       "    <tr>\n",
       "      <th>14856641</th>\n",
       "      <td>6238084</td>\n",
       "      <td>5355352</td>\n",
       "      <td>26</td>\n",
       "    </tr>\n",
       "  </tbody>\n",
       "</table>\n",
       "</div>"
      ],
      "text/plain": [
       "           citing    cited  ncites7606\n",
       "5603706   6238084  4525077          20\n",
       "13273383  6238084  5214622          15\n",
       "13380777  6238084  5224078          10\n",
       "14856641  6238084  5355352          26"
      ]
     },
     "execution_count": 7,
     "metadata": {},
     "output_type": "execute_result"
    }
   ],
   "source": [
    "cite76_06_df[cite76_06_df.citing==6238084]\n",
    "\n"
   ]
  },
  {
   "cell_type": "code",
   "execution_count": null,
   "metadata": {
    "collapsed": false
   },
   "outputs": [],
   "source": [
    "# group by cited\n",
    "groupedby_cited = cite76_06_df.groupby(by='cited')\n",
    "groupedby_cited = pd.DataFrame(groupedby_cited.size().reset_index(name = \"Group_Count\"))\n",
    "groupedby_cited_sorted = groupedby_cited.sort_values(by='Group_Count', ascending=False)\n",
    "groupedby_cited_sorted.head()\n",
    "len(groupedby_cited_sorted)"
   ]
  },
  {
   "cell_type": "code",
   "execution_count": null,
   "metadata": {
    "collapsed": false
   },
   "outputs": [],
   "source": [
    "groupedby_cited_sorted.tail()"
   ]
  },
  {
   "cell_type": "code",
   "execution_count": null,
   "metadata": {
    "collapsed": false
   },
   "outputs": [],
   "source": [
    "# group by citing\n",
    "groupedby_citing = cite76_06_df.groupby(by='citing')\n",
    "groupedby_citing = pd.DataFrame(groupedby_citing.size().reset_index(name = \"Group_Count\"))\n",
    "groupedby_citing_sorted = groupedby_citing.sort_values(by='Group_Count', ascending=False)\n",
    "groupedby_citing_sorted.head()\n",
    "len(groupedby_citing_sorted)"
   ]
  },
  {
   "cell_type": "code",
   "execution_count": null,
   "metadata": {
    "collapsed": false
   },
   "outputs": [],
   "source": [
    "groupedby_citing_sorted.tail()"
   ]
  },
  {
   "cell_type": "code",
   "execution_count": null,
   "metadata": {
    "collapsed": false
   },
   "outputs": [],
   "source": [
    "cite76_06_df[cite76_06_df.citing==7077860][80:100]"
   ]
  },
  {
   "cell_type": "code",
   "execution_count": null,
   "metadata": {
    "collapsed": true
   },
   "outputs": [],
   "source": []
  },
  {
   "cell_type": "code",
   "execution_count": null,
   "metadata": {
    "collapsed": false
   },
   "outputs": [],
   "source": [
    "# group by number of cites\n",
    "groupedby_ncites7606 = cite76_06_df.groupby(by='ncites7606')\n",
    "groupedby_ncites7606 = pd.DataFrame(groupedby_ncites7606.size().reset_index(name = \"Group_Count\"))\n",
    "groupedby_ncites7606_sorted = groupedby_ncites7606.sort_values(by='Group_Count', ascending=False)\n",
    "groupedby_ncites7606_sorted.head()\n",
    "len(groupedby_ncites7606_sorted)"
   ]
  },
  {
   "cell_type": "code",
   "execution_count": null,
   "metadata": {
    "collapsed": false
   },
   "outputs": [],
   "source": [
    "groupedby_ncites7606_sorted.tail(50)"
   ]
  },
  {
   "cell_type": "code",
   "execution_count": null,
   "metadata": {
    "collapsed": false
   },
   "outputs": [],
   "source": [
    "# plot number of ipc_inter\n",
    "groupedby_ncites7606_sorted_reindexed = groupedby_ncites7606_sorted.reset_index()\n",
    "groupedby_ncites7606_sorted.plot.scatter(x='ncites7606',y='Group_Count',marker = '.',c='blue',linewidth=1,xlim=(0,1000),ylim=(0,4000))\n"
   ]
  },
  {
   "cell_type": "markdown",
   "metadata": {},
   "source": [
    "### Wow, looks like the citation data is not right.\n",
    "What is going on here?"
   ]
  },
  {
   "cell_type": "code",
   "execution_count": null,
   "metadata": {
    "collapsed": false
   },
   "outputs": [],
   "source": [
    "logx = np.log10(groupedby_ncites7606_sorted_reindexed.index[1:]) \n",
    "logy = np.log10(groupedby_ncites7606_sorted_reindexed.Group_Count[1:]) \n",
    "\n",
    "print(len(logx))\n",
    "print(len(logy))"
   ]
  },
  {
   "cell_type": "code",
   "execution_count": null,
   "metadata": {
    "collapsed": false
   },
   "outputs": [],
   "source": [
    "# plot data\n",
    "# very unlike a power-law\n",
    "fig = plt.figure(figsize=(4,4))\n",
    "ax = fig.add_subplot(111)\n",
    "ax.plot(logx,logy,'orange',linewidth=3)\n",
    "ax.set_xlim(0, 4)\n",
    "ax.set_ylim(0, 6)\n",
    "ax.set(title=\"\", xlabel=\"log(number cites recieved 76-06)\", ylabel=\"log(number patents)\")\n",
    "plt.savefig(\"/Users/ahuxor/MSc/Thesis_Project/msc_thesis/Figs/log_rank_ipcinter_log_patents.pdf\", bbox_inches = 'tight')\n",
    "\n",
    "plt.show()"
   ]
  },
  {
   "cell_type": "code",
   "execution_count": null,
   "metadata": {
    "collapsed": false
   },
   "outputs": [],
   "source": [
    "cite76_06_df.hist(column='ncites7606',bins=250, log=True)\n"
   ]
  },
  {
   "cell_type": "code",
   "execution_count": null,
   "metadata": {
    "collapsed": false
   },
   "outputs": [],
   "source": [
    "print('length = ',len(cite76_06_df[cite76_06_df.ncites7606>1800]))\n",
    "cite76_06_df[cite76_06_df.ncites7606==10].head(15)"
   ]
  },
  {
   "cell_type": "code",
   "execution_count": null,
   "metadata": {
    "collapsed": false
   },
   "outputs": [],
   "source": [
    "print('length = ',len(cite76_06_df[cite76_06_df.ncites7606==1]))\n",
    "cite76_06_df[cite76_06_df.ncites7606==1].head()"
   ]
  },
  {
   "cell_type": "code",
   "execution_count": null,
   "metadata": {
    "collapsed": true
   },
   "outputs": [],
   "source": []
  }
 ],
 "metadata": {
  "kernelspec": {
   "display_name": "Python 3",
   "language": "python",
   "name": "python3"
  },
  "language_info": {
   "codemirror_mode": {
    "name": "ipython",
    "version": 3
   },
   "file_extension": ".py",
   "mimetype": "text/x-python",
   "name": "python",
   "nbconvert_exporter": "python",
   "pygments_lexer": "ipython3",
   "version": "3.4.4"
  }
 },
 "nbformat": 4,
 "nbformat_minor": 0
}
