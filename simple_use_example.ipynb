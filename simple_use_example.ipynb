{
 "cells": [
  {
   "cell_type": "markdown",
   "metadata": {},
   "source": [
    "## simple user case study example\n"
   ]
  },
  {
   "cell_type": "code",
   "execution_count": 1,
   "metadata": {
    "collapsed": true
   },
   "outputs": [],
   "source": [
    "import pandas as pd\n",
    "import matplotlib.pyplot as plt\n",
    "import numpy as np\n",
    "from scipy.spatial.distance import cosine\n",
    "from matplotlib.colors import LogNorm\n",
    "\n",
    "%matplotlib inline"
   ]
  },
  {
   "cell_type": "code",
   "execution_count": 2,
   "metadata": {
    "collapsed": true
   },
   "outputs": [],
   "source": [
    "pat76_06_ipc_df = pd.read_stata('pat76_06_ipc.dta')\n"
   ]
  },
  {
   "cell_type": "code",
   "execution_count": 3,
   "metadata": {
    "collapsed": false
   },
   "outputs": [
    {
     "data": {
      "text/plain": [
       "True"
      ]
     },
     "execution_count": 3,
     "metadata": {},
     "output_type": "execute_result"
    }
   ],
   "source": [
    "x='BNBV'\n",
    "x.isupper()"
   ]
  },
  {
   "cell_type": "code",
   "execution_count": 4,
   "metadata": {
    "collapsed": false
   },
   "outputs": [
    {
     "name": "stdout",
     "output_type": "stream",
     "text": [
      "icl-class =  F01k\n",
      "patent number =  3930371\n",
      "icl-class =  G10h\n",
      "patent number =  3930430\n",
      "icl-class =  G10h\n",
      "patent number =  3930430\n",
      "icl-class =  5 3\n",
      "patent number =  3930439\n",
      "icl-class =  F02m\n",
      "patent number =  3930475\n",
      "icl-class =  B29h\n",
      "patent number =  3930529\n",
      "icl-class =  F28f\n",
      "patent number =  3930536\n",
      "icl-class =  F28f\n",
      "patent number =  3930537\n",
      "icl-class =  A01b\n",
      "patent number =  3930543\n",
      "icl-class =  A01b\n",
      "patent number =  3930543\n",
      "icl-class =  B60p\n",
      "patent number =  3930548\n",
      "icl-class =  E04b\n",
      "patent number =  3930557\n",
      "icl-class =  B04b\n",
      "patent number =  3930608\n"
     ]
    }
   ],
   "source": [
    "for n in range(0,500):\n",
    "    state = pat76_06_ipc_df.icl_class[n].isupper()\n",
    "    if state:\n",
    "        continue\n",
    "    else:\n",
    "        print('icl-class = ',pat76_06_ipc_df.icl_class[n])\n",
    "        print('patent number = ',pat76_06_ipc_df.patent[n] )"
   ]
  },
  {
   "cell_type": "code",
   "execution_count": 5,
   "metadata": {
    "collapsed": false
   },
   "outputs": [
    {
     "data": {
      "text/html": [
       "<div>\n",
       "<table border=\"1\" class=\"dataframe\">\n",
       "  <thead>\n",
       "    <tr style=\"text-align: right;\">\n",
       "      <th></th>\n",
       "      <th>65</th>\n",
       "      <th>69</th>\n",
       "      <th>77</th>\n",
       "      <th>78</th>\n",
       "      <th>125</th>\n",
       "    </tr>\n",
       "  </thead>\n",
       "  <tbody>\n",
       "    <tr>\n",
       "      <th>appyear</th>\n",
       "      <td>1974</td>\n",
       "      <td>1975</td>\n",
       "      <td>1974</td>\n",
       "      <td>1974</td>\n",
       "      <td>1974</td>\n",
       "    </tr>\n",
       "    <tr>\n",
       "      <th>cat</th>\n",
       "      <td>6</td>\n",
       "      <td>6</td>\n",
       "      <td>6</td>\n",
       "      <td>6</td>\n",
       "      <td>6</td>\n",
       "    </tr>\n",
       "    <tr>\n",
       "      <th>gyear</th>\n",
       "      <td>1976</td>\n",
       "      <td>1976</td>\n",
       "      <td>1976</td>\n",
       "      <td>1976</td>\n",
       "      <td>1976</td>\n",
       "    </tr>\n",
       "    <tr>\n",
       "      <th>icl</th>\n",
       "      <td>G01C 1902</td>\n",
       "      <td>G09B  306</td>\n",
       "      <td>G09D  306</td>\n",
       "      <td>G09F  708</td>\n",
       "      <td>G04C 2116</td>\n",
       "    </tr>\n",
       "    <tr>\n",
       "      <th>icl_class</th>\n",
       "      <td>G01C</td>\n",
       "      <td>G09B</td>\n",
       "      <td>G09D</td>\n",
       "      <td>G09F</td>\n",
       "      <td>G04C</td>\n",
       "    </tr>\n",
       "    <tr>\n",
       "      <th>icl_maingroup</th>\n",
       "      <td>19</td>\n",
       "      <td>3</td>\n",
       "      <td>3</td>\n",
       "      <td>7</td>\n",
       "      <td>21</td>\n",
       "    </tr>\n",
       "    <tr>\n",
       "      <th>iclnum</th>\n",
       "      <td>1</td>\n",
       "      <td>1</td>\n",
       "      <td>1</td>\n",
       "      <td>1</td>\n",
       "      <td>1</td>\n",
       "    </tr>\n",
       "    <tr>\n",
       "      <th>nclass</th>\n",
       "      <td>33</td>\n",
       "      <td>434</td>\n",
       "      <td>40</td>\n",
       "      <td>40</td>\n",
       "      <td>368</td>\n",
       "    </tr>\n",
       "    <tr>\n",
       "      <th>numipc</th>\n",
       "      <td>1</td>\n",
       "      <td>2</td>\n",
       "      <td>1</td>\n",
       "      <td>1</td>\n",
       "      <td>1</td>\n",
       "    </tr>\n",
       "    <tr>\n",
       "      <th>patent</th>\n",
       "      <td>3930317</td>\n",
       "      <td>3930321</td>\n",
       "      <td>3930326</td>\n",
       "      <td>3930327</td>\n",
       "      <td>3930358</td>\n",
       "    </tr>\n",
       "    <tr>\n",
       "      <th>pdpass</th>\n",
       "      <td>1.00369e+07</td>\n",
       "      <td>NaN</td>\n",
       "      <td>NaN</td>\n",
       "      <td>1.00303e+07</td>\n",
       "      <td>1.04464e+07</td>\n",
       "    </tr>\n",
       "    <tr>\n",
       "      <th>subcat</th>\n",
       "      <td>69</td>\n",
       "      <td>69</td>\n",
       "      <td>69</td>\n",
       "      <td>69</td>\n",
       "      <td>69</td>\n",
       "    </tr>\n",
       "    <tr>\n",
       "      <th>subclass</th>\n",
       "      <td>318</td>\n",
       "      <td>334</td>\n",
       "      <td>114</td>\n",
       "      <td>620</td>\n",
       "      <td>257</td>\n",
       "    </tr>\n",
       "    <tr>\n",
       "      <th>uspto_assignee</th>\n",
       "      <td>597185</td>\n",
       "      <td>0</td>\n",
       "      <td>0</td>\n",
       "      <td>52740</td>\n",
       "      <td>218550</td>\n",
       "    </tr>\n",
       "    <tr>\n",
       "      <th>section</th>\n",
       "      <td>G</td>\n",
       "      <td>G</td>\n",
       "      <td>G</td>\n",
       "      <td>G</td>\n",
       "      <td>G</td>\n",
       "    </tr>\n",
       "  </tbody>\n",
       "</table>\n",
       "</div>"
      ],
      "text/plain": [
       "                        65         69         77           78           125\n",
       "appyear                1974       1975       1974         1974         1974\n",
       "cat                       6          6          6            6            6\n",
       "gyear                  1976       1976       1976         1976         1976\n",
       "icl               G01C 1902  G09B  306  G09D  306    G09F  708    G04C 2116\n",
       "icl_class              G01C       G09B       G09D         G09F         G04C\n",
       "icl_maingroup            19          3          3            7           21\n",
       "iclnum                    1          1          1            1            1\n",
       "nclass                   33        434         40           40          368\n",
       "numipc                    1          2          1            1            1\n",
       "patent              3930317    3930321    3930326      3930327      3930358\n",
       "pdpass          1.00369e+07        NaN        NaN  1.00303e+07  1.04464e+07\n",
       "subcat                   69         69         69           69           69\n",
       "subclass                318        334        114          620          257\n",
       "uspto_assignee       597185          0          0        52740       218550\n",
       "section                   G          G          G            G            G"
      ]
     },
     "execution_count": 5,
     "metadata": {},
     "output_type": "execute_result"
    }
   ],
   "source": [
    "# create new column for the IPC section letter of the classification\n",
    "pat76_06_ipc_df['section'] = pat76_06_ipc_df['icl_class'].astype(str).str[0]\n",
    "\n",
    "pat76_06_ipc_G_section_df =pat76_06_ipc_df[pat76_06_ipc_df.section == 'G']\n",
    "\n",
    "pat76_06_ipc_G_section_df.head().T"
   ]
  },
  {
   "cell_type": "code",
   "execution_count": 6,
   "metadata": {
    "collapsed": false
   },
   "outputs": [],
   "source": [
    "# create a new df in which duplicates -- only in icl_class and patent -- are removed\n",
    "# this reduces the file size from about 4.8 million rows to 3.8 million.\n",
    "\n",
    "pat76_06_ipc_G_section_df_dupless = pat76_06_ipc_G_section_df.drop_duplicates(['icl_class','patent'])"
   ]
  },
  {
   "cell_type": "code",
   "execution_count": 7,
   "metadata": {
    "collapsed": false
   },
   "outputs": [
    {
     "name": "stdout",
     "output_type": "stream",
     "text": [
      "4857833\n"
     ]
    },
    {
     "data": {
      "text/plain": [
       "794593"
      ]
     },
     "execution_count": 7,
     "metadata": {},
     "output_type": "execute_result"
    }
   ],
   "source": [
    "print(len(pat76_06_ipc_df))\n",
    "len(pat76_06_ipc_G_section_df_dupless)"
   ]
  },
  {
   "cell_type": "code",
   "execution_count": 8,
   "metadata": {
    "collapsed": false
   },
   "outputs": [
    {
     "data": {
      "text/plain": [
       "6133365"
      ]
     },
     "execution_count": 8,
     "metadata": {},
     "output_type": "execute_result"
    }
   ],
   "source": [
    "### start looking at final example\n",
    "#get a typical patent \n",
    "#a_patent = pat76_06_ipc_df[4002:4003].patent.values[0]\n",
    "a_patent = 6133365 # use one we know has 2 classes attached\n",
    "a_patent"
   ]
  },
  {
   "cell_type": "code",
   "execution_count": 9,
   "metadata": {
    "collapsed": false
   },
   "outputs": [
    {
     "data": {
      "text/plain": [
       "[]"
      ]
     },
     "execution_count": 9,
     "metadata": {},
     "output_type": "execute_result"
    }
   ],
   "source": [
    "# get all icl_classes involved in this patent\n",
    "classes = pat76_06_ipc_G_section_df_dupless[pat76_06_ipc_G_section_df_dupless.patent==a_patent].icl_class.values.tolist()\n",
    "classes"
   ]
  },
  {
   "cell_type": "code",
   "execution_count": 10,
   "metadata": {
    "collapsed": false
   },
   "outputs": [],
   "source": [
    "#\n",
    "# So now add each other class drawn from the list of all available\n",
    "section_G_icl_classes = pat76_06_ipc_G_section_df_dupless.icl_class.unique().tolist()"
   ]
  },
  {
   "cell_type": "code",
   "execution_count": 11,
   "metadata": {
    "collapsed": false
   },
   "outputs": [
    {
     "data": {
      "text/plain": [
       "['A41D']"
      ]
     },
     "execution_count": 11,
     "metadata": {},
     "output_type": "execute_result"
    }
   ],
   "source": [
    "# add first from this array to the classes in a temporary variable\n",
    "temp = classes.copy()\n",
    "temp.append('A41D')\n",
    "\n",
    "\n",
    "temp"
   ]
  },
  {
   "cell_type": "code",
   "execution_count": 12,
   "metadata": {
    "collapsed": true
   },
   "outputs": [],
   "source": [
    "# get all patents that have all three\n"
   ]
  },
  {
   "cell_type": "code",
   "execution_count": 13,
   "metadata": {
    "collapsed": false
   },
   "outputs": [
    {
     "data": {
      "text/html": [
       "<div>\n",
       "<table border=\"1\" class=\"dataframe\">\n",
       "  <thead>\n",
       "    <tr style=\"text-align: right;\">\n",
       "      <th></th>\n",
       "      <th>65</th>\n",
       "      <th>69</th>\n",
       "      <th>77</th>\n",
       "      <th>78</th>\n",
       "      <th>125</th>\n",
       "    </tr>\n",
       "  </thead>\n",
       "  <tbody>\n",
       "    <tr>\n",
       "      <th>appyear</th>\n",
       "      <td>1974</td>\n",
       "      <td>1975</td>\n",
       "      <td>1974</td>\n",
       "      <td>1974</td>\n",
       "      <td>1974</td>\n",
       "    </tr>\n",
       "    <tr>\n",
       "      <th>cat</th>\n",
       "      <td>6</td>\n",
       "      <td>6</td>\n",
       "      <td>6</td>\n",
       "      <td>6</td>\n",
       "      <td>6</td>\n",
       "    </tr>\n",
       "    <tr>\n",
       "      <th>gyear</th>\n",
       "      <td>1976</td>\n",
       "      <td>1976</td>\n",
       "      <td>1976</td>\n",
       "      <td>1976</td>\n",
       "      <td>1976</td>\n",
       "    </tr>\n",
       "    <tr>\n",
       "      <th>icl</th>\n",
       "      <td>G01C 1902</td>\n",
       "      <td>G09B  306</td>\n",
       "      <td>G09D  306</td>\n",
       "      <td>G09F  708</td>\n",
       "      <td>G04C 2116</td>\n",
       "    </tr>\n",
       "    <tr>\n",
       "      <th>icl_class</th>\n",
       "      <td>G01C</td>\n",
       "      <td>G09B</td>\n",
       "      <td>G09D</td>\n",
       "      <td>G09F</td>\n",
       "      <td>G04C</td>\n",
       "    </tr>\n",
       "    <tr>\n",
       "      <th>icl_maingroup</th>\n",
       "      <td>19</td>\n",
       "      <td>3</td>\n",
       "      <td>3</td>\n",
       "      <td>7</td>\n",
       "      <td>21</td>\n",
       "    </tr>\n",
       "    <tr>\n",
       "      <th>iclnum</th>\n",
       "      <td>1</td>\n",
       "      <td>1</td>\n",
       "      <td>1</td>\n",
       "      <td>1</td>\n",
       "      <td>1</td>\n",
       "    </tr>\n",
       "    <tr>\n",
       "      <th>nclass</th>\n",
       "      <td>33</td>\n",
       "      <td>434</td>\n",
       "      <td>40</td>\n",
       "      <td>40</td>\n",
       "      <td>368</td>\n",
       "    </tr>\n",
       "    <tr>\n",
       "      <th>numipc</th>\n",
       "      <td>1</td>\n",
       "      <td>2</td>\n",
       "      <td>1</td>\n",
       "      <td>1</td>\n",
       "      <td>1</td>\n",
       "    </tr>\n",
       "    <tr>\n",
       "      <th>patent</th>\n",
       "      <td>3930317</td>\n",
       "      <td>3930321</td>\n",
       "      <td>3930326</td>\n",
       "      <td>3930327</td>\n",
       "      <td>3930358</td>\n",
       "    </tr>\n",
       "    <tr>\n",
       "      <th>pdpass</th>\n",
       "      <td>1.00369e+07</td>\n",
       "      <td>NaN</td>\n",
       "      <td>NaN</td>\n",
       "      <td>1.00303e+07</td>\n",
       "      <td>1.04464e+07</td>\n",
       "    </tr>\n",
       "    <tr>\n",
       "      <th>subcat</th>\n",
       "      <td>69</td>\n",
       "      <td>69</td>\n",
       "      <td>69</td>\n",
       "      <td>69</td>\n",
       "      <td>69</td>\n",
       "    </tr>\n",
       "    <tr>\n",
       "      <th>subclass</th>\n",
       "      <td>318</td>\n",
       "      <td>334</td>\n",
       "      <td>114</td>\n",
       "      <td>620</td>\n",
       "      <td>257</td>\n",
       "    </tr>\n",
       "    <tr>\n",
       "      <th>uspto_assignee</th>\n",
       "      <td>597185</td>\n",
       "      <td>0</td>\n",
       "      <td>0</td>\n",
       "      <td>52740</td>\n",
       "      <td>218550</td>\n",
       "    </tr>\n",
       "    <tr>\n",
       "      <th>section</th>\n",
       "      <td>G</td>\n",
       "      <td>G</td>\n",
       "      <td>G</td>\n",
       "      <td>G</td>\n",
       "      <td>G</td>\n",
       "    </tr>\n",
       "  </tbody>\n",
       "</table>\n",
       "</div>"
      ],
      "text/plain": [
       "                        65         69         77           78           125\n",
       "appyear                1974       1975       1974         1974         1974\n",
       "cat                       6          6          6            6            6\n",
       "gyear                  1976       1976       1976         1976         1976\n",
       "icl               G01C 1902  G09B  306  G09D  306    G09F  708    G04C 2116\n",
       "icl_class              G01C       G09B       G09D         G09F         G04C\n",
       "icl_maingroup            19          3          3            7           21\n",
       "iclnum                    1          1          1            1            1\n",
       "nclass                   33        434         40           40          368\n",
       "numipc                    1          2          1            1            1\n",
       "patent              3930317    3930321    3930326      3930327      3930358\n",
       "pdpass          1.00369e+07        NaN        NaN  1.00303e+07  1.04464e+07\n",
       "subcat                   69         69         69           69           69\n",
       "subclass                318        334        114          620          257\n",
       "uspto_assignee       597185          0          0        52740       218550\n",
       "section                   G          G          G            G            G"
      ]
     },
     "execution_count": 13,
     "metadata": {},
     "output_type": "execute_result"
    }
   ],
   "source": [
    "# Need to create new data structures aggregating icl_classes for each patent number\n",
    "pat76_06_ipc_G_section_df_dupless.head().T"
   ]
  },
  {
   "cell_type": "code",
   "execution_count": 14,
   "metadata": {
    "collapsed": false
   },
   "outputs": [
    {
     "data": {
      "text/plain": [
       "3930317"
      ]
     },
     "execution_count": 14,
     "metadata": {},
     "output_type": "execute_result"
    }
   ],
   "source": [
    "# get list of (unique) patents\n",
    "all_patents = pat76_06_ipc_G_section_df_dupless.patent.values\n",
    "all_patents[0]"
   ]
  },
  {
   "cell_type": "code",
   "execution_count": 15,
   "metadata": {
    "collapsed": false
   },
   "outputs": [
    {
     "name": "stdout",
     "output_type": "stream",
     "text": [
      "CPU times: user 3min 21s, sys: 4.17 s, total: 3min 25s\n",
      "Wall time: 3min 41s\n"
     ]
    }
   ],
   "source": [
    "%%time\n",
    "list_of_patents = []\n",
    "list_of_list_of_classes = []\n",
    "\n",
    "for j in range(0,100000):\n",
    "    a_patent = all_patents[j]\n",
    "    list_of_patents.append(a_patent)\n",
    "    list_of_classes = pat76_06_ipc_G_section_df_dupless[pat76_06_ipc_G_section_df_dupless.patent == a_patent].icl_class.values\n",
    "    list_of_list_of_classes.append(list_of_classes)"
   ]
  },
  {
   "cell_type": "code",
   "execution_count": 16,
   "metadata": {
    "collapsed": false
   },
   "outputs": [
    {
     "data": {
      "text/plain": [
       "100000"
      ]
     },
     "execution_count": 16,
     "metadata": {},
     "output_type": "execute_result"
    }
   ],
   "source": [
    "len(list_of_list_of_classes)"
   ]
  },
  {
   "cell_type": "code",
   "execution_count": 17,
   "metadata": {
    "collapsed": false
   },
   "outputs": [],
   "source": [
    "temp_dict = dict( patent = list_of_patents, icl_classes = list_of_list_of_classes )\n",
    "df = pd.DataFrame.from_dict(temp_dict, orient='index').T"
   ]
  },
  {
   "cell_type": "code",
   "execution_count": 18,
   "metadata": {
    "collapsed": false
   },
   "outputs": [
    {
     "data": {
      "text/html": [
       "<div>\n",
       "<table border=\"1\" class=\"dataframe\">\n",
       "  <thead>\n",
       "    <tr style=\"text-align: right;\">\n",
       "      <th></th>\n",
       "      <th>icl_classes</th>\n",
       "      <th>patent</th>\n",
       "    </tr>\n",
       "  </thead>\n",
       "  <tbody>\n",
       "    <tr>\n",
       "      <th>99988</th>\n",
       "      <td>[G03G]</td>\n",
       "      <td>4486502</td>\n",
       "    </tr>\n",
       "    <tr>\n",
       "      <th>99989</th>\n",
       "      <td>[G03F, G03C]</td>\n",
       "      <td>4486518</td>\n",
       "    </tr>\n",
       "    <tr>\n",
       "      <th>99991</th>\n",
       "      <td>[G03G]</td>\n",
       "      <td>4486519</td>\n",
       "    </tr>\n",
       "    <tr>\n",
       "      <th>99992</th>\n",
       "      <td>[G03G]</td>\n",
       "      <td>4486520</td>\n",
       "    </tr>\n",
       "    <tr>\n",
       "      <th>99993</th>\n",
       "      <td>[G03G]</td>\n",
       "      <td>4486521</td>\n",
       "    </tr>\n",
       "    <tr>\n",
       "      <th>99994</th>\n",
       "      <td>[G03G]</td>\n",
       "      <td>4486522</td>\n",
       "    </tr>\n",
       "    <tr>\n",
       "      <th>99995</th>\n",
       "      <td>[G03G]</td>\n",
       "      <td>4486523</td>\n",
       "    </tr>\n",
       "    <tr>\n",
       "      <th>99996</th>\n",
       "      <td>[G03G]</td>\n",
       "      <td>4486524</td>\n",
       "    </tr>\n",
       "    <tr>\n",
       "      <th>99997</th>\n",
       "      <td>[G03G]</td>\n",
       "      <td>4486525</td>\n",
       "    </tr>\n",
       "    <tr>\n",
       "      <th>99998</th>\n",
       "      <td>[G03C, G03F]</td>\n",
       "      <td>4486526</td>\n",
       "    </tr>\n",
       "  </tbody>\n",
       "</table>\n",
       "</div>"
      ],
      "text/plain": [
       "        icl_classes   patent\n",
       "99988        [G03G]  4486502\n",
       "99989  [G03F, G03C]  4486518\n",
       "99991        [G03G]  4486519\n",
       "99992        [G03G]  4486520\n",
       "99993        [G03G]  4486521\n",
       "99994        [G03G]  4486522\n",
       "99995        [G03G]  4486523\n",
       "99996        [G03G]  4486524\n",
       "99997        [G03G]  4486525\n",
       "99998  [G03C, G03F]  4486526"
      ]
     },
     "execution_count": 18,
     "metadata": {},
     "output_type": "execute_result"
    }
   ],
   "source": [
    "# cannot use drop_duplicates on icl_classes contains a list, so drop on patnet\n",
    "df1=df.drop_duplicates(['patent'])\n",
    "df1.tail(10)"
   ]
  },
  {
   "cell_type": "code",
   "execution_count": 22,
   "metadata": {
    "collapsed": false
   },
   "outputs": [
    {
     "data": {
      "text/plain": [
       "['G03F', 'G03C']"
      ]
     },
     "execution_count": 22,
     "metadata": {},
     "output_type": "execute_result"
    }
   ],
   "source": [
    "# get example patent\n",
    "zz = pat76_06_ipc_G_section_df_dupless[pat76_06_ipc_G_section_df_dupless.patent==4486518].icl_class.values\n",
    "zz1 = zz.tolist()\n",
    "zz1"
   ]
  },
  {
   "cell_type": "code",
   "execution_count": 23,
   "metadata": {
    "collapsed": false
   },
   "outputs": [
    {
     "data": {
      "text/html": [
       "<div>\n",
       "<table border=\"1\" class=\"dataframe\">\n",
       "  <thead>\n",
       "    <tr style=\"text-align: right;\">\n",
       "      <th></th>\n",
       "      <th>825853</th>\n",
       "      <th>825854</th>\n",
       "    </tr>\n",
       "  </thead>\n",
       "  <tbody>\n",
       "    <tr>\n",
       "      <th>appyear</th>\n",
       "      <td>1982</td>\n",
       "      <td>1982</td>\n",
       "    </tr>\n",
       "    <tr>\n",
       "      <th>cat</th>\n",
       "      <td>1</td>\n",
       "      <td>1</td>\n",
       "    </tr>\n",
       "    <tr>\n",
       "      <th>gyear</th>\n",
       "      <td>1984</td>\n",
       "      <td>1984</td>\n",
       "    </tr>\n",
       "    <tr>\n",
       "      <th>icl</th>\n",
       "      <td>G03F  100</td>\n",
       "      <td>G03C  300</td>\n",
       "    </tr>\n",
       "    <tr>\n",
       "      <th>icl_class</th>\n",
       "      <td>G03F</td>\n",
       "      <td>G03C</td>\n",
       "    </tr>\n",
       "    <tr>\n",
       "      <th>icl_maingroup</th>\n",
       "      <td>1</td>\n",
       "      <td>3</td>\n",
       "    </tr>\n",
       "    <tr>\n",
       "      <th>iclnum</th>\n",
       "      <td>1</td>\n",
       "      <td>2</td>\n",
       "    </tr>\n",
       "    <tr>\n",
       "      <th>nclass</th>\n",
       "      <td>430</td>\n",
       "      <td>430</td>\n",
       "    </tr>\n",
       "    <tr>\n",
       "      <th>numipc</th>\n",
       "      <td>3</td>\n",
       "      <td>3</td>\n",
       "    </tr>\n",
       "    <tr>\n",
       "      <th>patent</th>\n",
       "      <td>4486518</td>\n",
       "      <td>4486518</td>\n",
       "    </tr>\n",
       "    <tr>\n",
       "      <th>pdpass</th>\n",
       "      <td>1.05181e+07</td>\n",
       "      <td>1.05181e+07</td>\n",
       "    </tr>\n",
       "    <tr>\n",
       "      <th>subcat</th>\n",
       "      <td>19</td>\n",
       "      <td>19</td>\n",
       "    </tr>\n",
       "    <tr>\n",
       "      <th>subclass</th>\n",
       "      <td>5</td>\n",
       "      <td>5</td>\n",
       "    </tr>\n",
       "    <tr>\n",
       "      <th>uspto_assignee</th>\n",
       "      <td>446550</td>\n",
       "      <td>446550</td>\n",
       "    </tr>\n",
       "    <tr>\n",
       "      <th>section</th>\n",
       "      <td>G</td>\n",
       "      <td>G</td>\n",
       "    </tr>\n",
       "  </tbody>\n",
       "</table>\n",
       "</div>"
      ],
      "text/plain": [
       "                     825853       825854\n",
       "appyear                1982         1982\n",
       "cat                       1            1\n",
       "gyear                  1984         1984\n",
       "icl               G03F  100    G03C  300\n",
       "icl_class              G03F         G03C\n",
       "icl_maingroup             1            3\n",
       "iclnum                    1            2\n",
       "nclass                  430          430\n",
       "numipc                    3            3\n",
       "patent              4486518      4486518\n",
       "pdpass          1.05181e+07  1.05181e+07\n",
       "subcat                   19           19\n",
       "subclass                  5            5\n",
       "uspto_assignee       446550       446550\n",
       "section                   G            G"
      ]
     },
     "execution_count": 23,
     "metadata": {},
     "output_type": "execute_result"
    }
   ],
   "source": [
    "pat76_06_ipc_G_section_df_dupless[pat76_06_ipc_G_section_df_dupless.patent==4486518].T"
   ]
  },
  {
   "cell_type": "code",
   "execution_count": 24,
   "metadata": {
    "collapsed": false
   },
   "outputs": [
    {
     "data": {
      "text/html": [
       "<div>\n",
       "<table border=\"1\" class=\"dataframe\">\n",
       "  <thead>\n",
       "    <tr style=\"text-align: right;\">\n",
       "      <th></th>\n",
       "      <th>825853</th>\n",
       "      <th>825854</th>\n",
       "    </tr>\n",
       "  </thead>\n",
       "  <tbody>\n",
       "    <tr>\n",
       "      <th>appyear</th>\n",
       "      <td>1982</td>\n",
       "      <td>1982</td>\n",
       "    </tr>\n",
       "    <tr>\n",
       "      <th>cat</th>\n",
       "      <td>1</td>\n",
       "      <td>1</td>\n",
       "    </tr>\n",
       "    <tr>\n",
       "      <th>gyear</th>\n",
       "      <td>1984</td>\n",
       "      <td>1984</td>\n",
       "    </tr>\n",
       "    <tr>\n",
       "      <th>icl</th>\n",
       "      <td>G03F  100</td>\n",
       "      <td>G03C  300</td>\n",
       "    </tr>\n",
       "    <tr>\n",
       "      <th>icl_class</th>\n",
       "      <td>G03F</td>\n",
       "      <td>G03C</td>\n",
       "    </tr>\n",
       "    <tr>\n",
       "      <th>icl_maingroup</th>\n",
       "      <td>1</td>\n",
       "      <td>3</td>\n",
       "    </tr>\n",
       "    <tr>\n",
       "      <th>iclnum</th>\n",
       "      <td>1</td>\n",
       "      <td>2</td>\n",
       "    </tr>\n",
       "    <tr>\n",
       "      <th>nclass</th>\n",
       "      <td>430</td>\n",
       "      <td>430</td>\n",
       "    </tr>\n",
       "    <tr>\n",
       "      <th>numipc</th>\n",
       "      <td>3</td>\n",
       "      <td>3</td>\n",
       "    </tr>\n",
       "    <tr>\n",
       "      <th>patent</th>\n",
       "      <td>4486518</td>\n",
       "      <td>4486518</td>\n",
       "    </tr>\n",
       "    <tr>\n",
       "      <th>pdpass</th>\n",
       "      <td>1.05181e+07</td>\n",
       "      <td>1.05181e+07</td>\n",
       "    </tr>\n",
       "    <tr>\n",
       "      <th>subcat</th>\n",
       "      <td>19</td>\n",
       "      <td>19</td>\n",
       "    </tr>\n",
       "    <tr>\n",
       "      <th>subclass</th>\n",
       "      <td>5</td>\n",
       "      <td>5</td>\n",
       "    </tr>\n",
       "    <tr>\n",
       "      <th>uspto_assignee</th>\n",
       "      <td>446550</td>\n",
       "      <td>446550</td>\n",
       "    </tr>\n",
       "    <tr>\n",
       "      <th>section</th>\n",
       "      <td>G</td>\n",
       "      <td>G</td>\n",
       "    </tr>\n",
       "  </tbody>\n",
       "</table>\n",
       "</div>"
      ],
      "text/plain": [
       "                     825853       825854\n",
       "appyear                1982         1982\n",
       "cat                       1            1\n",
       "gyear                  1984         1984\n",
       "icl               G03F  100    G03C  300\n",
       "icl_class              G03F         G03C\n",
       "icl_maingroup             1            3\n",
       "iclnum                    1            2\n",
       "nclass                  430          430\n",
       "numipc                    3            3\n",
       "patent              4486518      4486518\n",
       "pdpass          1.05181e+07  1.05181e+07\n",
       "subcat                   19           19\n",
       "subclass                  5            5\n",
       "uspto_assignee       446550       446550\n",
       "section                   G            G"
      ]
     },
     "execution_count": 24,
     "metadata": {},
     "output_type": "execute_result"
    }
   ],
   "source": [
    "\n",
    "pat76_06_ipc_G_section_df_dupless[pat76_06_ipc_G_section_df_dupless.patent==4486518].T"
   ]
  },
  {
   "cell_type": "code",
   "execution_count": 25,
   "metadata": {
    "collapsed": false
   },
   "outputs": [],
   "source": [
    "# find others with exactly the same classes\n",
    "\n",
    "exact_match = df1[(df1['icl_classes'].astype(str).str.contains('G03F')) & (df1['icl_classes'].astype(str).str.contains('G03C'))  ]"
   ]
  },
  {
   "cell_type": "markdown",
   "metadata": {},
   "source": [
    "%%time\n",
    "for k in range(0,len(section_G_icl_classes)):\n",
    "    test_class = section_G_icl_classes[k]\n",
    "    print(test_class)\n",
    "    temp_df = df1[(df1['icl_classes'].astype(str).str.contains('G03F')) & (df1['icl_classes'].astype(str).str.contains('G03C')) & (df1['icl_classes'].astype(str).str.contains(test_class))  ]\n",
    "    print(temp_df.patent)\n",
    "    print('......')\n",
    "print('complete')"
   ]
  },
  {
   "cell_type": "markdown",
   "metadata": {},
   "source": [
    "## Get 'distance' between patents to get measure of x-axis in U-shaped curve"
   ]
  },
  {
   "cell_type": "code",
   "execution_count": 26,
   "metadata": {
    "collapsed": false
   },
   "outputs": [
    {
     "ename": "NameError",
     "evalue": "name 'unique_icl_class' is not defined",
     "output_type": "error",
     "traceback": [
      "\u001b[0;31m---------------------------------------------------------------------------\u001b[0m",
      "\u001b[0;31mNameError\u001b[0m                                 Traceback (most recent call last)",
      "\u001b[0;32m<ipython-input-26-5d78e08ad41a>\u001b[0m in \u001b[0;36m<module>\u001b[0;34m()\u001b[0m\n\u001b[1;32m      1\u001b[0m \u001b[0;31m# create list for unique_icl_class, rather than numpy array\u001b[0m\u001b[0;34m\u001b[0m\u001b[0;34m\u001b[0m\u001b[0m\n\u001b[0;32m----> 2\u001b[0;31m \u001b[0munique_icl_class_list\u001b[0m \u001b[0;34m=\u001b[0m \u001b[0munique_icl_class\u001b[0m\u001b[0;34m.\u001b[0m\u001b[0mtolist\u001b[0m\u001b[0;34m(\u001b[0m\u001b[0;34m)\u001b[0m\u001b[0;34m\u001b[0m\u001b[0m\n\u001b[0m",
      "\u001b[0;31mNameError\u001b[0m: name 'unique_icl_class' is not defined"
     ]
    }
   ],
   "source": [
    "# create list for unique_icl_class, rather than numpy array\n",
    "unique_icl_class = \n",
    "unique_icl_class_list = unique_icl_class.tolist()"
   ]
  },
  {
   "cell_type": "code",
   "execution_count": null,
   "metadata": {
    "collapsed": true
   },
   "outputs": [],
   "source": []
  }
 ],
 "metadata": {
  "kernelspec": {
   "display_name": "Python 3",
   "language": "python",
   "name": "python3"
  },
  "language_info": {
   "codemirror_mode": {
    "name": "ipython",
    "version": 3
   },
   "file_extension": ".py",
   "mimetype": "text/x-python",
   "name": "python",
   "nbconvert_exporter": "python",
   "pygments_lexer": "ipython3",
   "version": "3.4.4"
  }
 },
 "nbformat": 4,
 "nbformat_minor": 0
}
