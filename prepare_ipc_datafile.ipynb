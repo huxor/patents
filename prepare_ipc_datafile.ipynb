{
 "cells": [
  {
   "cell_type": "markdown",
   "metadata": {},
   "source": [
    "## Clean and prepare IPC data file for later use\n",
    "Convert to upper case.\n",
    "\n",
    "Create columns for section and for intermediate level\n",
    "\n",
    "Save to a CSV file"
   ]
  },
  {
   "cell_type": "code",
   "execution_count": 1,
   "metadata": {
    "collapsed": true
   },
   "outputs": [],
   "source": [
    "import pandas as pd\n",
    "import matplotlib.pyplot as plt\n",
    "import numpy as np\n",
    "from scipy.spatial.distance import cosine\n",
    "from matplotlib.colors import LogNorm\n",
    "\n",
    "%matplotlib inline"
   ]
  },
  {
   "cell_type": "code",
   "execution_count": 2,
   "metadata": {
    "collapsed": false
   },
   "outputs": [],
   "source": [
    "# read in main data, with ipc classes etc.\n",
    "pat76_06_ipc_df = pd.read_stata('pat76_06_ipc.dta')\n"
   ]
  },
  {
   "cell_type": "code",
   "execution_count": 3,
   "metadata": {
    "collapsed": true
   },
   "outputs": [],
   "source": [
    "# convert any IPC casses to upper case if they are lower case\n",
    "icl_uc = pat76_06_ipc_df.icl.apply(lambda x: x.upper())\n",
    "icl_class_uc = pat76_06_ipc_df.icl_class.apply(lambda x: x.upper())\n",
    "\n",
    "pat76_06_ipc_df['icl_uc'] = icl_uc\n",
    "pat76_06_ipc_df['icl_class_uc'] = icl_class_uc"
   ]
  },
  {
   "cell_type": "code",
   "execution_count": 4,
   "metadata": {
    "collapsed": false
   },
   "outputs": [],
   "source": [
    "# create new column for the IPC section letter of the classification\n",
    "pat76_06_ipc_df['section'] = pat76_06_ipc_df['icl_class_uc'].astype(str).str[0]\n",
    "\n"
   ]
  },
  {
   "cell_type": "code",
   "execution_count": 5,
   "metadata": {
    "collapsed": true
   },
   "outputs": [],
   "source": [
    "# create data from concating the icl_class (upper case version) and icl_maingroup\n",
    "ipc_inter = pat76_06_ipc_df.icl_class_uc.values + pat76_06_ipc_df.icl_maingroup.values.astype(int).astype(str)"
   ]
  },
  {
   "cell_type": "code",
   "execution_count": 6,
   "metadata": {
    "collapsed": false
   },
   "outputs": [],
   "source": [
    "# add this new intermediate IPC code to the df\n",
    "pat76_06_ipc_df['ipc_inter'] = ipc_inter"
   ]
  },
  {
   "cell_type": "code",
   "execution_count": 7,
   "metadata": {
    "collapsed": false
   },
   "outputs": [
    {
     "name": "stdout",
     "output_type": "stream",
     "text": [
      "4857833\n"
     ]
    },
    {
     "data": {
      "text/plain": [
       "4856181"
      ]
     },
     "execution_count": 7,
     "metadata": {},
     "output_type": "execute_result"
    }
   ],
   "source": [
    "# drop those rows where the section != one of the valid sections (A to H)\n",
    "keep_list = ['A','B','C','D','E','F','G','H']\n",
    "keep_list\n",
    "pat76_06_ipc_df_modified = pat76_06_ipc_df[pat76_06_ipc_df.section.isin(keep_list)]\n",
    "print(len(pat76_06_ipc_df))\n",
    "len(pat76_06_ipc_df_modified)"
   ]
  },
  {
   "cell_type": "code",
   "execution_count": 8,
   "metadata": {
    "collapsed": false
   },
   "outputs": [
    {
     "data": {
      "text/html": [
       "<div>\n",
       "<table border=\"1\" class=\"dataframe\">\n",
       "  <thead>\n",
       "    <tr style=\"text-align: right;\">\n",
       "      <th></th>\n",
       "      <th>0</th>\n",
       "      <th>1</th>\n",
       "      <th>2</th>\n",
       "      <th>3</th>\n",
       "      <th>4</th>\n",
       "    </tr>\n",
       "  </thead>\n",
       "  <tbody>\n",
       "    <tr>\n",
       "      <th>appyear</th>\n",
       "      <td>1974</td>\n",
       "      <td>1974</td>\n",
       "      <td>1975</td>\n",
       "      <td>1975</td>\n",
       "      <td>1974</td>\n",
       "    </tr>\n",
       "    <tr>\n",
       "      <th>cat</th>\n",
       "      <td>6</td>\n",
       "      <td>6</td>\n",
       "      <td>6</td>\n",
       "      <td>6</td>\n",
       "      <td>5</td>\n",
       "    </tr>\n",
       "    <tr>\n",
       "      <th>gyear</th>\n",
       "      <td>1976</td>\n",
       "      <td>1976</td>\n",
       "      <td>1976</td>\n",
       "      <td>1976</td>\n",
       "      <td>1976</td>\n",
       "    </tr>\n",
       "    <tr>\n",
       "      <th>icl</th>\n",
       "      <td>A41D 1900</td>\n",
       "      <td>A47D  701</td>\n",
       "      <td>A47D  702</td>\n",
       "      <td>A47C 2100</td>\n",
       "      <td>B63B  708</td>\n",
       "    </tr>\n",
       "    <tr>\n",
       "      <th>icl_class</th>\n",
       "      <td>A41D</td>\n",
       "      <td>A47D</td>\n",
       "      <td>A47D</td>\n",
       "      <td>A47C</td>\n",
       "      <td>B63B</td>\n",
       "    </tr>\n",
       "    <tr>\n",
       "      <th>icl_maingroup</th>\n",
       "      <td>19</td>\n",
       "      <td>7</td>\n",
       "      <td>7</td>\n",
       "      <td>21</td>\n",
       "      <td>7</td>\n",
       "    </tr>\n",
       "    <tr>\n",
       "      <th>iclnum</th>\n",
       "      <td>1</td>\n",
       "      <td>1</td>\n",
       "      <td>1</td>\n",
       "      <td>2</td>\n",
       "      <td>1</td>\n",
       "    </tr>\n",
       "    <tr>\n",
       "      <th>nclass</th>\n",
       "      <td>2</td>\n",
       "      <td>5</td>\n",
       "      <td>5</td>\n",
       "      <td>5</td>\n",
       "      <td>114</td>\n",
       "    </tr>\n",
       "    <tr>\n",
       "      <th>numipc</th>\n",
       "      <td>1</td>\n",
       "      <td>1</td>\n",
       "      <td>2</td>\n",
       "      <td>2</td>\n",
       "      <td>1</td>\n",
       "    </tr>\n",
       "    <tr>\n",
       "      <th>patent</th>\n",
       "      <td>3930271</td>\n",
       "      <td>3930272</td>\n",
       "      <td>3930273</td>\n",
       "      <td>3930273</td>\n",
       "      <td>3930274</td>\n",
       "    </tr>\n",
       "    <tr>\n",
       "      <th>pdpass</th>\n",
       "      <td>1.00303e+07</td>\n",
       "      <td>1.01569e+07</td>\n",
       "      <td>1.0112e+07</td>\n",
       "      <td>1.0112e+07</td>\n",
       "      <td>NaN</td>\n",
       "    </tr>\n",
       "    <tr>\n",
       "      <th>subcat</th>\n",
       "      <td>63</td>\n",
       "      <td>65</td>\n",
       "      <td>65</td>\n",
       "      <td>65</td>\n",
       "      <td>55</td>\n",
       "    </tr>\n",
       "    <tr>\n",
       "      <th>subclass</th>\n",
       "      <td>161.4</td>\n",
       "      <td>11</td>\n",
       "      <td>430</td>\n",
       "      <td>430</td>\n",
       "      <td>354</td>\n",
       "    </tr>\n",
       "    <tr>\n",
       "      <th>uspto_assignee</th>\n",
       "      <td>251415</td>\n",
       "      <td>246000</td>\n",
       "      <td>10490</td>\n",
       "      <td>10490</td>\n",
       "      <td>0</td>\n",
       "    </tr>\n",
       "    <tr>\n",
       "      <th>icl_uc</th>\n",
       "      <td>A41D 1900</td>\n",
       "      <td>A47D  701</td>\n",
       "      <td>A47D  702</td>\n",
       "      <td>A47C 2100</td>\n",
       "      <td>B63B  708</td>\n",
       "    </tr>\n",
       "    <tr>\n",
       "      <th>icl_class_uc</th>\n",
       "      <td>A41D</td>\n",
       "      <td>A47D</td>\n",
       "      <td>A47D</td>\n",
       "      <td>A47C</td>\n",
       "      <td>B63B</td>\n",
       "    </tr>\n",
       "    <tr>\n",
       "      <th>section</th>\n",
       "      <td>A</td>\n",
       "      <td>A</td>\n",
       "      <td>A</td>\n",
       "      <td>A</td>\n",
       "      <td>B</td>\n",
       "    </tr>\n",
       "    <tr>\n",
       "      <th>ipc_inter</th>\n",
       "      <td>A41D19</td>\n",
       "      <td>A47D7</td>\n",
       "      <td>A47D7</td>\n",
       "      <td>A47C21</td>\n",
       "      <td>B63B7</td>\n",
       "    </tr>\n",
       "  </tbody>\n",
       "</table>\n",
       "</div>"
      ],
      "text/plain": [
       "                          0            1           2           3          4\n",
       "appyear                1974         1974        1975        1975       1974\n",
       "cat                       6            6           6           6          5\n",
       "gyear                  1976         1976        1976        1976       1976\n",
       "icl               A41D 1900    A47D  701   A47D  702   A47C 2100  B63B  708\n",
       "icl_class              A41D         A47D        A47D        A47C       B63B\n",
       "icl_maingroup            19            7           7          21          7\n",
       "iclnum                    1            1           1           2          1\n",
       "nclass                    2            5           5           5        114\n",
       "numipc                    1            1           2           2          1\n",
       "patent              3930271      3930272     3930273     3930273    3930274\n",
       "pdpass          1.00303e+07  1.01569e+07  1.0112e+07  1.0112e+07        NaN\n",
       "subcat                   63           65          65          65         55\n",
       "subclass              161.4           11         430         430        354\n",
       "uspto_assignee       251415       246000       10490       10490          0\n",
       "icl_uc            A41D 1900    A47D  701   A47D  702   A47C 2100  B63B  708\n",
       "icl_class_uc           A41D         A47D        A47D        A47C       B63B\n",
       "section                   A            A           A           A          B\n",
       "ipc_inter            A41D19        A47D7       A47D7      A47C21      B63B7"
      ]
     },
     "execution_count": 8,
     "metadata": {},
     "output_type": "execute_result"
    }
   ],
   "source": [
    "# eyeball check of updated dataframe\n",
    "pat76_06_ipc_df_modified.head().T"
   ]
  },
  {
   "cell_type": "code",
   "execution_count": 9,
   "metadata": {
    "collapsed": false
   },
   "outputs": [
    {
     "name": "stdout",
     "output_type": "stream",
     "text": [
      "CPU times: user 52.6 s, sys: 999 ms, total: 53.6 s\n",
      "Wall time: 54 s\n"
     ]
    }
   ],
   "source": [
    "%%time\n",
    "#  save this edited dataframe\n",
    "pat76_06_ipc_df_modified.to_csv('pat76_06_ipc_df_modified.csv', index=False)"
   ]
  },
  {
   "cell_type": "code",
   "execution_count": 10,
   "metadata": {
    "collapsed": false
   },
   "outputs": [
    {
     "name": "stdout",
     "output_type": "stream",
     "text": [
      "-rw-r--r--  1 ahuxor  staff  606712645 11 Aug 21:24 pat76_06_assg_minus_singular_ipc_inter.csv\r\n",
      "-rw-r--r--  1 ahuxor  staff  108491068  8 Aug 12:02 pat76_06_citesnum_hjtwt_nclaims_patent.csv\r\n",
      "-rw-r--r--  1 ahuxor  staff  510687103 19 Aug 13:56 pat76_06_ipc_df_modified.csv\r\n"
     ]
    }
   ],
   "source": [
    "# check that datafile is saved\n",
    "!ls -l *.csv"
   ]
  },
  {
   "cell_type": "code",
   "execution_count": null,
   "metadata": {
    "collapsed": true
   },
   "outputs": [],
   "source": []
  },
  {
   "cell_type": "code",
   "execution_count": null,
   "metadata": {
    "collapsed": true
   },
   "outputs": [],
   "source": []
  }
 ],
 "metadata": {
  "kernelspec": {
   "display_name": "Python 3",
   "language": "python",
   "name": "python3"
  },
  "language_info": {
   "codemirror_mode": {
    "name": "ipython",
    "version": 3
   },
   "file_extension": ".py",
   "mimetype": "text/x-python",
   "name": "python",
   "nbconvert_exporter": "python",
   "pygments_lexer": "ipython3",
   "version": "3.4.4"
  }
 },
 "nbformat": 4,
 "nbformat_minor": 0
}
