{
 "cells": [
  {
   "cell_type": "markdown",
   "metadata": {},
   "source": [
    "### experiments using IPC classes for originality "
   ]
  },
  {
   "cell_type": "code",
   "execution_count": 1,
   "metadata": {
    "collapsed": false
   },
   "outputs": [],
   "source": [
    "import pandas as pd\n",
    "import matplotlib.pyplot as plt\n",
    "import numpy as np\n",
    "from matplotlib.colors import LogNorm\n",
    "\n",
    "%matplotlib inline\n",
    "%reload_ext line_profiler\n",
    "\n"
   ]
  },
  {
   "cell_type": "code",
   "execution_count": 2,
   "metadata": {
    "collapsed": false
   },
   "outputs": [
    {
     "name": "stdout",
     "output_type": "stream",
     "text": [
      "CPU times: user 1.08 s, sys: 765 ms, total: 1.84 s\n",
      "Wall time: 2.2 s\n"
     ]
    }
   ],
   "source": [
    "%%time\n",
    "# read in main data file in the Strata9 .dta format\n",
    "cite76_06_df = pd.read_stata('cite76_06.dta')\n"
   ]
  },
  {
   "cell_type": "code",
   "execution_count": 3,
   "metadata": {
    "collapsed": false
   },
   "outputs": [
    {
     "data": {
      "text/html": [
       "<div>\n",
       "<table border=\"1\" class=\"dataframe\">\n",
       "  <thead>\n",
       "    <tr style=\"text-align: right;\">\n",
       "      <th></th>\n",
       "      <th>citing</th>\n",
       "      <th>cited</th>\n",
       "      <th>ncites7606</th>\n",
       "    </tr>\n",
       "  </thead>\n",
       "  <tbody>\n",
       "    <tr>\n",
       "      <th>0</th>\n",
       "      <td>5135226</td>\n",
       "      <td>3930271</td>\n",
       "      <td>6</td>\n",
       "    </tr>\n",
       "    <tr>\n",
       "      <th>1</th>\n",
       "      <td>5592695</td>\n",
       "      <td>3930271</td>\n",
       "      <td>6</td>\n",
       "    </tr>\n",
       "    <tr>\n",
       "      <th>2</th>\n",
       "      <td>5621918</td>\n",
       "      <td>3930271</td>\n",
       "      <td>6</td>\n",
       "    </tr>\n",
       "    <tr>\n",
       "      <th>3</th>\n",
       "      <td>5624296</td>\n",
       "      <td>3930271</td>\n",
       "      <td>6</td>\n",
       "    </tr>\n",
       "    <tr>\n",
       "      <th>4</th>\n",
       "      <td>5675839</td>\n",
       "      <td>3930271</td>\n",
       "      <td>6</td>\n",
       "    </tr>\n",
       "  </tbody>\n",
       "</table>\n",
       "</div>"
      ],
      "text/plain": [
       "    citing    cited  ncites7606\n",
       "0  5135226  3930271           6\n",
       "1  5592695  3930271           6\n",
       "2  5621918  3930271           6\n",
       "3  5624296  3930271           6\n",
       "4  5675839  3930271           6"
      ]
     },
     "execution_count": 3,
     "metadata": {},
     "output_type": "execute_result"
    }
   ],
   "source": [
    "cite76_06_df.head()"
   ]
  },
  {
   "cell_type": "code",
   "execution_count": 4,
   "metadata": {
    "collapsed": true
   },
   "outputs": [],
   "source": [
    "# get the IPC classes in these backward citations\n",
    "# Load  data file with inter_ etc\n",
    "\n",
    "pat76_06_ipc_df = pd.read_csv('pat76_06_ipc_df_modified.csv')"
   ]
  },
  {
   "cell_type": "code",
   "execution_count": 5,
   "metadata": {
    "collapsed": false
   },
   "outputs": [
    {
     "data": {
      "text/plain": [
       "4692752"
      ]
     },
     "execution_count": 5,
     "metadata": {},
     "output_type": "execute_result"
    }
   ],
   "source": [
    "# lets take a row for an example\n",
    "n = 5000000\n",
    "focal_patent = cite76_06_df[n:(n+1)].citing.values[0]\n",
    "focal_patent"
   ]
  },
  {
   "cell_type": "code",
   "execution_count": 6,
   "metadata": {
    "collapsed": false
   },
   "outputs": [
    {
     "name": "stdout",
     "output_type": "stream",
     "text": [
      "          citing    cited  ncites7606\n",
      "697442   4692752  4010458           6\n",
      "1396130  4692752  4087706          17\n",
      "3542953  4692752  4319229          20\n",
      "4555290  4692752  4422066          10\n",
      "5000000  4692752  4465998           7\n",
      "5496836  4692752  4514722          11\n",
      "6244677  4692752  4586028           5\n"
     ]
    },
    {
     "data": {
      "text/plain": [
       "[4010458, 4087706, 4319229, 4422066, 4465998, 4514722, 4586028]"
      ]
     },
     "execution_count": 6,
     "metadata": {},
     "output_type": "execute_result"
    }
   ],
   "source": [
    "# get all backward citations for this focal patent\n",
    "example_focal_patent = cite76_06_df[cite76_06_df.citing == focal_patent]\n",
    "print(example_focal_patent)\n",
    "# get list of backward citations\n",
    "backward_citations = example_focal_patent.cited.values.tolist()\n",
    "backward_citations"
   ]
  },
  {
   "cell_type": "code",
   "execution_count": 7,
   "metadata": {
    "collapsed": false
   },
   "outputs": [
    {
     "data": {
      "text/html": [
       "<div>\n",
       "<table border=\"1\" class=\"dataframe\">\n",
       "  <thead>\n",
       "    <tr style=\"text-align: right;\">\n",
       "      <th></th>\n",
       "      <th>4856176</th>\n",
       "      <th>4856177</th>\n",
       "      <th>4856178</th>\n",
       "      <th>4856179</th>\n",
       "      <th>4856180</th>\n",
       "    </tr>\n",
       "  </thead>\n",
       "  <tbody>\n",
       "    <tr>\n",
       "      <th>appyear</th>\n",
       "      <td>2000</td>\n",
       "      <td>2000</td>\n",
       "      <td>2000</td>\n",
       "      <td>2000</td>\n",
       "      <td>2000</td>\n",
       "    </tr>\n",
       "    <tr>\n",
       "      <th>cat</th>\n",
       "      <td>2</td>\n",
       "      <td>2</td>\n",
       "      <td>2</td>\n",
       "      <td>2</td>\n",
       "      <td>2</td>\n",
       "    </tr>\n",
       "    <tr>\n",
       "      <th>gyear</th>\n",
       "      <td>2006</td>\n",
       "      <td>2006</td>\n",
       "      <td>2006</td>\n",
       "      <td>2006</td>\n",
       "      <td>2006</td>\n",
       "    </tr>\n",
       "    <tr>\n",
       "      <th>icl</th>\n",
       "      <td>G06F 17/30</td>\n",
       "      <td>G06F 15/16</td>\n",
       "      <td>G06K 9/00</td>\n",
       "      <td>H04L 9/00</td>\n",
       "      <td>H04K 1/00</td>\n",
       "    </tr>\n",
       "    <tr>\n",
       "      <th>icl_class</th>\n",
       "      <td>G06F</td>\n",
       "      <td>G06F</td>\n",
       "      <td>G06K</td>\n",
       "      <td>H04L</td>\n",
       "      <td>H04K</td>\n",
       "    </tr>\n",
       "    <tr>\n",
       "      <th>icl_maingroup</th>\n",
       "      <td>17</td>\n",
       "      <td>15</td>\n",
       "      <td>9</td>\n",
       "      <td>9</td>\n",
       "      <td>1</td>\n",
       "    </tr>\n",
       "    <tr>\n",
       "      <th>iclnum</th>\n",
       "      <td>2</td>\n",
       "      <td>3</td>\n",
       "      <td>4</td>\n",
       "      <td>5</td>\n",
       "      <td>6</td>\n",
       "    </tr>\n",
       "    <tr>\n",
       "      <th>nclass</th>\n",
       "      <td>726</td>\n",
       "      <td>726</td>\n",
       "      <td>726</td>\n",
       "      <td>726</td>\n",
       "      <td>726</td>\n",
       "    </tr>\n",
       "    <tr>\n",
       "      <th>numipc</th>\n",
       "      <td>6</td>\n",
       "      <td>6</td>\n",
       "      <td>6</td>\n",
       "      <td>6</td>\n",
       "      <td>6</td>\n",
       "    </tr>\n",
       "    <tr>\n",
       "      <th>patent</th>\n",
       "      <td>7155745</td>\n",
       "      <td>7155745</td>\n",
       "      <td>7155745</td>\n",
       "      <td>7155745</td>\n",
       "      <td>7155745</td>\n",
       "    </tr>\n",
       "    <tr>\n",
       "      <th>pdpass</th>\n",
       "      <td>1.05552e+07</td>\n",
       "      <td>1.05552e+07</td>\n",
       "      <td>1.05552e+07</td>\n",
       "      <td>1.05552e+07</td>\n",
       "      <td>1.05552e+07</td>\n",
       "    </tr>\n",
       "    <tr>\n",
       "      <th>subcat</th>\n",
       "      <td>25</td>\n",
       "      <td>25</td>\n",
       "      <td>25</td>\n",
       "      <td>25</td>\n",
       "      <td>25</td>\n",
       "    </tr>\n",
       "    <tr>\n",
       "      <th>subclass</th>\n",
       "      <td>27</td>\n",
       "      <td>27</td>\n",
       "      <td>27</td>\n",
       "      <td>27</td>\n",
       "      <td>27</td>\n",
       "    </tr>\n",
       "    <tr>\n",
       "      <th>uspto_assignee</th>\n",
       "      <td>NaN</td>\n",
       "      <td>NaN</td>\n",
       "      <td>NaN</td>\n",
       "      <td>NaN</td>\n",
       "      <td>NaN</td>\n",
       "    </tr>\n",
       "    <tr>\n",
       "      <th>icl_uc</th>\n",
       "      <td>G06F 17/30</td>\n",
       "      <td>G06F 15/16</td>\n",
       "      <td>G06K 9/00</td>\n",
       "      <td>H04L 9/00</td>\n",
       "      <td>H04K 1/00</td>\n",
       "    </tr>\n",
       "    <tr>\n",
       "      <th>icl_class_uc</th>\n",
       "      <td>G06F</td>\n",
       "      <td>G06F</td>\n",
       "      <td>G06K</td>\n",
       "      <td>H04L</td>\n",
       "      <td>H04K</td>\n",
       "    </tr>\n",
       "    <tr>\n",
       "      <th>section</th>\n",
       "      <td>G</td>\n",
       "      <td>G</td>\n",
       "      <td>G</td>\n",
       "      <td>H</td>\n",
       "      <td>H</td>\n",
       "    </tr>\n",
       "    <tr>\n",
       "      <th>ipc_inter</th>\n",
       "      <td>G06F17</td>\n",
       "      <td>G06F15</td>\n",
       "      <td>G06K9</td>\n",
       "      <td>H04L9</td>\n",
       "      <td>H04K1</td>\n",
       "    </tr>\n",
       "  </tbody>\n",
       "</table>\n",
       "</div>"
      ],
      "text/plain": [
       "                    4856176      4856177      4856178      4856179  \\\n",
       "appyear                2000         2000         2000         2000   \n",
       "cat                       2            2            2            2   \n",
       "gyear                  2006         2006         2006         2006   \n",
       "icl              G06F 17/30   G06F 15/16    G06K 9/00    H04L 9/00   \n",
       "icl_class              G06F         G06F         G06K         H04L   \n",
       "icl_maingroup            17           15            9            9   \n",
       "iclnum                    2            3            4            5   \n",
       "nclass                  726          726          726          726   \n",
       "numipc                    6            6            6            6   \n",
       "patent              7155745      7155745      7155745      7155745   \n",
       "pdpass          1.05552e+07  1.05552e+07  1.05552e+07  1.05552e+07   \n",
       "subcat                   25           25           25           25   \n",
       "subclass                 27           27           27           27   \n",
       "uspto_assignee          NaN          NaN          NaN          NaN   \n",
       "icl_uc           G06F 17/30   G06F 15/16    G06K 9/00    H04L 9/00   \n",
       "icl_class_uc           G06F         G06F         G06K         H04L   \n",
       "section                   G            G            G            H   \n",
       "ipc_inter            G06F17       G06F15        G06K9        H04L9   \n",
       "\n",
       "                    4856180  \n",
       "appyear                2000  \n",
       "cat                       2  \n",
       "gyear                  2006  \n",
       "icl               H04K 1/00  \n",
       "icl_class              H04K  \n",
       "icl_maingroup             1  \n",
       "iclnum                    6  \n",
       "nclass                  726  \n",
       "numipc                    6  \n",
       "patent              7155745  \n",
       "pdpass          1.05552e+07  \n",
       "subcat                   25  \n",
       "subclass                 27  \n",
       "uspto_assignee          NaN  \n",
       "icl_uc            H04K 1/00  \n",
       "icl_class_uc           H04K  \n",
       "section                   H  \n",
       "ipc_inter             H04K1  "
      ]
     },
     "execution_count": 7,
     "metadata": {},
     "output_type": "execute_result"
    }
   ],
   "source": [
    "pat76_06_ipc_df.tail().T"
   ]
  },
  {
   "cell_type": "code",
   "execution_count": 8,
   "metadata": {
    "collapsed": false
   },
   "outputs": [
    {
     "name": "stdout",
     "output_type": "stream",
     "text": [
      "4010458\n",
      "['G08B']\n",
      "4087706\n",
      "['H01H', 'G08B', 'H03K']\n",
      "4319229\n",
      "['G08B']\n",
      "4422066\n",
      "['H01N', 'G08B']\n",
      "4465998\n",
      "['G08B']\n",
      "4514722\n",
      "['G08B']\n",
      "4586028\n",
      "['G08B']\n"
     ]
    }
   ],
   "source": [
    "#  now using only the four character IPC4\n",
    "blob = []\n",
    "for citation in backward_citations:\n",
    "    print(citation)\n",
    "    temp_class = list(set(pat76_06_ipc_df[pat76_06_ipc_df.patent==citation].icl_class_uc.values))\n",
    "    print(temp_class)\n",
    "    blob.append(temp_class)"
   ]
  },
  {
   "cell_type": "code",
   "execution_count": 9,
   "metadata": {
    "collapsed": false
   },
   "outputs": [
    {
     "data": {
      "text/plain": [
       "[['G08B'],\n",
       " ['H01H', 'G08B', 'H03K'],\n",
       " ['G08B'],\n",
       " ['H01N', 'G08B'],\n",
       " ['G08B'],\n",
       " ['G08B'],\n",
       " ['G08B']]"
      ]
     },
     "execution_count": 9,
     "metadata": {},
     "output_type": "execute_result"
    }
   ],
   "source": [
    "blob"
   ]
  },
  {
   "cell_type": "code",
   "execution_count": 10,
   "metadata": {
    "collapsed": false
   },
   "outputs": [
    {
     "data": {
      "text/plain": [
       "array(['G08B'], dtype=object)"
      ]
     },
     "execution_count": 10,
     "metadata": {},
     "output_type": "execute_result"
    }
   ],
   "source": [
    "# get sections of focal patent, for comparison\n",
    "pat76_06_ipc_df[pat76_06_ipc_df.patent==focal_patent].icl_class_uc.values"
   ]
  },
  {
   "cell_type": "code",
   "execution_count": 11,
   "metadata": {
    "collapsed": false
   },
   "outputs": [
    {
     "name": "stdout",
     "output_type": "stream",
     "text": [
      "number backward citations =  7\n",
      "flat_list =  ['G08B', 'H01H', 'G08B', 'H03K', 'G08B', 'H01N', 'G08B', 'G08B', 'G08B', 'G08B']\n",
      "unique_elements =  ['H01H', 'H01N', 'G08B', 'H03K']\n",
      "item =  1\n",
      "zzz =  0.02040816326530612\n",
      "sum =  0.02040816326530612\n",
      "item =  1\n",
      "zzz =  0.02040816326530612\n",
      "sum =  0.04081632653061224\n",
      "item =  7\n",
      "zzz =  1.0\n",
      "sum =  1.0408163265306123\n",
      "item =  1\n",
      "zzz =  0.02040816326530612\n",
      "sum =  1.0612244897959184\n",
      "unoriginality =  1.0612244897959184\n"
     ]
    },
    {
     "data": {
      "text/plain": [
       "-0.061224489795918435"
      ]
     },
     "execution_count": 11,
     "metadata": {},
     "output_type": "execute_result"
    }
   ],
   "source": [
    "## calculate originality of this patent\n",
    "number_backward_citations = len(blob)\n",
    "print('number backward citations = ',number_backward_citations)\n",
    "# create single list by flattening through numpy concat\n",
    "flat_list = list(np.concatenate(blob))\n",
    "print('flat_list = ',flat_list)\n",
    "# get number of each unique element in this list\n",
    "unique_elements = list(set(flat_list))\n",
    "print('unique_elements = ',unique_elements)\n",
    "zz = [(flat_list.count(i)) for i in set(flat_list) ]\n",
    "\n",
    "# do the sume of squares for unoriginality\n",
    "sum = 0\n",
    "for item in zz:\n",
    "    print('item = ',item)\n",
    "    zzz = pow((item/number_backward_citations),2)\n",
    "    print('zzz = ',zzz)\n",
    "    sum = sum+zzz\n",
    "    print('sum = ',sum)\n",
    "unoriginality = sum\n",
    "print('unoriginality = ',unoriginality)\n",
    "originality_focal_patent = 1 - unoriginality\n",
    "originality_focal_patent"
   ]
  },
  {
   "cell_type": "code",
   "execution_count": 12,
   "metadata": {
    "collapsed": false
   },
   "outputs": [],
   "source": [
    "## calculate originality of this patent, made into a function\n",
    "def get_class_originality(focal_patent):\n",
    "    example_focal_patent = cite76_06_df[cite76_06_df.citing == focal_patent]\n",
    "    # print(example_focal_patent)\n",
    "    # get list of backward citations\n",
    "    backward_citations = example_focal_patent.cited.values.tolist()\n",
    "    backward_citations\n",
    "    blob = []\n",
    "    for citation in backward_citations:\n",
    "        #print(citation)\n",
    "        temp_class = list(set(pat76_06_ipc_df[pat76_06_ipc_df.patent==citation].section.values))\n",
    "        #print(temp_class)\n",
    "        blob.append(temp_class)\n",
    "    \n",
    "    number_backward_citations = len(blob)\n",
    "    #print('number backward citations = ',number_backward_citations)\n",
    "    # create single list by flattening through numpy concat\n",
    "    flat_list = list(np.concatenate(blob))\n",
    "    #print('flat_list = ',flat_list)\n",
    "    # get number of each unique element in this list\n",
    "    unique_elements = list(set(flat_list))\n",
    "    #print('unique_elements = ',unique_elements)\n",
    "    zz = [(flat_list.count(i)) for i in set(flat_list) ]\n",
    "\n",
    "    # do the sum of squares for unoriginality\n",
    "    sum = 0\n",
    "    for item in zz:\n",
    "        #print('item = ',item)\n",
    "        zzz = pow((item/number_backward_citations),2)\n",
    "        #print('zzz = ',zzz)\n",
    "        sum = sum+zzz\n",
    "        #print('sum = ',sum)\n",
    "    unoriginality = sum\n",
    "    #print('unoriginality = ',unoriginality)\n",
    "    originality_focal_patent = 1 - unoriginality\n",
    "    return(originality_focal_patent)"
   ]
  },
  {
   "cell_type": "code",
   "execution_count": 13,
   "metadata": {
    "collapsed": false
   },
   "outputs": [],
   "source": [
    "## calculate sctions in this patent,  a function\n",
    "def get_class_count(focal_patent):\n",
    "    example_focal_patent = cite76_06_df[cite76_06_df.citing == focal_patent]\n",
    "    # print(example_focal_patent)\n",
    "    # get list of backward citations\n",
    "    backward_citations = example_focal_patent.cited.values.tolist()\n",
    "    accumulator = []\n",
    "    for citation in backward_citations:\n",
    "        #print(citation)\n",
    "        temp_classes = list(set(pat76_06_ipc_df[pat76_06_ipc_df.patent==citation].icl_class_uc.values))\n",
    "        #print(temp_class)\n",
    "        accumulator.append(temp_classes)\n",
    "    \n",
    "    number_backward_citations = len(accumulator)\n",
    "    #print('number backward citations = ',number_backward_citations)\n",
    "    # create single list by flattening through numpy concat\n",
    "    flat_list = list(np.concatenate(accumulator))\n",
    "    #print('flat_list = ',flat_list)\n",
    "    # get number of each unique element in this list\n",
    "    num_unique_elements = len(set(flat_list))\n",
    "    #print('unique_elements = ',unique_elements)\n",
    "    return(num_unique_elements)"
   ]
  },
  {
   "cell_type": "code",
   "execution_count": 15,
   "metadata": {
    "collapsed": false
   },
   "outputs": [
    {
     "name": "stderr",
     "output_type": "stream",
     "text": [
      "/Users/ahuxor/anaconda/lib/python3.4/site-packages/line_profiler.py:294: UserWarning: Could not extract a code object for the object 8\n",
      "  profile = LineProfiler(*funcs)\n"
     ]
    },
    {
     "data": {
      "text/plain": [
       "8"
      ]
     },
     "execution_count": 15,
     "metadata": {},
     "output_type": "execute_result"
    }
   ],
   "source": [
    "j=7155745\n",
    "%lprun -f get_class_count(j) xx= get_class_count(j)\n",
    "xx= get_class_count(j)\n",
    "xx"
   ]
  },
  {
   "cell_type": "code",
   "execution_count": 17,
   "metadata": {
    "collapsed": false
   },
   "outputs": [
    {
     "data": {
      "text/plain": [
       "8"
      ]
     },
     "execution_count": 17,
     "metadata": {},
     "output_type": "execute_result"
    }
   ],
   "source": [
    "get_class_count(7155745)"
   ]
  },
  {
   "cell_type": "code",
   "execution_count": 18,
   "metadata": {
    "collapsed": true
   },
   "outputs": [],
   "source": [
    "pat76_06_assg_df = pd.read_stata('pat76_06_assg.dta')\n"
   ]
  },
  {
   "cell_type": "code",
   "execution_count": 19,
   "metadata": {
    "collapsed": false
   },
   "outputs": [
    {
     "data": {
      "text/html": [
       "<div>\n",
       "<table border=\"1\" class=\"dataframe\">\n",
       "  <thead>\n",
       "    <tr style=\"text-align: right;\">\n",
       "      <th></th>\n",
       "      <th>0</th>\n",
       "      <th>1</th>\n",
       "      <th>2</th>\n",
       "      <th>3</th>\n",
       "      <th>4</th>\n",
       "    </tr>\n",
       "  </thead>\n",
       "  <tbody>\n",
       "    <tr>\n",
       "      <th>allcites</th>\n",
       "      <td>6</td>\n",
       "      <td>0</td>\n",
       "      <td>20</td>\n",
       "      <td>4</td>\n",
       "      <td>1</td>\n",
       "    </tr>\n",
       "    <tr>\n",
       "      <th>appyear</th>\n",
       "      <td>1974</td>\n",
       "      <td>1974</td>\n",
       "      <td>1975</td>\n",
       "      <td>1974</td>\n",
       "      <td>1975</td>\n",
       "    </tr>\n",
       "    <tr>\n",
       "      <th>asscode</th>\n",
       "      <td>2</td>\n",
       "      <td>2</td>\n",
       "      <td>2</td>\n",
       "      <td>1</td>\n",
       "      <td>1</td>\n",
       "    </tr>\n",
       "    <tr>\n",
       "      <th>assgnum</th>\n",
       "      <td>1</td>\n",
       "      <td>1</td>\n",
       "      <td>1</td>\n",
       "      <td>NaN</td>\n",
       "      <td>NaN</td>\n",
       "    </tr>\n",
       "    <tr>\n",
       "      <th>cat</th>\n",
       "      <td>6</td>\n",
       "      <td>6</td>\n",
       "      <td>6</td>\n",
       "      <td>5</td>\n",
       "      <td>6</td>\n",
       "    </tr>\n",
       "    <tr>\n",
       "      <th>cat_ocl</th>\n",
       "      <td>6</td>\n",
       "      <td>6</td>\n",
       "      <td>6</td>\n",
       "      <td>NaN</td>\n",
       "      <td>6</td>\n",
       "    </tr>\n",
       "    <tr>\n",
       "      <th>cclass</th>\n",
       "      <td>2/161.4</td>\n",
       "      <td>5/11</td>\n",
       "      <td>5/430</td>\n",
       "      <td>114/354</td>\n",
       "      <td>12/142S</td>\n",
       "    </tr>\n",
       "    <tr>\n",
       "      <th>country</th>\n",
       "      <td>US</td>\n",
       "      <td>US</td>\n",
       "      <td>US</td>\n",
       "      <td></td>\n",
       "      <td></td>\n",
       "    </tr>\n",
       "    <tr>\n",
       "      <th>ddate</th>\n",
       "      <td>NaT</td>\n",
       "      <td>NaT</td>\n",
       "      <td>NaT</td>\n",
       "      <td>NaT</td>\n",
       "      <td>NaT</td>\n",
       "    </tr>\n",
       "    <tr>\n",
       "      <th>gday</th>\n",
       "      <td>6</td>\n",
       "      <td>6</td>\n",
       "      <td>6</td>\n",
       "      <td>6</td>\n",
       "      <td>6</td>\n",
       "    </tr>\n",
       "    <tr>\n",
       "      <th>gmonth</th>\n",
       "      <td>1</td>\n",
       "      <td>1</td>\n",
       "      <td>1</td>\n",
       "      <td>1</td>\n",
       "      <td>1</td>\n",
       "    </tr>\n",
       "    <tr>\n",
       "      <th>gyear</th>\n",
       "      <td>1976</td>\n",
       "      <td>1976</td>\n",
       "      <td>1976</td>\n",
       "      <td>1976</td>\n",
       "      <td>1976</td>\n",
       "    </tr>\n",
       "    <tr>\n",
       "      <th>hjtwt</th>\n",
       "      <td>1</td>\n",
       "      <td>1</td>\n",
       "      <td>1</td>\n",
       "      <td>1</td>\n",
       "      <td>1</td>\n",
       "    </tr>\n",
       "    <tr>\n",
       "      <th>icl</th>\n",
       "      <td>A41D 1900</td>\n",
       "      <td>A47D  701</td>\n",
       "      <td>A47D  702</td>\n",
       "      <td>B63B  708</td>\n",
       "      <td>A43D  900</td>\n",
       "    </tr>\n",
       "    <tr>\n",
       "      <th>icl_class</th>\n",
       "      <td>A41D</td>\n",
       "      <td>A47D</td>\n",
       "      <td>A47D</td>\n",
       "      <td>B63B</td>\n",
       "      <td>A43D</td>\n",
       "    </tr>\n",
       "    <tr>\n",
       "      <th>icl_maingroup</th>\n",
       "      <td>19</td>\n",
       "      <td>7</td>\n",
       "      <td>7</td>\n",
       "      <td>7</td>\n",
       "      <td>9</td>\n",
       "    </tr>\n",
       "    <tr>\n",
       "      <th>iclnum</th>\n",
       "      <td>1</td>\n",
       "      <td>1</td>\n",
       "      <td>1</td>\n",
       "      <td>1</td>\n",
       "      <td>1</td>\n",
       "    </tr>\n",
       "    <tr>\n",
       "      <th>nclaims</th>\n",
       "      <td>4</td>\n",
       "      <td>3</td>\n",
       "      <td>24</td>\n",
       "      <td>7</td>\n",
       "      <td>9</td>\n",
       "    </tr>\n",
       "    <tr>\n",
       "      <th>nclass</th>\n",
       "      <td>2</td>\n",
       "      <td>5</td>\n",
       "      <td>5</td>\n",
       "      <td>114</td>\n",
       "      <td>12</td>\n",
       "    </tr>\n",
       "    <tr>\n",
       "      <th>nclass_ocl</th>\n",
       "      <td>2</td>\n",
       "      <td>5</td>\n",
       "      <td>5</td>\n",
       "      <td>9</td>\n",
       "      <td>12</td>\n",
       "    </tr>\n",
       "    <tr>\n",
       "      <th>patent</th>\n",
       "      <td>3930271</td>\n",
       "      <td>3930272</td>\n",
       "      <td>3930273</td>\n",
       "      <td>3930274</td>\n",
       "      <td>3930275</td>\n",
       "    </tr>\n",
       "    <tr>\n",
       "      <th>pdpass</th>\n",
       "      <td>1.00303e+07</td>\n",
       "      <td>1.01569e+07</td>\n",
       "      <td>1.0112e+07</td>\n",
       "      <td>NaN</td>\n",
       "      <td>NaN</td>\n",
       "    </tr>\n",
       "    <tr>\n",
       "      <th>state</th>\n",
       "      <td>IL</td>\n",
       "      <td>PA</td>\n",
       "      <td>MO</td>\n",
       "      <td>CA</td>\n",
       "      <td>NJ</td>\n",
       "    </tr>\n",
       "    <tr>\n",
       "      <th>status</th>\n",
       "      <td></td>\n",
       "      <td></td>\n",
       "      <td></td>\n",
       "      <td></td>\n",
       "      <td></td>\n",
       "    </tr>\n",
       "    <tr>\n",
       "      <th>subcat</th>\n",
       "      <td>63</td>\n",
       "      <td>65</td>\n",
       "      <td>65</td>\n",
       "      <td>55</td>\n",
       "      <td>63</td>\n",
       "    </tr>\n",
       "    <tr>\n",
       "      <th>subcat_ocl</th>\n",
       "      <td>63</td>\n",
       "      <td>65</td>\n",
       "      <td>65</td>\n",
       "      <td>NaN</td>\n",
       "      <td>63</td>\n",
       "    </tr>\n",
       "    <tr>\n",
       "      <th>subclass</th>\n",
       "      <td>161.4</td>\n",
       "      <td>11</td>\n",
       "      <td>430</td>\n",
       "      <td>354</td>\n",
       "      <td>NaN</td>\n",
       "    </tr>\n",
       "    <tr>\n",
       "      <th>subclass1</th>\n",
       "      <td>161.4</td>\n",
       "      <td>11</td>\n",
       "      <td>430</td>\n",
       "      <td>354</td>\n",
       "      <td>142S</td>\n",
       "    </tr>\n",
       "    <tr>\n",
       "      <th>subclass1_ocl</th>\n",
       "      <td>161</td>\n",
       "      <td>11</td>\n",
       "      <td>331</td>\n",
       "      <td>2</td>\n",
       "      <td>142</td>\n",
       "    </tr>\n",
       "    <tr>\n",
       "      <th>subclass_ocl</th>\n",
       "      <td>161</td>\n",
       "      <td>11</td>\n",
       "      <td>331</td>\n",
       "      <td>2</td>\n",
       "      <td>142</td>\n",
       "    </tr>\n",
       "    <tr>\n",
       "      <th>term_extension</th>\n",
       "      <td>0</td>\n",
       "      <td>0</td>\n",
       "      <td>0</td>\n",
       "      <td>0</td>\n",
       "      <td>0</td>\n",
       "    </tr>\n",
       "    <tr>\n",
       "      <th>uspto_assignee</th>\n",
       "      <td>251415</td>\n",
       "      <td>246000</td>\n",
       "      <td>10490</td>\n",
       "      <td>0</td>\n",
       "      <td>0</td>\n",
       "    </tr>\n",
       "  </tbody>\n",
       "</table>\n",
       "</div>"
      ],
      "text/plain": [
       "                          0            1           2          3          4\n",
       "allcites                  6            0          20          4          1\n",
       "appyear                1974         1974        1975       1974       1975\n",
       "asscode                   2            2           2          1          1\n",
       "assgnum                   1            1           1        NaN        NaN\n",
       "cat                       6            6           6          5          6\n",
       "cat_ocl                   6            6           6        NaN          6\n",
       "cclass              2/161.4         5/11       5/430    114/354    12/142S\n",
       "country                  US           US          US                      \n",
       "ddate                   NaT          NaT         NaT        NaT        NaT\n",
       "gday                      6            6           6          6          6\n",
       "gmonth                    1            1           1          1          1\n",
       "gyear                  1976         1976        1976       1976       1976\n",
       "hjtwt                     1            1           1          1          1\n",
       "icl               A41D 1900    A47D  701   A47D  702  B63B  708  A43D  900\n",
       "icl_class              A41D         A47D        A47D       B63B       A43D\n",
       "icl_maingroup            19            7           7          7          9\n",
       "iclnum                    1            1           1          1          1\n",
       "nclaims                   4            3          24          7          9\n",
       "nclass                    2            5           5        114         12\n",
       "nclass_ocl                2            5           5          9         12\n",
       "patent              3930271      3930272     3930273    3930274    3930275\n",
       "pdpass          1.00303e+07  1.01569e+07  1.0112e+07        NaN        NaN\n",
       "state                    IL           PA          MO         CA         NJ\n",
       "status                                                                    \n",
       "subcat                   63           65          65         55         63\n",
       "subcat_ocl               63           65          65        NaN         63\n",
       "subclass              161.4           11         430        354        NaN\n",
       "subclass1             161.4           11         430        354       142S\n",
       "subclass1_ocl           161           11         331          2        142\n",
       "subclass_ocl            161           11         331          2        142\n",
       "term_extension            0            0           0          0          0\n",
       "uspto_assignee       251415       246000       10490          0          0"
      ]
     },
     "execution_count": 19,
     "metadata": {},
     "output_type": "execute_result"
    }
   ],
   "source": [
    "pat76_06_assg_df.head().T"
   ]
  },
  {
   "cell_type": "code",
   "execution_count": 113,
   "metadata": {
    "collapsed": false
   },
   "outputs": [
    {
     "data": {
      "text/html": [
       "<div>\n",
       "<table border=\"1\" class=\"dataframe\">\n",
       "  <thead>\n",
       "    <tr style=\"text-align: right;\">\n",
       "      <th></th>\n",
       "      <th>0</th>\n",
       "      <th>1</th>\n",
       "      <th>2</th>\n",
       "      <th>3</th>\n",
       "      <th>4</th>\n",
       "    </tr>\n",
       "  </thead>\n",
       "  <tbody>\n",
       "    <tr>\n",
       "      <th>citing</th>\n",
       "      <td>5135226</td>\n",
       "      <td>5592695</td>\n",
       "      <td>5621918</td>\n",
       "      <td>5624296</td>\n",
       "      <td>5675839</td>\n",
       "    </tr>\n",
       "    <tr>\n",
       "      <th>cited</th>\n",
       "      <td>3930271</td>\n",
       "      <td>3930271</td>\n",
       "      <td>3930271</td>\n",
       "      <td>3930271</td>\n",
       "      <td>3930271</td>\n",
       "    </tr>\n",
       "    <tr>\n",
       "      <th>ncites7606</th>\n",
       "      <td>6</td>\n",
       "      <td>6</td>\n",
       "      <td>6</td>\n",
       "      <td>6</td>\n",
       "      <td>6</td>\n",
       "    </tr>\n",
       "  </tbody>\n",
       "</table>\n",
       "</div>"
      ],
      "text/plain": [
       "                  0        1        2        3        4\n",
       "citing      5135226  5592695  5621918  5624296  5675839\n",
       "cited       3930271  3930271  3930271  3930271  3930271\n",
       "ncites7606        6        6        6        6        6"
      ]
     },
     "execution_count": 113,
     "metadata": {},
     "output_type": "execute_result"
    }
   ],
   "source": [
    "cite76_06_df.head().T"
   ]
  },
  {
   "cell_type": "code",
   "execution_count": 119,
   "metadata": {
    "collapsed": false
   },
   "outputs": [
    {
     "data": {
      "text/plain": [
       "16000"
      ]
     },
     "execution_count": 119,
     "metadata": {},
     "output_type": "execute_result"
    }
   ],
   "source": [
    "sample_patents = cite76_06_df[1000000:1016000].citing.values.tolist()\n",
    "len(sample_patents)"
   ]
  },
  {
   "cell_type": "code",
   "execution_count": 120,
   "metadata": {
    "collapsed": false
   },
   "outputs": [
    {
     "data": {
      "text/plain": [
       "23650891"
      ]
     },
     "execution_count": 120,
     "metadata": {},
     "output_type": "execute_result"
    }
   ],
   "source": [
    "len(cite76_06_df)"
   ]
  },
  {
   "cell_type": "code",
   "execution_count": 121,
   "metadata": {
    "collapsed": false
   },
   "outputs": [
    {
     "ename": "IndexError",
     "evalue": "index 0 is out of bounds for axis 0 with size 0",
     "output_type": "error",
     "traceback": [
      "\u001b[0;31m---------------------------------------------------------------------------\u001b[0m",
      "\u001b[0;31mIndexError\u001b[0m                                Traceback (most recent call last)",
      "\u001b[0;32m<ipython-input-121-a8ebc70766bc>\u001b[0m in \u001b[0;36m<module>\u001b[0;34m()\u001b[0m\n\u001b[0;32m----> 1\u001b[0;31m \u001b[0mget_ipython\u001b[0m\u001b[0;34m(\u001b[0m\u001b[0;34m)\u001b[0m\u001b[0;34m.\u001b[0m\u001b[0mrun_cell_magic\u001b[0m\u001b[0;34m(\u001b[0m\u001b[0;34m'time'\u001b[0m\u001b[0;34m,\u001b[0m \u001b[0;34m''\u001b[0m\u001b[0;34m,\u001b[0m \u001b[0;34m'\\n# works up to 14000 patents, with t=32 mins\\npatent_list = []\\nclass_counts_list = []\\nnum_forward_cites_list = []\\nfor patent in sample_patents:\\n    xx = get_class_count(patent)\\n    patent_list.append(patent)\\n    class_counts_list.append(xx)\\n    num_forward_cites = pat76_06_assg_df[pat76_06_assg_df.patent == patent].allcites.values[0]\\n    num_forward_cites_list.append(num_forward_cites)'\u001b[0m\u001b[0;34m)\u001b[0m\u001b[0;34m\u001b[0m\u001b[0m\n\u001b[0m",
      "\u001b[0;32m/Users/ahuxor/anaconda/lib/python3.4/site-packages/IPython/core/interactiveshell.py\u001b[0m in \u001b[0;36mrun_cell_magic\u001b[0;34m(self, magic_name, line, cell)\u001b[0m\n\u001b[1;32m   2118\u001b[0m             \u001b[0mmagic_arg_s\u001b[0m \u001b[0;34m=\u001b[0m \u001b[0mself\u001b[0m\u001b[0;34m.\u001b[0m\u001b[0mvar_expand\u001b[0m\u001b[0;34m(\u001b[0m\u001b[0mline\u001b[0m\u001b[0;34m,\u001b[0m \u001b[0mstack_depth\u001b[0m\u001b[0;34m)\u001b[0m\u001b[0;34m\u001b[0m\u001b[0m\n\u001b[1;32m   2119\u001b[0m             \u001b[0;32mwith\u001b[0m \u001b[0mself\u001b[0m\u001b[0;34m.\u001b[0m\u001b[0mbuiltin_trap\u001b[0m\u001b[0;34m:\u001b[0m\u001b[0;34m\u001b[0m\u001b[0m\n\u001b[0;32m-> 2120\u001b[0;31m                 \u001b[0mresult\u001b[0m \u001b[0;34m=\u001b[0m \u001b[0mfn\u001b[0m\u001b[0;34m(\u001b[0m\u001b[0mmagic_arg_s\u001b[0m\u001b[0;34m,\u001b[0m \u001b[0mcell\u001b[0m\u001b[0;34m)\u001b[0m\u001b[0;34m\u001b[0m\u001b[0m\n\u001b[0m\u001b[1;32m   2121\u001b[0m             \u001b[0;32mreturn\u001b[0m \u001b[0mresult\u001b[0m\u001b[0;34m\u001b[0m\u001b[0m\n\u001b[1;32m   2122\u001b[0m \u001b[0;34m\u001b[0m\u001b[0m\n",
      "\u001b[0;32m<decorator-gen-60>\u001b[0m in \u001b[0;36mtime\u001b[0;34m(self, line, cell, local_ns)\u001b[0m\n",
      "\u001b[0;32m/Users/ahuxor/anaconda/lib/python3.4/site-packages/IPython/core/magic.py\u001b[0m in \u001b[0;36m<lambda>\u001b[0;34m(f, *a, **k)\u001b[0m\n\u001b[1;32m    191\u001b[0m     \u001b[0;31m# but it's overkill for just that one bit of state.\u001b[0m\u001b[0;34m\u001b[0m\u001b[0;34m\u001b[0m\u001b[0m\n\u001b[1;32m    192\u001b[0m     \u001b[0;32mdef\u001b[0m \u001b[0mmagic_deco\u001b[0m\u001b[0;34m(\u001b[0m\u001b[0marg\u001b[0m\u001b[0;34m)\u001b[0m\u001b[0;34m:\u001b[0m\u001b[0;34m\u001b[0m\u001b[0m\n\u001b[0;32m--> 193\u001b[0;31m         \u001b[0mcall\u001b[0m \u001b[0;34m=\u001b[0m \u001b[0;32mlambda\u001b[0m \u001b[0mf\u001b[0m\u001b[0;34m,\u001b[0m \u001b[0;34m*\u001b[0m\u001b[0ma\u001b[0m\u001b[0;34m,\u001b[0m \u001b[0;34m**\u001b[0m\u001b[0mk\u001b[0m\u001b[0;34m:\u001b[0m \u001b[0mf\u001b[0m\u001b[0;34m(\u001b[0m\u001b[0;34m*\u001b[0m\u001b[0ma\u001b[0m\u001b[0;34m,\u001b[0m \u001b[0;34m**\u001b[0m\u001b[0mk\u001b[0m\u001b[0;34m)\u001b[0m\u001b[0;34m\u001b[0m\u001b[0m\n\u001b[0m\u001b[1;32m    194\u001b[0m \u001b[0;34m\u001b[0m\u001b[0m\n\u001b[1;32m    195\u001b[0m         \u001b[0;32mif\u001b[0m \u001b[0mcallable\u001b[0m\u001b[0;34m(\u001b[0m\u001b[0marg\u001b[0m\u001b[0;34m)\u001b[0m\u001b[0;34m:\u001b[0m\u001b[0;34m\u001b[0m\u001b[0m\n",
      "\u001b[0;32m/Users/ahuxor/anaconda/lib/python3.4/site-packages/IPython/core/magics/execution.py\u001b[0m in \u001b[0;36mtime\u001b[0;34m(self, line, cell, local_ns)\u001b[0m\n\u001b[1;32m   1175\u001b[0m         \u001b[0;32melse\u001b[0m\u001b[0;34m:\u001b[0m\u001b[0;34m\u001b[0m\u001b[0m\n\u001b[1;32m   1176\u001b[0m             \u001b[0mst\u001b[0m \u001b[0;34m=\u001b[0m \u001b[0mclock2\u001b[0m\u001b[0;34m(\u001b[0m\u001b[0;34m)\u001b[0m\u001b[0;34m\u001b[0m\u001b[0m\n\u001b[0;32m-> 1177\u001b[0;31m             \u001b[0mexec\u001b[0m\u001b[0;34m(\u001b[0m\u001b[0mcode\u001b[0m\u001b[0;34m,\u001b[0m \u001b[0mglob\u001b[0m\u001b[0;34m,\u001b[0m \u001b[0mlocal_ns\u001b[0m\u001b[0;34m)\u001b[0m\u001b[0;34m\u001b[0m\u001b[0m\n\u001b[0m\u001b[1;32m   1178\u001b[0m             \u001b[0mend\u001b[0m \u001b[0;34m=\u001b[0m \u001b[0mclock2\u001b[0m\u001b[0;34m(\u001b[0m\u001b[0;34m)\u001b[0m\u001b[0;34m\u001b[0m\u001b[0m\n\u001b[1;32m   1179\u001b[0m             \u001b[0mout\u001b[0m \u001b[0;34m=\u001b[0m \u001b[0;32mNone\u001b[0m\u001b[0;34m\u001b[0m\u001b[0m\n",
      "\u001b[0;32m<timed exec>\u001b[0m in \u001b[0;36m<module>\u001b[0;34m()\u001b[0m\n",
      "\u001b[0;31mIndexError\u001b[0m: index 0 is out of bounds for axis 0 with size 0"
     ]
    }
   ],
   "source": [
    "%%time\n",
    "\n",
    "# works up to 14000 patents, with t=32 mins\n",
    "patent_list = []\n",
    "class_counts_list = []\n",
    "num_forward_cites_list = []\n",
    "for patent in sample_patents:\n",
    "    xx = get_class_count(patent)\n",
    "    patent_list.append(patent)\n",
    "    class_counts_list.append(xx)\n",
    "    num_forward_cites = pat76_06_assg_df[pat76_06_assg_df.patent == patent].allcites.values[0]\n",
    "    num_forward_cites_list.append(num_forward_cites)"
   ]
  },
  {
   "cell_type": "code",
   "execution_count": 118,
   "metadata": {
    "collapsed": false
   },
   "outputs": [],
   "source": [
    "# create dataframe from these lists\n",
    "class_counts_df = pd.DataFrame(\n",
    "    {'patent': patent_list,\n",
    "     'number_of_classes': class_counts_list,\n",
    "     'forward_citations': num_forward_cites_list\n",
    "    })"
   ]
  },
  {
   "cell_type": "code",
   "execution_count": 116,
   "metadata": {
    "collapsed": false
   },
   "outputs": [
    {
     "data": {
      "text/html": [
       "<div>\n",
       "<table border=\"1\" class=\"dataframe\">\n",
       "  <thead>\n",
       "    <tr style=\"text-align: right;\">\n",
       "      <th></th>\n",
       "      <th>forward_citations</th>\n",
       "      <th>number_of_classes</th>\n",
       "      <th>patent</th>\n",
       "    </tr>\n",
       "  </thead>\n",
       "  <tbody>\n",
       "    <tr>\n",
       "      <th>0</th>\n",
       "      <td>11</td>\n",
       "      <td>4</td>\n",
       "      <td>4594177</td>\n",
       "    </tr>\n",
       "    <tr>\n",
       "      <th>1</th>\n",
       "      <td>12</td>\n",
       "      <td>5</td>\n",
       "      <td>4681790</td>\n",
       "    </tr>\n",
       "    <tr>\n",
       "      <th>2</th>\n",
       "      <td>6</td>\n",
       "      <td>3</td>\n",
       "      <td>5286263</td>\n",
       "    </tr>\n",
       "    <tr>\n",
       "      <th>3</th>\n",
       "      <td>37</td>\n",
       "      <td>11</td>\n",
       "      <td>5350795</td>\n",
       "    </tr>\n",
       "    <tr>\n",
       "      <th>4</th>\n",
       "      <td>12</td>\n",
       "      <td>8</td>\n",
       "      <td>5439610</td>\n",
       "    </tr>\n",
       "  </tbody>\n",
       "</table>\n",
       "</div>"
      ],
      "text/plain": [
       "   forward_citations  number_of_classes   patent\n",
       "0                 11                  4  4594177\n",
       "1                 12                  5  4681790\n",
       "2                  6                  3  5286263\n",
       "3                 37                 11  5350795\n",
       "4                 12                  8  5439610"
      ]
     },
     "execution_count": 116,
     "metadata": {},
     "output_type": "execute_result"
    }
   ],
   "source": [
    "class_counts_df.head()"
   ]
  },
  {
   "cell_type": "code",
   "execution_count": 117,
   "metadata": {
    "collapsed": false
   },
   "outputs": [
    {
     "name": "stderr",
     "output_type": "stream",
     "text": [
      "/Users/ahuxor/anaconda/lib/python3.4/site-packages/ipykernel/__main__.py:36: RuntimeWarning: divide by zero encountered in log10\n"
     ]
    },
    {
     "data": {
      "text/plain": [
       "[<matplotlib.lines.Line2D at 0x1ea1949e8>]"
      ]
     },
     "execution_count": 117,
     "metadata": {},
     "output_type": "execute_result"
    },
    {
     "data": {
      "image/png": "[encoded data removed]",
      "text/plain": [
       "<matplotlib.figure.Figure at 0x1953ea5f8>"
      ]
     },
     "metadata": {},
     "output_type": "display_data"
    }
   ],
   "source": [
    "one_class=class_counts_df[class_counts_df.number_of_classes==1]\n",
    "two_class=class_counts_df[class_counts_df.number_of_classes==2]\n",
    "three_class=class_counts_df[class_counts_df.number_of_classes==3]\n",
    "four_class=class_counts_df[class_counts_df.number_of_classes==4]\n",
    "five_class=class_counts_df[class_counts_df.number_of_classes==5]\n",
    "six_class=class_counts_df[class_counts_df.number_of_classes==6]\n",
    "seven_class=class_counts_df[class_counts_df.number_of_classes==7]\n",
    "eight_class=class_counts_df[class_counts_df.number_of_classes==8]\n",
    "\n",
    "ten_class=class_counts_df[class_counts_df.number_of_classes==10]\n",
    "eleven_class=class_counts_df[class_counts_df.number_of_classes==11]\n",
    "twelve_class=class_counts_df[class_counts_df.number_of_classes==12]\n",
    "\n",
    "fifteen_class=class_counts_df[class_counts_df.number_of_classes==15]\n",
    "\n",
    "\n",
    "\n",
    "twenty_class=class_counts_df[class_counts_df.number_of_classes==20]\n",
    "twentyone_class=class_counts_df[class_counts_df.number_of_classes==21]\n",
    "\n",
    "\n",
    "\n",
    "\n",
    "\n",
    "#plot distribution of one section\n",
    "counts,bins = np.histogram(twenty_class.forward_citations,bins=10)\n",
    "\n",
    "slope_list = []\n",
    "intercept_list = []\n",
    "R_squared_list = []\n",
    "\n",
    "x = bins[1:]\n",
    "y = counts\n",
    "\n",
    "logx = np.log10(x)\n",
    "logy = np.log10(y)\n",
    "plt.plot(logx,logy)"
   ]
  },
  {
   "cell_type": "code",
   "execution_count": 111,
   "metadata": {
    "collapsed": false
   },
   "outputs": [
    {
     "data": {
      "text/plain": [
       "2.6666666666666665"
      ]
     },
     "execution_count": 111,
     "metadata": {},
     "output_type": "execute_result"
    }
   ],
   "source": [
    "1.6/(1.6-1)"
   ]
  },
  {
   "cell_type": "code",
   "execution_count": 112,
   "metadata": {
    "collapsed": false
   },
   "outputs": [
    {
     "data": {
      "text/html": [
       "<div>\n",
       "<table border=\"1\" class=\"dataframe\">\n",
       "  <thead>\n",
       "    <tr style=\"text-align: right;\">\n",
       "      <th></th>\n",
       "      <th>forward_citations</th>\n",
       "      <th>number_of_classes</th>\n",
       "      <th>patent</th>\n",
       "    </tr>\n",
       "  </thead>\n",
       "  <tbody>\n",
       "    <tr>\n",
       "      <th>372</th>\n",
       "      <td>0</td>\n",
       "      <td>25</td>\n",
       "      <td>7011865</td>\n",
       "    </tr>\n",
       "    <tr>\n",
       "      <th>421</th>\n",
       "      <td>2</td>\n",
       "      <td>25</td>\n",
       "      <td>6060410</td>\n",
       "    </tr>\n",
       "    <tr>\n",
       "      <th>432</th>\n",
       "      <td>0</td>\n",
       "      <td>25</td>\n",
       "      <td>6562743</td>\n",
       "    </tr>\n",
       "    <tr>\n",
       "      <th>1828</th>\n",
       "      <td>6</td>\n",
       "      <td>25</td>\n",
       "      <td>4938127</td>\n",
       "    </tr>\n",
       "    <tr>\n",
       "      <th>1829</th>\n",
       "      <td>3</td>\n",
       "      <td>25</td>\n",
       "      <td>4949628</td>\n",
       "    </tr>\n",
       "    <tr>\n",
       "      <th>1830</th>\n",
       "      <td>3</td>\n",
       "      <td>25</td>\n",
       "      <td>4957041</td>\n",
       "    </tr>\n",
       "    <tr>\n",
       "      <th>1831</th>\n",
       "      <td>2</td>\n",
       "      <td>25</td>\n",
       "      <td>4957042</td>\n",
       "    </tr>\n",
       "    <tr>\n",
       "      <th>1832</th>\n",
       "      <td>10</td>\n",
       "      <td>25</td>\n",
       "      <td>4960043</td>\n",
       "    </tr>\n",
       "    <tr>\n",
       "      <th>1833</th>\n",
       "      <td>6</td>\n",
       "      <td>25</td>\n",
       "      <td>4979434</td>\n",
       "    </tr>\n",
       "    <tr>\n",
       "      <th>1835</th>\n",
       "      <td>16</td>\n",
       "      <td>25</td>\n",
       "      <td>4984514</td>\n",
       "    </tr>\n",
       "    <tr>\n",
       "      <th>1836</th>\n",
       "      <td>29</td>\n",
       "      <td>25</td>\n",
       "      <td>4999208</td>\n",
       "    </tr>\n",
       "    <tr>\n",
       "      <th>1837</th>\n",
       "      <td>3</td>\n",
       "      <td>25</td>\n",
       "      <td>5015488</td>\n",
       "    </tr>\n",
       "    <tr>\n",
       "      <th>1838</th>\n",
       "      <td>6</td>\n",
       "      <td>25</td>\n",
       "      <td>5015489</td>\n",
       "    </tr>\n",
       "    <tr>\n",
       "      <th>1839</th>\n",
       "      <td>6</td>\n",
       "      <td>25</td>\n",
       "      <td>5015490</td>\n",
       "    </tr>\n",
       "    <tr>\n",
       "      <th>1840</th>\n",
       "      <td>8</td>\n",
       "      <td>25</td>\n",
       "      <td>5030468</td>\n",
       "    </tr>\n",
       "    <tr>\n",
       "      <th>1841</th>\n",
       "      <td>11</td>\n",
       "      <td>25</td>\n",
       "      <td>5071668</td>\n",
       "    </tr>\n",
       "    <tr>\n",
       "      <th>1844</th>\n",
       "      <td>26</td>\n",
       "      <td>25</td>\n",
       "      <td>5124161</td>\n",
       "    </tr>\n",
       "    <tr>\n",
       "      <th>1954</th>\n",
       "      <td>3</td>\n",
       "      <td>25</td>\n",
       "      <td>6245366</td>\n",
       "    </tr>\n",
       "    <tr>\n",
       "      <th>2165</th>\n",
       "      <td>8</td>\n",
       "      <td>25</td>\n",
       "      <td>5139887</td>\n",
       "    </tr>\n",
       "    <tr>\n",
       "      <th>2359</th>\n",
       "      <td>2</td>\n",
       "      <td>25</td>\n",
       "      <td>6858580</td>\n",
       "    </tr>\n",
       "    <tr>\n",
       "      <th>2368</th>\n",
       "      <td>0</td>\n",
       "      <td>25</td>\n",
       "      <td>7084121</td>\n",
       "    </tr>\n",
       "    <tr>\n",
       "      <th>3365</th>\n",
       "      <td>6</td>\n",
       "      <td>25</td>\n",
       "      <td>6822372</td>\n",
       "    </tr>\n",
       "    <tr>\n",
       "      <th>6606</th>\n",
       "      <td>0</td>\n",
       "      <td>25</td>\n",
       "      <td>6854163</td>\n",
       "    </tr>\n",
       "    <tr>\n",
       "      <th>6856</th>\n",
       "      <td>6</td>\n",
       "      <td>25</td>\n",
       "      <td>4938127</td>\n",
       "    </tr>\n",
       "    <tr>\n",
       "      <th>6857</th>\n",
       "      <td>3</td>\n",
       "      <td>25</td>\n",
       "      <td>4949628</td>\n",
       "    </tr>\n",
       "    <tr>\n",
       "      <th>6858</th>\n",
       "      <td>3</td>\n",
       "      <td>25</td>\n",
       "      <td>4957041</td>\n",
       "    </tr>\n",
       "    <tr>\n",
       "      <th>6859</th>\n",
       "      <td>2</td>\n",
       "      <td>25</td>\n",
       "      <td>4957042</td>\n",
       "    </tr>\n",
       "    <tr>\n",
       "      <th>6860</th>\n",
       "      <td>10</td>\n",
       "      <td>25</td>\n",
       "      <td>4960043</td>\n",
       "    </tr>\n",
       "    <tr>\n",
       "      <th>6861</th>\n",
       "      <td>6</td>\n",
       "      <td>25</td>\n",
       "      <td>4979434</td>\n",
       "    </tr>\n",
       "    <tr>\n",
       "      <th>6862</th>\n",
       "      <td>16</td>\n",
       "      <td>25</td>\n",
       "      <td>4984514</td>\n",
       "    </tr>\n",
       "    <tr>\n",
       "      <th>6863</th>\n",
       "      <td>29</td>\n",
       "      <td>25</td>\n",
       "      <td>4999208</td>\n",
       "    </tr>\n",
       "    <tr>\n",
       "      <th>6864</th>\n",
       "      <td>3</td>\n",
       "      <td>25</td>\n",
       "      <td>5015488</td>\n",
       "    </tr>\n",
       "    <tr>\n",
       "      <th>6865</th>\n",
       "      <td>6</td>\n",
       "      <td>25</td>\n",
       "      <td>5015489</td>\n",
       "    </tr>\n",
       "    <tr>\n",
       "      <th>6866</th>\n",
       "      <td>6</td>\n",
       "      <td>25</td>\n",
       "      <td>5015490</td>\n",
       "    </tr>\n",
       "    <tr>\n",
       "      <th>6867</th>\n",
       "      <td>8</td>\n",
       "      <td>25</td>\n",
       "      <td>5030468</td>\n",
       "    </tr>\n",
       "    <tr>\n",
       "      <th>6868</th>\n",
       "      <td>11</td>\n",
       "      <td>25</td>\n",
       "      <td>5071668</td>\n",
       "    </tr>\n",
       "    <tr>\n",
       "      <th>6871</th>\n",
       "      <td>26</td>\n",
       "      <td>25</td>\n",
       "      <td>5124161</td>\n",
       "    </tr>\n",
       "    <tr>\n",
       "      <th>7044</th>\n",
       "      <td>7</td>\n",
       "      <td>25</td>\n",
       "      <td>6120627</td>\n",
       "    </tr>\n",
       "    <tr>\n",
       "      <th>10584</th>\n",
       "      <td>0</td>\n",
       "      <td>25</td>\n",
       "      <td>6976986</td>\n",
       "    </tr>\n",
       "    <tr>\n",
       "      <th>11230</th>\n",
       "      <td>0</td>\n",
       "      <td>25</td>\n",
       "      <td>7077984</td>\n",
       "    </tr>\n",
       "    <tr>\n",
       "      <th>11437</th>\n",
       "      <td>0</td>\n",
       "      <td>25</td>\n",
       "      <td>6911243</td>\n",
       "    </tr>\n",
       "    <tr>\n",
       "      <th>12797</th>\n",
       "      <td>0</td>\n",
       "      <td>25</td>\n",
       "      <td>7023420</td>\n",
       "    </tr>\n",
       "  </tbody>\n",
       "</table>\n",
       "</div>"
      ],
      "text/plain": [
       "       forward_citations  number_of_classes   patent\n",
       "372                    0                 25  7011865\n",
       "421                    2                 25  6060410\n",
       "432                    0                 25  6562743\n",
       "1828                   6                 25  4938127\n",
       "1829                   3                 25  4949628\n",
       "1830                   3                 25  4957041\n",
       "1831                   2                 25  4957042\n",
       "1832                  10                 25  4960043\n",
       "1833                   6                 25  4979434\n",
       "1835                  16                 25  4984514\n",
       "1836                  29                 25  4999208\n",
       "1837                   3                 25  5015488\n",
       "1838                   6                 25  5015489\n",
       "1839                   6                 25  5015490\n",
       "1840                   8                 25  5030468\n",
       "1841                  11                 25  5071668\n",
       "1844                  26                 25  5124161\n",
       "1954                   3                 25  6245366\n",
       "2165                   8                 25  5139887\n",
       "2359                   2                 25  6858580\n",
       "2368                   0                 25  7084121\n",
       "3365                   6                 25  6822372\n",
       "6606                   0                 25  6854163\n",
       "6856                   6                 25  4938127\n",
       "6857                   3                 25  4949628\n",
       "6858                   3                 25  4957041\n",
       "6859                   2                 25  4957042\n",
       "6860                  10                 25  4960043\n",
       "6861                   6                 25  4979434\n",
       "6862                  16                 25  4984514\n",
       "6863                  29                 25  4999208\n",
       "6864                   3                 25  5015488\n",
       "6865                   6                 25  5015489\n",
       "6866                   6                 25  5015490\n",
       "6867                   8                 25  5030468\n",
       "6868                  11                 25  5071668\n",
       "6871                  26                 25  5124161\n",
       "7044                   7                 25  6120627\n",
       "10584                  0                 25  6976986\n",
       "11230                  0                 25  7077984\n",
       "11437                  0                 25  6911243\n",
       "12797                  0                 25  7023420"
      ]
     },
     "execution_count": 112,
     "metadata": {},
     "output_type": "execute_result"
    }
   ],
   "source": [
    "class_counts_df[class_counts_df.number_of_classes==25]"
   ]
  },
  {
   "cell_type": "code",
   "execution_count": 38,
   "metadata": {
    "collapsed": false
   },
   "outputs": [
    {
     "data": {
      "text/html": [
       "<div>\n",
       "<table border=\"1\" class=\"dataframe\">\n",
       "  <thead>\n",
       "    <tr style=\"text-align: right;\">\n",
       "      <th></th>\n",
       "      <th>forward_citations</th>\n",
       "      <th>number_of_classes</th>\n",
       "      <th>patent</th>\n",
       "    </tr>\n",
       "  </thead>\n",
       "  <tbody>\n",
       "    <tr>\n",
       "      <th>0</th>\n",
       "      <td>11</td>\n",
       "      <td>4</td>\n",
       "      <td>4594177</td>\n",
       "    </tr>\n",
       "  </tbody>\n",
       "</table>\n",
       "</div>"
      ],
      "text/plain": [
       "   forward_citations  number_of_classes   patent\n",
       "0                 11                  4  4594177"
      ]
     },
     "execution_count": 38,
     "metadata": {},
     "output_type": "execute_result"
    }
   ],
   "source": [
    "four_class"
   ]
  },
  {
   "cell_type": "code",
   "execution_count": 359,
   "metadata": {
    "collapsed": false
   },
   "outputs": [
    {
     "data": {
      "text/plain": [
       "1.25"
      ]
     },
     "execution_count": 359,
     "metadata": {},
     "output_type": "execute_result"
    }
   ],
   "source": [
    "1.0/.8"
   ]
  },
  {
   "cell_type": "code",
   "execution_count": 246,
   "metadata": {
    "collapsed": false
   },
   "outputs": [
    {
     "data": {
      "image/png": "[encoded data removed]",
      "text/plain": [
       "<matplotlib.figure.Figure at 0x1b5b4a908>"
      ]
     },
     "metadata": {},
     "output_type": "display_data"
    }
   ],
   "source": [
    "fig = plt.figure()\n",
    "ax = fig.add_subplot(111)\n",
    "\n",
    "ax.set_xlabel('Number of ICL sections')\n",
    "ax.set_ylabel('Number of forward citation')\n",
    "plt.scatter(sections_counts_list,num_forward_cites_list)\n",
    "\n",
    "\n",
    "plt.savefig(\"/Users/ahuxor/MSc/Thesis_Project/msc_thesis/Figs/section_counts_citations_scatter.pdf\", bbox_inches = 'tight')\n",
    "plt.show()\n"
   ]
  },
  {
   "cell_type": "code",
   "execution_count": null,
   "metadata": {
    "collapsed": true
   },
   "outputs": [],
   "source": [
    "%%time\n",
    "# works up to 5000 patents, with t=13 mins\n",
    "patent_list = []\n",
    "originality_list = []\n",
    "num_forward_cites_list = []\n",
    "for patent in sample_patents:\n",
    "    xx = get_class_originality(patent)\n",
    "    patent_list.append(patent)\n",
    "    originality_list.append(xx)\n",
    "    num_forward_cites = pat76_06_assg_df[pat76_06_assg_df.patent == patent].allcites.values[0]\n",
    "    num_forward_cites_list.append(num_forward_cites)"
   ]
  },
  {
   "cell_type": "code",
   "execution_count": 207,
   "metadata": {
    "collapsed": false
   },
   "outputs": [
    {
     "data": {
      "image/png": "[encoded data removed]",
      "text/plain": [
       "<matplotlib.figure.Figure at 0x1b48b1278>"
      ]
     },
     "metadata": {},
     "output_type": "display_data"
    }
   ],
   "source": [
    "fig = plt.figure()\n",
    "ax = fig.add_subplot(111)\n",
    "\n",
    "ax.set_xlabel('xlabel')\n",
    "ax.set_ylabel('ylabel')\n",
    "plt.scatter(originality_list,num_forward_cites_list)\n",
    "\n",
    "\n",
    "plt.savefig(\"/Users/ahuxor/MSc/Thesis_Project/msc_thesis/Figs/section_orig_citations_scatter.pdf\", bbox_inches = 'tight')\n",
    "plt.show()\n"
   ]
  },
  {
   "cell_type": "code",
   "execution_count": null,
   "metadata": {
    "collapsed": true
   },
   "outputs": [],
   "source": []
  }
 ],
 "metadata": {
  "kernelspec": {
   "display_name": "Python 3",
   "language": "python",
   "name": "python3"
  },
  "language_info": {
   "codemirror_mode": {
    "name": "ipython",
    "version": 3
   },
   "file_extension": ".py",
   "mimetype": "text/x-python",
   "name": "python",
   "nbconvert_exporter": "python",
   "pygments_lexer": "ipython3",
   "version": "3.4.4"
  }
 },
 "nbformat": 4,
 "nbformat_minor": 0
}
