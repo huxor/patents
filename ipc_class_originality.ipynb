{
 "cells": [
  {
   "cell_type": "markdown",
   "metadata": {},
   "source": [
    "### experiments using IPC classes for originality "
   ]
  },
  {
   "cell_type": "code",
   "execution_count": 1,
   "metadata": {
    "collapsed": false
   },
   "outputs": [],
   "source": [
    "import pandas as pd\n",
    "import matplotlib.pyplot as plt\n",
    "import numpy as np\n",
    "from matplotlib.colors import LogNorm\n",
    "\n",
    "%matplotlib inline\n",
    "%reload_ext line_profiler\n",
    "\n"
   ]
  },
  {
   "cell_type": "code",
   "execution_count": 2,
   "metadata": {
    "collapsed": false
   },
   "outputs": [
    {
     "name": "stdout",
     "output_type": "stream",
     "text": [
      "CPU times: user 986 ms, sys: 693 ms, total: 1.68 s\n",
      "Wall time: 1.71 s\n"
     ]
    }
   ],
   "source": [
    "%%time\n",
    "# read in main data file in the Strata9 .dta format\n",
    "cite76_06_df = pd.read_stata('cite76_06.dta')\n"
   ]
  },
  {
   "cell_type": "code",
   "execution_count": 3,
   "metadata": {
    "collapsed": false
   },
   "outputs": [
    {
     "data": {
      "text/html": [
       "<div>\n",
       "<table border=\"1\" class=\"dataframe\">\n",
       "  <thead>\n",
       "    <tr style=\"text-align: right;\">\n",
       "      <th></th>\n",
       "      <th>citing</th>\n",
       "      <th>cited</th>\n",
       "      <th>ncites7606</th>\n",
       "    </tr>\n",
       "  </thead>\n",
       "  <tbody>\n",
       "    <tr>\n",
       "      <th>0</th>\n",
       "      <td>5135226</td>\n",
       "      <td>3930271</td>\n",
       "      <td>6</td>\n",
       "    </tr>\n",
       "    <tr>\n",
       "      <th>1</th>\n",
       "      <td>5592695</td>\n",
       "      <td>3930271</td>\n",
       "      <td>6</td>\n",
       "    </tr>\n",
       "    <tr>\n",
       "      <th>2</th>\n",
       "      <td>5621918</td>\n",
       "      <td>3930271</td>\n",
       "      <td>6</td>\n",
       "    </tr>\n",
       "    <tr>\n",
       "      <th>3</th>\n",
       "      <td>5624296</td>\n",
       "      <td>3930271</td>\n",
       "      <td>6</td>\n",
       "    </tr>\n",
       "    <tr>\n",
       "      <th>4</th>\n",
       "      <td>5675839</td>\n",
       "      <td>3930271</td>\n",
       "      <td>6</td>\n",
       "    </tr>\n",
       "  </tbody>\n",
       "</table>\n",
       "</div>"
      ],
      "text/plain": [
       "    citing    cited  ncites7606\n",
       "0  5135226  3930271           6\n",
       "1  5592695  3930271           6\n",
       "2  5621918  3930271           6\n",
       "3  5624296  3930271           6\n",
       "4  5675839  3930271           6"
      ]
     },
     "execution_count": 3,
     "metadata": {},
     "output_type": "execute_result"
    }
   ],
   "source": [
    "cite76_06_df.head()"
   ]
  },
  {
   "cell_type": "code",
   "execution_count": 4,
   "metadata": {
    "collapsed": true
   },
   "outputs": [],
   "source": [
    "# get the IPC classes in these backward citations\n",
    "# Load  data file with inter_ etc\n",
    "\n",
    "pat76_06_ipc_raw_df = pd.read_csv('pat76_06_ipc_df_modified.csv')"
   ]
  },
  {
   "cell_type": "code",
   "execution_count": 5,
   "metadata": {
    "collapsed": false
   },
   "outputs": [],
   "source": [
    "# check formats for icl_class_uc\n",
    "# https://stackoverflow.com/questions/38054373/trying-to-check-if-string-in-python-follows-the-correct-pattern-good-formatting\n",
    "import re\n",
    "def check_code(value, pattern=re.compile(\"[A-H][0-9][0-9][A-Z]\")):\n",
    "    return 'OK' if pattern.match(value) else 'NOK'\n",
    "\n"
   ]
  },
  {
   "cell_type": "code",
   "execution_count": 6,
   "metadata": {
    "collapsed": true
   },
   "outputs": [],
   "source": [
    "# lets get a check for any icl_class_uc (IPC4) that are types (have wrong format)\n",
    "pat76_06_ipc_raw_df['code_check'] = pat76_06_ipc_raw_df['icl_class_uc'].apply(check_code)\n",
    "\n"
   ]
  },
  {
   "cell_type": "code",
   "execution_count": 7,
   "metadata": {
    "collapsed": false
   },
   "outputs": [],
   "source": [
    "# remove those that have wrong code format\n",
    "pat76_06_ipc_df = pat76_06_ipc_raw_df[pat76_06_ipc_raw_df.code_check=='OK']"
   ]
  },
  {
   "cell_type": "code",
   "execution_count": 8,
   "metadata": {
    "collapsed": true
   },
   "outputs": [],
   "source": [
    "# lets see how many, and what they are, for the wrong format rows\n",
    "wrong_format = pat76_06_ipc_raw_df[pat76_06_ipc_raw_df.code_check=='NOK']"
   ]
  },
  {
   "cell_type": "code",
   "execution_count": 9,
   "metadata": {
    "collapsed": false
   },
   "outputs": [
    {
     "data": {
      "text/html": [
       "<div>\n",
       "<table border=\"1\" class=\"dataframe\">\n",
       "  <thead>\n",
       "    <tr style=\"text-align: right;\">\n",
       "      <th></th>\n",
       "      <th>12377</th>\n",
       "      <th>17544</th>\n",
       "      <th>26562</th>\n",
       "      <th>32942</th>\n",
       "      <th>44415</th>\n",
       "    </tr>\n",
       "  </thead>\n",
       "  <tbody>\n",
       "    <tr>\n",
       "      <th>appyear</th>\n",
       "      <td>1974</td>\n",
       "      <td>1974</td>\n",
       "      <td>1974</td>\n",
       "      <td>1973</td>\n",
       "      <td>1974</td>\n",
       "    </tr>\n",
       "    <tr>\n",
       "      <th>cat</th>\n",
       "      <td>5</td>\n",
       "      <td>5</td>\n",
       "      <td>1</td>\n",
       "      <td>1</td>\n",
       "      <td>2</td>\n",
       "    </tr>\n",
       "    <tr>\n",
       "      <th>gyear</th>\n",
       "      <td>1976</td>\n",
       "      <td>1976</td>\n",
       "      <td>1976</td>\n",
       "      <td>1976</td>\n",
       "      <td>1976</td>\n",
       "    </tr>\n",
       "    <tr>\n",
       "      <th>icl</th>\n",
       "      <td>FO4C  300</td>\n",
       "      <td>B00</td>\n",
       "      <td>C07</td>\n",
       "      <td>C10</td>\n",
       "      <td>HOlP  308</td>\n",
       "    </tr>\n",
       "    <tr>\n",
       "      <th>icl_class</th>\n",
       "      <td>FO4C</td>\n",
       "      <td>B00</td>\n",
       "      <td>C07</td>\n",
       "      <td>C10</td>\n",
       "      <td>HOlP</td>\n",
       "    </tr>\n",
       "    <tr>\n",
       "      <th>icl_maingroup</th>\n",
       "      <td>3</td>\n",
       "      <td>NaN</td>\n",
       "      <td>NaN</td>\n",
       "      <td>NaN</td>\n",
       "      <td>3</td>\n",
       "    </tr>\n",
       "    <tr>\n",
       "      <th>iclnum</th>\n",
       "      <td>1</td>\n",
       "      <td>1</td>\n",
       "      <td>1</td>\n",
       "      <td>1</td>\n",
       "      <td>1</td>\n",
       "    </tr>\n",
       "    <tr>\n",
       "      <th>nclass</th>\n",
       "      <td>418</td>\n",
       "      <td>152</td>\n",
       "      <td>546</td>\n",
       "      <td>510</td>\n",
       "      <td>333</td>\n",
       "    </tr>\n",
       "    <tr>\n",
       "      <th>numipc</th>\n",
       "      <td>1</td>\n",
       "      <td>1</td>\n",
       "      <td>1</td>\n",
       "      <td>1</td>\n",
       "      <td>3</td>\n",
       "    </tr>\n",
       "    <tr>\n",
       "      <th>patent</th>\n",
       "      <td>3938918</td>\n",
       "      <td>3942574</td>\n",
       "      <td>3948922</td>\n",
       "      <td>3953379</td>\n",
       "      <td>3961291</td>\n",
       "    </tr>\n",
       "    <tr>\n",
       "      <th>pdpass</th>\n",
       "      <td>NaN</td>\n",
       "      <td>1.01804e+07</td>\n",
       "      <td>NaN</td>\n",
       "      <td>1.02125e+07</td>\n",
       "      <td>1.00382e+07</td>\n",
       "    </tr>\n",
       "    <tr>\n",
       "      <th>subcat</th>\n",
       "      <td>53</td>\n",
       "      <td>55</td>\n",
       "      <td>14</td>\n",
       "      <td>19</td>\n",
       "      <td>21</td>\n",
       "    </tr>\n",
       "    <tr>\n",
       "      <th>subclass</th>\n",
       "      <td>150</td>\n",
       "      <td>540</td>\n",
       "      <td>294</td>\n",
       "      <td>352</td>\n",
       "      <td>156</td>\n",
       "    </tr>\n",
       "    <tr>\n",
       "      <th>uspto_assignee</th>\n",
       "      <td>0</td>\n",
       "      <td>228390</td>\n",
       "      <td>0</td>\n",
       "      <td>110775</td>\n",
       "      <td>597270</td>\n",
       "    </tr>\n",
       "    <tr>\n",
       "      <th>icl_uc</th>\n",
       "      <td>FO4C  300</td>\n",
       "      <td>B00</td>\n",
       "      <td>C07</td>\n",
       "      <td>C10</td>\n",
       "      <td>HOLP  308</td>\n",
       "    </tr>\n",
       "    <tr>\n",
       "      <th>icl_class_uc</th>\n",
       "      <td>FO4C</td>\n",
       "      <td>B00</td>\n",
       "      <td>C07</td>\n",
       "      <td>C10</td>\n",
       "      <td>HOLP</td>\n",
       "    </tr>\n",
       "    <tr>\n",
       "      <th>section</th>\n",
       "      <td>F</td>\n",
       "      <td>B</td>\n",
       "      <td>C</td>\n",
       "      <td>C</td>\n",
       "      <td>H</td>\n",
       "    </tr>\n",
       "    <tr>\n",
       "      <th>ipc_inter</th>\n",
       "      <td>FO4C3</td>\n",
       "      <td>B00-9223372036854775808</td>\n",
       "      <td>C07-9223372036854775808</td>\n",
       "      <td>C10-9223372036854775808</td>\n",
       "      <td>HOLP3</td>\n",
       "    </tr>\n",
       "    <tr>\n",
       "      <th>code_check</th>\n",
       "      <td>NOK</td>\n",
       "      <td>NOK</td>\n",
       "      <td>NOK</td>\n",
       "      <td>NOK</td>\n",
       "      <td>NOK</td>\n",
       "    </tr>\n",
       "  </tbody>\n",
       "</table>\n",
       "</div>"
      ],
      "text/plain": [
       "                    12377                    17544                    26562  \\\n",
       "appyear              1974                     1974                     1974   \n",
       "cat                     5                        5                        1   \n",
       "gyear                1976                     1976                     1976   \n",
       "icl             FO4C  300                      B00                      C07   \n",
       "icl_class            FO4C                      B00                      C07   \n",
       "icl_maingroup           3                      NaN                      NaN   \n",
       "iclnum                  1                        1                        1   \n",
       "nclass                418                      152                      546   \n",
       "numipc                  1                        1                        1   \n",
       "patent            3938918                  3942574                  3948922   \n",
       "pdpass                NaN              1.01804e+07                      NaN   \n",
       "subcat                 53                       55                       14   \n",
       "subclass              150                      540                      294   \n",
       "uspto_assignee          0                   228390                        0   \n",
       "icl_uc          FO4C  300                      B00                      C07   \n",
       "icl_class_uc         FO4C                      B00                      C07   \n",
       "section                 F                        B                        C   \n",
       "ipc_inter           FO4C3  B00-9223372036854775808  C07-9223372036854775808   \n",
       "code_check            NOK                      NOK                      NOK   \n",
       "\n",
       "                                  32942        44415  \n",
       "appyear                            1973         1974  \n",
       "cat                                   1            2  \n",
       "gyear                              1976         1976  \n",
       "icl                                 C10    HOlP  308  \n",
       "icl_class                           C10         HOlP  \n",
       "icl_maingroup                       NaN            3  \n",
       "iclnum                                1            1  \n",
       "nclass                              510          333  \n",
       "numipc                                1            3  \n",
       "patent                          3953379      3961291  \n",
       "pdpass                      1.02125e+07  1.00382e+07  \n",
       "subcat                               19           21  \n",
       "subclass                            352          156  \n",
       "uspto_assignee                   110775       597270  \n",
       "icl_uc                              C10    HOLP  308  \n",
       "icl_class_uc                        C10         HOLP  \n",
       "section                               C            H  \n",
       "ipc_inter       C10-9223372036854775808        HOLP3  \n",
       "code_check                          NOK          NOK  "
      ]
     },
     "execution_count": 9,
     "metadata": {},
     "output_type": "execute_result"
    }
   ],
   "source": [
    "wrong_format.head().T"
   ]
  },
  {
   "cell_type": "code",
   "execution_count": 10,
   "metadata": {
    "collapsed": false
   },
   "outputs": [
    {
     "data": {
      "text/plain": [
       "4692752"
      ]
     },
     "execution_count": 10,
     "metadata": {},
     "output_type": "execute_result"
    }
   ],
   "source": [
    "# lets take a row for an example\n",
    "n = 5000000\n",
    "focal_patent = cite76_06_df[n:(n+1)].citing.values[0]\n",
    "focal_patent"
   ]
  },
  {
   "cell_type": "code",
   "execution_count": 11,
   "metadata": {
    "collapsed": false
   },
   "outputs": [
    {
     "name": "stdout",
     "output_type": "stream",
     "text": [
      "          citing    cited  ncites7606\n",
      "697442   4692752  4010458           6\n",
      "1396130  4692752  4087706          17\n",
      "3542953  4692752  4319229          20\n",
      "4555290  4692752  4422066          10\n",
      "5000000  4692752  4465998           7\n",
      "5496836  4692752  4514722          11\n",
      "6244677  4692752  4586028           5\n"
     ]
    },
    {
     "data": {
      "text/plain": [
       "[4010458, 4087706, 4319229, 4422066, 4465998, 4514722, 4586028]"
      ]
     },
     "execution_count": 11,
     "metadata": {},
     "output_type": "execute_result"
    }
   ],
   "source": [
    "# get all backward citations for this focal patent\n",
    "example_focal_patent = cite76_06_df[cite76_06_df.citing == focal_patent]\n",
    "print(example_focal_patent)\n",
    "# get list of backward citations\n",
    "backward_citations = example_focal_patent.cited.values.tolist()\n",
    "backward_citations"
   ]
  },
  {
   "cell_type": "code",
   "execution_count": 12,
   "metadata": {
    "collapsed": false
   },
   "outputs": [
    {
     "data": {
      "text/html": [
       "<div>\n",
       "<table border=\"1\" class=\"dataframe\">\n",
       "  <thead>\n",
       "    <tr style=\"text-align: right;\">\n",
       "      <th></th>\n",
       "      <th>4856176</th>\n",
       "      <th>4856177</th>\n",
       "      <th>4856178</th>\n",
       "      <th>4856179</th>\n",
       "      <th>4856180</th>\n",
       "    </tr>\n",
       "  </thead>\n",
       "  <tbody>\n",
       "    <tr>\n",
       "      <th>appyear</th>\n",
       "      <td>2000</td>\n",
       "      <td>2000</td>\n",
       "      <td>2000</td>\n",
       "      <td>2000</td>\n",
       "      <td>2000</td>\n",
       "    </tr>\n",
       "    <tr>\n",
       "      <th>cat</th>\n",
       "      <td>2</td>\n",
       "      <td>2</td>\n",
       "      <td>2</td>\n",
       "      <td>2</td>\n",
       "      <td>2</td>\n",
       "    </tr>\n",
       "    <tr>\n",
       "      <th>gyear</th>\n",
       "      <td>2006</td>\n",
       "      <td>2006</td>\n",
       "      <td>2006</td>\n",
       "      <td>2006</td>\n",
       "      <td>2006</td>\n",
       "    </tr>\n",
       "    <tr>\n",
       "      <th>icl</th>\n",
       "      <td>G06F 17/30</td>\n",
       "      <td>G06F 15/16</td>\n",
       "      <td>G06K 9/00</td>\n",
       "      <td>H04L 9/00</td>\n",
       "      <td>H04K 1/00</td>\n",
       "    </tr>\n",
       "    <tr>\n",
       "      <th>icl_class</th>\n",
       "      <td>G06F</td>\n",
       "      <td>G06F</td>\n",
       "      <td>G06K</td>\n",
       "      <td>H04L</td>\n",
       "      <td>H04K</td>\n",
       "    </tr>\n",
       "    <tr>\n",
       "      <th>icl_maingroup</th>\n",
       "      <td>17</td>\n",
       "      <td>15</td>\n",
       "      <td>9</td>\n",
       "      <td>9</td>\n",
       "      <td>1</td>\n",
       "    </tr>\n",
       "    <tr>\n",
       "      <th>iclnum</th>\n",
       "      <td>2</td>\n",
       "      <td>3</td>\n",
       "      <td>4</td>\n",
       "      <td>5</td>\n",
       "      <td>6</td>\n",
       "    </tr>\n",
       "    <tr>\n",
       "      <th>nclass</th>\n",
       "      <td>726</td>\n",
       "      <td>726</td>\n",
       "      <td>726</td>\n",
       "      <td>726</td>\n",
       "      <td>726</td>\n",
       "    </tr>\n",
       "    <tr>\n",
       "      <th>numipc</th>\n",
       "      <td>6</td>\n",
       "      <td>6</td>\n",
       "      <td>6</td>\n",
       "      <td>6</td>\n",
       "      <td>6</td>\n",
       "    </tr>\n",
       "    <tr>\n",
       "      <th>patent</th>\n",
       "      <td>7155745</td>\n",
       "      <td>7155745</td>\n",
       "      <td>7155745</td>\n",
       "      <td>7155745</td>\n",
       "      <td>7155745</td>\n",
       "    </tr>\n",
       "    <tr>\n",
       "      <th>pdpass</th>\n",
       "      <td>1.05552e+07</td>\n",
       "      <td>1.05552e+07</td>\n",
       "      <td>1.05552e+07</td>\n",
       "      <td>1.05552e+07</td>\n",
       "      <td>1.05552e+07</td>\n",
       "    </tr>\n",
       "    <tr>\n",
       "      <th>subcat</th>\n",
       "      <td>25</td>\n",
       "      <td>25</td>\n",
       "      <td>25</td>\n",
       "      <td>25</td>\n",
       "      <td>25</td>\n",
       "    </tr>\n",
       "    <tr>\n",
       "      <th>subclass</th>\n",
       "      <td>27</td>\n",
       "      <td>27</td>\n",
       "      <td>27</td>\n",
       "      <td>27</td>\n",
       "      <td>27</td>\n",
       "    </tr>\n",
       "    <tr>\n",
       "      <th>uspto_assignee</th>\n",
       "      <td>NaN</td>\n",
       "      <td>NaN</td>\n",
       "      <td>NaN</td>\n",
       "      <td>NaN</td>\n",
       "      <td>NaN</td>\n",
       "    </tr>\n",
       "    <tr>\n",
       "      <th>icl_uc</th>\n",
       "      <td>G06F 17/30</td>\n",
       "      <td>G06F 15/16</td>\n",
       "      <td>G06K 9/00</td>\n",
       "      <td>H04L 9/00</td>\n",
       "      <td>H04K 1/00</td>\n",
       "    </tr>\n",
       "    <tr>\n",
       "      <th>icl_class_uc</th>\n",
       "      <td>G06F</td>\n",
       "      <td>G06F</td>\n",
       "      <td>G06K</td>\n",
       "      <td>H04L</td>\n",
       "      <td>H04K</td>\n",
       "    </tr>\n",
       "    <tr>\n",
       "      <th>section</th>\n",
       "      <td>G</td>\n",
       "      <td>G</td>\n",
       "      <td>G</td>\n",
       "      <td>H</td>\n",
       "      <td>H</td>\n",
       "    </tr>\n",
       "    <tr>\n",
       "      <th>ipc_inter</th>\n",
       "      <td>G06F17</td>\n",
       "      <td>G06F15</td>\n",
       "      <td>G06K9</td>\n",
       "      <td>H04L9</td>\n",
       "      <td>H04K1</td>\n",
       "    </tr>\n",
       "    <tr>\n",
       "      <th>code_check</th>\n",
       "      <td>OK</td>\n",
       "      <td>OK</td>\n",
       "      <td>OK</td>\n",
       "      <td>OK</td>\n",
       "      <td>OK</td>\n",
       "    </tr>\n",
       "  </tbody>\n",
       "</table>\n",
       "</div>"
      ],
      "text/plain": [
       "                    4856176      4856177      4856178      4856179  \\\n",
       "appyear                2000         2000         2000         2000   \n",
       "cat                       2            2            2            2   \n",
       "gyear                  2006         2006         2006         2006   \n",
       "icl              G06F 17/30   G06F 15/16    G06K 9/00    H04L 9/00   \n",
       "icl_class              G06F         G06F         G06K         H04L   \n",
       "icl_maingroup            17           15            9            9   \n",
       "iclnum                    2            3            4            5   \n",
       "nclass                  726          726          726          726   \n",
       "numipc                    6            6            6            6   \n",
       "patent              7155745      7155745      7155745      7155745   \n",
       "pdpass          1.05552e+07  1.05552e+07  1.05552e+07  1.05552e+07   \n",
       "subcat                   25           25           25           25   \n",
       "subclass                 27           27           27           27   \n",
       "uspto_assignee          NaN          NaN          NaN          NaN   \n",
       "icl_uc           G06F 17/30   G06F 15/16    G06K 9/00    H04L 9/00   \n",
       "icl_class_uc           G06F         G06F         G06K         H04L   \n",
       "section                   G            G            G            H   \n",
       "ipc_inter            G06F17       G06F15        G06K9        H04L9   \n",
       "code_check               OK           OK           OK           OK   \n",
       "\n",
       "                    4856180  \n",
       "appyear                2000  \n",
       "cat                       2  \n",
       "gyear                  2006  \n",
       "icl               H04K 1/00  \n",
       "icl_class              H04K  \n",
       "icl_maingroup             1  \n",
       "iclnum                    6  \n",
       "nclass                  726  \n",
       "numipc                    6  \n",
       "patent              7155745  \n",
       "pdpass          1.05552e+07  \n",
       "subcat                   25  \n",
       "subclass                 27  \n",
       "uspto_assignee          NaN  \n",
       "icl_uc            H04K 1/00  \n",
       "icl_class_uc           H04K  \n",
       "section                   H  \n",
       "ipc_inter             H04K1  \n",
       "code_check               OK  "
      ]
     },
     "execution_count": 12,
     "metadata": {},
     "output_type": "execute_result"
    }
   ],
   "source": [
    "pat76_06_ipc_df.tail().T"
   ]
  },
  {
   "cell_type": "code",
   "execution_count": 13,
   "metadata": {
    "collapsed": false
   },
   "outputs": [
    {
     "name": "stdout",
     "output_type": "stream",
     "text": [
      "4010458\n",
      "['G08B']\n",
      "4087706\n",
      "['G08B', 'H01H', 'H03K']\n",
      "4319229\n",
      "['G08B']\n",
      "4422066\n",
      "['G08B', 'H01N']\n",
      "4465998\n",
      "['G08B']\n",
      "4514722\n",
      "['G08B']\n",
      "4586028\n",
      "['G08B']\n"
     ]
    }
   ],
   "source": [
    "#  now using only the four character IPC4\n",
    "blob = []\n",
    "for citation in backward_citations:\n",
    "    print(citation)\n",
    "    temp_class = list(set(pat76_06_ipc_df[pat76_06_ipc_df.patent==citation].icl_class_uc.values))\n",
    "    print(temp_class)\n",
    "    blob.append(temp_class)"
   ]
  },
  {
   "cell_type": "code",
   "execution_count": 14,
   "metadata": {
    "collapsed": false
   },
   "outputs": [
    {
     "data": {
      "text/plain": [
       "[['G08B'],\n",
       " ['G08B', 'H01H', 'H03K'],\n",
       " ['G08B'],\n",
       " ['G08B', 'H01N'],\n",
       " ['G08B'],\n",
       " ['G08B'],\n",
       " ['G08B']]"
      ]
     },
     "execution_count": 14,
     "metadata": {},
     "output_type": "execute_result"
    }
   ],
   "source": [
    "blob"
   ]
  },
  {
   "cell_type": "code",
   "execution_count": 15,
   "metadata": {
    "collapsed": false
   },
   "outputs": [
    {
     "data": {
      "text/plain": [
       "array(['G08B'], dtype=object)"
      ]
     },
     "execution_count": 15,
     "metadata": {},
     "output_type": "execute_result"
    }
   ],
   "source": [
    "# get sections of focal patent, for comparison\n",
    "pat76_06_ipc_df[pat76_06_ipc_df.patent==focal_patent].icl_class_uc.values"
   ]
  },
  {
   "cell_type": "code",
   "execution_count": 16,
   "metadata": {
    "collapsed": false
   },
   "outputs": [
    {
     "name": "stdout",
     "output_type": "stream",
     "text": [
      "number backward citations =  7\n",
      "flat_list =  ['G08B', 'G08B', 'H01H', 'H03K', 'G08B', 'G08B', 'H01N', 'G08B', 'G08B', 'G08B']\n",
      "unique_elements =  ['G08B', 'H01H', 'H01N', 'H03K']\n",
      "item =  7\n",
      "zzz =  1.0\n",
      "sum =  1.0\n",
      "item =  1\n",
      "zzz =  0.02040816326530612\n",
      "sum =  1.0204081632653061\n",
      "item =  1\n",
      "zzz =  0.02040816326530612\n",
      "sum =  1.0408163265306123\n",
      "item =  1\n",
      "zzz =  0.02040816326530612\n",
      "sum =  1.0612244897959184\n",
      "unoriginality =  1.0612244897959184\n"
     ]
    },
    {
     "data": {
      "text/plain": [
       "-0.061224489795918435"
      ]
     },
     "execution_count": 16,
     "metadata": {},
     "output_type": "execute_result"
    }
   ],
   "source": [
    "## calculate originality of this patent\n",
    "number_backward_citations = len(blob)\n",
    "print('number backward citations = ',number_backward_citations)\n",
    "# create single list by flattening through numpy concat\n",
    "flat_list = list(np.concatenate(blob))\n",
    "print('flat_list = ',flat_list)\n",
    "# get number of each unique element in this list\n",
    "unique_elements = list(set(flat_list))\n",
    "print('unique_elements = ',unique_elements)\n",
    "zz = [(flat_list.count(i)) for i in set(flat_list) ]\n",
    "\n",
    "# do the sume of squares for unoriginality\n",
    "sum = 0\n",
    "for item in zz:\n",
    "    print('item = ',item)\n",
    "    zzz = pow((item/number_backward_citations),2)\n",
    "    print('zzz = ',zzz)\n",
    "    sum = sum+zzz\n",
    "    print('sum = ',sum)\n",
    "unoriginality = sum\n",
    "print('unoriginality = ',unoriginality)\n",
    "originality_focal_patent = 1 - unoriginality\n",
    "originality_focal_patent"
   ]
  },
  {
   "cell_type": "code",
   "execution_count": 17,
   "metadata": {
    "collapsed": false
   },
   "outputs": [],
   "source": [
    "## calculate originality of this patent, made into a function\n",
    "def get_class_originality(focal_patent):\n",
    "    example_focal_patent = cite76_06_df[cite76_06_df.citing == focal_patent]\n",
    "    # print(example_focal_patent)\n",
    "    # get list of backward citations\n",
    "    backward_citations = example_focal_patent.cited.values.tolist()\n",
    "    backward_citations\n",
    "    blob = []\n",
    "    for citation in backward_citations:\n",
    "        #print(citation)\n",
    "        temp_class = list(set(pat76_06_ipc_df[pat76_06_ipc_df.patent==citation].section.values))\n",
    "        #print(temp_class)\n",
    "        blob.append(temp_class)\n",
    "    \n",
    "    number_backward_citations = len(blob)\n",
    "    #print('number backward citations = ',number_backward_citations)\n",
    "    # create single list by flattening through numpy concat\n",
    "    flat_list = list(np.concatenate(blob))\n",
    "    #print('flat_list = ',flat_list)\n",
    "    # get number of each unique element in this list\n",
    "    unique_elements = list(set(flat_list))\n",
    "    #print('unique_elements = ',unique_elements)\n",
    "    zz = [(flat_list.count(i)) for i in set(flat_list) ]\n",
    "\n",
    "    # do the sum of squares for unoriginality\n",
    "    sum = 0\n",
    "    for item in zz:\n",
    "        #print('item = ',item)\n",
    "        zzz = pow((item/number_backward_citations),2)\n",
    "        #print('zzz = ',zzz)\n",
    "        sum = sum+zzz\n",
    "        #print('sum = ',sum)\n",
    "    unoriginality = sum\n",
    "    #print('unoriginality = ',unoriginality)\n",
    "    originality_focal_patent = 1 - unoriginality\n",
    "    return(originality_focal_patent)"
   ]
  },
  {
   "cell_type": "code",
   "execution_count": 18,
   "metadata": {
    "collapsed": false
   },
   "outputs": [],
   "source": [
    "## calculate sctions in this patent,  a function\n",
    "def get_class_count(focal_patent):\n",
    "    example_focal_patent = cite76_06_df[cite76_06_df.citing == focal_patent]\n",
    "    # print(example_focal_patent)\n",
    "    # get list of backward citations\n",
    "    backward_citations = example_focal_patent.cited.values.tolist()\n",
    "    accumulator = []\n",
    "    for citation in backward_citations:\n",
    "        #print(citation)\n",
    "        temp_classes = list(set(pat76_06_ipc_df[pat76_06_ipc_df.patent==citation].icl_class_uc.values))\n",
    "        #print(temp_class)\n",
    "        accumulator.append(temp_classes)\n",
    "    \n",
    "    number_backward_citations = len(accumulator)\n",
    "    #print('number backward citations = ',number_backward_citations)\n",
    "    # create single list by flattening through numpy concat\n",
    "    flat_list = list(np.concatenate(accumulator))\n",
    "    #print('flat_list = ',flat_list)\n",
    "    # get number of each unique element in this list\n",
    "    num_unique_elements = len(set(flat_list))\n",
    "    #print('unique_elements = ',unique_elements)\n",
    "    return(num_unique_elements)"
   ]
  },
  {
   "cell_type": "code",
   "execution_count": 19,
   "metadata": {
    "collapsed": false
   },
   "outputs": [
    {
     "name": "stderr",
     "output_type": "stream",
     "text": [
      "/Users/ahuxor/anaconda/lib/python3.4/site-packages/line_profiler.py:294: UserWarning: Could not extract a code object for the object 8\n",
      "  profile = LineProfiler(*funcs)\n"
     ]
    },
    {
     "data": {
      "text/plain": [
       "8"
      ]
     },
     "execution_count": 19,
     "metadata": {},
     "output_type": "execute_result"
    }
   ],
   "source": [
    "j=7155745\n",
    "%lprun -f get_class_count(j) xx= get_class_count(j)\n",
    "xx= get_class_count(j)\n",
    "xx"
   ]
  },
  {
   "cell_type": "code",
   "execution_count": 20,
   "metadata": {
    "collapsed": false
   },
   "outputs": [
    {
     "data": {
      "text/plain": [
       "8"
      ]
     },
     "execution_count": 20,
     "metadata": {},
     "output_type": "execute_result"
    }
   ],
   "source": [
    "get_class_count(7155745)"
   ]
  },
  {
   "cell_type": "code",
   "execution_count": 21,
   "metadata": {
    "collapsed": true
   },
   "outputs": [],
   "source": [
    "pat76_06_assg_df = pd.read_stata('pat76_06_assg.dta')\n"
   ]
  },
  {
   "cell_type": "code",
   "execution_count": 22,
   "metadata": {
    "collapsed": false
   },
   "outputs": [
    {
     "data": {
      "text/html": [
       "<div>\n",
       "<table border=\"1\" class=\"dataframe\">\n",
       "  <thead>\n",
       "    <tr style=\"text-align: right;\">\n",
       "      <th></th>\n",
       "      <th>0</th>\n",
       "      <th>1</th>\n",
       "      <th>2</th>\n",
       "      <th>3</th>\n",
       "      <th>4</th>\n",
       "    </tr>\n",
       "  </thead>\n",
       "  <tbody>\n",
       "    <tr>\n",
       "      <th>allcites</th>\n",
       "      <td>6</td>\n",
       "      <td>0</td>\n",
       "      <td>20</td>\n",
       "      <td>4</td>\n",
       "      <td>1</td>\n",
       "    </tr>\n",
       "    <tr>\n",
       "      <th>appyear</th>\n",
       "      <td>1974</td>\n",
       "      <td>1974</td>\n",
       "      <td>1975</td>\n",
       "      <td>1974</td>\n",
       "      <td>1975</td>\n",
       "    </tr>\n",
       "    <tr>\n",
       "      <th>asscode</th>\n",
       "      <td>2</td>\n",
       "      <td>2</td>\n",
       "      <td>2</td>\n",
       "      <td>1</td>\n",
       "      <td>1</td>\n",
       "    </tr>\n",
       "    <tr>\n",
       "      <th>assgnum</th>\n",
       "      <td>1</td>\n",
       "      <td>1</td>\n",
       "      <td>1</td>\n",
       "      <td>NaN</td>\n",
       "      <td>NaN</td>\n",
       "    </tr>\n",
       "    <tr>\n",
       "      <th>cat</th>\n",
       "      <td>6</td>\n",
       "      <td>6</td>\n",
       "      <td>6</td>\n",
       "      <td>5</td>\n",
       "      <td>6</td>\n",
       "    </tr>\n",
       "    <tr>\n",
       "      <th>cat_ocl</th>\n",
       "      <td>6</td>\n",
       "      <td>6</td>\n",
       "      <td>6</td>\n",
       "      <td>NaN</td>\n",
       "      <td>6</td>\n",
       "    </tr>\n",
       "    <tr>\n",
       "      <th>cclass</th>\n",
       "      <td>2/161.4</td>\n",
       "      <td>5/11</td>\n",
       "      <td>5/430</td>\n",
       "      <td>114/354</td>\n",
       "      <td>12/142S</td>\n",
       "    </tr>\n",
       "    <tr>\n",
       "      <th>country</th>\n",
       "      <td>US</td>\n",
       "      <td>US</td>\n",
       "      <td>US</td>\n",
       "      <td></td>\n",
       "      <td></td>\n",
       "    </tr>\n",
       "    <tr>\n",
       "      <th>ddate</th>\n",
       "      <td>NaT</td>\n",
       "      <td>NaT</td>\n",
       "      <td>NaT</td>\n",
       "      <td>NaT</td>\n",
       "      <td>NaT</td>\n",
       "    </tr>\n",
       "    <tr>\n",
       "      <th>gday</th>\n",
       "      <td>6</td>\n",
       "      <td>6</td>\n",
       "      <td>6</td>\n",
       "      <td>6</td>\n",
       "      <td>6</td>\n",
       "    </tr>\n",
       "    <tr>\n",
       "      <th>gmonth</th>\n",
       "      <td>1</td>\n",
       "      <td>1</td>\n",
       "      <td>1</td>\n",
       "      <td>1</td>\n",
       "      <td>1</td>\n",
       "    </tr>\n",
       "    <tr>\n",
       "      <th>gyear</th>\n",
       "      <td>1976</td>\n",
       "      <td>1976</td>\n",
       "      <td>1976</td>\n",
       "      <td>1976</td>\n",
       "      <td>1976</td>\n",
       "    </tr>\n",
       "    <tr>\n",
       "      <th>hjtwt</th>\n",
       "      <td>1</td>\n",
       "      <td>1</td>\n",
       "      <td>1</td>\n",
       "      <td>1</td>\n",
       "      <td>1</td>\n",
       "    </tr>\n",
       "    <tr>\n",
       "      <th>icl</th>\n",
       "      <td>A41D 1900</td>\n",
       "      <td>A47D  701</td>\n",
       "      <td>A47D  702</td>\n",
       "      <td>B63B  708</td>\n",
       "      <td>A43D  900</td>\n",
       "    </tr>\n",
       "    <tr>\n",
       "      <th>icl_class</th>\n",
       "      <td>A41D</td>\n",
       "      <td>A47D</td>\n",
       "      <td>A47D</td>\n",
       "      <td>B63B</td>\n",
       "      <td>A43D</td>\n",
       "    </tr>\n",
       "    <tr>\n",
       "      <th>icl_maingroup</th>\n",
       "      <td>19</td>\n",
       "      <td>7</td>\n",
       "      <td>7</td>\n",
       "      <td>7</td>\n",
       "      <td>9</td>\n",
       "    </tr>\n",
       "    <tr>\n",
       "      <th>iclnum</th>\n",
       "      <td>1</td>\n",
       "      <td>1</td>\n",
       "      <td>1</td>\n",
       "      <td>1</td>\n",
       "      <td>1</td>\n",
       "    </tr>\n",
       "    <tr>\n",
       "      <th>nclaims</th>\n",
       "      <td>4</td>\n",
       "      <td>3</td>\n",
       "      <td>24</td>\n",
       "      <td>7</td>\n",
       "      <td>9</td>\n",
       "    </tr>\n",
       "    <tr>\n",
       "      <th>nclass</th>\n",
       "      <td>2</td>\n",
       "      <td>5</td>\n",
       "      <td>5</td>\n",
       "      <td>114</td>\n",
       "      <td>12</td>\n",
       "    </tr>\n",
       "    <tr>\n",
       "      <th>nclass_ocl</th>\n",
       "      <td>2</td>\n",
       "      <td>5</td>\n",
       "      <td>5</td>\n",
       "      <td>9</td>\n",
       "      <td>12</td>\n",
       "    </tr>\n",
       "    <tr>\n",
       "      <th>patent</th>\n",
       "      <td>3930271</td>\n",
       "      <td>3930272</td>\n",
       "      <td>3930273</td>\n",
       "      <td>3930274</td>\n",
       "      <td>3930275</td>\n",
       "    </tr>\n",
       "    <tr>\n",
       "      <th>pdpass</th>\n",
       "      <td>1.00303e+07</td>\n",
       "      <td>1.01569e+07</td>\n",
       "      <td>1.0112e+07</td>\n",
       "      <td>NaN</td>\n",
       "      <td>NaN</td>\n",
       "    </tr>\n",
       "    <tr>\n",
       "      <th>state</th>\n",
       "      <td>IL</td>\n",
       "      <td>PA</td>\n",
       "      <td>MO</td>\n",
       "      <td>CA</td>\n",
       "      <td>NJ</td>\n",
       "    </tr>\n",
       "    <tr>\n",
       "      <th>status</th>\n",
       "      <td></td>\n",
       "      <td></td>\n",
       "      <td></td>\n",
       "      <td></td>\n",
       "      <td></td>\n",
       "    </tr>\n",
       "    <tr>\n",
       "      <th>subcat</th>\n",
       "      <td>63</td>\n",
       "      <td>65</td>\n",
       "      <td>65</td>\n",
       "      <td>55</td>\n",
       "      <td>63</td>\n",
       "    </tr>\n",
       "    <tr>\n",
       "      <th>subcat_ocl</th>\n",
       "      <td>63</td>\n",
       "      <td>65</td>\n",
       "      <td>65</td>\n",
       "      <td>NaN</td>\n",
       "      <td>63</td>\n",
       "    </tr>\n",
       "    <tr>\n",
       "      <th>subclass</th>\n",
       "      <td>161.4</td>\n",
       "      <td>11</td>\n",
       "      <td>430</td>\n",
       "      <td>354</td>\n",
       "      <td>NaN</td>\n",
       "    </tr>\n",
       "    <tr>\n",
       "      <th>subclass1</th>\n",
       "      <td>161.4</td>\n",
       "      <td>11</td>\n",
       "      <td>430</td>\n",
       "      <td>354</td>\n",
       "      <td>142S</td>\n",
       "    </tr>\n",
       "    <tr>\n",
       "      <th>subclass1_ocl</th>\n",
       "      <td>161</td>\n",
       "      <td>11</td>\n",
       "      <td>331</td>\n",
       "      <td>2</td>\n",
       "      <td>142</td>\n",
       "    </tr>\n",
       "    <tr>\n",
       "      <th>subclass_ocl</th>\n",
       "      <td>161</td>\n",
       "      <td>11</td>\n",
       "      <td>331</td>\n",
       "      <td>2</td>\n",
       "      <td>142</td>\n",
       "    </tr>\n",
       "    <tr>\n",
       "      <th>term_extension</th>\n",
       "      <td>0</td>\n",
       "      <td>0</td>\n",
       "      <td>0</td>\n",
       "      <td>0</td>\n",
       "      <td>0</td>\n",
       "    </tr>\n",
       "    <tr>\n",
       "      <th>uspto_assignee</th>\n",
       "      <td>251415</td>\n",
       "      <td>246000</td>\n",
       "      <td>10490</td>\n",
       "      <td>0</td>\n",
       "      <td>0</td>\n",
       "    </tr>\n",
       "  </tbody>\n",
       "</table>\n",
       "</div>"
      ],
      "text/plain": [
       "                          0            1           2          3          4\n",
       "allcites                  6            0          20          4          1\n",
       "appyear                1974         1974        1975       1974       1975\n",
       "asscode                   2            2           2          1          1\n",
       "assgnum                   1            1           1        NaN        NaN\n",
       "cat                       6            6           6          5          6\n",
       "cat_ocl                   6            6           6        NaN          6\n",
       "cclass              2/161.4         5/11       5/430    114/354    12/142S\n",
       "country                  US           US          US                      \n",
       "ddate                   NaT          NaT         NaT        NaT        NaT\n",
       "gday                      6            6           6          6          6\n",
       "gmonth                    1            1           1          1          1\n",
       "gyear                  1976         1976        1976       1976       1976\n",
       "hjtwt                     1            1           1          1          1\n",
       "icl               A41D 1900    A47D  701   A47D  702  B63B  708  A43D  900\n",
       "icl_class              A41D         A47D        A47D       B63B       A43D\n",
       "icl_maingroup            19            7           7          7          9\n",
       "iclnum                    1            1           1          1          1\n",
       "nclaims                   4            3          24          7          9\n",
       "nclass                    2            5           5        114         12\n",
       "nclass_ocl                2            5           5          9         12\n",
       "patent              3930271      3930272     3930273    3930274    3930275\n",
       "pdpass          1.00303e+07  1.01569e+07  1.0112e+07        NaN        NaN\n",
       "state                    IL           PA          MO         CA         NJ\n",
       "status                                                                    \n",
       "subcat                   63           65          65         55         63\n",
       "subcat_ocl               63           65          65        NaN         63\n",
       "subclass              161.4           11         430        354        NaN\n",
       "subclass1             161.4           11         430        354       142S\n",
       "subclass1_ocl           161           11         331          2        142\n",
       "subclass_ocl            161           11         331          2        142\n",
       "term_extension            0            0           0          0          0\n",
       "uspto_assignee       251415       246000       10490          0          0"
      ]
     },
     "execution_count": 22,
     "metadata": {},
     "output_type": "execute_result"
    }
   ],
   "source": [
    "pat76_06_assg_df.head().T"
   ]
  },
  {
   "cell_type": "code",
   "execution_count": 23,
   "metadata": {
    "collapsed": false
   },
   "outputs": [
    {
     "data": {
      "text/html": [
       "<div>\n",
       "<table border=\"1\" class=\"dataframe\">\n",
       "  <thead>\n",
       "    <tr style=\"text-align: right;\">\n",
       "      <th></th>\n",
       "      <th>0</th>\n",
       "      <th>1</th>\n",
       "      <th>2</th>\n",
       "      <th>3</th>\n",
       "      <th>4</th>\n",
       "    </tr>\n",
       "  </thead>\n",
       "  <tbody>\n",
       "    <tr>\n",
       "      <th>citing</th>\n",
       "      <td>5135226</td>\n",
       "      <td>5592695</td>\n",
       "      <td>5621918</td>\n",
       "      <td>5624296</td>\n",
       "      <td>5675839</td>\n",
       "    </tr>\n",
       "    <tr>\n",
       "      <th>cited</th>\n",
       "      <td>3930271</td>\n",
       "      <td>3930271</td>\n",
       "      <td>3930271</td>\n",
       "      <td>3930271</td>\n",
       "      <td>3930271</td>\n",
       "    </tr>\n",
       "    <tr>\n",
       "      <th>ncites7606</th>\n",
       "      <td>6</td>\n",
       "      <td>6</td>\n",
       "      <td>6</td>\n",
       "      <td>6</td>\n",
       "      <td>6</td>\n",
       "    </tr>\n",
       "  </tbody>\n",
       "</table>\n",
       "</div>"
      ],
      "text/plain": [
       "                  0        1        2        3        4\n",
       "citing      5135226  5592695  5621918  5624296  5675839\n",
       "cited       3930271  3930271  3930271  3930271  3930271\n",
       "ncites7606        6        6        6        6        6"
      ]
     },
     "execution_count": 23,
     "metadata": {},
     "output_type": "execute_result"
    }
   ],
   "source": [
    "cite76_06_df.head().T"
   ]
  },
  {
   "cell_type": "code",
   "execution_count": 24,
   "metadata": {
    "collapsed": false
   },
   "outputs": [
    {
     "data": {
      "text/plain": [
       "0"
      ]
     },
     "execution_count": 24,
     "metadata": {},
     "output_type": "execute_result"
    }
   ],
   "source": [
    "sample_patents = cite76_06_df[1000000:100100].citing.values.tolist()\n",
    "len(sample_patents)"
   ]
  },
  {
   "cell_type": "code",
   "execution_count": 25,
   "metadata": {
    "collapsed": false
   },
   "outputs": [
    {
     "data": {
      "text/plain": [
       "23650891"
      ]
     },
     "execution_count": 25,
     "metadata": {},
     "output_type": "execute_result"
    }
   ],
   "source": [
    "len(cite76_06_df)"
   ]
  },
  {
   "cell_type": "code",
   "execution_count": 26,
   "metadata": {
    "collapsed": false
   },
   "outputs": [
    {
     "name": "stdout",
     "output_type": "stream",
     "text": [
      "CPU times: user 6 µs, sys: 1e+03 ns, total: 7 µs\n",
      "Wall time: 32.9 µs\n"
     ]
    }
   ],
   "source": [
    "%%time\n",
    "\n",
    "# works up to 14000 patents, with t=32 mins\n",
    "patent_list = []\n",
    "class_counts_list = []\n",
    "num_forward_cites_list = []\n",
    "for patent in sample_patents:\n",
    "    xx = get_class_count(patent)\n",
    "    patent_list.append(patent)\n",
    "    class_counts_list.append(xx)\n",
    "    num_forward_cites = pat76_06_assg_df[pat76_06_assg_df.patent == patent].allcites.values[0]\n",
    "    num_forward_cites_list.append(num_forward_cites)"
   ]
  },
  {
   "cell_type": "code",
   "execution_count": 27,
   "metadata": {
    "collapsed": false
   },
   "outputs": [],
   "source": [
    "# create dataframe from these lists\n",
    "class_counts_df = pd.DataFrame(\n",
    "    {'patent': patent_list,\n",
    "     'number_of_classes': class_counts_list,\n",
    "     'forward_citations': num_forward_cites_list\n",
    "    })"
   ]
  },
  {
   "cell_type": "code",
   "execution_count": 28,
   "metadata": {
    "collapsed": false
   },
   "outputs": [
    {
     "data": {
      "text/html": [
       "<div>\n",
       "<table border=\"1\" class=\"dataframe\">\n",
       "  <thead>\n",
       "    <tr style=\"text-align: right;\">\n",
       "      <th></th>\n",
       "      <th>forward_citations</th>\n",
       "      <th>number_of_classes</th>\n",
       "      <th>patent</th>\n",
       "    </tr>\n",
       "  </thead>\n",
       "  <tbody>\n",
       "  </tbody>\n",
       "</table>\n",
       "</div>"
      ],
      "text/plain": [
       "Empty DataFrame\n",
       "Columns: [forward_citations, number_of_classes, patent]\n",
       "Index: []"
      ]
     },
     "execution_count": 28,
     "metadata": {},
     "output_type": "execute_result"
    }
   ],
   "source": [
    "class_counts_df.head()"
   ]
  },
  {
   "cell_type": "code",
   "execution_count": 29,
   "metadata": {
    "collapsed": false
   },
   "outputs": [
    {
     "name": "stderr",
     "output_type": "stream",
     "text": [
      "/Users/ahuxor/anaconda/lib/python3.4/site-packages/ipykernel/__main__.py:36: RuntimeWarning: divide by zero encountered in log10\n"
     ]
    },
    {
     "data": {
      "text/plain": [
       "[<matplotlib.lines.Line2D at 0x2212a1898>]"
      ]
     },
     "execution_count": 29,
     "metadata": {},
     "output_type": "execute_result"
    },
    {
     "data": {
      "image/png": "[encoded data removed]",
      "text/plain": [
       "<matplotlib.figure.Figure at 0x18e939e48>"
      ]
     },
     "metadata": {},
     "output_type": "display_data"
    }
   ],
   "source": [
    "one_class=class_counts_df[class_counts_df.number_of_classes==1]\n",
    "two_class=class_counts_df[class_counts_df.number_of_classes==2]\n",
    "three_class=class_counts_df[class_counts_df.number_of_classes==3]\n",
    "four_class=class_counts_df[class_counts_df.number_of_classes==4]\n",
    "five_class=class_counts_df[class_counts_df.number_of_classes==5]\n",
    "six_class=class_counts_df[class_counts_df.number_of_classes==6]\n",
    "seven_class=class_counts_df[class_counts_df.number_of_classes==7]\n",
    "eight_class=class_counts_df[class_counts_df.number_of_classes==8]\n",
    "\n",
    "ten_class=class_counts_df[class_counts_df.number_of_classes==10]\n",
    "eleven_class=class_counts_df[class_counts_df.number_of_classes==11]\n",
    "twelve_class=class_counts_df[class_counts_df.number_of_classes==12]\n",
    "\n",
    "fifteen_class=class_counts_df[class_counts_df.number_of_classes==15]\n",
    "\n",
    "\n",
    "\n",
    "twenty_class=class_counts_df[class_counts_df.number_of_classes==20]\n",
    "twentyone_class=class_counts_df[class_counts_df.number_of_classes==21]\n",
    "\n",
    "\n",
    "\n",
    "\n",
    "\n",
    "#plot distribution of one section\n",
    "counts,bins = np.histogram(twenty_class.forward_citations,bins=10)\n",
    "\n",
    "slope_list = []\n",
    "intercept_list = []\n",
    "R_squared_list = []\n",
    "\n",
    "x = bins[1:]\n",
    "y = counts\n",
    "\n",
    "logx = np.log10(x)\n",
    "logy = np.log10(y)\n",
    "plt.plot(logx,logy)"
   ]
  },
  {
   "cell_type": "code",
   "execution_count": 30,
   "metadata": {
    "collapsed": false
   },
   "outputs": [
    {
     "data": {
      "text/html": [
       "<div>\n",
       "<table border=\"1\" class=\"dataframe\">\n",
       "  <thead>\n",
       "    <tr style=\"text-align: right;\">\n",
       "      <th></th>\n",
       "      <th>forward_citations</th>\n",
       "      <th>number_of_classes</th>\n",
       "      <th>patent</th>\n",
       "    </tr>\n",
       "  </thead>\n",
       "  <tbody>\n",
       "  </tbody>\n",
       "</table>\n",
       "</div>"
      ],
      "text/plain": [
       "Empty DataFrame\n",
       "Columns: [forward_citations, number_of_classes, patent]\n",
       "Index: []"
      ]
     },
     "execution_count": 30,
     "metadata": {},
     "output_type": "execute_result"
    }
   ],
   "source": [
    "class_counts_df[class_counts_df.number_of_classes==25]"
   ]
  },
  {
   "cell_type": "code",
   "execution_count": 31,
   "metadata": {
    "collapsed": false
   },
   "outputs": [
    {
     "name": "stdout",
     "output_type": "stream",
     "text": [
      "CPU times: user 7 µs, sys: 1 µs, total: 8 µs\n",
      "Wall time: 11.9 µs\n"
     ]
    }
   ],
   "source": [
    "%%time\n",
    "# works up to 5000 patents, with t=13 mins\n",
    "patent_list = []\n",
    "originality_list = []\n",
    "num_forward_cites_list = []\n",
    "for patent in sample_patents:\n",
    "    xx = get_class_originality(patent)\n",
    "    patent_list.append(patent)\n",
    "    originality_list.append(xx)\n",
    "    num_forward_cites = pat76_06_assg_df[pat76_06_assg_df.patent == patent].allcites.values[0]\n",
    "    num_forward_cites_list.append(num_forward_cites)"
   ]
  },
  {
   "cell_type": "markdown",
   "metadata": {},
   "source": [
    "# Need to use subset of dates and of section\n",
    "to avoid truncation at  end go only to 2001 (5 years buffer for forward citation truncation), and go for those that have at least one classification in the G-section\n",
    "\n",
    "\n"
   ]
  },
  {
   "cell_type": "code",
   "execution_count": 32,
   "metadata": {
    "collapsed": false
   },
   "outputs": [],
   "source": [
    "# get date selection first,  to 2001 inclusive\n",
    "pat76_01_assg_df = pat76_06_assg_df[(pat76_06_assg_df.gyear<2002)]"
   ]
  },
  {
   "cell_type": "code",
   "execution_count": 33,
   "metadata": {
    "collapsed": false
   },
   "outputs": [],
   "source": [
    "# get date selection first, to 2001 inclusive, for patent class data\n",
    "pat76_01_ipc_df = pat76_06_ipc_df[(pat76_06_ipc_df.gyear<2002)]"
   ]
  },
  {
   "cell_type": "code",
   "execution_count": 34,
   "metadata": {
    "collapsed": false
   },
   "outputs": [],
   "source": [
    "# get subset of patents with a G from the ipc-database\n",
    "# by selecting the patent numbers, we should be able later to recover those patents that are\n",
    "# also in other sections\n",
    "cite76_01_ipc_df_g_section = pat76_01_ipc_df[pat76_01_ipc_df.section=='G']\n"
   ]
  },
  {
   "cell_type": "code",
   "execution_count": 35,
   "metadata": {
    "collapsed": false
   },
   "outputs": [
    {
     "data": {
      "text/plain": [
       "497541"
      ]
     },
     "execution_count": 35,
     "metadata": {},
     "output_type": "execute_result"
    }
   ],
   "source": [
    "# from this df, get list of unique patents\n",
    "patents_with_g_section = list(set(cite76_01_ipc_df_g_section.patent.tolist()))\n",
    "# this leaves some 3/4 million patents (rather than full set)\n",
    "len(patents_with_g_section)"
   ]
  },
  {
   "cell_type": "code",
   "execution_count": 36,
   "metadata": {
    "collapsed": true
   },
   "outputs": [],
   "source": [
    "# now create new df of these patents, from the pat76_01_ipc_df\n",
    "# this will catch those patents that have non-G section and make these sections available\n",
    "pat76_01_ipc_df_g_sect_all = pat76_01_ipc_df[pat76_01_ipc_df['patent'].isin(patents_with_g_section)]"
   ]
  },
  {
   "cell_type": "code",
   "execution_count": 37,
   "metadata": {
    "collapsed": false
   },
   "outputs": [
    {
     "data": {
      "text/html": [
       "<div>\n",
       "<table border=\"1\" class=\"dataframe\">\n",
       "  <thead>\n",
       "    <tr style=\"text-align: right;\">\n",
       "      <th></th>\n",
       "      <th>65</th>\n",
       "      <th>69</th>\n",
       "      <th>70</th>\n",
       "      <th>77</th>\n",
       "      <th>78</th>\n",
       "    </tr>\n",
       "  </thead>\n",
       "  <tbody>\n",
       "    <tr>\n",
       "      <th>appyear</th>\n",
       "      <td>1974</td>\n",
       "      <td>1975</td>\n",
       "      <td>1975</td>\n",
       "      <td>1974</td>\n",
       "      <td>1974</td>\n",
       "    </tr>\n",
       "    <tr>\n",
       "      <th>cat</th>\n",
       "      <td>6</td>\n",
       "      <td>6</td>\n",
       "      <td>6</td>\n",
       "      <td>6</td>\n",
       "      <td>6</td>\n",
       "    </tr>\n",
       "    <tr>\n",
       "      <th>gyear</th>\n",
       "      <td>1976</td>\n",
       "      <td>1976</td>\n",
       "      <td>1976</td>\n",
       "      <td>1976</td>\n",
       "      <td>1976</td>\n",
       "    </tr>\n",
       "    <tr>\n",
       "      <th>icl</th>\n",
       "      <td>G01C 1902</td>\n",
       "      <td>G09B  306</td>\n",
       "      <td>A63F  300</td>\n",
       "      <td>G09D  306</td>\n",
       "      <td>G09F  708</td>\n",
       "    </tr>\n",
       "    <tr>\n",
       "      <th>icl_class</th>\n",
       "      <td>G01C</td>\n",
       "      <td>G09B</td>\n",
       "      <td>A63F</td>\n",
       "      <td>G09D</td>\n",
       "      <td>G09F</td>\n",
       "    </tr>\n",
       "    <tr>\n",
       "      <th>icl_maingroup</th>\n",
       "      <td>19</td>\n",
       "      <td>3</td>\n",
       "      <td>3</td>\n",
       "      <td>3</td>\n",
       "      <td>7</td>\n",
       "    </tr>\n",
       "    <tr>\n",
       "      <th>iclnum</th>\n",
       "      <td>1</td>\n",
       "      <td>1</td>\n",
       "      <td>2</td>\n",
       "      <td>1</td>\n",
       "      <td>1</td>\n",
       "    </tr>\n",
       "    <tr>\n",
       "      <th>nclass</th>\n",
       "      <td>33</td>\n",
       "      <td>434</td>\n",
       "      <td>434</td>\n",
       "      <td>40</td>\n",
       "      <td>40</td>\n",
       "    </tr>\n",
       "    <tr>\n",
       "      <th>numipc</th>\n",
       "      <td>1</td>\n",
       "      <td>2</td>\n",
       "      <td>2</td>\n",
       "      <td>1</td>\n",
       "      <td>1</td>\n",
       "    </tr>\n",
       "    <tr>\n",
       "      <th>patent</th>\n",
       "      <td>3930317</td>\n",
       "      <td>3930321</td>\n",
       "      <td>3930321</td>\n",
       "      <td>3930326</td>\n",
       "      <td>3930327</td>\n",
       "    </tr>\n",
       "    <tr>\n",
       "      <th>pdpass</th>\n",
       "      <td>1.00369e+07</td>\n",
       "      <td>NaN</td>\n",
       "      <td>NaN</td>\n",
       "      <td>NaN</td>\n",
       "      <td>1.00303e+07</td>\n",
       "    </tr>\n",
       "    <tr>\n",
       "      <th>subcat</th>\n",
       "      <td>69</td>\n",
       "      <td>69</td>\n",
       "      <td>69</td>\n",
       "      <td>69</td>\n",
       "      <td>69</td>\n",
       "    </tr>\n",
       "    <tr>\n",
       "      <th>subclass</th>\n",
       "      <td>318</td>\n",
       "      <td>334</td>\n",
       "      <td>334</td>\n",
       "      <td>114</td>\n",
       "      <td>620</td>\n",
       "    </tr>\n",
       "    <tr>\n",
       "      <th>uspto_assignee</th>\n",
       "      <td>597185</td>\n",
       "      <td>0</td>\n",
       "      <td>0</td>\n",
       "      <td>0</td>\n",
       "      <td>52740</td>\n",
       "    </tr>\n",
       "    <tr>\n",
       "      <th>icl_uc</th>\n",
       "      <td>G01C 1902</td>\n",
       "      <td>G09B  306</td>\n",
       "      <td>A63F  300</td>\n",
       "      <td>G09D  306</td>\n",
       "      <td>G09F  708</td>\n",
       "    </tr>\n",
       "    <tr>\n",
       "      <th>icl_class_uc</th>\n",
       "      <td>G01C</td>\n",
       "      <td>G09B</td>\n",
       "      <td>A63F</td>\n",
       "      <td>G09D</td>\n",
       "      <td>G09F</td>\n",
       "    </tr>\n",
       "    <tr>\n",
       "      <th>section</th>\n",
       "      <td>G</td>\n",
       "      <td>G</td>\n",
       "      <td>A</td>\n",
       "      <td>G</td>\n",
       "      <td>G</td>\n",
       "    </tr>\n",
       "    <tr>\n",
       "      <th>ipc_inter</th>\n",
       "      <td>G01C19</td>\n",
       "      <td>G09B3</td>\n",
       "      <td>A63F3</td>\n",
       "      <td>G09D3</td>\n",
       "      <td>G09F7</td>\n",
       "    </tr>\n",
       "    <tr>\n",
       "      <th>code_check</th>\n",
       "      <td>OK</td>\n",
       "      <td>OK</td>\n",
       "      <td>OK</td>\n",
       "      <td>OK</td>\n",
       "      <td>OK</td>\n",
       "    </tr>\n",
       "  </tbody>\n",
       "</table>\n",
       "</div>"
      ],
      "text/plain": [
       "                         65         69         70         77           78\n",
       "appyear                1974       1975       1975       1974         1974\n",
       "cat                       6          6          6          6            6\n",
       "gyear                  1976       1976       1976       1976         1976\n",
       "icl               G01C 1902  G09B  306  A63F  300  G09D  306    G09F  708\n",
       "icl_class              G01C       G09B       A63F       G09D         G09F\n",
       "icl_maingroup            19          3          3          3            7\n",
       "iclnum                    1          1          2          1            1\n",
       "nclass                   33        434        434         40           40\n",
       "numipc                    1          2          2          1            1\n",
       "patent              3930317    3930321    3930321    3930326      3930327\n",
       "pdpass          1.00369e+07        NaN        NaN        NaN  1.00303e+07\n",
       "subcat                   69         69         69         69           69\n",
       "subclass                318        334        334        114          620\n",
       "uspto_assignee       597185          0          0          0        52740\n",
       "icl_uc            G01C 1902  G09B  306  A63F  300  G09D  306    G09F  708\n",
       "icl_class_uc           G01C       G09B       A63F       G09D         G09F\n",
       "section                   G          G          A          G            G\n",
       "ipc_inter            G01C19      G09B3      A63F3      G09D3        G09F7\n",
       "code_check               OK         OK         OK         OK           OK"
      ]
     },
     "execution_count": 37,
     "metadata": {},
     "output_type": "execute_result"
    }
   ],
   "source": [
    "pat76_01_ipc_df_g_sect_all.head().T"
   ]
  },
  {
   "cell_type": "code",
   "execution_count": 38,
   "metadata": {
    "collapsed": false
   },
   "outputs": [
    {
     "name": "stdout",
     "output_type": "stream",
     "text": [
      "661724\n",
      "99372\n",
      "761096\n"
     ]
    }
   ],
   "source": [
    "# get number of rows of G section (inc various sub-classes), and non-G section\n",
    "print(len(pat76_01_ipc_df_g_sect_all[pat76_01_ipc_df_g_sect_all.section=='G']))\n",
    "print(len(pat76_01_ipc_df_g_sect_all[pat76_01_ipc_df_g_sect_all.section!='G']))\n",
    "print(len(pat76_01_ipc_df_g_sect_all))"
   ]
  },
  {
   "cell_type": "code",
   "execution_count": 39,
   "metadata": {
    "collapsed": true
   },
   "outputs": [],
   "source": [
    "# now create new df of these patents, from the pat81_01_assg_df\n",
    "pat76_01_assg_df_g_sect = pat76_01_assg_df[pat76_01_assg_df['patent'].isin(patents_with_g_section)]"
   ]
  },
  {
   "cell_type": "code",
   "execution_count": 40,
   "metadata": {
    "collapsed": false
   },
   "outputs": [
    {
     "data": {
      "text/html": [
       "<div>\n",
       "<table border=\"1\" class=\"dataframe\">\n",
       "  <thead>\n",
       "    <tr style=\"text-align: right;\">\n",
       "      <th></th>\n",
       "      <th>48</th>\n",
       "      <th>52</th>\n",
       "      <th>57</th>\n",
       "      <th>58</th>\n",
       "      <th>91</th>\n",
       "    </tr>\n",
       "  </thead>\n",
       "  <tbody>\n",
       "    <tr>\n",
       "      <th>allcites</th>\n",
       "      <td>4</td>\n",
       "      <td>0</td>\n",
       "      <td>2</td>\n",
       "      <td>3</td>\n",
       "      <td>0</td>\n",
       "    </tr>\n",
       "    <tr>\n",
       "      <th>appyear</th>\n",
       "      <td>1974</td>\n",
       "      <td>1975</td>\n",
       "      <td>1974</td>\n",
       "      <td>1974</td>\n",
       "      <td>1974</td>\n",
       "    </tr>\n",
       "    <tr>\n",
       "      <th>asscode</th>\n",
       "      <td>6</td>\n",
       "      <td>1</td>\n",
       "      <td>1</td>\n",
       "      <td>2</td>\n",
       "      <td>2</td>\n",
       "    </tr>\n",
       "    <tr>\n",
       "      <th>assgnum</th>\n",
       "      <td>1</td>\n",
       "      <td>NaN</td>\n",
       "      <td>NaN</td>\n",
       "      <td>1</td>\n",
       "      <td>1</td>\n",
       "    </tr>\n",
       "    <tr>\n",
       "      <th>cat</th>\n",
       "      <td>6</td>\n",
       "      <td>6</td>\n",
       "      <td>6</td>\n",
       "      <td>6</td>\n",
       "      <td>6</td>\n",
       "    </tr>\n",
       "    <tr>\n",
       "      <th>cat_ocl</th>\n",
       "      <td>6</td>\n",
       "      <td>NaN</td>\n",
       "      <td>6</td>\n",
       "      <td>6</td>\n",
       "      <td>NaN</td>\n",
       "    </tr>\n",
       "    <tr>\n",
       "      <th>cclass</th>\n",
       "      <td>33/318</td>\n",
       "      <td>434/334</td>\n",
       "      <td>40/114</td>\n",
       "      <td>40/620</td>\n",
       "      <td>368/257</td>\n",
       "    </tr>\n",
       "    <tr>\n",
       "      <th>country</th>\n",
       "      <td>US</td>\n",
       "      <td></td>\n",
       "      <td></td>\n",
       "      <td>US</td>\n",
       "      <td>US</td>\n",
       "    </tr>\n",
       "    <tr>\n",
       "      <th>ddate</th>\n",
       "      <td>NaT</td>\n",
       "      <td>NaT</td>\n",
       "      <td>NaT</td>\n",
       "      <td>NaT</td>\n",
       "      <td>NaT</td>\n",
       "    </tr>\n",
       "    <tr>\n",
       "      <th>gday</th>\n",
       "      <td>6</td>\n",
       "      <td>6</td>\n",
       "      <td>6</td>\n",
       "      <td>6</td>\n",
       "      <td>6</td>\n",
       "    </tr>\n",
       "    <tr>\n",
       "      <th>gmonth</th>\n",
       "      <td>1</td>\n",
       "      <td>1</td>\n",
       "      <td>1</td>\n",
       "      <td>1</td>\n",
       "      <td>1</td>\n",
       "    </tr>\n",
       "    <tr>\n",
       "      <th>gyear</th>\n",
       "      <td>1976</td>\n",
       "      <td>1976</td>\n",
       "      <td>1976</td>\n",
       "      <td>1976</td>\n",
       "      <td>1976</td>\n",
       "    </tr>\n",
       "    <tr>\n",
       "      <th>hjtwt</th>\n",
       "      <td>1</td>\n",
       "      <td>1</td>\n",
       "      <td>1</td>\n",
       "      <td>1</td>\n",
       "      <td>1</td>\n",
       "    </tr>\n",
       "    <tr>\n",
       "      <th>icl</th>\n",
       "      <td>G01C 1902</td>\n",
       "      <td>G09B  306</td>\n",
       "      <td>G09D  306</td>\n",
       "      <td>G09F  708</td>\n",
       "      <td>G04C 2116</td>\n",
       "    </tr>\n",
       "    <tr>\n",
       "      <th>icl_class</th>\n",
       "      <td>G01C</td>\n",
       "      <td>G09B</td>\n",
       "      <td>G09D</td>\n",
       "      <td>G09F</td>\n",
       "      <td>G04C</td>\n",
       "    </tr>\n",
       "    <tr>\n",
       "      <th>icl_maingroup</th>\n",
       "      <td>19</td>\n",
       "      <td>3</td>\n",
       "      <td>3</td>\n",
       "      <td>7</td>\n",
       "      <td>21</td>\n",
       "    </tr>\n",
       "    <tr>\n",
       "      <th>iclnum</th>\n",
       "      <td>1</td>\n",
       "      <td>1</td>\n",
       "      <td>1</td>\n",
       "      <td>1</td>\n",
       "      <td>1</td>\n",
       "    </tr>\n",
       "    <tr>\n",
       "      <th>nclaims</th>\n",
       "      <td>3</td>\n",
       "      <td>11</td>\n",
       "      <td>3</td>\n",
       "      <td>6</td>\n",
       "      <td>5</td>\n",
       "    </tr>\n",
       "    <tr>\n",
       "      <th>nclass</th>\n",
       "      <td>33</td>\n",
       "      <td>434</td>\n",
       "      <td>40</td>\n",
       "      <td>40</td>\n",
       "      <td>368</td>\n",
       "    </tr>\n",
       "    <tr>\n",
       "      <th>nclass_ocl</th>\n",
       "      <td>33</td>\n",
       "      <td>35</td>\n",
       "      <td>40</td>\n",
       "      <td>40</td>\n",
       "      <td>58</td>\n",
       "    </tr>\n",
       "    <tr>\n",
       "      <th>patent</th>\n",
       "      <td>3930317</td>\n",
       "      <td>3930321</td>\n",
       "      <td>3930326</td>\n",
       "      <td>3930327</td>\n",
       "      <td>3930358</td>\n",
       "    </tr>\n",
       "    <tr>\n",
       "      <th>pdpass</th>\n",
       "      <td>1.00369e+07</td>\n",
       "      <td>NaN</td>\n",
       "      <td>NaN</td>\n",
       "      <td>1.00303e+07</td>\n",
       "      <td>1.04464e+07</td>\n",
       "    </tr>\n",
       "    <tr>\n",
       "      <th>state</th>\n",
       "      <td>DC</td>\n",
       "      <td>CA</td>\n",
       "      <td>NJ</td>\n",
       "      <td>PA</td>\n",
       "      <td>CT</td>\n",
       "    </tr>\n",
       "    <tr>\n",
       "      <th>status</th>\n",
       "      <td></td>\n",
       "      <td></td>\n",
       "      <td></td>\n",
       "      <td></td>\n",
       "      <td></td>\n",
       "    </tr>\n",
       "    <tr>\n",
       "      <th>subcat</th>\n",
       "      <td>69</td>\n",
       "      <td>69</td>\n",
       "      <td>69</td>\n",
       "      <td>69</td>\n",
       "      <td>69</td>\n",
       "    </tr>\n",
       "    <tr>\n",
       "      <th>subcat_ocl</th>\n",
       "      <td>69</td>\n",
       "      <td>NaN</td>\n",
       "      <td>69</td>\n",
       "      <td>69</td>\n",
       "      <td>NaN</td>\n",
       "    </tr>\n",
       "    <tr>\n",
       "      <th>subclass</th>\n",
       "      <td>318</td>\n",
       "      <td>334</td>\n",
       "      <td>114</td>\n",
       "      <td>620</td>\n",
       "      <td>257</td>\n",
       "    </tr>\n",
       "    <tr>\n",
       "      <th>subclass1</th>\n",
       "      <td>318</td>\n",
       "      <td>334</td>\n",
       "      <td>114</td>\n",
       "      <td>620</td>\n",
       "      <td>257</td>\n",
       "    </tr>\n",
       "    <tr>\n",
       "      <th>subclass1_ocl</th>\n",
       "      <td>318</td>\n",
       "      <td>9</td>\n",
       "      <td>114</td>\n",
       "      <td>125</td>\n",
       "      <td>20</td>\n",
       "    </tr>\n",
       "    <tr>\n",
       "      <th>subclass_ocl</th>\n",
       "      <td>318</td>\n",
       "      <td>9</td>\n",
       "      <td>114</td>\n",
       "      <td>125</td>\n",
       "      <td>20</td>\n",
       "    </tr>\n",
       "    <tr>\n",
       "      <th>term_extension</th>\n",
       "      <td>0</td>\n",
       "      <td>0</td>\n",
       "      <td>0</td>\n",
       "      <td>0</td>\n",
       "      <td>0</td>\n",
       "    </tr>\n",
       "    <tr>\n",
       "      <th>uspto_assignee</th>\n",
       "      <td>597185</td>\n",
       "      <td>0</td>\n",
       "      <td>0</td>\n",
       "      <td>52740</td>\n",
       "      <td>218550</td>\n",
       "    </tr>\n",
       "  </tbody>\n",
       "</table>\n",
       "</div>"
      ],
      "text/plain": [
       "                         48         52         57           58           91\n",
       "allcites                  4          0          2            3            0\n",
       "appyear                1974       1975       1974         1974         1974\n",
       "asscode                   6          1          1            2            2\n",
       "assgnum                   1        NaN        NaN            1            1\n",
       "cat                       6          6          6            6            6\n",
       "cat_ocl                   6        NaN          6            6          NaN\n",
       "cclass               33/318    434/334     40/114       40/620      368/257\n",
       "country                  US                                 US           US\n",
       "ddate                   NaT        NaT        NaT          NaT          NaT\n",
       "gday                      6          6          6            6            6\n",
       "gmonth                    1          1          1            1            1\n",
       "gyear                  1976       1976       1976         1976         1976\n",
       "hjtwt                     1          1          1            1            1\n",
       "icl               G01C 1902  G09B  306  G09D  306    G09F  708    G04C 2116\n",
       "icl_class              G01C       G09B       G09D         G09F         G04C\n",
       "icl_maingroup            19          3          3            7           21\n",
       "iclnum                    1          1          1            1            1\n",
       "nclaims                   3         11          3            6            5\n",
       "nclass                   33        434         40           40          368\n",
       "nclass_ocl               33         35         40           40           58\n",
       "patent              3930317    3930321    3930326      3930327      3930358\n",
       "pdpass          1.00369e+07        NaN        NaN  1.00303e+07  1.04464e+07\n",
       "state                    DC         CA         NJ           PA           CT\n",
       "status                                                                     \n",
       "subcat                   69         69         69           69           69\n",
       "subcat_ocl               69        NaN         69           69          NaN\n",
       "subclass                318        334        114          620          257\n",
       "subclass1               318        334        114          620          257\n",
       "subclass1_ocl           318          9        114          125           20\n",
       "subclass_ocl            318          9        114          125           20\n",
       "term_extension            0          0          0            0            0\n",
       "uspto_assignee       597185          0          0        52740       218550"
      ]
     },
     "execution_count": 40,
     "metadata": {},
     "output_type": "execute_result"
    }
   ],
   "source": [
    "pat76_01_assg_df_g_sect.head().T"
   ]
  },
  {
   "cell_type": "code",
   "execution_count": 41,
   "metadata": {
    "collapsed": false
   },
   "outputs": [
    {
     "data": {
      "text/plain": [
       "497541"
      ]
     },
     "execution_count": 41,
     "metadata": {},
     "output_type": "execute_result"
    }
   ],
   "source": [
    "# get our list of unique patent numbers, where there is one or more G-sections\n",
    "len(patents_with_g_section)"
   ]
  },
  {
   "cell_type": "code",
   "execution_count": 42,
   "metadata": {
    "collapsed": false
   },
   "outputs": [],
   "source": [
    "## calculate sections in this patent,  a function\n",
    "def get_section_count_g(focal_patent):\n",
    "    sections = list(set(pat76_01_ipc_df_g_sect_all[pat76_01_ipc_df_g_sect_all.patent==focal_patent].section.values))\n",
    "    num_unique_elements = len(sections)\n",
    "    return(num_unique_elements)"
   ]
  },
  {
   "cell_type": "code",
   "execution_count": 43,
   "metadata": {
    "collapsed": false
   },
   "outputs": [
    {
     "data": {
      "text/plain": [
       "497541"
      ]
     },
     "execution_count": 43,
     "metadata": {},
     "output_type": "execute_result"
    }
   ],
   "source": [
    "sample_patents = patents_with_g_section\n",
    "len(sample_patents)"
   ]
  },
  {
   "cell_type": "code",
   "execution_count": 44,
   "metadata": {
    "collapsed": false
   },
   "outputs": [
    {
     "name": "stdout",
     "output_type": "stream",
     "text": [
      "Fri 25 Aug 2017 11:37:04 BST\n",
      "CPU times: user 43min 51s, sys: 26.8 s, total: 44min 18s\n",
      "Wall time: 44min 49s\n"
     ]
    }
   ],
   "source": [
    "%%time\n",
    "!date\n",
    "# get sections for all 76_01 g-section data\n",
    "# works for all, t = 48 min\n",
    "patent_list = []\n",
    "sections_counts_list = []\n",
    "num_forward_cites_list = []\n",
    "for patent in sample_patents:\n",
    "    xx = get_section_count_g(patent)\n",
    "    patent_list.append(patent)\n",
    "    sections_counts_list.append(xx)\n",
    "    num_forward_cites = pat76_01_assg_df[pat76_01_assg_df.patent == patent].allcites.values[0]\n",
    "    num_forward_cites_list.append(num_forward_cites)"
   ]
  },
  {
   "cell_type": "code",
   "execution_count": 45,
   "metadata": {
    "collapsed": false
   },
   "outputs": [],
   "source": [
    "# create dataframe from these lists\n",
    "section_counts_df = pd.DataFrame(\n",
    "    {'patent': patent_list,\n",
    "     'number_of_sections': sections_counts_list,\n",
    "     'forward_citations': num_forward_cites_list\n",
    "    })"
   ]
  },
  {
   "cell_type": "code",
   "execution_count": 46,
   "metadata": {
    "collapsed": true
   },
   "outputs": [],
   "source": [
    "# save this as a csv file for later use (as each takes about an hour to generate)\n",
    "section_counts_df.to_csv('section_counts_df.csv', index=False)"
   ]
  },
  {
   "cell_type": "code",
   "execution_count": 47,
   "metadata": {
    "collapsed": false
   },
   "outputs": [
    {
     "data": {
      "text/plain": [
       "(0, 600)"
      ]
     },
     "execution_count": 47,
     "metadata": {},
     "output_type": "execute_result"
    },
    {
     "data": {
      "image/png": "[encoded data removed]",
      "text/plain": [
       "<matplotlib.figure.Figure at 0x15ccaaf98>"
      ]
     },
     "metadata": {},
     "output_type": "display_data"
    }
   ],
   "source": [
    "plt.scatter(section_counts_df.number_of_sections,section_counts_df.forward_citations,alpha=0.1)\n",
    "plt.ylabel('Number of forward citations')\n",
    "plt.xlabel('Number of sections')\n",
    "plt.ylim([0,600])"
   ]
  },
  {
   "cell_type": "code",
   "execution_count": 48,
   "metadata": {
    "collapsed": false
   },
   "outputs": [
    {
     "name": "stdout",
     "output_type": "stream",
     "text": [
      "0\n",
      "171\n",
      "0.0\n"
     ]
    }
   ],
   "source": [
    "# get ratio for patents with =<200 forward citations over those with >200 \n",
    "test = section_counts_df[section_counts_df.number_of_sections == 4]\n",
    "yy = test.forward_citations.tolist()\n",
    "yyGTE200 = [i for i in yy if i >= 200]\n",
    "yyLE200 = [i for i in yy if i < 200]\n",
    "\n",
    "print(len(yyGTE200))\n",
    "print(len(yyLE200))\n",
    "print(len(yyGTE200)/len(yyLE200))"
   ]
  },
  {
   "cell_type": "code",
   "execution_count": 49,
   "metadata": {
    "collapsed": false
   },
   "outputs": [
    {
     "name": "stdout",
     "output_type": "stream",
     "text": [
      "plot_number =  1\n",
      "number patents =  428195\n"
     ]
    },
    {
     "name": "stderr",
     "output_type": "stream",
     "text": [
      "/Users/ahuxor/anaconda/lib/python3.4/site-packages/ipykernel/__main__.py:25: RuntimeWarning: divide by zero encountered in log10\n",
      "/Users/ahuxor/.local/lib/python3.4/site-packages/scipy/linalg/basic.py:1018: RuntimeWarning: internal gelsd driver lwork query error, required iwork dimension not returned. This is likely the result of LAPACK bug 0038, fixed in LAPACK 3.2.2 (released July 21, 2010). Falling back to 'gelss' driver.\n",
      "  warnings.warn(mesg, RuntimeWarning)\n",
      "/Users/ahuxor/anaconda/lib/python3.4/site-packages/ipykernel/__main__.py:25: RuntimeWarning: divide by zero encountered in log10\n"
     ]
    },
    {
     "name": "stdout",
     "output_type": "stream",
     "text": [
      "plot_number =  2\n",
      "number patents =  64365\n",
      "plot_number =  3\n",
      "number patents =  4809\n",
      "plot_number =  4\n",
      "number patents =  171\n"
     ]
    },
    {
     "name": "stderr",
     "output_type": "stream",
     "text": [
      "/Users/ahuxor/anaconda/lib/python3.4/site-packages/matplotlib/figure.py:397: UserWarning: matplotlib is currently using a non-GUI backend, so cannot show the figure\n",
      "  \"matplotlib is currently using a non-GUI backend, \"\n"
     ]
    },
    {
     "data": {
      "image/png": "[encoded data removed]",
      "text/plain": [
       "<matplotlib.figure.Figure at 0x18f5864e0>"
      ]
     },
     "metadata": {},
     "output_type": "display_data"
    }
   ],
   "source": [
    "# get a set of plots for the slopes\n",
    "\n",
    "# first, get max number of sections for any patent\n",
    "max_num_sections = max(section_counts_df.number_of_sections)\n",
    "\n",
    "slope_list = []\n",
    "intercept_list = []\n",
    "R_squared_list = []\n",
    "legend_text1 = ['1 section','2 section','3 section', '4 section','5 section']\n",
    "fig = plt.figure(figsize=(10,10))\n",
    "\n",
    "\n",
    "for plot_number in range(1,(max_num_sections)):\n",
    "    print('plot_number = ',plot_number)\n",
    "    # get subset of those with 'x' sections\n",
    "    x_sections = section_counts_df[section_counts_df.number_of_sections == plot_number]\n",
    "    print('number patents = ', len(x_sections))\n",
    "    x_forward_citations = x_sections.forward_citations\n",
    "    #print(x_forward_citations)\n",
    "    hist_data = np.histogram(x_forward_citations,bins=50)\n",
    "    #print(hist_data)\n",
    "    x = hist_data[1][1:]\n",
    "    y = hist_data[0][0:]\n",
    "    logx = np.log10(x)\n",
    "    logy = np.log10(y)\n",
    "    # create dataframe from log values\n",
    "    # as this may help get them into a regression\n",
    "    logged_df = pd.DataFrame({'logx':logx, 'logy':logy})\n",
    "    \n",
    "    # remove rows with NaN/Inf etc\n",
    "    clean_logged_df = logged_df.replace([np.inf, -np.inf], np.nan)\n",
    "    clean_logged_df = clean_logged_df.dropna()\n",
    "\n",
    "    clean_logged_df_trim = clean_logged_df[clean_logged_df.logy>0]\n",
    "    \n",
    "    from sklearn import linear_model\n",
    "    linear = linear_model.LinearRegression()\n",
    "    trainX = np.asarray(clean_logged_df_trim.logx[:]).reshape(-1, 1)\n",
    "    trainY = np.asarray(clean_logged_df_trim.logy[:]).reshape(-1, 1)\n",
    "    testX = np.asarray(clean_logged_df_trim.logx).reshape(-1, 1)\n",
    "    testY = np.asarray(clean_logged_df_trim.logy).reshape(-1, 1)\n",
    "    linear.fit(trainX, trainY)\n",
    "    linear.score(trainX, trainY)\n",
    "    slope_list.append(linear.coef_[0][0])\n",
    "    #print('Coefficient: \\n', linear.coef_[0][0])\n",
    "    intercept_list.append(linear.intercept_[0])\n",
    "    #print('Intercept: \\n', linear.intercept_[0])\n",
    "    R_squared_list.append(linear.score(trainX, trainY))\n",
    "    #print('R² Value: \\n', linear.score(trainX, trainY))\n",
    "    predicted = linear.predict(trainX)\n",
    "    linear.fit(trainX, trainY)\n",
    "    \n",
    "    bin_name = legend_text1[(plot_number-1)]\n",
    "    slope_text = 'slope =' + format(linear.coef_[0][0],'.2f') \n",
    "    ax = fig.add_subplot(5,2,plot_number)\n",
    "    ax.scatter(logged_df.logx, logged_df.logy)\n",
    "    ax.plot(testX, linear.predict(testX), color='red', linewidth=2)\n",
    "    ax.set_xlim([0.4,3])\n",
    "    ax.set_ylim([-1.0,6])\n",
    "    ax.text(0.5, 0, ':'+bin_name)\n",
    "    ax.text(2, 5, slope_text)\n",
    "\n",
    "fig.show()"
   ]
  },
  {
   "cell_type": "markdown",
   "metadata": {},
   "source": [
    "## now for IPC4 classes"
   ]
  },
  {
   "cell_type": "code",
   "execution_count": 50,
   "metadata": {
    "collapsed": false
   },
   "outputs": [],
   "source": [
    "## calculate IPC4 classes in this patent\n",
    "def get_ipc4_count_g(focal_patent):\n",
    "    ipc4s = list(set(pat76_01_ipc_df_g_sect_all[pat76_01_ipc_df_g_sect_all.patent==focal_patent].icl_class_uc.values))\n",
    "    num_unique_elements = len(ipc4s)\n",
    "    return(num_unique_elements)"
   ]
  },
  {
   "cell_type": "code",
   "execution_count": 51,
   "metadata": {
    "collapsed": false
   },
   "outputs": [
    {
     "data": {
      "text/plain": [
       "497541"
      ]
     },
     "execution_count": 51,
     "metadata": {},
     "output_type": "execute_result"
    }
   ],
   "source": [
    "# new sample for testing IPC4 classes plots\n",
    "sample_patents_ipc4 = patents_with_g_section\n",
    "len(sample_patents_ipc4)"
   ]
  },
  {
   "cell_type": "code",
   "execution_count": 52,
   "metadata": {
    "collapsed": false
   },
   "outputs": [
    {
     "name": "stdout",
     "output_type": "stream",
     "text": [
      "Fri 25 Aug 2017 12:22:02 BST\n",
      "CPU times: user 48min 10s, sys: 57.5 s, total: 49min 7s\n",
      "Wall time: 50min 17s\n"
     ]
    }
   ],
   "source": [
    "%%time\n",
    "!date\n",
    "# get sections for all 76_01 IPC4 classes data\n",
    "# works for all, t = 50 min\n",
    "patent_list = []\n",
    "ipc4_counts_list = []\n",
    "num_forward_cites_list = []\n",
    "for patent in sample_patents_ipc4:\n",
    "    xx = get_ipc4_count_g(patent)\n",
    "    patent_list.append(patent)\n",
    "    ipc4_counts_list.append(xx)\n",
    "    num_forward_cites = pat76_01_assg_df[pat76_01_assg_df.patent == patent].allcites.values[0]\n",
    "    num_forward_cites_list.append(num_forward_cites)"
   ]
  },
  {
   "cell_type": "code",
   "execution_count": 53,
   "metadata": {
    "collapsed": false
   },
   "outputs": [],
   "source": [
    "# create dataframe from these lists\n",
    "ipc4_counts_df = pd.DataFrame(\n",
    "    {'patent': patent_list,\n",
    "     'number_of_ipc4': ipc4_counts_list,\n",
    "     'forward_citations': num_forward_cites_list\n",
    "    })"
   ]
  },
  {
   "cell_type": "code",
   "execution_count": 54,
   "metadata": {
    "collapsed": true
   },
   "outputs": [],
   "source": [
    "# save this as a csv file for later use (as each takes about an hour to generate)\n",
    "ipc4_counts_df.to_csv('ipc4_counts_df.csv', index=False)"
   ]
  },
  {
   "cell_type": "code",
   "execution_count": 55,
   "metadata": {
    "collapsed": false
   },
   "outputs": [
    {
     "data": {
      "text/plain": [
       "(0, 2000)"
      ]
     },
     "execution_count": 55,
     "metadata": {},
     "output_type": "execute_result"
    },
    {
     "data": {
      "image/png": "[encoded data removed]",
      "text/plain": [
       "<matplotlib.figure.Figure at 0x21ba18160>"
      ]
     },
     "metadata": {},
     "output_type": "display_data"
    }
   ],
   "source": [
    "plt.scatter(ipc4_counts_df.number_of_ipc4,ipc4_counts_df.forward_citations,alpha=1,c='g')\n",
    "plt.ylabel('Number of forward citations')\n",
    "plt.xlabel('Number of IPC4 classes')\n",
    "plt.ylim([0,2000])"
   ]
  },
  {
   "cell_type": "code",
   "execution_count": 56,
   "metadata": {
    "collapsed": false
   },
   "outputs": [
    {
     "name": "stdout",
     "output_type": "stream",
     "text": [
      "4194303\n",
      "386465    G01D 1518\n",
      "Name: icl, dtype: object\n",
      "4194303\n",
      "418936    G01D 1518\n",
      "Name: icl, dtype: object\n",
      "4194303\n",
      "534645    G01D 1516\n",
      "Name: icl, dtype: object\n",
      "4194303\n",
      "538455    G01D 1518\n",
      "Name: icl, dtype: object\n",
      "4194303\n",
      "634740    G01D 1518\n",
      "Name: icl, dtype: object\n",
      "4194303\n",
      "802010    G01D 1516\n",
      "Name: icl, dtype: object\n",
      "4194303\n",
      "820002    G01D 1516\n",
      "Name: icl, dtype: object\n"
     ]
    }
   ],
   "source": [
    "# can split of one IPC4 tell us about any features that create high citation?\n",
    "one_ipc4 = ipc4_counts_df[ipc4_counts_df.number_of_ipc4 == 1]\n",
    "high_cited = one_ipc4[one_ipc4.forward_citations>1000]\n",
    "hi_cited_patents = high_cited.patent.tolist()\n",
    "# get details on these highly cited patents\n",
    "\n",
    "for a_patent in hi_cited_patents:\n",
    "    print(patent)\n",
    "    zzz = pat76_01_assg_df[pat76_01_assg_df.patent == a_patent]\n",
    "    print(zzz.icl)"
   ]
  },
  {
   "cell_type": "code",
   "execution_count": 57,
   "metadata": {
    "collapsed": false
   },
   "outputs": [
    {
     "data": {
      "text/html": [
       "<div>\n",
       "<table border=\"1\" class=\"dataframe\">\n",
       "  <thead>\n",
       "    <tr style=\"text-align: right;\">\n",
       "      <th></th>\n",
       "      <th>820002</th>\n",
       "    </tr>\n",
       "  </thead>\n",
       "  <tbody>\n",
       "    <tr>\n",
       "      <th>allcites</th>\n",
       "      <td>1519</td>\n",
       "    </tr>\n",
       "    <tr>\n",
       "      <th>appyear</th>\n",
       "      <td>1986</td>\n",
       "    </tr>\n",
       "    <tr>\n",
       "      <th>asscode</th>\n",
       "      <td>3</td>\n",
       "    </tr>\n",
       "    <tr>\n",
       "      <th>assgnum</th>\n",
       "      <td>1</td>\n",
       "    </tr>\n",
       "    <tr>\n",
       "      <th>cat</th>\n",
       "      <td>2</td>\n",
       "    </tr>\n",
       "    <tr>\n",
       "      <th>cat_ocl</th>\n",
       "      <td>4</td>\n",
       "    </tr>\n",
       "    <tr>\n",
       "      <th>cclass</th>\n",
       "      <td>347/56</td>\n",
       "    </tr>\n",
       "    <tr>\n",
       "      <th>country</th>\n",
       "      <td>JP</td>\n",
       "    </tr>\n",
       "    <tr>\n",
       "      <th>ddate</th>\n",
       "      <td>NaT</td>\n",
       "    </tr>\n",
       "    <tr>\n",
       "      <th>gday</th>\n",
       "      <td>26</td>\n",
       "    </tr>\n",
       "    <tr>\n",
       "      <th>gmonth</th>\n",
       "      <td>4</td>\n",
       "    </tr>\n",
       "    <tr>\n",
       "      <th>gyear</th>\n",
       "      <td>1988</td>\n",
       "    </tr>\n",
       "    <tr>\n",
       "      <th>hjtwt</th>\n",
       "      <td>1.1219</td>\n",
       "    </tr>\n",
       "    <tr>\n",
       "      <th>icl</th>\n",
       "      <td>G01D 1516</td>\n",
       "    </tr>\n",
       "    <tr>\n",
       "      <th>icl_class</th>\n",
       "      <td>G01D</td>\n",
       "    </tr>\n",
       "    <tr>\n",
       "      <th>icl_maingroup</th>\n",
       "      <td>15</td>\n",
       "    </tr>\n",
       "    <tr>\n",
       "      <th>iclnum</th>\n",
       "      <td>1</td>\n",
       "    </tr>\n",
       "    <tr>\n",
       "      <th>nclaims</th>\n",
       "      <td>10</td>\n",
       "    </tr>\n",
       "    <tr>\n",
       "      <th>nclass</th>\n",
       "      <td>347</td>\n",
       "    </tr>\n",
       "    <tr>\n",
       "      <th>nclass_ocl</th>\n",
       "      <td>346</td>\n",
       "    </tr>\n",
       "    <tr>\n",
       "      <th>patent</th>\n",
       "      <td>4740796</td>\n",
       "    </tr>\n",
       "    <tr>\n",
       "      <th>pdpass</th>\n",
       "      <td>1.00337e+07</td>\n",
       "    </tr>\n",
       "    <tr>\n",
       "      <th>state</th>\n",
       "      <td></td>\n",
       "    </tr>\n",
       "    <tr>\n",
       "      <th>status</th>\n",
       "      <td></td>\n",
       "    </tr>\n",
       "    <tr>\n",
       "      <th>subcat</th>\n",
       "      <td>23</td>\n",
       "    </tr>\n",
       "    <tr>\n",
       "      <th>subcat_ocl</th>\n",
       "      <td>49</td>\n",
       "    </tr>\n",
       "    <tr>\n",
       "      <th>subclass</th>\n",
       "      <td>56</td>\n",
       "    </tr>\n",
       "    <tr>\n",
       "      <th>subclass1</th>\n",
       "      <td>56</td>\n",
       "    </tr>\n",
       "    <tr>\n",
       "      <th>subclass1_ocl</th>\n",
       "      <td>1</td>\n",
       "    </tr>\n",
       "    <tr>\n",
       "      <th>subclass_ocl</th>\n",
       "      <td>1</td>\n",
       "    </tr>\n",
       "    <tr>\n",
       "      <th>term_extension</th>\n",
       "      <td>0</td>\n",
       "    </tr>\n",
       "    <tr>\n",
       "      <th>uspto_assignee</th>\n",
       "      <td>87490</td>\n",
       "    </tr>\n",
       "  </tbody>\n",
       "</table>\n",
       "</div>"
      ],
      "text/plain": [
       "                     820002\n",
       "allcites               1519\n",
       "appyear                1986\n",
       "asscode                   3\n",
       "assgnum                   1\n",
       "cat                       2\n",
       "cat_ocl                   4\n",
       "cclass               347/56\n",
       "country                  JP\n",
       "ddate                   NaT\n",
       "gday                     26\n",
       "gmonth                    4\n",
       "gyear                  1988\n",
       "hjtwt                1.1219\n",
       "icl               G01D 1516\n",
       "icl_class              G01D\n",
       "icl_maingroup            15\n",
       "iclnum                    1\n",
       "nclaims                  10\n",
       "nclass                  347\n",
       "nclass_ocl              346\n",
       "patent              4740796\n",
       "pdpass          1.00337e+07\n",
       "state                      \n",
       "status                     \n",
       "subcat                   23\n",
       "subcat_ocl               49\n",
       "subclass                 56\n",
       "subclass1                56\n",
       "subclass1_ocl             1\n",
       "subclass_ocl              1\n",
       "term_extension            0\n",
       "uspto_assignee        87490"
      ]
     },
     "execution_count": 57,
     "metadata": {},
     "output_type": "execute_result"
    }
   ],
   "source": [
    "zzz.T"
   ]
  },
  {
   "cell_type": "code",
   "execution_count": 58,
   "metadata": {
    "collapsed": false
   },
   "outputs": [
    {
     "name": "stdout",
     "output_type": "stream",
     "text": [
      "num IPC4 classes =  1\n",
      "183\n",
      "397759\n",
      "0.00046007758466810303\n",
      "......\n",
      "num IPC4 classes =  2\n",
      "46\n",
      "79102\n",
      "0.0005815276478470835\n",
      "......\n",
      "num IPC4 classes =  3\n",
      "13\n",
      "17106\n",
      "0.000759967262948673\n",
      "......\n",
      "num IPC4 classes =  4\n",
      "6\n",
      "3200\n",
      "0.001875\n",
      "......\n",
      "num IPC4 classes =  5\n",
      "1\n",
      "113\n",
      "0.008849557522123894\n",
      "......\n",
      "num IPC4 classes =  6\n",
      "0\n",
      "12\n",
      "0.0\n",
      "......\n"
     ]
    }
   ],
   "source": [
    "# get ratio for patents with =<n forward citations over those with >n\n",
    "n = 100\n",
    "for k in range(1,7):\n",
    "    test = ipc4_counts_df[ipc4_counts_df.number_of_ipc4 == k]\n",
    "    yy = test.forward_citations.tolist()\n",
    "    yyGTE200 = [i for i in yy if i >= 200]\n",
    "    yyLE200 = [i for i in yy if i < 200]\n",
    "    print('num IPC4 classes = ',k)\n",
    "    print(len(yyGTE200))\n",
    "    print(len(yyLE200))\n",
    "    print(len(yyGTE200)/len(yyLE200))\n",
    "    print('......')"
   ]
  },
  {
   "cell_type": "code",
   "execution_count": 59,
   "metadata": {
    "collapsed": false
   },
   "outputs": [
    {
     "data": {
      "text/html": [
       "<div>\n",
       "<table border=\"1\" class=\"dataframe\">\n",
       "  <thead>\n",
       "    <tr style=\"text-align: right;\">\n",
       "      <th></th>\n",
       "      <th>forward_citations</th>\n",
       "      <th>number_of_ipc4</th>\n",
       "      <th>patent</th>\n",
       "    </tr>\n",
       "  </thead>\n",
       "  <tbody>\n",
       "    <tr>\n",
       "      <th>5283</th>\n",
       "      <td>0</td>\n",
       "      <td>6</td>\n",
       "      <td>6300142</td>\n",
       "    </tr>\n",
       "    <tr>\n",
       "      <th>72026</th>\n",
       "      <td>0</td>\n",
       "      <td>6</td>\n",
       "      <td>5866635</td>\n",
       "    </tr>\n",
       "    <tr>\n",
       "      <th>75299</th>\n",
       "      <td>4</td>\n",
       "      <td>6</td>\n",
       "      <td>5242964</td>\n",
       "    </tr>\n",
       "    <tr>\n",
       "      <th>134687</th>\n",
       "      <td>11</td>\n",
       "      <td>6</td>\n",
       "      <td>6312914</td>\n",
       "    </tr>\n",
       "    <tr>\n",
       "      <th>150614</th>\n",
       "      <td>63</td>\n",
       "      <td>6</td>\n",
       "      <td>4535058</td>\n",
       "    </tr>\n",
       "    <tr>\n",
       "      <th>161495</th>\n",
       "      <td>4</td>\n",
       "      <td>6</td>\n",
       "      <td>4560257</td>\n",
       "    </tr>\n",
       "    <tr>\n",
       "      <th>206483</th>\n",
       "      <td>1</td>\n",
       "      <td>6</td>\n",
       "      <td>4665033</td>\n",
       "    </tr>\n",
       "    <tr>\n",
       "      <th>269279</th>\n",
       "      <td>2</td>\n",
       "      <td>6</td>\n",
       "      <td>5850342</td>\n",
       "    </tr>\n",
       "    <tr>\n",
       "      <th>310930</th>\n",
       "      <td>0</td>\n",
       "      <td>6</td>\n",
       "      <td>6182932</td>\n",
       "    </tr>\n",
       "    <tr>\n",
       "      <th>354612</th>\n",
       "      <td>6</td>\n",
       "      <td>6</td>\n",
       "      <td>6036891</td>\n",
       "    </tr>\n",
       "    <tr>\n",
       "      <th>446961</th>\n",
       "      <td>17</td>\n",
       "      <td>6</td>\n",
       "      <td>6203758</td>\n",
       "    </tr>\n",
       "    <tr>\n",
       "      <th>494001</th>\n",
       "      <td>1</td>\n",
       "      <td>6</td>\n",
       "      <td>5236823</td>\n",
       "    </tr>\n",
       "  </tbody>\n",
       "</table>\n",
       "</div>"
      ],
      "text/plain": [
       "        forward_citations  number_of_ipc4   patent\n",
       "5283                    0               6  6300142\n",
       "72026                   0               6  5866635\n",
       "75299                   4               6  5242964\n",
       "134687                 11               6  6312914\n",
       "150614                 63               6  4535058\n",
       "161495                  4               6  4560257\n",
       "206483                  1               6  4665033\n",
       "269279                  2               6  5850342\n",
       "310930                  0               6  6182932\n",
       "354612                  6               6  6036891\n",
       "446961                 17               6  6203758\n",
       "494001                  1               6  5236823"
      ]
     },
     "execution_count": 59,
     "metadata": {},
     "output_type": "execute_result"
    }
   ],
   "source": [
    "ipc4_counts_df[ipc4_counts_df.number_of_ipc4==6]"
   ]
  },
  {
   "cell_type": "code",
   "execution_count": 60,
   "metadata": {
    "collapsed": false
   },
   "outputs": [
    {
     "name": "stdout",
     "output_type": "stream",
     "text": [
      "plot_number =  1\n",
      "number patents =  397942\n",
      "plot_number =  2\n",
      "number patents =  79148\n",
      "plot_number =  3\n",
      "number patents =  17119\n"
     ]
    },
    {
     "name": "stderr",
     "output_type": "stream",
     "text": [
      "/Users/ahuxor/anaconda/lib/python3.4/site-packages/ipykernel/__main__.py:25: RuntimeWarning: divide by zero encountered in log10\n"
     ]
    },
    {
     "name": "stdout",
     "output_type": "stream",
     "text": [
      "plot_number =  4\n",
      "number patents =  3206\n",
      "plot_number =  5\n",
      "number patents =  114\n"
     ]
    },
    {
     "name": "stderr",
     "output_type": "stream",
     "text": [
      "/Users/ahuxor/anaconda/lib/python3.4/site-packages/matplotlib/figure.py:397: UserWarning: matplotlib is currently using a non-GUI backend, so cannot show the figure\n",
      "  \"matplotlib is currently using a non-GUI backend, \"\n"
     ]
    },
    {
     "data": {
      "image/png": "[encoded data removed]",
      "text/plain": [
       "<matplotlib.figure.Figure at 0x18ef9a978>"
      ]
     },
     "metadata": {},
     "output_type": "display_data"
    }
   ],
   "source": [
    "# get a set of plots for the slopes\n",
    "\n",
    "# first, get max number of sections for any patent\n",
    "max_num_ipc4 = max(ipc4_counts_df.number_of_ipc4)\n",
    "\n",
    "slope_list = []\n",
    "intercept_list = []\n",
    "R_squared_list = []\n",
    "legend_text1 = ['1 IPC4','2 IPC4','3 IPC4', '4 IPC4','5 IPC4','6 IPC4']\n",
    "fig = plt.figure(figsize=(10,10))\n",
    "\n",
    "\n",
    "for plot_number in range(1,(max_num_ipc4)):\n",
    "    print('plot_number = ',plot_number)\n",
    "    # get subset of those with 'x' ipc4 classes\n",
    "    x_ipc4 = ipc4_counts_df[ipc4_counts_df.number_of_ipc4 == plot_number]\n",
    "    print('number patents = ', len(x_ipc4))\n",
    "    x_forward_citations = x_ipc4.forward_citations\n",
    "    #print(x_forward_citations)\n",
    "    hist_data = np.histogram(x_forward_citations,bins=50)\n",
    "    #print(hist_data)\n",
    "    x = hist_data[1][1:]\n",
    "    y = hist_data[0][0:]\n",
    "    logx = np.log10(x)\n",
    "    logy = np.log10(y)\n",
    "    # create dataframe from log values\n",
    "    # as this may help get them into a regression\n",
    "    logged_df = pd.DataFrame({'logx':logx, 'logy':logy})\n",
    "    \n",
    "    # remove rows with NaN/Inf etc\n",
    "    clean_logged_df = logged_df.replace([np.inf, -np.inf], np.nan)\n",
    "    clean_logged_df = clean_logged_df.dropna()\n",
    "\n",
    "    clean_logged_df_trim = clean_logged_df[clean_logged_df.logy>0]\n",
    "    \n",
    "    from sklearn import linear_model\n",
    "    linear = linear_model.LinearRegression()\n",
    "    trainX = np.asarray(clean_logged_df_trim.logx[:]).reshape(-1, 1)\n",
    "    trainY = np.asarray(clean_logged_df_trim.logy[:]).reshape(-1, 1)\n",
    "    testX = np.asarray(clean_logged_df_trim.logx).reshape(-1, 1)\n",
    "    testY = np.asarray(clean_logged_df_trim.logy).reshape(-1, 1)\n",
    "    linear.fit(trainX, trainY)\n",
    "    linear.score(trainX, trainY)\n",
    "    slope_list.append(linear.coef_[0][0])\n",
    "    #print('Coefficient: \\n', linear.coef_[0][0])\n",
    "    intercept_list.append(linear.intercept_[0])\n",
    "    #print('Intercept: \\n', linear.intercept_[0])\n",
    "    R_squared_list.append(linear.score(trainX, trainY))\n",
    "    #print('R² Value: \\n', linear.score(trainX, trainY))\n",
    "    predicted = linear.predict(trainX)\n",
    "    linear.fit(trainX, trainY)\n",
    "    \n",
    "    bin_name = legend_text1[(plot_number-1)]\n",
    "    slope_text = 'slope =' + format(linear.coef_[0][0],'.2f') \n",
    "    ax = fig.add_subplot(5,2,plot_number)\n",
    "    ax.scatter(logged_df.logx, logged_df.logy)\n",
    "    ax.plot(testX, linear.predict(testX), color='red', linewidth=2)\n",
    "    ax.set_xlim([0.4,3.5])\n",
    "    ax.set_ylim([-1.0,6])\n",
    "    ax.text(0.5, 0, bin_name)\n",
    "    ax.text(2, 5, slope_text)\n",
    "\n",
    "fig.show()"
   ]
  },
  {
   "cell_type": "markdown",
   "metadata": {},
   "source": [
    "# Now for IPC_inter classes"
   ]
  },
  {
   "cell_type": "code",
   "execution_count": 61,
   "metadata": {
    "collapsed": false
   },
   "outputs": [],
   "source": [
    "## calculate IPC_inter classes in this patent\n",
    "def get_ipc_inter_count_g(focal_patent):\n",
    "    ipcinters = list(set(pat76_01_ipc_df_g_sect_all[pat76_01_ipc_df_g_sect_all.patent==focal_patent].ipc_inter.values))\n",
    "    num_unique_elements = len(ipcinters)\n",
    "    return(num_unique_elements)"
   ]
  },
  {
   "cell_type": "code",
   "execution_count": 62,
   "metadata": {
    "collapsed": false
   },
   "outputs": [
    {
     "data": {
      "text/plain": [
       "497541"
      ]
     },
     "execution_count": 62,
     "metadata": {},
     "output_type": "execute_result"
    }
   ],
   "source": [
    "# new sample for testing IPC4 classes plots\n",
    "sample_patents_ipcinter = patents_with_g_section\n",
    "len(sample_patents_ipcinter)"
   ]
  },
  {
   "cell_type": "code",
   "execution_count": 63,
   "metadata": {
    "collapsed": false
   },
   "outputs": [
    {
     "name": "stdout",
     "output_type": "stream",
     "text": [
      "Fri 25 Aug 2017 13:12:27 BST\n",
      "CPU times: user 44min 59s, sys: 31.8 s, total: 45min 30s\n",
      "Wall time: 46min 5s\n"
     ]
    }
   ],
   "source": [
    "%%time\n",
    "!date\n",
    "# get sections for all 76_01 IPC_inter classes data\n",
    "# works for all, t = 50 min\n",
    "patent_list = []\n",
    "ipcinter_counts_list = []\n",
    "num_forward_cites_list = []\n",
    "for patent in sample_patents_ipcinter:\n",
    "    xx = get_ipc_inter_count_g(patent)\n",
    "    patent_list.append(patent)\n",
    "    ipcinter_counts_list.append(xx)\n",
    "    num_forward_cites = pat76_01_assg_df[pat76_01_assg_df.patent == patent].allcites.values[0]\n",
    "    num_forward_cites_list.append(num_forward_cites)"
   ]
  },
  {
   "cell_type": "code",
   "execution_count": 64,
   "metadata": {
    "collapsed": false
   },
   "outputs": [],
   "source": [
    "# create dataframe from these lists\n",
    "ipc_inter_counts_df = pd.DataFrame(\n",
    "    {'patent': patent_list,\n",
    "     'number_of_ipc_inter': ipcinter_counts_list,\n",
    "     'forward_citations': num_forward_cites_list\n",
    "    })"
   ]
  },
  {
   "cell_type": "code",
   "execution_count": 65,
   "metadata": {
    "collapsed": true
   },
   "outputs": [],
   "source": [
    "# save this as a csv file for later use (as each takes about an hour to generate)\n",
    "ipc_inter_counts_df.to_csv('ipc_inter_counts_df.csv', index=False)"
   ]
  },
  {
   "cell_type": "code",
   "execution_count": 66,
   "metadata": {
    "collapsed": false
   },
   "outputs": [
    {
     "data": {
      "text/html": [
       "<div>\n",
       "<table border=\"1\" class=\"dataframe\">\n",
       "  <thead>\n",
       "    <tr style=\"text-align: right;\">\n",
       "      <th></th>\n",
       "      <th>forward_citations</th>\n",
       "      <th>number_of_ipc_inter</th>\n",
       "      <th>patent</th>\n",
       "    </tr>\n",
       "  </thead>\n",
       "  <tbody>\n",
       "    <tr>\n",
       "      <th>0</th>\n",
       "      <td>10</td>\n",
       "      <td>2</td>\n",
       "      <td>4194304</td>\n",
       "    </tr>\n",
       "    <tr>\n",
       "      <th>1</th>\n",
       "      <td>5</td>\n",
       "      <td>1</td>\n",
       "      <td>4194305</td>\n",
       "    </tr>\n",
       "    <tr>\n",
       "      <th>2</th>\n",
       "      <td>2</td>\n",
       "      <td>1</td>\n",
       "      <td>4194306</td>\n",
       "    </tr>\n",
       "    <tr>\n",
       "      <th>3</th>\n",
       "      <td>1</td>\n",
       "      <td>1</td>\n",
       "      <td>4194307</td>\n",
       "    </tr>\n",
       "    <tr>\n",
       "      <th>4</th>\n",
       "      <td>59</td>\n",
       "      <td>2</td>\n",
       "      <td>4194313</td>\n",
       "    </tr>\n",
       "  </tbody>\n",
       "</table>\n",
       "</div>"
      ],
      "text/plain": [
       "   forward_citations  number_of_ipc_inter   patent\n",
       "0                 10                    2  4194304\n",
       "1                  5                    1  4194305\n",
       "2                  2                    1  4194306\n",
       "3                  1                    1  4194307\n",
       "4                 59                    2  4194313"
      ]
     },
     "execution_count": 66,
     "metadata": {},
     "output_type": "execute_result"
    }
   ],
   "source": [
    "ipc_inter_counts_df.head()"
   ]
  },
  {
   "cell_type": "code",
   "execution_count": 67,
   "metadata": {
    "collapsed": false
   },
   "outputs": [
    {
     "data": {
      "text/plain": [
       "(0, 600)"
      ]
     },
     "execution_count": 67,
     "metadata": {},
     "output_type": "execute_result"
    },
    {
     "data": {
      "image/png": "[encoded data removed]",
      "text/plain": [
       "<matplotlib.figure.Figure at 0x18eb3be10>"
      ]
     },
     "metadata": {},
     "output_type": "display_data"
    }
   ],
   "source": [
    "plt.scatter(ipc_inter_counts_df.number_of_ipc_inter,ipc_inter_counts_df.forward_citations,alpha=0.1,c='r')\n",
    "plt.ylabel('Number of forward citations')\n",
    "plt.xlabel('Number of IPC_inter classes')\n",
    "plt.ylim([0,600])"
   ]
  },
  {
   "cell_type": "code",
   "execution_count": 69,
   "metadata": {
    "collapsed": false
   },
   "outputs": [
    {
     "name": "stdout",
     "output_type": "stream",
     "text": [
      "plot_number =  1\n",
      "number patents =  357158\n",
      "plot_number =  2\n",
      "number patents =  103875\n",
      "plot_number =  3\n",
      "number patents =  28028\n",
      "plot_number =  4\n",
      "number patents =  7944\n"
     ]
    },
    {
     "name": "stderr",
     "output_type": "stream",
     "text": [
      "/Users/ahuxor/anaconda/lib/python3.4/site-packages/ipykernel/__main__.py:25: RuntimeWarning: divide by zero encountered in log10\n"
     ]
    },
    {
     "name": "stdout",
     "output_type": "stream",
     "text": [
      "plot_number =  5\n",
      "number patents =  445\n",
      "plot_number =  6\n",
      "number patents =  55\n",
      "plot_number =  7\n",
      "number patents =  24\n",
      "plot_number =  8\n",
      "number patents =  7\n"
     ]
    },
    {
     "name": "stderr",
     "output_type": "stream",
     "text": [
      "/Users/ahuxor/anaconda/lib/python3.4/site-packages/matplotlib/figure.py:397: UserWarning: matplotlib is currently using a non-GUI backend, so cannot show the figure\n",
      "  \"matplotlib is currently using a non-GUI backend, \"\n"
     ]
    },
    {
     "data": {
      "image/png": "[encoded data removed]",
      "text/plain": [
       "<matplotlib.figure.Figure at 0x197d3ccf8>"
      ]
     },
     "metadata": {},
     "output_type": "display_data"
    }
   ],
   "source": [
    "# get a set of plots for the slopes\n",
    "\n",
    "# first, get max number of sections for any patent\n",
    "max_num_ipcinter = max(ipc_inter_counts_df.number_of_ipc_inter)\n",
    "\n",
    "slope_list = []\n",
    "intercept_list = []\n",
    "R_squared_list = []\n",
    "legend_text1 = ['1 IPC_inter','2 IPC_inter','3 IPC_inter', '4 IPC_inter','5 IPC_inter', \\\n",
    "                '6 IPC_inter','7 IPC_inter','8 IPC_inter','9 IPC_inter']\n",
    "fig = plt.figure(figsize=(10,10))\n",
    "\n",
    "\n",
    "for plot_number in range(1,9):\n",
    "    print('plot_number = ',plot_number)\n",
    "    # get subset of those with 'x' ipcinter classes\n",
    "    x_ipcinter = ipc4_counts_df[ipc_inter_counts_df.number_of_ipc_inter == plot_number]\n",
    "    print('number patents = ', len(x_ipcinter))\n",
    "    x_forward_citations = x_ipcinter.forward_citations\n",
    "    #print(x_forward_citations)\n",
    "    hist_data = np.histogram(x_forward_citations,bins=50)\n",
    "    #print(hist_data)\n",
    "    x = hist_data[1][1:]\n",
    "    y = hist_data[0][0:]\n",
    "    logx = np.log10(x)\n",
    "    logy = np.log10(y)\n",
    "    # create dataframe from log values\n",
    "    # as this may help get them into a regression\n",
    "    logged_df = pd.DataFrame({'logx':logx, 'logy':logy})\n",
    "    \n",
    "    # remove rows with NaN/Inf etc\n",
    "    clean_logged_df = logged_df.replace([np.inf, -np.inf], np.nan)\n",
    "    clean_logged_df = clean_logged_df.dropna()\n",
    "\n",
    "    clean_logged_df_trim = clean_logged_df[clean_logged_df.logy>0]\n",
    "    \n",
    "    from sklearn import linear_model\n",
    "    linear = linear_model.LinearRegression()\n",
    "    trainX = np.asarray(clean_logged_df_trim.logx[:]).reshape(-1, 1)\n",
    "    trainY = np.asarray(clean_logged_df_trim.logy[:]).reshape(-1, 1)\n",
    "    testX = np.asarray(clean_logged_df_trim.logx).reshape(-1, 1)\n",
    "    testY = np.asarray(clean_logged_df_trim.logy).reshape(-1, 1)\n",
    "    linear.fit(trainX, trainY)\n",
    "    linear.score(trainX, trainY)\n",
    "    slope_list.append(linear.coef_[0][0])\n",
    "    #print('Coefficient: \\n', linear.coef_[0][0])\n",
    "    intercept_list.append(linear.intercept_[0])\n",
    "    #print('Intercept: \\n', linear.intercept_[0])\n",
    "    R_squared_list.append(linear.score(trainX, trainY))\n",
    "    #print('R² Value: \\n', linear.score(trainX, trainY))\n",
    "    predicted = linear.predict(trainX)\n",
    "    linear.fit(trainX, trainY)\n",
    "    \n",
    "    bin_name = legend_text1[(plot_number-1)]\n",
    "    slope_text = 'slope =' + format(linear.coef_[0][0],'.2f') \n",
    "    ax = fig.add_subplot(5,2,plot_number)\n",
    "    ax.scatter(logged_df.logx, logged_df.logy)\n",
    "    ax.plot(testX, linear.predict(testX), color='red', linewidth=2)\n",
    "    ax.set_xlim([0.4,3.5])\n",
    "    ax.set_ylim([-2.0,6])\n",
    "    ax.text(0.5, -1.0, bin_name)\n",
    "    ax.text(2, 5, slope_text)\n",
    "\n",
    "fig.show()"
   ]
  },
  {
   "cell_type": "markdown",
   "metadata": {},
   "source": [
    "# Now for full IPC code"
   ]
  },
  {
   "cell_type": "code",
   "execution_count": 70,
   "metadata": {
    "collapsed": false
   },
   "outputs": [],
   "source": [
    "## calculate full IPC classes in this patent\n",
    "def get_ipc_full_count_g(focal_patent):\n",
    "    ipc_full = list(set(pat76_01_ipc_df_g_sect_all[pat76_01_ipc_df_g_sect_all.patent==focal_patent].icl_uc.values))\n",
    "    num_unique_elements = len(ipc_full)\n",
    "    return(num_unique_elements)"
   ]
  },
  {
   "cell_type": "code",
   "execution_count": 71,
   "metadata": {
    "collapsed": false
   },
   "outputs": [
    {
     "data": {
      "text/plain": [
       "497541"
      ]
     },
     "execution_count": 71,
     "metadata": {},
     "output_type": "execute_result"
    }
   ],
   "source": [
    "# new sample for testing IPC4 classes plots\n",
    "sample_patents_ipc_full = patents_with_g_section\n",
    "len(sample_patents_ipc_full)"
   ]
  },
  {
   "cell_type": "code",
   "execution_count": 72,
   "metadata": {
    "collapsed": false
   },
   "outputs": [
    {
     "name": "stdout",
     "output_type": "stream",
     "text": [
      "Fri 25 Aug 2017 14:00:03 BST\n",
      "CPU times: user 43min 13s, sys: 39 s, total: 43min 52s\n",
      "Wall time: 44min 21s\n"
     ]
    }
   ],
   "source": [
    "%%time\n",
    "!date\n",
    "# get sections for all 76_01 IPC full classes data\n",
    "# works for all, t = 50 min\n",
    "patent_list = []\n",
    "ipc_full_counts_list = []\n",
    "num_forward_cites_list = []\n",
    "for patent in sample_patents_ipc_full:\n",
    "    xx = get_ipc_full_count_g(patent)\n",
    "    patent_list.append(patent)\n",
    "    ipc_full_counts_list.append(xx)\n",
    "    num_forward_cites = pat76_01_assg_df[pat76_01_assg_df.patent == patent].allcites.values[0]\n",
    "    num_forward_cites_list.append(num_forward_cites)"
   ]
  },
  {
   "cell_type": "code",
   "execution_count": 73,
   "metadata": {
    "collapsed": false
   },
   "outputs": [],
   "source": [
    "# create dataframe from these lists\n",
    "ipc_full_counts_df = pd.DataFrame(\n",
    "    {'patent': patent_list,\n",
    "     'number_of_ipc_full': ipc_full_counts_list,\n",
    "     'forward_citations': num_forward_cites_list\n",
    "    })"
   ]
  },
  {
   "cell_type": "code",
   "execution_count": 74,
   "metadata": {
    "collapsed": true
   },
   "outputs": [],
   "source": [
    "# save this as a csv file for later use (as each takes about an hour to generate)\n",
    "ipc_full_counts_df.to_csv('ipc_full_counts_df.csv', index=False)"
   ]
  },
  {
   "cell_type": "code",
   "execution_count": 75,
   "metadata": {
    "collapsed": false
   },
   "outputs": [
    {
     "data": {
      "text/plain": [
       "14"
      ]
     },
     "execution_count": 75,
     "metadata": {},
     "output_type": "execute_result"
    }
   ],
   "source": [
    "max(ipc_full_counts_df.number_of_ipc_full)"
   ]
  },
  {
   "cell_type": "code",
   "execution_count": 76,
   "metadata": {
    "collapsed": false
   },
   "outputs": [
    {
     "data": {
      "text/plain": [
       "(0, 2000)"
      ]
     },
     "execution_count": 76,
     "metadata": {},
     "output_type": "execute_result"
    },
    {
     "data": {
      "image/png": "[encoded data removed]",
      "text/plain": [
       "<matplotlib.figure.Figure at 0x197d36278>"
      ]
     },
     "metadata": {},
     "output_type": "display_data"
    }
   ],
   "source": [
    "plt.scatter(ipc_full_counts_df.number_of_ipc_full,ipc_full_counts_df.forward_citations,alpha=1,c='y')\n",
    "plt.ylabel('Number of forward citations')\n",
    "plt.xlabel('Number of IPC_inter classes')\n",
    "plt.ylim([0,2000])"
   ]
  },
  {
   "cell_type": "code",
   "execution_count": 77,
   "metadata": {
    "collapsed": false
   },
   "outputs": [
    {
     "data": {
      "text/plain": [
       "14"
      ]
     },
     "execution_count": 77,
     "metadata": {},
     "output_type": "execute_result"
    }
   ],
   "source": [
    "max(ipc_full_counts_df.number_of_ipc_full)"
   ]
  },
  {
   "cell_type": "code",
   "execution_count": 78,
   "metadata": {
    "collapsed": false
   },
   "outputs": [
    {
     "name": "stdout",
     "output_type": "stream",
     "text": [
      "plot_number =  1\n",
      "number patents =  326061\n",
      "plot_number =  2\n",
      "number patents =  115170\n",
      "plot_number =  3\n",
      "number patents =  37151\n",
      "plot_number =  4\n",
      "number patents =  17599\n"
     ]
    },
    {
     "name": "stderr",
     "output_type": "stream",
     "text": [
      "/Users/ahuxor/anaconda/lib/python3.4/site-packages/ipykernel/__main__.py:26: RuntimeWarning: divide by zero encountered in log10\n"
     ]
    },
    {
     "name": "stdout",
     "output_type": "stream",
     "text": [
      "plot_number =  5\n",
      "number patents =  1322\n",
      "plot_number =  6\n",
      "number patents =  109\n",
      "plot_number =  7\n",
      "number patents =  48\n",
      "plot_number =  8\n",
      "number patents =  56\n",
      "plot_number =  9\n",
      "number patents =  11\n",
      "plot_number =  10\n",
      "number patents =  5\n"
     ]
    },
    {
     "name": "stderr",
     "output_type": "stream",
     "text": [
      "/Users/ahuxor/anaconda/lib/python3.4/site-packages/matplotlib/figure.py:397: UserWarning: matplotlib is currently using a non-GUI backend, so cannot show the figure\n",
      "  \"matplotlib is currently using a non-GUI backend, \"\n"
     ]
    },
    {
     "data": {
      "image/png": "[encoded data removed]",
      "text/plain": [
       "<matplotlib.figure.Figure at 0x198750cc0>"
      ]
     },
     "metadata": {},
     "output_type": "display_data"
    }
   ],
   "source": [
    "# get a set of plots for the slopes\n",
    "# this code also ignore (for fitting) any lone valies (logy=0), as they mess up the fit\n",
    "# creating a floor after a break int he slope\n",
    "# first, get max number of sections for any patent\n",
    "max_num_ipc_full = max(ipc_full_counts_df.number_of_ipc_full)\n",
    "\n",
    "slope_list = []\n",
    "intercept_list = []\n",
    "R_squared_list = []\n",
    "legend_text1 = ['1 IPC_full','2 IPC_full','3 IPC_full', '4 IPC_full','5 IPC_full', \\\n",
    "                '6 IPC_full','7 IPC_full','8 IPC_full','9 IPC_full','10 IPC_full']\n",
    "fig = plt.figure(figsize=(10,10))\n",
    "\n",
    "\n",
    "for plot_number in range(1,11):\n",
    "    print('plot_number = ',plot_number)\n",
    "    # get subset of those with 'x' ipcinter classes\n",
    "    x_ipcfull = ipc_full_counts_df[ipc_full_counts_df.number_of_ipc_full == plot_number]\n",
    "    print('number patents = ', len(x_ipcfull))\n",
    "    x_forward_citations = x_ipcfull.forward_citations\n",
    "    #print(x_forward_citations)\n",
    "    hist_data = np.histogram(x_forward_citations,bins=50)\n",
    "    #print(hist_data)\n",
    "    x = hist_data[1][1:]\n",
    "    y = hist_data[0][0:]\n",
    "    logx = np.log10(x)\n",
    "    logy = np.log10(y)\n",
    "    # create dataframe from log values\n",
    "    # as this may help get them into a regression\n",
    "    logged_df = pd.DataFrame({'logx':logx, 'logy':logy})\n",
    "    \n",
    "    # remove rows with NaN/Inf etc\n",
    "    clean_logged_df = logged_df.replace([np.inf, -np.inf], np.nan)\n",
    "    clean_logged_df = clean_logged_df.dropna()\n",
    "\n",
    "    clean_logged_df_trim = clean_logged_df[clean_logged_df.logy>0]\n",
    "    \n",
    "    from sklearn import linear_model\n",
    "    linear = linear_model.LinearRegression()\n",
    "    trainX = np.asarray(clean_logged_df_trim.logx[:]).reshape(-1, 1)\n",
    "    trainY = np.asarray(clean_logged_df_trim.logy[:]).reshape(-1, 1)\n",
    "    testX = np.asarray(clean_logged_df_trim.logx).reshape(-1, 1)\n",
    "    testY = np.asarray(clean_logged_df_trim.logy).reshape(-1, 1)\n",
    "    linear.fit(trainX, trainY)\n",
    "    linear.score(trainX, trainY)\n",
    "    slope_list.append(linear.coef_[0][0])\n",
    "    #print('Coefficient: \\n', linear.coef_[0][0])\n",
    "    intercept_list.append(linear.intercept_[0])\n",
    "    #print('Intercept: \\n', linear.intercept_[0])\n",
    "    R_squared_list.append(linear.score(trainX, trainY))\n",
    "    #print('R² Value: \\n', linear.score(trainX, trainY))\n",
    "    predicted = linear.predict(trainX)\n",
    "    linear.fit(trainX, trainY)\n",
    "    \n",
    "    bin_name = legend_text1[(plot_number-1)]\n",
    "    slope_text = 'slope =' + format(linear.coef_[0][0],'.2f') \n",
    "    ax = fig.add_subplot(5,2,plot_number)\n",
    "    ax.scatter(logged_df.logx, logged_df.logy)\n",
    "    ax.plot(testX, linear.predict(testX), color='red', linewidth=2)\n",
    "    ax.set_xlim([0.4,3.5])\n",
    "    ax.set_ylim([-2.0,6])\n",
    "    ax.text(0.5, -1.5, bin_name)\n",
    "    ax.text(2, 5, slope_text)\n",
    "\n",
    "fig.show()"
   ]
  },
  {
   "cell_type": "code",
   "execution_count": 79,
   "metadata": {
    "collapsed": false
   },
   "outputs": [
    {
     "name": "stdout",
     "output_type": "stream",
     "text": [
      "number of forward citations cut-off =  250\n",
      "num IPC full codes =  1\n",
      "num GTE n is  60\n",
      "num LT n is  326001\n",
      "ratio is  0.00018404851518860372\n",
      "......\n",
      "num IPC full codes =  2\n",
      "num GTE n is  31\n",
      "num LT n is  115139\n",
      "ratio is  0.0002692397884296372\n",
      "......\n",
      "num IPC full codes =  3\n",
      "num GTE n is  10\n",
      "num LT n is  37141\n",
      "ratio is  0.00026924423144234134\n",
      "......\n",
      "num IPC full codes =  4\n",
      "num GTE n is  8\n",
      "num LT n is  17591\n",
      "ratio is  0.0004547780114831448\n",
      "......\n",
      "num IPC full codes =  5\n",
      "num GTE n is  0\n",
      "num LT n is  1322\n",
      "ratio is  0.0\n",
      "......\n",
      "num IPC full codes =  6\n",
      "num GTE n is  0\n",
      "num LT n is  109\n",
      "ratio is  0.0\n",
      "......\n",
      "num IPC full codes =  7\n",
      "num GTE n is  0\n",
      "num LT n is  48\n",
      "ratio is  0.0\n",
      "......\n",
      "num IPC full codes =  8\n",
      "num GTE n is  0\n",
      "num LT n is  56\n",
      "ratio is  0.0\n",
      "......\n",
      "num IPC full codes =  9\n",
      "num GTE n is  0\n",
      "num LT n is  11\n",
      "ratio is  0.0\n",
      "......\n",
      "num IPC full codes =  10\n",
      "num GTE n is  1\n",
      "num LT n is  4\n",
      "ratio is  0.25\n",
      "......\n"
     ]
    }
   ],
   "source": [
    "# get ratio for patents with =<n forward citations over those with >n\n",
    "n = 250\n",
    "print('number of forward citations cut-off = ', n)\n",
    "for k in range(1,11):\n",
    "    test = ipc_full_counts_df[ipc_full_counts_df.number_of_ipc_full == k]\n",
    "    yy = test.forward_citations.tolist()\n",
    "    yyGTEn = [i for i in yy if i >= n]\n",
    "    yyLTn = [i for i in yy if i < n]\n",
    "    print('num IPC full codes = ',k)\n",
    "\n",
    "    print('num GTE n is ',len(yyGTEn))\n",
    "    print('num LT n is ',len(yyLTn))\n",
    "    print('ratio is ',len(yyGTEn)/len(yyLTn))\n",
    "    print('......')"
   ]
  },
  {
   "cell_type": "code",
   "execution_count": 80,
   "metadata": {
    "collapsed": false,
    "scrolled": true
   },
   "outputs": [
    {
     "data": {
      "text/plain": [
       "79148"
      ]
     },
     "execution_count": 80,
     "metadata": {},
     "output_type": "execute_result"
    }
   ],
   "source": [
    "# maybe look at the relative likelihood of combinations, i.e a dyad A may be very \n",
    "# much more radical than another dyad B.\n",
    "\n",
    "# look at IPC4 dyads (k=2)\n",
    "ipc4_dyads = ipc4_counts_df[ipc4_counts_df.number_of_ipc4 == 2]\n",
    "ipc4_dyads.head()\n",
    "ipc4_dyads_patents = ipc4_dyads.patent.values.tolist()\n",
    "len(ipc4_dyads_patents)"
   ]
  },
  {
   "cell_type": "code",
   "execution_count": 81,
   "metadata": {
    "collapsed": true
   },
   "outputs": [],
   "source": [
    "# function to return list of positons in which two strings differ\n",
    "# https://stackoverflow.com/questions/8545492/find-the-position-of-difference-between-two-strings\n",
    "def dif(a, b):\n",
    "    return [i for i in range(len(a)) if a[i] != b[i]]"
   ]
  },
  {
   "cell_type": "code",
   "execution_count": 82,
   "metadata": {
    "collapsed": false
   },
   "outputs": [
    {
     "data": {
      "text/plain": [
       "79148"
      ]
     },
     "execution_count": 82,
     "metadata": {},
     "output_type": "execute_result"
    }
   ],
   "source": [
    "len(ipc4_dyads_patents)"
   ]
  },
  {
   "cell_type": "code",
   "execution_count": 87,
   "metadata": {
    "collapsed": false
   },
   "outputs": [
    {
     "name": "stdout",
     "output_type": "stream",
     "text": [
      "CPU times: user 247 ms, sys: 6.42 ms, total: 253 ms\n",
      "Wall time: 258 ms\n"
     ]
    }
   ],
   "source": [
    "%%time\n",
    "# now do a loop for dyads\n",
    "tech_dist_list = []\n",
    "dyad_patents_list = []\n",
    "for m in range(0,100):\n",
    "    temp_patent = ipc4_dyads_patents[m]\n",
    "    dyad_patents_list.append(temp_patent)\n",
    "    temp_ipc4 = list(set(pat76_01_ipc_df_g_sect_all[pat76_01_ipc_df_g_sect_all.patent==temp_patent].icl_class_uc.values.tolist()))\n",
    "    #print(temp_ipc4)\n",
    "    dif_list = dif(temp_ipc4[0],temp_ipc4[1])\n",
    "    #print(dif_list)\n",
    "    # need some function that captures the intuition for distance\n",
    "    distance_signifier = dif_list[0]\n",
    "    #print(distance_signifier)\n",
    "    distance = 1/pow(2,distance_signifier)\n",
    "    #print('distance = ',distance)\n",
    "    tech_dist_list.append(distance)"
   ]
  },
  {
   "cell_type": "code",
   "execution_count": 88,
   "metadata": {
    "collapsed": false
   },
   "outputs": [],
   "source": [
    "# create dataframe from these lists\n",
    "ipc4_dyad_tech_dist_df = pd.DataFrame(\n",
    "    {'patent': dyad_patents_list,\n",
    "     'tech_dist': tech_dist_list\n",
    "    })"
   ]
  },
  {
   "cell_type": "code",
   "execution_count": null,
   "metadata": {
    "collapsed": false
   },
   "outputs": [],
   "source": []
  },
  {
   "cell_type": "code",
   "execution_count": 84,
   "metadata": {
    "collapsed": false
   },
   "outputs": [
    {
     "data": {
      "text/plain": [
       "17119"
      ]
     },
     "execution_count": 84,
     "metadata": {},
     "output_type": "execute_result"
    }
   ],
   "source": [
    "# start with triads, looking at first two of the three\n",
    "ipc4_triads = ipc4_counts_df[ipc4_counts_df.number_of_ipc4 == 3]\n",
    "ipc4_triads_patents = ipc4_triads.patent.values.tolist()\n",
    "len(ipc4_triads_patents)"
   ]
  },
  {
   "cell_type": "code",
   "execution_count": 85,
   "metadata": {
    "collapsed": false
   },
   "outputs": [
    {
     "name": "stdout",
     "output_type": "stream",
     "text": [
      "CPU times: user 25.5 ms, sys: 1.55 ms, total: 27.1 ms\n",
      "Wall time: 25.8 ms\n"
     ]
    }
   ],
   "source": [
    "%%time\n",
    "# now do a loop for first two of the traids\n",
    "tech_dist_list = []\n",
    "triad_patents_list = []\n",
    "for m in range(1119,1131):\n",
    "    temp_patent = ipc4_triads_patents[m]\n",
    "    triad_patents_list.append(temp_patent)\n",
    "    temp_ipc4 = list(set(pat76_01_ipc_df_g_sect_all[pat76_01_ipc_df_g_sect_all.patent==temp_patent].icl_class_uc.values.tolist()))\n",
    "    #print(temp_ipc4)\n",
    "    dif_list = dif(temp_ipc4[0],temp_ipc4[1])\n",
    "    #print(dif_list)\n",
    "    # need some function that captures the intuition for distance\n",
    "    distance_signifier = dif_list[0]\n",
    "    #print(distance_signifier)\n",
    "    distance = 1/pow(2,distance_signifier)\n",
    "    #print('distance = ',distance)\n",
    "    tech_dist_list.append(distance)"
   ]
  },
  {
   "cell_type": "code",
   "execution_count": null,
   "metadata": {
    "collapsed": false
   },
   "outputs": [],
   "source": [
    "ipc4_dyad_tech_dist_df.head()\n",
    "# merge this df to get allcites\n",
    "resulting = pd.merge(ipc4_dyad_tech_dist_df, pat76_01_assg_df, on='patent')\n",
    "resulting.head()"
   ]
  },
  {
   "cell_type": "code",
   "execution_count": null,
   "metadata": {
    "collapsed": false
   },
   "outputs": [],
   "source": [
    "plt.scatter(resulting.tech_dist,resulting.allcites,marker='o',alpha=0.2)"
   ]
  },
  {
   "cell_type": "code",
   "execution_count": null,
   "metadata": {
    "collapsed": false
   },
   "outputs": [],
   "source": [
    "# get ratio for patents with =<n forward citations over those with >n\n",
    "n = 150\n",
    "print('number of forward citations cut-off = ', n)\n",
    "for k in [0.125,0.25,0.5,1]:\n",
    "    test = resulting[resulting.tech_dist == k]\n",
    "    yy = test.allcites.tolist()\n",
    "    yyGTEn = [i for i in yy if i >= n]\n",
    "    yyLTn = [i for i in yy if i < n]\n",
    "    print('technological distance = ',k)\n",
    "\n",
    "    print('num GTE n is ',len(yyGTEn))\n",
    "    print('num LT n is ',len(yyLTn))\n",
    "    print('ratio is ',len(yyGTEn)/len(yyLTn))\n",
    "    print('......')"
   ]
  },
  {
   "cell_type": "markdown",
   "metadata": {},
   "source": [
    "## Need to check if the data has only one USPTO classification per patent \n",
    "### if not, it is hard to see how their originality measure actually works \n"
   ]
  },
  {
   "cell_type": "code",
   "execution_count": null,
   "metadata": {
    "collapsed": false
   },
   "outputs": [],
   "source": [
    "# can group by patent and then by nclass (the US classification code)?\n",
    "# the number is the number of full icl codes that are in the section given\n",
    "# we see that for nclass we get an empty df, while for section, we get many\n",
    "x = pat76_06_ipc_df.groupby(['patent','nclass']).size()\n",
    "y = pd.Series.to_frame(x, name ='number').reset_index()\n",
    "print(y[y.duplicated('patent',keep=False)])\n",
    "print('note, above is empty df')\n",
    "print('.....')\n",
    "a = pat76_06_ipc_df.groupby(['patent','section']).size()\n",
    "b = pd.Series.to_frame(a, name ='number').reset_index()\n",
    "print(b[b.duplicated('patent',keep=False)].head())"
   ]
  },
  {
   "cell_type": "markdown",
   "metadata": {
    "collapsed": true
   },
   "source": [
    "# Now look at seeing if we can see any best pairings of sections, for example."
   ]
  },
  {
   "cell_type": "code",
   "execution_count": 89,
   "metadata": {
    "collapsed": false
   },
   "outputs": [
    {
     "data": {
      "text/plain": [
       "64365"
      ]
     },
     "execution_count": 89,
     "metadata": {},
     "output_type": "execute_result"
    }
   ],
   "source": [
    "# look at section dyads \n",
    "section_dyads = section_counts_df[section_counts_df.number_of_sections == 2]\n",
    "section_dyads_patents = section_dyads.patent.values.tolist()\n",
    "len(section_dyads_patents)"
   ]
  },
  {
   "cell_type": "code",
   "execution_count": 90,
   "metadata": {
    "collapsed": false
   },
   "outputs": [
    {
     "data": {
      "text/html": [
       "<div>\n",
       "<table border=\"1\" class=\"dataframe\">\n",
       "  <thead>\n",
       "    <tr style=\"text-align: right;\">\n",
       "      <th></th>\n",
       "      <th>forward_citations</th>\n",
       "      <th>number_of_sections</th>\n",
       "      <th>patent</th>\n",
       "    </tr>\n",
       "  </thead>\n",
       "  <tbody>\n",
       "    <tr>\n",
       "      <th>0</th>\n",
       "      <td>10</td>\n",
       "      <td>2</td>\n",
       "      <td>4194304</td>\n",
       "    </tr>\n",
       "    <tr>\n",
       "      <th>4</th>\n",
       "      <td>59</td>\n",
       "      <td>2</td>\n",
       "      <td>4194313</td>\n",
       "    </tr>\n",
       "    <tr>\n",
       "      <th>30</th>\n",
       "      <td>1</td>\n",
       "      <td>2</td>\n",
       "      <td>6252397</td>\n",
       "    </tr>\n",
       "    <tr>\n",
       "      <th>32</th>\n",
       "      <td>8</td>\n",
       "      <td>2</td>\n",
       "      <td>6291551</td>\n",
       "    </tr>\n",
       "    <tr>\n",
       "      <th>35</th>\n",
       "      <td>3</td>\n",
       "      <td>2</td>\n",
       "      <td>6291561</td>\n",
       "    </tr>\n",
       "    <tr>\n",
       "      <th>40</th>\n",
       "      <td>10</td>\n",
       "      <td>2</td>\n",
       "      <td>4194425</td>\n",
       "    </tr>\n",
       "    <tr>\n",
       "      <th>51</th>\n",
       "      <td>9</td>\n",
       "      <td>2</td>\n",
       "      <td>4194461</td>\n",
       "    </tr>\n",
       "    <tr>\n",
       "      <th>57</th>\n",
       "      <td>0</td>\n",
       "      <td>2</td>\n",
       "      <td>6291663</td>\n",
       "    </tr>\n",
       "    <tr>\n",
       "      <th>60</th>\n",
       "      <td>12</td>\n",
       "      <td>2</td>\n",
       "      <td>4194522</td>\n",
       "    </tr>\n",
       "    <tr>\n",
       "      <th>62</th>\n",
       "      <td>33</td>\n",
       "      <td>2</td>\n",
       "      <td>5835601</td>\n",
       "    </tr>\n",
       "    <tr>\n",
       "      <th>64</th>\n",
       "      <td>13</td>\n",
       "      <td>2</td>\n",
       "      <td>5243124</td>\n",
       "    </tr>\n",
       "    <tr>\n",
       "      <th>67</th>\n",
       "      <td>8</td>\n",
       "      <td>2</td>\n",
       "      <td>5835603</td>\n",
       "    </tr>\n",
       "    <tr>\n",
       "      <th>74</th>\n",
       "      <td>7</td>\n",
       "      <td>2</td>\n",
       "      <td>5243156</td>\n",
       "    </tr>\n",
       "    <tr>\n",
       "      <th>84</th>\n",
       "      <td>4</td>\n",
       "      <td>2</td>\n",
       "      <td>5243179</td>\n",
       "    </tr>\n",
       "    <tr>\n",
       "      <th>97</th>\n",
       "      <td>3</td>\n",
       "      <td>2</td>\n",
       "      <td>6291759</td>\n",
       "    </tr>\n",
       "    <tr>\n",
       "      <th>98</th>\n",
       "      <td>4</td>\n",
       "      <td>2</td>\n",
       "      <td>5243193</td>\n",
       "    </tr>\n",
       "    <tr>\n",
       "      <th>104</th>\n",
       "      <td>8</td>\n",
       "      <td>2</td>\n",
       "      <td>5835617</td>\n",
       "    </tr>\n",
       "    <tr>\n",
       "      <th>107</th>\n",
       "      <td>9</td>\n",
       "      <td>2</td>\n",
       "      <td>6291785</td>\n",
       "    </tr>\n",
       "    <tr>\n",
       "      <th>112</th>\n",
       "      <td>41</td>\n",
       "      <td>2</td>\n",
       "      <td>5243226</td>\n",
       "    </tr>\n",
       "    <tr>\n",
       "      <th>115</th>\n",
       "      <td>28</td>\n",
       "      <td>2</td>\n",
       "      <td>5243233</td>\n",
       "    </tr>\n",
       "    <tr>\n",
       "      <th>116</th>\n",
       "      <td>13</td>\n",
       "      <td>2</td>\n",
       "      <td>5243235</td>\n",
       "    </tr>\n",
       "    <tr>\n",
       "      <th>122</th>\n",
       "      <td>0</td>\n",
       "      <td>2</td>\n",
       "      <td>6291818</td>\n",
       "    </tr>\n",
       "    <tr>\n",
       "      <th>129</th>\n",
       "      <td>1</td>\n",
       "      <td>2</td>\n",
       "      <td>6291828</td>\n",
       "    </tr>\n",
       "    <tr>\n",
       "      <th>136</th>\n",
       "      <td>39</td>\n",
       "      <td>2</td>\n",
       "      <td>4194685</td>\n",
       "    </tr>\n",
       "    <tr>\n",
       "      <th>140</th>\n",
       "      <td>5</td>\n",
       "      <td>2</td>\n",
       "      <td>5243265</td>\n",
       "    </tr>\n",
       "    <tr>\n",
       "      <th>142</th>\n",
       "      <td>10</td>\n",
       "      <td>2</td>\n",
       "      <td>5243267</td>\n",
       "    </tr>\n",
       "    <tr>\n",
       "      <th>149</th>\n",
       "      <td>3</td>\n",
       "      <td>2</td>\n",
       "      <td>5243277</td>\n",
       "    </tr>\n",
       "    <tr>\n",
       "      <th>163</th>\n",
       "      <td>2</td>\n",
       "      <td>2</td>\n",
       "      <td>5243290</td>\n",
       "    </tr>\n",
       "    <tr>\n",
       "      <th>164</th>\n",
       "      <td>9</td>\n",
       "      <td>2</td>\n",
       "      <td>5243291</td>\n",
       "    </tr>\n",
       "    <tr>\n",
       "      <th>166</th>\n",
       "      <td>0</td>\n",
       "      <td>2</td>\n",
       "      <td>5243293</td>\n",
       "    </tr>\n",
       "    <tr>\n",
       "      <th>...</th>\n",
       "      <td>...</td>\n",
       "      <td>...</td>\n",
       "      <td>...</td>\n",
       "    </tr>\n",
       "    <tr>\n",
       "      <th>497411</th>\n",
       "      <td>6</td>\n",
       "      <td>2</td>\n",
       "      <td>5835508</td>\n",
       "    </tr>\n",
       "    <tr>\n",
       "      <th>497416</th>\n",
       "      <td>7</td>\n",
       "      <td>2</td>\n",
       "      <td>5242660</td>\n",
       "    </tr>\n",
       "    <tr>\n",
       "      <th>497418</th>\n",
       "      <td>1</td>\n",
       "      <td>2</td>\n",
       "      <td>5242664</td>\n",
       "    </tr>\n",
       "    <tr>\n",
       "      <th>497421</th>\n",
       "      <td>3</td>\n",
       "      <td>2</td>\n",
       "      <td>5835511</td>\n",
       "    </tr>\n",
       "    <tr>\n",
       "      <th>497422</th>\n",
       "      <td>1</td>\n",
       "      <td>2</td>\n",
       "      <td>4194094</td>\n",
       "    </tr>\n",
       "    <tr>\n",
       "      <th>497424</th>\n",
       "      <td>2</td>\n",
       "      <td>2</td>\n",
       "      <td>6291248</td>\n",
       "    </tr>\n",
       "    <tr>\n",
       "      <th>497425</th>\n",
       "      <td>6</td>\n",
       "      <td>2</td>\n",
       "      <td>6291249</td>\n",
       "    </tr>\n",
       "    <tr>\n",
       "      <th>497427</th>\n",
       "      <td>5</td>\n",
       "      <td>2</td>\n",
       "      <td>5242681</td>\n",
       "    </tr>\n",
       "    <tr>\n",
       "      <th>497428</th>\n",
       "      <td>23</td>\n",
       "      <td>2</td>\n",
       "      <td>5835514</td>\n",
       "    </tr>\n",
       "    <tr>\n",
       "      <th>497429</th>\n",
       "      <td>17</td>\n",
       "      <td>2</td>\n",
       "      <td>5242683</td>\n",
       "    </tr>\n",
       "    <tr>\n",
       "      <th>497441</th>\n",
       "      <td>9</td>\n",
       "      <td>2</td>\n",
       "      <td>4194122</td>\n",
       "    </tr>\n",
       "    <tr>\n",
       "      <th>497446</th>\n",
       "      <td>18</td>\n",
       "      <td>2</td>\n",
       "      <td>4194130</td>\n",
       "    </tr>\n",
       "    <tr>\n",
       "      <th>497447</th>\n",
       "      <td>2</td>\n",
       "      <td>2</td>\n",
       "      <td>4194133</td>\n",
       "    </tr>\n",
       "    <tr>\n",
       "      <th>497448</th>\n",
       "      <td>30</td>\n",
       "      <td>2</td>\n",
       "      <td>4194146</td>\n",
       "    </tr>\n",
       "    <tr>\n",
       "      <th>497454</th>\n",
       "      <td>7</td>\n",
       "      <td>2</td>\n",
       "      <td>5242722</td>\n",
       "    </tr>\n",
       "    <tr>\n",
       "      <th>497457</th>\n",
       "      <td>1</td>\n",
       "      <td>2</td>\n",
       "      <td>4194172</td>\n",
       "    </tr>\n",
       "    <tr>\n",
       "      <th>497459</th>\n",
       "      <td>4</td>\n",
       "      <td>2</td>\n",
       "      <td>4194177</td>\n",
       "    </tr>\n",
       "    <tr>\n",
       "      <th>497460</th>\n",
       "      <td>7</td>\n",
       "      <td>2</td>\n",
       "      <td>4194179</td>\n",
       "    </tr>\n",
       "    <tr>\n",
       "      <th>497461</th>\n",
       "      <td>5</td>\n",
       "      <td>2</td>\n",
       "      <td>4194180</td>\n",
       "    </tr>\n",
       "    <tr>\n",
       "      <th>497463</th>\n",
       "      <td>3</td>\n",
       "      <td>2</td>\n",
       "      <td>5242756</td>\n",
       "    </tr>\n",
       "    <tr>\n",
       "      <th>497472</th>\n",
       "      <td>16</td>\n",
       "      <td>2</td>\n",
       "      <td>4194194</td>\n",
       "    </tr>\n",
       "    <tr>\n",
       "      <th>497484</th>\n",
       "      <td>1</td>\n",
       "      <td>2</td>\n",
       "      <td>4194202</td>\n",
       "    </tr>\n",
       "    <tr>\n",
       "      <th>497486</th>\n",
       "      <td>4</td>\n",
       "      <td>2</td>\n",
       "      <td>4194205</td>\n",
       "    </tr>\n",
       "    <tr>\n",
       "      <th>497495</th>\n",
       "      <td>2</td>\n",
       "      <td>2</td>\n",
       "      <td>5242793</td>\n",
       "    </tr>\n",
       "    <tr>\n",
       "      <th>497496</th>\n",
       "      <td>13</td>\n",
       "      <td>2</td>\n",
       "      <td>4194213</td>\n",
       "    </tr>\n",
       "    <tr>\n",
       "      <th>497499</th>\n",
       "      <td>56</td>\n",
       "      <td>2</td>\n",
       "      <td>5242797</td>\n",
       "    </tr>\n",
       "    <tr>\n",
       "      <th>497503</th>\n",
       "      <td>2</td>\n",
       "      <td>2</td>\n",
       "      <td>5242801</td>\n",
       "    </tr>\n",
       "    <tr>\n",
       "      <th>497507</th>\n",
       "      <td>13</td>\n",
       "      <td>2</td>\n",
       "      <td>4194228</td>\n",
       "    </tr>\n",
       "    <tr>\n",
       "      <th>497516</th>\n",
       "      <td>6</td>\n",
       "      <td>2</td>\n",
       "      <td>4194240</td>\n",
       "    </tr>\n",
       "    <tr>\n",
       "      <th>497522</th>\n",
       "      <td>110</td>\n",
       "      <td>2</td>\n",
       "      <td>5242828</td>\n",
       "    </tr>\n",
       "  </tbody>\n",
       "</table>\n",
       "<p>64365 rows × 3 columns</p>\n",
       "</div>"
      ],
      "text/plain": [
       "        forward_citations  number_of_sections   patent\n",
       "0                      10                   2  4194304\n",
       "4                      59                   2  4194313\n",
       "30                      1                   2  6252397\n",
       "32                      8                   2  6291551\n",
       "35                      3                   2  6291561\n",
       "40                     10                   2  4194425\n",
       "51                      9                   2  4194461\n",
       "57                      0                   2  6291663\n",
       "60                     12                   2  4194522\n",
       "62                     33                   2  5835601\n",
       "64                     13                   2  5243124\n",
       "67                      8                   2  5835603\n",
       "74                      7                   2  5243156\n",
       "84                      4                   2  5243179\n",
       "97                      3                   2  6291759\n",
       "98                      4                   2  5243193\n",
       "104                     8                   2  5835617\n",
       "107                     9                   2  6291785\n",
       "112                    41                   2  5243226\n",
       "115                    28                   2  5243233\n",
       "116                    13                   2  5243235\n",
       "122                     0                   2  6291818\n",
       "129                     1                   2  6291828\n",
       "136                    39                   2  4194685\n",
       "140                     5                   2  5243265\n",
       "142                    10                   2  5243267\n",
       "149                     3                   2  5243277\n",
       "163                     2                   2  5243290\n",
       "164                     9                   2  5243291\n",
       "166                     0                   2  5243293\n",
       "...                   ...                 ...      ...\n",
       "497411                  6                   2  5835508\n",
       "497416                  7                   2  5242660\n",
       "497418                  1                   2  5242664\n",
       "497421                  3                   2  5835511\n",
       "497422                  1                   2  4194094\n",
       "497424                  2                   2  6291248\n",
       "497425                  6                   2  6291249\n",
       "497427                  5                   2  5242681\n",
       "497428                 23                   2  5835514\n",
       "497429                 17                   2  5242683\n",
       "497441                  9                   2  4194122\n",
       "497446                 18                   2  4194130\n",
       "497447                  2                   2  4194133\n",
       "497448                 30                   2  4194146\n",
       "497454                  7                   2  5242722\n",
       "497457                  1                   2  4194172\n",
       "497459                  4                   2  4194177\n",
       "497460                  7                   2  4194179\n",
       "497461                  5                   2  4194180\n",
       "497463                  3                   2  5242756\n",
       "497472                 16                   2  4194194\n",
       "497484                  1                   2  4194202\n",
       "497486                  4                   2  4194205\n",
       "497495                  2                   2  5242793\n",
       "497496                 13                   2  4194213\n",
       "497499                 56                   2  5242797\n",
       "497503                  2                   2  5242801\n",
       "497507                 13                   2  4194228\n",
       "497516                  6                   2  4194240\n",
       "497522                110                   2  5242828\n",
       "\n",
       "[64365 rows x 3 columns]"
      ]
     },
     "execution_count": 90,
     "metadata": {},
     "output_type": "execute_result"
    }
   ],
   "source": [
    "# can use this as the df does not have the actual sections \n",
    "section_dyads.head()"
   ]
  },
  {
   "cell_type": "code",
   "execution_count": null,
   "metadata": {
    "collapsed": true
   },
   "outputs": [],
   "source": []
  }
 ],
 "metadata": {
  "kernelspec": {
   "display_name": "Python 3",
   "language": "python",
   "name": "python3"
  },
  "language_info": {
   "codemirror_mode": {
    "name": "ipython",
    "version": 3
   },
   "file_extension": ".py",
   "mimetype": "text/x-python",
   "name": "python",
   "nbconvert_exporter": "python",
   "pygments_lexer": "ipython3",
   "version": "3.4.4"
  }
 },
 "nbformat": 4,
 "nbformat_minor": 0
}
